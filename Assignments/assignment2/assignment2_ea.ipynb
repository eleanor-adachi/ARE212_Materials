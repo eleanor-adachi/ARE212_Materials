{
 "cells": [
  {
   "cell_type": "markdown",
   "metadata": {},
   "source": [
    "# Assignment 2 - Eleanor Adachi"
   ]
  },
  {
   "cell_type": "markdown",
   "metadata": {},
   "source": [
    "Our team's code can be found here: https://github.com/eleanor-adachi/ARE212_Materials"
   ]
  },
  {
   "cell_type": "markdown",
   "metadata": {},
   "source": [
    "## 1. Exercises (Identifying Assumptions for Regression)\n",
    "\n",
    "### (2) Suppose $y$, $x$ and $u$ are scalar random variables, with $y$ and $x$ observed but $u$ unobserved. Consider the function $h(x) = x^3$; under standard assumptions this satisfies our concerns about measurability, so $\\mathbb{E}(u|x) = 0$ implies $\\mathbb{E}(u x^3) = 0$. Use this last condition to motivate a simple least squares estimator of the regression equation $y = \\alpha + \\beta x + u$. How does this differ from the usual OLS estimator? Why might one prefer one to the other, and under what conditions?\n",
    "\n"
   ]
  },
  {
   "cell_type": "markdown",
   "metadata": {},
   "source": [
    "## 2. Wright (1928)\n",
    "\n",
    "Consider the canonical demand and supply model in which quantity supplied is a function of price and a set of \"supply shifters\"; quantity demanded is a function of price and set of \"demand shifters\"; and market clearing implies that at some price quantity demanded is equal to quantity supplied. A linear version of this model is fully specified and solved in this Jupyter Notebook.\n",
    "\n",
    "Consider the following questions:\n",
    "\n",
    "1. (Control) What is the expected demand if we set the price $p = p_0$?\n",
    "\n",
    "2. (Condition) What is the expected demand if we observe $p = p_0$?\n",
    "\n",
    "3. (Counterfactual) If prices and quantities are observed to be $(p_0, q_0)$, what would demand be if we were to change the price to $p_1$, ceteris paribus?\n",
    "\n",
    "Answers could be mathematical expressions, or code that answers the question for the model given in the Jupyter notebook.\n",
    "\n",
    "### (1) (Control) What is the expected demand if we set the price $p = p_0$?"
   ]
  },
  {
   "cell_type": "markdown",
   "metadata": {},
   "source": [
    "### (2) (Condition) What is the expected demand if we observe $p = p_0$?"
   ]
  },
  {
   "cell_type": "markdown",
   "metadata": {},
   "source": [
    "### (3) (Counterfactual) If prices and quantities are observed to be $(p_0, q_0)$, what would demand be if we were to change the price to $p_1$, ceteris paribus?"
   ]
  },
  {
   "cell_type": "markdown",
   "metadata": {},
   "source": [
    "## 4. Weak Instruments\n",
    "\n",
    "This problem explores the problem of weak instruments. The basic setup should be familiar, with\n",
    "\n",
    "$\\begin{equation*}\n",
    "y = \\beta x + u \\\\\n",
    "x = Z \\pi + v\n",
    "\\label{eq:weak_instruments} \\tag{3}\n",
    "\\end{equation*}$\n",
    "\n",
    "Note that we’ve assumed that $x$ is a scalar random variable, and that $Z$ is an $\\ell$-vector. (In general we might have $k$ endogenous $x$ variables, so long as we have $\\ell > k$.)\n",
    "\n",
    "### (1) Construct a data-generating process `dgp` which takes as arguments $(n, \\beta, \\pi)$ and returns a triple $(y, x, Z)$ of $n$ observations.\n",
    "\n",
    "### (2) Use the `dgp` function you’ve constructed to explore IV (2SLS) estimates of $\\beta$ as a function of $\\pi$ when $\\ell = 1$ using a Monte Carlo approach, assuming homoskedastic errors.\n",
    "\n",
    "#### (a) Write a function `two_sls` which takes as arguments $(y, x, Z)$ and returns two-stage least squares estimates of $\\beta$ and the standard error of the estimate.\n",
    "\n",
    "#### (b) Taking $\\beta = \\pi = 1$, use repeated draws from `dgp` to check the bias, and precision of the `two_sls` estimator, as well as the size and power of a $t$-test of the hypothesis that $\\beta = 0$. Discuss. Does a 95% confidence interval (based on your 2SLS estimator) correctly cover 95% of your Monte Carlo draws?\n",
    "\n",
    "#### (c) Taking $\\beta = 1$, but allowing $\\pi \\in [0, 1]$ again evaluate the bias and precision of the estimator, and the size and power of a $t$-test. The $Z$ instrument is \"weak\" when $\\pi$ is \"close\" to zero. Comment on how a weak instrument affects twostage least squares estimators.\n",
    "\n",
    "### (3) Now consider another \"weak\" instruments problem. Consider the sequence $\\{1, 1/2, 1/4, 1/8, . . . \\}$. Let $\\ell = 1, 2, 3, . . .$, and for a particular value of $\\ell$ let the vector of parameters $\\pi_\\ell$ consist of the first $\\ell$ elements of the sequence. Thus, your `dgp` should now return $Z$ we can treat as an $n \\times \\ell$ matrix, with successive columns of $Z$ increasingly \"weak\" instruments.\n",
    "\n",
    "#### (a) Taking $\\beta = 1$, but allow $\\ell$ to increase $(\\ell = 1, 2, ...)$. Note that for $\\ell > 1$ this is now an \"overidentified\" estimator. Describe the bias and precision of the estimator, and the size and power of a $t$-test. Compare with the case of $\\ell = 1$ and $\\pi = 1$.\n",
    "\n",
    "#### (b) What can you say about the optimal number of instruments (choice of $\\ell$) in this case?"
   ]
  }
 ],
 "metadata": {
  "kernelspec": {
   "display_name": "Python 3 (ipykernel)",
   "language": "python",
   "name": "python3"
  },
  "language_info": {
   "codemirror_mode": {
    "name": "ipython",
    "version": 3
   },
   "file_extension": ".py",
   "mimetype": "text/x-python",
   "name": "python",
   "nbconvert_exporter": "python",
   "pygments_lexer": "ipython3",
   "version": "3.11.5"
  },
  "org": null
 },
 "nbformat": 4,
 "nbformat_minor": 1
}
