{
 "cells": [
  {
   "cell_type": "markdown",
   "id": "16c60d27",
   "metadata": {},
   "source": [
    "# Assignment 2_GROUP 2"
   ]
  },
  {
   "cell_type": "markdown",
   "id": "0bc2d1cb",
   "metadata": {},
   "source": [
    "## 1.5 MSE\n",
    "\n",
    "#### Suppose that $y = f(X) + u$ for some unknown but continuous function $f$. Suppose we want to use observed data on $X$ to predict outcomes $y$, and seek a predictor $\\hat{y}(X)$ which is \"best\" in the sense that the (expected) mean squared prediction error $\\mathbb{E} [(y - \\hat{y}(X))^2 | X]$ is minimized.  What can we say about $\\hat{y}$ and its relation to the conditional expectation $\\mathbb{E}(y | X)$?  Its relation to $u$??\n"
   ]
  },
  {
   "cell_type": "markdown",
   "id": "42ab21b6",
   "metadata": {},
   "source": [
    "- $\\hat{y}(X)$  is equal to   $\\mathbb{E} [y | X] $\n",
    "\n",
    "\n",
    "$\\mathbb{E} [(y - \\hat{y}(X))^2 | X]$ = $\\mathbb{E} [(y^2 - 2y\\hat{y}(X) + \\hat{y}(X)^2 )| X]$\n",
    "\n",
    "Taking the derivative with respect to $\\hat{y}(X)$\n",
    "\n",
    "$-2\\mathbb{E}  [y | X] + 2\\hat{y}(X) = 0 $ -->  $\\mathbb{E} [y | X] = \\hat{y}(X) $\n",
    "\n",
    "Therefore the optimal predictor that minimizes the (expected) mean squared prediction error is the conditional expectation of $y$ given $X$.\n",
    "\n",
    "$y = f(X) + u$ \n",
    "\n",
    "- relation to $u$ \n",
    "\n",
    "The error term u is ideally supposed to be independent of X, meaning E(u∣X)=0. This ensures that the optimal predictor (X) does not need to adjust for any systematic bias in u that is related to X.\n",
    "\n"
   ]
  },
  {
   "cell_type": "markdown",
   "id": "e62a5086",
   "metadata": {},
   "source": [
    "\n",
    "\n",
    "### Optimal Predictor $\\hat{y}(X)$\n",
    "- **Mean Squared Prediction Error**: The MSE for a predictor $\\hat{y}(X) $ is defined as:\n",
    "  $\\text{MSE} = E[(y - \\hat{y}(X))^2 | X] $\n",
    "  We aim to minimize this MSE.\n",
    "\n",
    "- **Expanding the MSE**: Expand the squared term:\n",
    "  $[(y - \\hat{y}(X))^2 = (f(X) + u - \\hat{y}(X))^2\\$\n",
    "\n",
    "Since $y = f(X) + u $, \n",
    "we see the deviation of the predictor from both the deterministic part $ f(X)$ and the stochastic component $u$.\n",
    "\n",
    "- **Optimal Condition**: To minimize the MSE, consider the expectation:\n",
    "  $E[(y - \\hat{y}(X))^2 | X] = E[(f(X) + u - \\hat{y}(X))^2 | X]$\n",
    "\n",
    "Deriving with respect to $\\hat{y}(X)$ and setting the derivative to zero gives us the condition for the optimal $\\hat{y}(X) :\\frac{\\partial}{\\partial \\hat{y}(X)} E[(f(X) + u - \\hat{y}(X))^2 | X] = 0$\n",
    "\n",
    "This yields $\\hat{y}(X) = E[f(X) + u | X] = \\mathbb{E} [y | X]$ since $E[u|X] = 0 $ if $u$ is uncorrelated with $ X $\n",
    "\n",
    "### Relation to $\\mathbb{E} [y | X] $\n",
    "\n",
    "- $ \\hat{y}(X) =\\mathbb{E} [y | X] $ is the best predictor of \\( y \\) given $X $ in terms of minimizing the MSE.\n",
    "\n",
    "### Relation to $ u $\n",
    "- **Uncorrelated Error**: The error term $ u $ is independent of $X $, meaning $ E(u|X) = 0$. This ensures that the optimal predictor $\\hat{y}(X)$ does not need to adjust for any systematic bias in $u$ that is related to $X $.\n",
    "\n",
    "\n",
    "In summary, the optimal predictor $ \\hat{y}(X)$ in terms of MSE minimization equals  $\\mathbb{E}(y | X)$,  assuming that $ u $ is independent of $ X $ --> $ E(u|X) = 0$"
   ]
  },
  {
   "cell_type": "markdown",
   "id": "c2f25b9c",
   "metadata": {},
   "source": [
    "## 3. “Plausibly Exogenous”"
   ]
  },
  {
   "cell_type": "markdown",
   "id": "ad60d9d9",
   "metadata": {},
   "source": [
    "### 3.1 IV Assumptions\n",
    "\n",
    "\n",
    "#### How it works; \n",
    "\n",
    "Initially we have an indogeneity Problem\n",
    "\n",
    "In the regression model `y = Xβ + u`, if `X` is correlated with `u`, then `E(X^Tu) ≠ 0`. Consequently, using OLS leads to biased estimates:\n",
    "\n",
    " $\\hat{\\beta}_{OLS} = (X^TX)^{-1}X^Ty = β + (X^TX)^{-1}X^Tu$\n",
    "\n",
    "This indicates that $\\hat{\\beta}_{OLS}$ also has the term $(X^TX)^{-1}X^Tu$, reflecting the correlation between X and u, and leading to potential bias.\n",
    "\n",
    "To solve this we use an instrumental Variable $Z$\n",
    "\n",
    "$\\hat{\\beta}_{IV} = (Z^TX)^{-1}Z^Ty$\n",
    "\n",
    "We first Estimate the predicted values $\\hat{X}$, using the projection of $X$ on $Z$, This step essentially purges X of the influences correlated with u, using Z as the source of exogenous variation.\n",
    "\n",
    "$\\hat{X} = Z(Z^TZ)^{-1}Z^TX$\n",
    "\n",
    "And then we regress $y$ on the predicted values $\\hat{X}$ to obtain $\\hat{β}_{IV}$, \n",
    "\n",
    "$\\hat{\\beta}_{IV} = (\\hat{X}^T\\hat{X})^{-1}\\hat{X}^Ty$\n",
    "\n",
    "\n",
    "#### Assumptions: \n",
    "\n",
    "The instrument $Z$ must satisfy 2 key assumptions\n",
    "\n",
    "- Relevance: $Z$ must be correllated with $X$. ($Z^TX ≠ 0$)\n",
    "- Exogeneity: $Z$ must be uncorrelated with the error term u. ($E(Z^Tu) = 0 $)\n",
    "- Exclusion Restriction: Z should affect y only through X and not directly. This assumption is crucial and often difficult to test directly.\n",
    "\n",
    "- Instrument Strength: Weak instruments can lead to poor estimates \n",
    "- Homoscedasticity and Other Statistical Properties: While not always necessary, assumptions regarding the distribution of error terms, such as homoscedasticity, can influence the efficiency and robustness of IV estimates."
   ]
  },
  {
   "cell_type": "markdown",
   "id": "4db583fa",
   "metadata": {},
   "source": [
    "### 3.2 Conley et al."
   ]
  },
  {
   "cell_type": "code",
   "execution_count": 45,
   "id": "819918e2",
   "metadata": {},
   "outputs": [
    {
     "name": "stdout",
     "output_type": "stream",
     "text": [
      "Gamma: 0.00, Estimated Beta: 0.98, Estimated Gamma: 0.03\n",
      "Gamma: 0.10, Estimated Beta: 1.02, Estimated Gamma: 0.12\n",
      "Gamma: 0.20, Estimated Beta: 1.00, Estimated Gamma: 0.17\n",
      "Gamma: 0.30, Estimated Beta: 1.02, Estimated Gamma: 0.29\n",
      "Gamma: 0.40, Estimated Beta: 1.06, Estimated Gamma: 0.32\n",
      "Gamma: 0.50, Estimated Beta: 1.04, Estimated Gamma: 0.52\n",
      "Gamma: 0.60, Estimated Beta: 1.03, Estimated Gamma: 0.59\n",
      "Gamma: 0.70, Estimated Beta: 1.04, Estimated Gamma: 0.69\n",
      "Gamma: 0.80, Estimated Beta: 1.00, Estimated Gamma: 0.77\n",
      "Gamma: 0.90, Estimated Beta: 0.97, Estimated Gamma: 0.93\n",
      "Gamma: 1.00, Estimated Beta: 0.91, Estimated Gamma: 0.99\n"
     ]
    },
    {
     "data": {
      "image/png": "[encoded data removed]",
      "text/plain": [
       "<Figure size 1200x600 with 2 Axes>"
      ]
     },
     "metadata": {},
     "output_type": "display_data"
    }
   ],
   "source": [
    "import numpy as np\n",
    "import statsmodels.api as sm\n",
    "import matplotlib.pyplot as plt\n",
    "from scipy.stats import distributions as iid\n",
    "def linear_dgp(n, beta, gamma, sigma_u=1, rho=0.5):\n",
    "    \"\"\"\n",
    "    Generates data for the model y = Xβ + Zγ + u.\n",
    "    - n: Number of observations\n",
    "    - beta: Coefficient for X\n",
    "    - gamma: Coefficient for Z\n",
    "    - sigma_u: Standard deviation of the error term\n",
    "    - rho: Correlation between X and Z\n",
    "    \"\"\"\n",
    "    X = np.random.normal(0, 1, n)\n",
    "    Z = rho * X + np.sqrt(1 - rho**2) * np.random.normal(0, 1, n)\n",
    "    u = np.random.normal(0, sigma_u, n)\n",
    "    y = X * beta + Z * gamma + u\n",
    "    return y, X, Z\n",
    "\n",
    "def estimate_ols(y, X, Z):\n",
    "    \"\"\"\n",
    "    Estimates the OLS of the model y = Xβ + Zγ.\n",
    "    \"\"\"\n",
    "    predictors = sm.add_constant(np.column_stack((X, Z)))\n",
    "    model = sm.OLS(y, predictors).fit()\n",
    "    return model.params  # Returns estimates of β and γ\n",
    "\n",
    "# Simulation settings\n",
    "n = 1000\n",
    "beta = 1\n",
    "gammas = np.linspace(0, 1, 11)  # Values of γ to test\n",
    "\n",
    "# Arrays to store the results\n",
    "estimated_betas = []\n",
    "estimated_gammas = []\n",
    "\n",
    "# Conduct the simulation\n",
    "for gamma in gammas:\n",
    "    y, X, Z = linear_dgp(n, beta, gamma)\n",
    "    estimated_params = estimate_ols(y, X, Z)\n",
    "    estimated_betas.append(estimated_params[1])  # Estimated β\n",
    "    estimated_gammas.append(estimated_params[2])  # Estimated γ\n",
    "    print(f\"Gamma: {gamma:.2f}, Estimated Beta: {estimated_params[1]:.2f}, Estimated Gamma: {estimated_params[2]:.2f}\")\n",
    "\n",
    "# Plotting the results\n",
    "plt.figure(figsize=(12, 6))\n",
    "\n",
    "# Plot for Estimated Beta\n",
    "plt.subplot(1, 2, 1)\n",
    "plt.plot(gammas, estimated_betas, 'bo-', label='Estimated Beta')\n",
    "plt.axhline(y=beta, color='red', linestyle='--', label='True Beta')\n",
    "plt.title('Estimated Beta vs. Gamma')\n",
    "plt.xlabel('Gamma')\n",
    "plt.ylabel('Estimated Beta')\n",
    "plt.legend()\n",
    "\n",
    "# Plot for Estimated Gamma\n",
    "plt.subplot(1, 2, 2)\n",
    "plt.plot(gammas, estimated_gammas, 'go-', label='Estimated Gamma')\n",
    "plt.axhline(y=0, color='red', linestyle='--', label='True Gamma = 0')\n",
    "plt.title('Estimated Gamma vs. Gamma')\n",
    "plt.xlabel('Gamma')\n",
    "plt.ylabel('Estimated Gamma')\n",
    "plt.legend()\n",
    "\n",
    "plt.tight_layout()\n",
    "plt.show()\n"
   ]
  },
  {
   "cell_type": "markdown",
   "id": "5217bd9d",
   "metadata": {},
   "source": [
    "Estimated Gamma vs. Gamma: This graph shows a clear trend where the estimated $\\hatγ$ increases in line with the true $γ$. This suggests that the model is sensitive to changes in $γ$ and is capable of accurately reflecting the effect of $Z$ on $y$."
   ]
  },
  {
   "cell_type": "markdown",
   "id": "8cabed7a",
   "metadata": {},
   "source": [
    "## 3.3. Hypothesis Testing\n"
   ]
  },
  {
   "cell_type": "code",
   "execution_count": 3,
   "id": "5a277f48",
   "metadata": {},
   "outputs": [
    {
     "name": "stdout",
     "output_type": "stream",
     "text": [
      "Region A where the null hypothesis is not rejected: [0.1, 0.2, 0.30000000000000004, 0.4, 0.5, 0.6000000000000001, 0.7000000000000001, 0.8, 0.9, 1.0]\n"
     ]
    }
   ],
   "source": [
    "import numpy as np\n",
    "import statsmodels.api as sm\n",
    "from scipy.stats import t\n",
    "\n",
    "def linear_dgp(n, beta, gamma, sigma_u=1):\n",
    "    X = np.random.normal(0, 1, n)\n",
    "    Z = np.random.normal(0, 1, n)\n",
    "    u = np.random.normal(0, sigma_u, n)\n",
    "    y = X * beta + Z * gamma + u\n",
    "    return y, np.column_stack((np.ones(n), X, Z))\n",
    "\n",
    "def estimate_ols(y, X):\n",
    "    model = sm.OLS(y, X).fit()\n",
    "    return model.params, model.bse\n",
    "\n",
    "n = 1000\n",
    "beta = 1\n",
    "gamma_range = np.linspace(0, 1, 11)\n",
    "results = []\n",
    "\n",
    "# Estimating b(0)\n",
    "y, X = linear_dgp(n, beta, 0)\n",
    "b0, se_b0 = estimate_ols(y, X)[0][1], estimate_ols(y, X)[1][1]\n",
    "\n",
    "# Estimating b(gamma) for various gamma and conducting hypothesis tests\n",
    "p_values = []\n",
    "for gamma in gamma_range:\n",
    "    y, X = linear_dgp(n, beta, gamma)\n",
    "    b_gamma, se_gamma = estimate_ols(y, X)[0][1], estimate_ols(y, X)[1][1]\n",
    "    t_stat = (b_gamma - b0) / np.sqrt(se_b0**2 + se_gamma**2)\n",
    "    df = n - 3  # n - number of parameters estimated (intercept, beta, gamma)\n",
    "    p_val = 2 * t.sf(np.abs(t_stat), df)\n",
    "    p_values.append(p_val)\n",
    "    results.append((gamma, b_gamma, se_gamma, p_val))\n",
    "\n",
    "# Define region A\n",
    "region_A = [gamma_range[i] for i, p in enumerate(p_values) if p > 0.05]\n",
    "\n",
    "# Output region A\n",
    "print(\"Region A where the null hypothesis is not rejected:\", region_A)\n"
   ]
  },
  {
   "cell_type": "markdown",
   "id": "470a3b4e",
   "metadata": {},
   "source": [
    "## 3.2.3 "
   ]
  },
  {
   "cell_type": "code",
   "execution_count": 4,
   "id": "af83706f",
   "metadata": {},
   "outputs": [
    {
     "name": "stdout",
     "output_type": "stream",
     "text": [
      "Set B where the null hypothesis is not rejected: [(0.0, 0.0), (0.0, 0.25), (0.0, 0.5), (0.0, 0.75), (0.25, 0.0), (0.25, 0.25), (0.25, 0.5), (0.25, 0.75), (0.5, 0.0), (0.5, 0.25), (0.5, 0.5), (0.5, 0.75), (0.75, 0.0), (0.75, 0.25), (0.75, 0.5), (0.75, 0.75), (1.0, 0.0), (1.0, 0.25), (1.0, 0.5), (1.0, 0.75), (1.0, 1.0)]\n"
     ]
    }
   ],
   "source": [
    "import numpy as np\n",
    "import statsmodels.api as sm\n",
    "from scipy.stats import t\n",
    "def linear_dgp(n, beta, gamma, sigma_u=1, sigma_XZ=0):\n",
    "    \"\"\"\n",
    "    Generates data for the model y = Xβ + Zγ + u with a specified covariance between X and Z.\n",
    "    - n: Number of observations\n",
    "    - beta: Coefficient for X\n",
    "    - gamma: Coefficient for Z\n",
    "    - sigma_u: Standard deviation of the error term\n",
    "    - sigma_XZ: Covariance between X and Z\n",
    "    \"\"\"\n",
    "    # Generate X\n",
    "    X = np.random.normal(0, 1, n)\n",
    "    # Generate Z with specified covariance with X\n",
    "    Z = np.random.normal(sigma_XZ * X, np.sqrt(1 - sigma_XZ**2), n)\n",
    "    u = np.random.normal(0, sigma_u, n)\n",
    "    y = X * beta + Z * gamma + u\n",
    "    return y, np.column_stack((np.ones(n), X, Z))\n",
    "\n",
    "def estimate_ols(y, X):\n",
    "    model = sm.OLS(y, X).fit()\n",
    "    return model.params, model.bse\n",
    "\n",
    "# Simulation settings\n",
    "n = 1000\n",
    "beta = 1\n",
    "gammas = np.linspace(0, 1, 5)  # Fewer points for simplicity in the example\n",
    "sigma_XZs = np.linspace(0, 1, 5)  # Covariance values from 0 to 1\n",
    "results = []\n",
    "\n",
    "# Estimating b(0) with no covariance\n",
    "y, X = linear_dgp(n, beta, 0, sigma_XZ=0)\n",
    "b0, se_b0 = estimate_ols(y, X)[0][1], estimate_ols(y, X)[1][1]\n",
    "\n",
    "# Nested loop for gamma and sigma_XZ values\n",
    "for gamma in gammas:\n",
    "    for sigma_XZ in sigma_XZs:\n",
    "        y, X = linear_dgp(n, beta, gamma, sigma_XZ=sigma_XZ)\n",
    "        b_gamma_sigmaXZ, se_gamma_sigmaXZ = estimate_ols(y, X)[0][1], estimate_ols(y, X)[1][1]\n",
    "        t_stat = (b_gamma_sigmaXZ - b0) / np.sqrt(se_b0**2 + se_gamma_sigmaXZ**2)\n",
    "        df = n - 3  # n - number of parameters estimated\n",
    "        p_val = 2 * t.sf(np.abs(t_stat), df)\n",
    "        results.append((gamma, sigma_XZ, b_gamma_sigmaXZ, p_val))\n",
    "\n",
    "# Define set B where the null hypothesis is not rejected\n",
    "set_B = [(gamma, sigma_XZ) for gamma, sigma_XZ, _, p_val in results if p_val > 0.05]\n",
    "\n",
    "# Print set B\n",
    "print(\"Set B where the null hypothesis is not rejected:\", set_B)\n"
   ]
  },
  {
   "cell_type": "markdown",
   "id": "8854c802",
   "metadata": {},
   "source": [
    "## Angrist-Krueger (1991) Replication"
   ]
  },
  {
   "cell_type": "markdown",
   "id": "81e6fe15",
   "metadata": {},
   "source": [
    "### What is the (implicit) identifying assumption? Comment on its plausibility.\n",
    "\n"
   ]
  },
  {
   "cell_type": "code",
   "execution_count": 5,
   "id": "8a789f27",
   "metadata": {},
   "outputs": [
    {
     "name": "stdout",
     "output_type": "stream",
     "text": [
      "[1933 1930 1937 1935 1938 1939 1936 1934 1931 1932]\n"
     ]
    }
   ],
   "source": [
    "import pandas as pd\n",
    "import numpy as np\n",
    "from scipy.linalg import inv, sqrtm\n",
    "import statsmodels.api as sm\n",
    "from warnings import simplefilter\n",
    "simplefilter(action=\"ignore\", category=pd.errors.PerformanceWarning)\n",
    "\n",
    "\n",
    "# Read in the data file\n",
    "ak_data = pd.read_stata('../../angrist-krueger91.dta')\n",
    "# Print distinct years in the data\n",
    "print(ak_data['yob'].unique()) # Years are already filtered to 1930-1939 cohort\n",
    "# Add a constant to the data\n",
    "ak_data = sm.add_constant(ak_data)\n",
    "# Add dummy variables for each year of birth and each region minus one \n",
    "ak_data = pd.get_dummies(ak_data, columns=['yob', 'region', 'qob'], drop_first=True) \n",
    "# Dummy variables get coded as boolean - recode as 0/1 dummies\n",
    "for column in ak_data.columns:\n",
    "    if ak_data[column].dtype == 'bool':\n",
    "        ak_data[column] = ak_data[column].astype(int)\n",
    "ak_data['ageq_sq'] = ak_data['ageq']**2\n",
    "# Create yob*qob interaction terms\n",
    "for i in range(9):\n",
    "    for j in range(3):\n",
    "        ak_data['yob_193'+str(i+1)+'_qob_'+str(j+2)] = ak_data['yob_193'+str(i+1)]*ak_data['qob_'+str(j+2)]     \n",
    "# Create outcome variable equal to log wage\n",
    "y = ak_data[['logwage']]\n",
    "# Create regressor list for ease when creating regressions\n",
    "yob_dummies = ['yob_1931', 'yob_1932', 'yob_1933', 'yob_1934', 'yob_1935', 'yob_1936', 'yob_1937', 'yob_1938', 'yob_1939']\n",
    "region_dummies = ['region_1.0', 'region_2.0', 'region_3.0', 'region_4.0', 'region_5.0', 'region_6.0', 'region_7.0', 'region_8.0']\n",
    "qob_dummies = ['qob_2', 'qob_3', 'qob_4']\n",
    "interaction_dummies = [\n",
    "    'yob_1931_qob_2','yob_1931_qob_3','yob_1931_qob_4','yob_1932_qob_2','yob_1932_qob_3','yob_1932_qob_4',\n",
    "    'yob_1933_qob_2','yob_1933_qob_3','yob_1933_qob_4','yob_1934_qob_2','yob_1934_qob_3','yob_1934_qob_4',\n",
    "    'yob_1935_qob_2','yob_1935_qob_3','yob_1935_qob_4','yob_1936_qob_2','yob_1936_qob_3','yob_1936_qob_4',\n",
    "    'yob_1937_qob_2','yob_1937_qob_3','yob_1937_qob_4','yob_1938_qob_2','yob_1938_qob_3','yob_1938_qob_4',\n",
    "    'yob_1939_qob_2','yob_1939_qob_3','yob_1939_qob_4'\n",
    "]\n",
    "\n",
    "# The 'state' variable for some reason goes from 1-56, with some missing values (e.g. 3 is missing).\n",
    "# We will recode this variable to start from 1 and be sequential\n",
    "# Get the unique state codes from the 'state' column, sorted\n",
    "unique_states = sorted(ak_data['state'].unique())\n",
    "# Create a mapping from old state codes to new sequential codes starting from 1\n",
    "state_mapping = {old_code: new_code for new_code, old_code in enumerate(unique_states, start=1)}\n",
    "# Now apply this mapping to the 'state' column to create a new 'state' column\n",
    "ak_data['state_recode'] = ak_data['state'].map(state_mapping)\n",
    "\n",
    "# Create dummy variables from the new sequential state column\n",
    "ak_data = pd.get_dummies(ak_data, columns=['state_recode'], drop_first=True)\n",
    "# Ensure all boolean columns are converted to integers\n",
    "for column in ak_data.columns:\n",
    "    if ak_data[column].dtype == bool:\n",
    "        ak_data[column] = ak_data[column].astype(int)\n",
    "        \n",
    "# Create qob*state interaction terms\n",
    "\n",
    "# Number of qobs and states\n",
    "num_qobs = 4\n",
    "num_states = 51\n",
    "for i in range(2, num_qobs + 1):  # qobs start from 2 since the first qob is dropped\n",
    "    for j in range(2, num_states + 1):  # states start from 2 since the first state is dropped\n",
    "        qob_col = f'qob_{i}'\n",
    "        state_col = f'state_recode_{j}'\n",
    "        interaction_col = f'{qob_col}_state_{j}'\n",
    "        if qob_col in ak_data.columns and state_col in ak_data.columns:\n",
    "            ak_data[interaction_col] = ak_data[qob_col] * ak_data[state_col]\n",
    "        else:\n",
    "            print(f\"Column does not exist: {qob_col} or {state_col}\")\n",
    "\n",
    "# Create the state and state_qob_interactions lists\n",
    "state_dummies = [f'state_recode_{i}' for i in range(2, num_states + 1)]\n",
    "state_qob_interactions = [f'qob_{i}_state_{j}' for i in range(2, num_qobs + 1) for j in range(2, num_states + 1)]"
   ]
  },
  {
   "cell_type": "code",
   "execution_count": 6,
   "id": "80565ac7",
   "metadata": {},
   "outputs": [],
   "source": [
    "# OLS function\n",
    "def OLS(Y,X):\n",
    "    X = np.array(X)\n",
    "    Y = np.array(Y)\n",
    "    XX = np.transpose(X)@X\n",
    "    XX_inv = np.linalg.pinv(XX)\n",
    "    XY = np.transpose(X)@Y\n",
    "    Beta_OLS = XX_inv@XY\n",
    "    N = Y.shape[0]\n",
    "    resid = Y - X@Beta_OLS \n",
    "    resid_var = (np.sum(np.square(resid)))/(N-1)\n",
    "    var_covar = resid_var*XX_inv \n",
    "    K = XX.shape[0]\n",
    "    SE = np.zeros(K)\n",
    "    for i in range(K):\n",
    "          SE[i] = np.sqrt(var_covar[i,i])\n",
    "    t = (1/SE)*Beta_OLS\n",
    "    return Beta_OLS, SE, var_covar,t\n",
    "\n",
    "# IV (2SLS) estimator function:\n",
    "def IV2SLS(Y,X,Z):\n",
    "    X = np.array(X)\n",
    "    Y = np.array(Y)\n",
    "    Z = np.array(Z)\n",
    "    ZX = np.transpose(Z)@X\n",
    "    ZX_inv = np.linalg.pinv(ZX)\n",
    "    ZY = np.transpose(Z)@Y\n",
    "    ZZ = np.transpose(Z)@Z\n",
    "    ZZ_inv = np.linalg.pinv(ZZ)\n",
    "    Beta_IV2SLS = np.linalg.pinv(np.transpose(ZX)@ZZ_inv@ZX)@(np.transpose(ZX)@ZZ_inv@ZY)\n",
    "    e = Y - X@Beta_IV2SLS\n",
    "    SSR = np.transpose(e)@e\n",
    "    N = X.shape[0]\n",
    "    vcv_IV2SLS = (SSR/N)*np.linalg.pinv(np.transpose(ZX)@ZZ_inv@ZX)\n",
    "    K = X.shape[1]\n",
    "    SE_IV2SLS = np.zeros(K)\n",
    "    for i in range(K):\n",
    "          SE_IV2SLS[i] = np.sqrt(vcv_IV2SLS[i,i])\n",
    "    t_IV2SLS = (1/SE_IV2SLS)*Beta_IV2SLS\n",
    "    return Beta_IV2SLS, SE_IV2SLS, vcv_IV2SLS,t_IV2SLS\n"
   ]
  },
  {
   "cell_type": "code",
   "execution_count": 7,
   "id": "c0ca6f02",
   "metadata": {},
   "outputs": [
    {
     "name": "stdout",
     "output_type": "stream",
     "text": [
      "Education OLS estimate:  0.0711\n",
      "Education OLS SE: 0.0003\n"
     ]
    }
   ],
   "source": [
    "# First OLS regression - Column 1\n",
    "# Regress log wage on a constant, education, and YOB dummies\n",
    "X1 = ak_data[['const', 'edu'] + yob_dummies]\n",
    "OLS1 = OLS(y,X1)\n",
    "Coeff1 = OLS1[0]\n",
    "SE1 = OLS1[1]\n",
    "print(\"Education OLS estimate: \", np.round(Coeff1[1][0],4))\n",
    "print(\"Education OLS SE:\", np.round(SE1[1],4))\n"
   ]
  },
  {
   "cell_type": "code",
   "execution_count": 8,
   "id": "26c6d6ed",
   "metadata": {},
   "outputs": [
    {
     "name": "stdout",
     "output_type": "stream",
     "text": [
      "Education TSLS estimate:  0.0891\n",
      "Education TSLS SE: 0.0161\n"
     ]
    }
   ],
   "source": [
    "# First 2SLS regression - Column 2\n",
    "\n",
    "# First stage regression of a constant, YOB dummies, QOB dummies, and the interaction of the two\n",
    "Z1 = ak_data[['const'] + yob_dummies + qob_dummies + interaction_dummies]\n",
    "TSLS1 = IV2SLS(y,X1,Z1)\n",
    "Coeff_TSLS1 = TSLS1[0]\n",
    "SE_TSLS1 = TSLS1[1]\n",
    "print(\"Education TSLS estimate: \", np.round(Coeff_TSLS1[1][0],4))\n",
    "print(\"Education TSLS SE:\", np.round(SE_TSLS1[1],4))"
   ]
  },
  {
   "cell_type": "code",
   "execution_count": 9,
   "id": "32016e35",
   "metadata": {},
   "outputs": [
    {
     "name": "stdout",
     "output_type": "stream",
     "text": [
      "Education OLS estimate:  0.0711\n",
      "Education OLS SE: 0.0003\n",
      "Age OLS estimate:  -0.0772\n",
      "Age OLS SE: 0.0621\n",
      "Age Squared OLS estimate:  0.0008\n",
      "Age Squared OLS SE: 0.0007\n"
     ]
    }
   ],
   "source": [
    "# Second OLS Regression - Column 3\n",
    "\n",
    "X2 = ak_data[['const', 'edu', 'ageq', 'ageq_sq'] + yob_dummies]\n",
    "OLS2 = OLS(y,X2)\n",
    "Coeff2 = OLS2[0]\n",
    "SE2 = OLS2[1]\n",
    "print(\"Education OLS estimate: \", np.round(Coeff2[1][0],4))\n",
    "print(\"Education OLS SE:\", np.round(SE2[1],4))\n",
    "print(\"Age OLS estimate: \", np.round(Coeff2[2][0],4))\n",
    "print(\"Age OLS SE:\", np.round(SE2[2],4))\n",
    "print(\"Age Squared OLS estimate: \", np.round(Coeff2[3][0],4))\n",
    "print(\"Age Squared OLS SE:\", np.round(SE2[3],4))"
   ]
  },
  {
   "cell_type": "code",
   "execution_count": 10,
   "id": "df25db1f",
   "metadata": {},
   "outputs": [
    {
     "name": "stdout",
     "output_type": "stream",
     "text": [
      "Education TSLS estimate:  0.076\n",
      "Education TSLS SE: 0.029\n",
      "Age TSLS estimate:  -0.0801\n",
      "Age TSLS SE: 0.0645\n",
      "Age Squared TSLS estimate:  0.0008\n",
      "Age Squared TSLS SE: 0.0007\n"
     ]
    }
   ],
   "source": [
    "# Second 2SLS - Column 4\n",
    "Z2 = ak_data[['const', 'ageq', 'ageq_sq'] + yob_dummies + qob_dummies + interaction_dummies]\n",
    "TSLS2 = IV2SLS(y,X2,Z2)\n",
    "Coeff_TSLS2 = TSLS2[0]\n",
    "SE_TSLS2 = TSLS2[1]\n",
    "print(\"Education TSLS estimate: \", np.round(Coeff_TSLS2[1][0],4))\n",
    "print(\"Education TSLS SE:\", np.round(SE_TSLS2[1],4))\n",
    "print(\"Age TSLS estimate: \", np.round(Coeff_TSLS2[2][0],4))\n",
    "print(\"Age TSLS SE:\", np.round(SE_TSLS2[2],4))\n",
    "print(\"Age Squared TSLS estimate: \", np.round(Coeff_TSLS2[3][0],4))\n",
    "print(\"Age Squared TSLS SE:\", np.round(SE_TSLS2[3],4))"
   ]
  },
  {
   "cell_type": "code",
   "execution_count": 11,
   "id": "ade9fc60",
   "metadata": {},
   "outputs": [
    {
     "name": "stdout",
     "output_type": "stream",
     "text": [
      "Education OLS estimate:  0.0632\n",
      "Education OLS SE: 0.0003\n",
      "Race OLS estimate:  -0.2575\n",
      "Race OLS SE: 0.004\n",
      "SMSA OLS estimate:  0.1763\n",
      "SMSA OLS SE: 0.0029\n",
      "Married OLS estimate:  0.2479\n",
      "Married OLS SE: 0.0032\n"
     ]
    }
   ],
   "source": [
    "# Third OLS - Column 5\n",
    "X3 = ak_data[['const', 'edu', 'black', 'smsa', 'married'] + yob_dummies + region_dummies]\n",
    "OLS3 = OLS(y,X3)\n",
    "Coeff3 = OLS3[0]\n",
    "SE3 = OLS3[1]\n",
    "print(\"Education OLS estimate: \", np.round(Coeff3[1][0],4))\n",
    "print(\"Education OLS SE:\", np.round(SE3[1],4))\n",
    "print(\"Race OLS estimate: \", np.round(Coeff3[2][0],4))\n",
    "print(\"Race OLS SE:\", np.round(SE3[2],4))\n",
    "print(\"SMSA OLS estimate: \", np.round(Coeff3[3][0],4))\n",
    "print(\"SMSA OLS SE:\", np.round(SE3[3],4))\n",
    "print(\"Married OLS estimate: \", np.round(Coeff3[4][0],4))\n",
    "print(\"Married OLS SE:\", np.round(SE3[4],4))"
   ]
  },
  {
   "cell_type": "code",
   "execution_count": 12,
   "id": "3a16df9b",
   "metadata": {},
   "outputs": [
    {
     "name": "stdout",
     "output_type": "stream",
     "text": [
      "Education TSLS estimate:  0.0806\n",
      "Education TSLS SE: 0.0164\n",
      "Race TSLS estimate:  -0.2302\n",
      "Race TSLS SE: 0.0261\n",
      "SMSA TSLS estimate:  0.1581\n",
      "SMSA TSLS SE: 0.0174\n",
      "Married TSLS estimate:  0.244\n",
      "Married TSLS SE: 0.0049\n"
     ]
    }
   ],
   "source": [
    "# Third 2SLS - Column 6\n",
    "Z3 = ak_data[['const', 'black', 'smsa', 'married'] + yob_dummies + region_dummies + qob_dummies + interaction_dummies]\n",
    "TSLS3 = IV2SLS(y,X3,Z3)\n",
    "Coeff_TSLS3 = TSLS3[0]\n",
    "SE_TSLS3 = TSLS3[1]\n",
    "print(\"Education TSLS estimate: \", np.round(Coeff_TSLS3[1][0],4))\n",
    "print(\"Education TSLS SE:\", np.round(SE_TSLS3[1],4))\n",
    "print(\"Race TSLS estimate: \", np.round(Coeff_TSLS3[2][0],4))\n",
    "print(\"Race TSLS SE:\", np.round(SE_TSLS3[2],4))\n",
    "print(\"SMSA TSLS estimate: \", np.round(Coeff_TSLS3[3][0],4))\n",
    "print(\"SMSA TSLS SE:\", np.round(SE_TSLS3[3],4))\n",
    "print(\"Married TSLS estimate: \", np.round(Coeff_TSLS3[4][0],4))\n",
    "print(\"Married TSLS SE:\", np.round(SE_TSLS3[4],4))"
   ]
  },
  {
   "cell_type": "code",
   "execution_count": 13,
   "id": "07e6335c",
   "metadata": {},
   "outputs": [
    {
     "name": "stdout",
     "output_type": "stream",
     "text": [
      "Education OLS estimate:  0.0632\n",
      "Education OLS SE: 0.0003\n",
      "Race OLS estimate:  -0.2575\n",
      "Race OLS SE: 0.004\n",
      "SMSA OLS estimate:  0.1763\n",
      "SMSA OLS SE: 0.0029\n",
      "Married OLS estimate:  0.2479\n",
      "Married OLS SE: 0.0032\n",
      "Age OLS estimate:  -0.076\n",
      "Age OLS SE: 0.0604\n",
      "Age Squared OLS estimate:  0.0008\n",
      "Age Squared OLS SE: 0.0007\n"
     ]
    }
   ],
   "source": [
    "# Fourth OLS - Column 7\n",
    "X4 = ak_data[['const', 'edu', 'black', 'smsa', 'married', 'ageq', 'ageq_sq'] + yob_dummies + region_dummies]\n",
    "OLS4 = OLS(y,X4)\n",
    "Coeff4 = OLS4[0]\n",
    "SE4 = OLS4[1]\n",
    "print(\"Education OLS estimate: \", np.round(Coeff4[1][0],4))\n",
    "print(\"Education OLS SE:\", np.round(SE4[1],4))\n",
    "print(\"Race OLS estimate: \", np.round(Coeff4[2][0],4))\n",
    "print(\"Race OLS SE:\", np.round(SE4[2],4))\n",
    "print(\"SMSA OLS estimate: \", np.round(Coeff4[3][0],4))\n",
    "print(\"SMSA OLS SE:\", np.round(SE4[3],4))\n",
    "print(\"Married OLS estimate: \", np.round(Coeff4[4][0],4))\n",
    "print(\"Married OLS SE:\", np.round(SE4[4],4))\n",
    "print(\"Age OLS estimate: \", np.round(Coeff4[5][0],4))\n",
    "print(\"Age OLS SE:\", np.round(SE4[5],4))\n",
    "print(\"Age Squared OLS estimate: \", np.round(Coeff4[6][0],4))\n",
    "print(\"Age Squared OLS SE:\", np.round(SE4[6],4))"
   ]
  },
  {
   "cell_type": "code",
   "execution_count": 14,
   "id": "ba08676f",
   "metadata": {},
   "outputs": [
    {
     "name": "stdout",
     "output_type": "stream",
     "text": [
      "Education TSLS estimate:  0.05995\n",
      "Education TSLS SE: 0.029\n",
      "Race TSLS estimate:  -0.2626\n",
      "Race TSLS SE: 0.0458\n",
      "SMSA TSLS estimate:  0.1797\n",
      "SMSA TSLS SE: 0.0305\n",
      "Married TSLS estimate:  0.2486\n",
      "Married TSLS SE: 0.0073\n",
      "Age TSLS estimate:  -0.0741\n",
      "Age TSLS SE: 0.0626\n",
      "Age Squared TSLS estimate:  0.0007\n",
      "Age Squared TSLS SE: 0.0007\n"
     ]
    }
   ],
   "source": [
    "# Fourth 2SLS - Column 8\n",
    "Z4 = ak_data[['const', 'black', 'smsa', 'married', 'ageq', 'ageq_sq'] + yob_dummies + region_dummies + qob_dummies + interaction_dummies]\n",
    "TSLS4 = IV2SLS(y,X4,Z4)\n",
    "Coeff_TSLS4 = TSLS4[0]\n",
    "SE_TSLS4 = TSLS4[1]\n",
    "print(\"Education TSLS estimate: \", np.round(Coeff_TSLS4[1][0],5))\n",
    "print(\"Education TSLS SE:\", np.round(SE_TSLS4[1],4))\n",
    "print(\"Race TSLS estimate: \", np.round(Coeff_TSLS4[2][0],4))\n",
    "print(\"Race TSLS SE:\", np.round(SE_TSLS4[2],4))\n",
    "print(\"SMSA TSLS estimate: \", np.round(Coeff_TSLS4[3][0],4))\n",
    "print(\"SMSA TSLS SE:\", np.round(SE_TSLS4[3],4))\n",
    "print(\"Married TSLS estimate: \", np.round(Coeff_TSLS4[4][0],4))\n",
    "print(\"Married TSLS SE:\", np.round(SE_TSLS4[4],4))\n",
    "print(\"Age TSLS estimate: \", np.round(Coeff_TSLS4[5][0],4))\n",
    "print(\"Age TSLS SE:\", np.round(SE_TSLS4[5],4))\n",
    "print(\"Age Squared TSLS estimate: \", np.round(Coeff_TSLS4[6][0],4))\n",
    "print(\"Age Squared TSLS SE:\", np.round(SE_TSLS4[6],4))"
   ]
  },
  {
   "cell_type": "markdown",
   "id": "f43a58de",
   "metadata": {},
   "source": [
    "### Repeat (2), but for the specification reported in their Table 7 (which has many more instruments). Summarize what the above exercises tell us about returns to education"
   ]
  },
  {
   "cell_type": "code",
   "execution_count": 15,
   "id": "0d0336e2",
   "metadata": {},
   "outputs": [
    {
     "name": "stdout",
     "output_type": "stream",
     "text": [
      "Education OLS estimate:  0.0673\n",
      "Education OLS SE: 0.0003\n"
     ]
    }
   ],
   "source": [
    "# First OLS regression - Column 1\n",
    "# Regress log wage on a constant, education, and YOB dummies\n",
    "X2_1 = ak_data[['const', 'edu'] + yob_dummies + state_dummies] \n",
    "OLS2_1 = OLS(y,X2_1)\n",
    "Coeff2_1 = OLS2_1[0]\n",
    "SE2_1 = OLS2_1[1]\n",
    "print(\"Education OLS estimate: \", np.round(Coeff2_1[1][0],4))\n",
    "print(\"Education OLS SE:\", np.round(SE2_1[1],4))\n"
   ]
  },
  {
   "cell_type": "code",
   "execution_count": 16,
   "id": "d28521f3",
   "metadata": {},
   "outputs": [
    {
     "name": "stdout",
     "output_type": "stream",
     "text": [
      "Education TSLS estimate:  0.0976\n",
      "Education TSLS SE: 0.0103\n"
     ]
    }
   ],
   "source": [
    "# First 2SLS regression - Column 2\n",
    "\n",
    "Z2_1 = ak_data[['const'] + yob_dummies + qob_dummies + state_qob_interactions + interaction_dummies]\n",
    "TSLS2_1 = IV2SLS(y,X2_1,Z2_1)\n",
    "Coeff_TSLS2_1 = TSLS2_1[0]\n",
    "SE_TSLS2_1 = TSLS2_1[1]\n",
    "print(\"Education TSLS estimate: \", np.round(Coeff_TSLS2_1[1][0],4))\n",
    "print(\"Education TSLS SE:\", np.round(SE_TSLS2_1[1],4))"
   ]
  },
  {
   "cell_type": "code",
   "execution_count": 17,
   "id": "ebc44353",
   "metadata": {},
   "outputs": [
    {
     "name": "stdout",
     "output_type": "stream",
     "text": [
      "Education OLS estimate:  0.0673\n",
      "Education OLS SE: 0.0003\n",
      "Age OLS estimate:  -0.0757\n",
      "Age OLS SE: 0.0617\n",
      "Age Squared OLS estimate:  0.0008\n",
      "Age Squared OLS SE: 0.0007\n"
     ]
    }
   ],
   "source": [
    "# Second OLS Regression - Column 3\n",
    "\n",
    "X2_2 = ak_data[['const', 'edu', 'ageq', 'ageq_sq'] + yob_dummies + state_dummies] \n",
    "OLS2_2 = OLS(y,X2_2)\n",
    "Coeff2_2 = OLS2_2[0]\n",
    "SE2_2 = OLS2_2[1]\n",
    "print(\"Education OLS estimate: \", np.round(Coeff2_2[1][0],4))\n",
    "print(\"Education OLS SE:\", np.round(SE2_2[1],4))\n",
    "print(\"Age OLS estimate: \", np.round(Coeff2_2[2][0],4))\n",
    "print(\"Age OLS SE:\", np.round(SE2_2[2],4))\n",
    "print(\"Age Squared OLS estimate: \", np.round(Coeff2_2[3][0],4))\n",
    "print(\"Age Squared OLS SE:\", np.round(SE2_2[3],4))"
   ]
  },
  {
   "cell_type": "code",
   "execution_count": 18,
   "id": "cb0db54e",
   "metadata": {},
   "outputs": [
    {
     "name": "stdout",
     "output_type": "stream",
     "text": [
      "Education TSLS estimate:  0.0907\n",
      "Education TSLS SE: 0.0107\n",
      "Age TSLS estimate:  -0.088\n",
      "Age TSLS SE: 0.0624\n",
      "Age Squared TSLS estimate:  0.0009\n",
      "Age Squared TSLS SE: 0.0007\n"
     ]
    }
   ],
   "source": [
    "# Second 2SLS - Column 4\n",
    "Z2_2 = ak_data[['const', 'ageq', 'ageq_sq'] + yob_dummies + qob_dummies + state_qob_interactions + state_dummies + interaction_dummies]\n",
    "TSLS2_2 = IV2SLS(y,X2_2,Z2_2)\n",
    "Coeff_TSLS2_2 = TSLS2_2[0]\n",
    "SE_TSLS2_2 = TSLS2_2[1]\n",
    "print(\"Education TSLS estimate: \", np.round(Coeff_TSLS2_2[1][0],4))\n",
    "print(\"Education TSLS SE:\", np.round(SE_TSLS2_2[1],4))\n",
    "print(\"Age TSLS estimate: \", np.round(Coeff_TSLS2_2[2][0],4))\n",
    "print(\"Age TSLS SE:\", np.round(SE_TSLS2_2[2],4))\n",
    "print(\"Age Squared TSLS estimate: \", np.round(Coeff_TSLS2_2[3][0],4))\n",
    "print(\"Age Squared TSLS SE:\", np.round(SE_TSLS2_2[3],4))"
   ]
  },
  {
   "cell_type": "code",
   "execution_count": 19,
   "id": "bf9a033b",
   "metadata": {},
   "outputs": [
    {
     "name": "stdout",
     "output_type": "stream",
     "text": [
      "Education OLS estimate:  0.0628\n",
      "Education OLS SE: 0.0003\n",
      "Race OLS estimate:  -0.2547\n",
      "Race OLS SE: 0.0043\n",
      "SMSA OLS estimate:  0.1705\n",
      "SMSA OLS SE: 0.0029\n",
      "Married OLS estimate:  0.2487\n",
      "Married OLS SE: 0.0032\n"
     ]
    }
   ],
   "source": [
    "# Third OLS - Column 5\n",
    "X2_3 = ak_data[['const', 'edu', 'black', 'smsa', 'married'] + yob_dummies + region_dummies + state_dummies]\n",
    "OLS2_3 = OLS(y,X2_3)\n",
    "Coeff2_3 = OLS2_3[0]\n",
    "SE2_3 = OLS2_3[1]\n",
    "print(\"Education OLS estimate: \", np.round(Coeff2_3[1][0],4))\n",
    "print(\"Education OLS SE:\", np.round(SE2_3[1],4))\n",
    "print(\"Race OLS estimate: \", np.round(Coeff2_3[2][0],4))\n",
    "print(\"Race OLS SE:\", np.round(SE2_3[2],4))\n",
    "print(\"SMSA OLS estimate: \", np.round(Coeff2_3[3][0],4))\n",
    "print(\"SMSA OLS SE:\", np.round(SE2_3[3],4))\n",
    "print(\"Married OLS estimate: \", np.round(Coeff2_3[4][0],4))\n",
    "print(\"Married OLS SE:\", np.round(SE2_3[4],4))"
   ]
  },
  {
   "cell_type": "code",
   "execution_count": 20,
   "id": "ff74fb2a",
   "metadata": {},
   "outputs": [
    {
     "name": "stdout",
     "output_type": "stream",
     "text": [
      "Education TSLS estimate:  0.0831\n",
      "Education TSLS SE: 0.0095\n",
      "Race TSLS estimate:  -0.2333\n",
      "Race TSLS SE: 0.0109\n",
      "SMSA TSLS estimate:  0.1511\n",
      "SMSA TSLS SE: 0.0095\n",
      "Married TSLS estimate:  0.2435\n",
      "Married TSLS SE: 0.004\n"
     ]
    }
   ],
   "source": [
    "# Third 2SLS - Column 6\n",
    "Z2_3 = ak_data[['const', 'black', 'smsa', 'married'] + yob_dummies +  region_dummies + qob_dummies + state_dummies + state_qob_interactions + interaction_dummies]\n",
    "TSLS2_3 = IV2SLS(y,X2_3,Z2_3)\n",
    "Coeff2_TSLS3 = TSLS2_3[0]\n",
    "SE2_TSLS3 = TSLS2_3[1]\n",
    "print(\"Education TSLS estimate: \", np.round(Coeff2_TSLS3[1][0],4))\n",
    "print(\"Education TSLS SE:\", np.round(SE2_TSLS3[1],4))\n",
    "print(\"Race TSLS estimate: \", np.round(Coeff2_TSLS3[2][0],4))\n",
    "print(\"Race TSLS SE:\", np.round(SE2_TSLS3[2],4))\n",
    "print(\"SMSA TSLS estimate: \", np.round(Coeff2_TSLS3[3][0],4))\n",
    "print(\"SMSA TSLS SE:\", np.round(SE2_TSLS3[3],4))\n",
    "print(\"Married TSLS estimate: \", np.round(Coeff2_TSLS3[4][0],4))\n",
    "print(\"Married TSLS SE:\", np.round(SE2_TSLS3[4],4))"
   ]
  },
  {
   "cell_type": "code",
   "execution_count": 21,
   "id": "d9f4e3bd",
   "metadata": {},
   "outputs": [
    {
     "name": "stdout",
     "output_type": "stream",
     "text": [
      "Education OLS estimate:  0.0628\n",
      "Education OLS SE: 0.0003\n",
      "Race OLS estimate:  -0.2547\n",
      "Race OLS SE: 0.0043\n",
      "SMSA OLS estimate:  0.1705\n",
      "SMSA OLS SE: 0.0029\n",
      "Married OLS estimate:  0.2487\n",
      "Married OLS SE: 0.0032\n",
      "Age OLS estimate:  -0.0778\n",
      "Age OLS SE: 0.0603\n",
      "Age Squared OLS estimate:  0.0008\n",
      "Age Squared OLS SE: 0.0007\n"
     ]
    }
   ],
   "source": [
    "# Fourth OLS - Column 7\n",
    "X2_4 = ak_data[['const', 'edu', 'black', 'smsa', 'married', 'ageq', 'ageq_sq'] + yob_dummies + region_dummies + state_dummies]\n",
    "OLS2_4 = OLS(y,X2_4)\n",
    "Coeff2_4 = OLS2_4[0]\n",
    "SE2_4 = OLS2_4[1]\n",
    "print(\"Education OLS estimate: \", np.round(Coeff2_4[1][0],4))\n",
    "print(\"Education OLS SE:\", np.round(SE2_4[1],4))\n",
    "print(\"Race OLS estimate: \", np.round(Coeff2_4[2][0],4))\n",
    "print(\"Race OLS SE:\", np.round(SE2_4[2],4))\n",
    "print(\"SMSA OLS estimate: \", np.round(Coeff2_4[3][0],4))\n",
    "print(\"SMSA OLS SE:\", np.round(SE2_4[3],4))\n",
    "print(\"Married OLS estimate: \", np.round(Coeff2_4[4][0],4))\n",
    "print(\"Married OLS SE:\", np.round(SE2_4[4],4))\n",
    "print(\"Age OLS estimate: \", np.round(Coeff2_4[5][0],4))\n",
    "print(\"Age OLS SE:\", np.round(SE2_4[5],4))\n",
    "print(\"Age Squared OLS estimate: \", np.round(Coeff2_4[6][0],4))\n",
    "print(\"Age Squared OLS SE:\", np.round(SE2_4[6],4))"
   ]
  },
  {
   "cell_type": "code",
   "execution_count": 22,
   "id": "e83ad057",
   "metadata": {},
   "outputs": [
    {
     "name": "stdout",
     "output_type": "stream",
     "text": [
      "Education TSLS estimate:  0.08106\n",
      "Education TSLS SE: 0.0109\n",
      "Race TSLS estimate:  -0.2354\n",
      "Race TSLS SE: 0.0122\n",
      "SMSA TSLS estimate:  0.1531\n",
      "SMSA TSLS SE: 0.0107\n",
      "Married TSLS estimate:  0.2441\n",
      "Married TSLS SE: 0.0042\n",
      "Age TSLS estimate:  -0.0876\n",
      "Age TSLS SE: 0.0609\n",
      "Age Squared TSLS estimate:  0.0009\n",
      "Age Squared TSLS SE: 0.0007\n"
     ]
    }
   ],
   "source": [
    "# Fourth 2SLS - Column 8\n",
    "Z2_4 = ak_data[['const', 'black', 'smsa', 'married', 'ageq', 'ageq_sq'] + yob_dummies + region_dummies + qob_dummies + interaction_dummies + state_dummies + state_qob_interactions]\n",
    "TSLS2_4 = IV2SLS(y,X2_4,Z2_4)\n",
    "Coeff2_TSLS4 = TSLS2_4[0]\n",
    "SE2_TSLS4 = TSLS2_4[1]\n",
    "print(\"Education TSLS estimate: \", np.round(Coeff2_TSLS4[1][0],5))\n",
    "print(\"Education TSLS SE:\", np.round(SE2_TSLS4[1],4))\n",
    "print(\"Race TSLS estimate: \", np.round(Coeff2_TSLS4[2][0],4))\n",
    "print(\"Race TSLS SE:\", np.round(SE2_TSLS4[2],4))\n",
    "print(\"SMSA TSLS estimate: \", np.round(Coeff2_TSLS4[3][0],4))\n",
    "print(\"SMSA TSLS SE:\", np.round(SE2_TSLS4[3],4))\n",
    "print(\"Married TSLS estimate: \", np.round(Coeff2_TSLS4[4][0],4))\n",
    "print(\"Married TSLS SE:\", np.round(SE2_TSLS4[4],4))\n",
    "print(\"Age TSLS estimate: \", np.round(Coeff2_TSLS4[5][0],4))\n",
    "print(\"Age TSLS SE:\", np.round(SE2_TSLS4[5],4))\n",
    "print(\"Age Squared TSLS estimate: \", np.round(Coeff2_TSLS4[6][0],4))\n",
    "print(\"Age Squared TSLS SE:\", np.round(SE2_TSLS4[6],4))"
   ]
  },
  {
   "cell_type": "markdown",
   "id": "523d5151",
   "metadata": {},
   "source": [
    "### Adapt your implementation of the Chernozhukov and Hansen estimator to estimate the key parameter ρ, first for the Table 5 specification, then the Table 7 specification. How does your point estimate compare?"
   ]
  },
  {
   "cell_type": "code",
   "execution_count": 30,
   "id": "d7b15353",
   "metadata": {},
   "outputs": [],
   "source": [
    "import numpy as np\n",
    "from scipy.optimize import minimize\n",
    "\n",
    "def IVQR(Y, X, Z, tau):\n",
    "    X = np.array(X)\n",
    "    Y = np.array(Y)\n",
    "    Z = np.array(Z)\n",
    "    ZX = np.transpose(Z)@X\n",
    "    ZX_inv = np.linalg.pinv(ZX)\n",
    "    ZY = np.transpose(Z)@Y\n",
    "    ZZ = np.transpose(Z)@Z\n",
    "    ZZ_inv = np.linalg.pinv(ZZ)\n",
    "    Pi_hat = ZZ_inv @ ZX  \n",
    "    X_hat = Z @ Pi_hat  \n",
    "    def quantile_loss(beta):\n",
    "        residuals = Y - X_hat @ beta\n",
    "        return np.sum((tau - (residuals < 0)) * residuals)\n",
    "    beta_init = np.linalg.lstsq(X_hat, Y, rcond=None)[0]\n",
    "    opt_result = minimize(quantile_loss, beta_init, method='BFGS')\n",
    "\n",
    "    if not opt_result.success:\n",
    "        raise ValueError(\"Optimization did not converge: \", opt_result.message)\n",
    "\n",
    "    beta_hat = opt_result.x\n",
    "    residuals = Y - X_hat @ beta_hat\n",
    "    hessian_inv = np.linalg.inv(opt_result.hess_inv)  # Inverse Hessian from optimization\n",
    "    N = X.shape[0]\n",
    "    vcv_IVQR = (1/N) * hessian_inv\n",
    "    se_IVQR = np.sqrt(np.diag(vcv_IVQR))\n",
    "\n",
    "    return beta_hat, se_IVQR, vcv_IVQR, opt_result.fun"
   ]
  },
  {
   "cell_type": "code",
   "execution_count": 25,
   "id": "0136f197",
   "metadata": {},
   "outputs": [
    {
     "ename": "ValueError",
     "evalue": "'x0' must only have one dimension.",
     "output_type": "error",
     "traceback": [
      "\u001b[0;31m---------------------------------------------------------------------------\u001b[0m",
      "\u001b[0;31mValueError\u001b[0m                                Traceback (most recent call last)",
      "Cell \u001b[0;32mIn[25], line 4\u001b[0m\n\u001b[1;32m      2\u001b[0m X2_4 \u001b[38;5;241m=\u001b[39m ak_data[[\u001b[38;5;124m'\u001b[39m\u001b[38;5;124mconst\u001b[39m\u001b[38;5;124m'\u001b[39m, \u001b[38;5;124m'\u001b[39m\u001b[38;5;124medu\u001b[39m\u001b[38;5;124m'\u001b[39m, \u001b[38;5;124m'\u001b[39m\u001b[38;5;124mblack\u001b[39m\u001b[38;5;124m'\u001b[39m, \u001b[38;5;124m'\u001b[39m\u001b[38;5;124msmsa\u001b[39m\u001b[38;5;124m'\u001b[39m, \u001b[38;5;124m'\u001b[39m\u001b[38;5;124mmarried\u001b[39m\u001b[38;5;124m'\u001b[39m, \u001b[38;5;124m'\u001b[39m\u001b[38;5;124mageq\u001b[39m\u001b[38;5;124m'\u001b[39m, \u001b[38;5;124m'\u001b[39m\u001b[38;5;124mageq_sq\u001b[39m\u001b[38;5;124m'\u001b[39m] \u001b[38;5;241m+\u001b[39m yob_dummies \u001b[38;5;241m+\u001b[39m region_dummies \u001b[38;5;241m+\u001b[39m state_dummies]\n\u001b[1;32m      3\u001b[0m Z2_4 \u001b[38;5;241m=\u001b[39m ak_data[[\u001b[38;5;124m'\u001b[39m\u001b[38;5;124mconst\u001b[39m\u001b[38;5;124m'\u001b[39m, \u001b[38;5;124m'\u001b[39m\u001b[38;5;124mblack\u001b[39m\u001b[38;5;124m'\u001b[39m, \u001b[38;5;124m'\u001b[39m\u001b[38;5;124msmsa\u001b[39m\u001b[38;5;124m'\u001b[39m, \u001b[38;5;124m'\u001b[39m\u001b[38;5;124mmarried\u001b[39m\u001b[38;5;124m'\u001b[39m, \u001b[38;5;124m'\u001b[39m\u001b[38;5;124mageq\u001b[39m\u001b[38;5;124m'\u001b[39m, \u001b[38;5;124m'\u001b[39m\u001b[38;5;124mageq_sq\u001b[39m\u001b[38;5;124m'\u001b[39m] \u001b[38;5;241m+\u001b[39m yob_dummies \u001b[38;5;241m+\u001b[39m region_dummies \u001b[38;5;241m+\u001b[39m qob_dummies \u001b[38;5;241m+\u001b[39m interaction_dummies \u001b[38;5;241m+\u001b[39m state_dummies \u001b[38;5;241m+\u001b[39m state_qob_interactions]\n\u001b[0;32m----> 4\u001b[0m IVQR2_4 \u001b[38;5;241m=\u001b[39m IVQR(y,X2_4,Z2_4, \u001b[38;5;241m0.5\u001b[39m)\n\u001b[1;32m      5\u001b[0m Coeff2_IVQR4 \u001b[38;5;241m=\u001b[39m IVQR2_4[\u001b[38;5;241m0\u001b[39m]\n\u001b[1;32m      6\u001b[0m SE2_IVQR4 \u001b[38;5;241m=\u001b[39m IVQR2_4[\u001b[38;5;241m1\u001b[39m]\n",
      "Cell \u001b[0;32mIn[23], line 21\u001b[0m, in \u001b[0;36mIVQR\u001b[0;34m(Y, X, Z, tau)\u001b[0m\n\u001b[1;32m     19\u001b[0m     \u001b[38;5;28;01mreturn\u001b[39;00m np\u001b[38;5;241m.\u001b[39msum((tau \u001b[38;5;241m-\u001b[39m (residuals \u001b[38;5;241m<\u001b[39m \u001b[38;5;241m0\u001b[39m)) \u001b[38;5;241m*\u001b[39m residuals)\n\u001b[1;32m     20\u001b[0m beta_init \u001b[38;5;241m=\u001b[39m np\u001b[38;5;241m.\u001b[39mlinalg\u001b[38;5;241m.\u001b[39mlstsq(X_hat, Y, rcond\u001b[38;5;241m=\u001b[39m\u001b[38;5;28;01mNone\u001b[39;00m)[\u001b[38;5;241m0\u001b[39m]\n\u001b[0;32m---> 21\u001b[0m opt_result \u001b[38;5;241m=\u001b[39m minimize(quantile_loss, beta_init, method\u001b[38;5;241m=\u001b[39m\u001b[38;5;124m'\u001b[39m\u001b[38;5;124mBFGS\u001b[39m\u001b[38;5;124m'\u001b[39m)\n\u001b[1;32m     23\u001b[0m \u001b[38;5;28;01mif\u001b[39;00m \u001b[38;5;129;01mnot\u001b[39;00m opt_result\u001b[38;5;241m.\u001b[39msuccess:\n\u001b[1;32m     24\u001b[0m     \u001b[38;5;28;01mraise\u001b[39;00m \u001b[38;5;167;01mValueError\u001b[39;00m(\u001b[38;5;124m\"\u001b[39m\u001b[38;5;124mOptimization did not converge: \u001b[39m\u001b[38;5;124m\"\u001b[39m, opt_result\u001b[38;5;241m.\u001b[39mmessage)\n",
      "File \u001b[0;32m~/anaconda3/lib/python3.11/site-packages/scipy/optimize/_minimize.py:533\u001b[0m, in \u001b[0;36mminimize\u001b[0;34m(fun, x0, args, method, jac, hess, hessp, bounds, constraints, tol, callback, options)\u001b[0m\n\u001b[1;32m    530\u001b[0m x0 \u001b[38;5;241m=\u001b[39m np\u001b[38;5;241m.\u001b[39matleast_1d(np\u001b[38;5;241m.\u001b[39masarray(x0))\n\u001b[1;32m    532\u001b[0m \u001b[38;5;28;01mif\u001b[39;00m x0\u001b[38;5;241m.\u001b[39mndim \u001b[38;5;241m!=\u001b[39m \u001b[38;5;241m1\u001b[39m:\n\u001b[0;32m--> 533\u001b[0m     \u001b[38;5;28;01mraise\u001b[39;00m \u001b[38;5;167;01mValueError\u001b[39;00m(\u001b[38;5;124m\"\u001b[39m\u001b[38;5;124m'\u001b[39m\u001b[38;5;124mx0\u001b[39m\u001b[38;5;124m'\u001b[39m\u001b[38;5;124m must only have one dimension.\u001b[39m\u001b[38;5;124m\"\u001b[39m)\n\u001b[1;32m    535\u001b[0m \u001b[38;5;28;01mif\u001b[39;00m x0\u001b[38;5;241m.\u001b[39mdtype\u001b[38;5;241m.\u001b[39mkind \u001b[38;5;129;01min\u001b[39;00m np\u001b[38;5;241m.\u001b[39mtypecodes[\u001b[38;5;124m\"\u001b[39m\u001b[38;5;124mAllInteger\u001b[39m\u001b[38;5;124m\"\u001b[39m]:\n\u001b[1;32m    536\u001b[0m     x0 \u001b[38;5;241m=\u001b[39m np\u001b[38;5;241m.\u001b[39masarray(x0, dtype\u001b[38;5;241m=\u001b[39m\u001b[38;5;28mfloat\u001b[39m)\n",
      "\u001b[0;31mValueError\u001b[0m: 'x0' must only have one dimension."
     ]
    }
   ],
   "source": [
    "# Fourth 2SLS - Column 8\n",
    "X2_4 = ak_data[['const', 'edu', 'black', 'smsa', 'married', 'ageq', 'ageq_sq'] + yob_dummies + region_dummies + state_dummies]\n",
    "Z2_4 = ak_data[['const', 'black', 'smsa', 'married', 'ageq', 'ageq_sq'] + yob_dummies + region_dummies + qob_dummies + interaction_dummies + state_dummies + state_qob_interactions]\n",
    "IVQR2_4 = IVQR(y,X2_4,Z2_4, 0.5)\n",
    "Coeff2_IVQR4 = IVQR2_4[0]\n",
    "SE2_IVQR4 = IVQR2_4[1]"
   ]
  },
  {
   "cell_type": "code",
   "execution_count": 31,
   "id": "e58700d5",
   "metadata": {},
   "outputs": [
    {
     "ename": "ValueError",
     "evalue": "matmul: Input operand 1 has a mismatch in its core dimension 0, with gufunc signature (n?,k),(k,m?)->(n?,m?) (size 1000 is different from 329509)",
     "output_type": "error",
     "traceback": [
      "\u001b[0;31m---------------------------------------------------------------------------\u001b[0m",
      "\u001b[0;31mValueError\u001b[0m                                Traceback (most recent call last)",
      "Cell \u001b[0;32mIn[31], line 1\u001b[0m\n\u001b[0;32m----> 1\u001b[0m IVQR2_4 \u001b[38;5;241m=\u001b[39m IVQR(y,X2_4,Z2_4, \u001b[38;5;241m0.5\u001b[39m)\n",
      "Cell \u001b[0;32mIn[30], line 10\u001b[0m, in \u001b[0;36mIVQR\u001b[0;34m(Y, X, Z, tau)\u001b[0m\n\u001b[1;32m      8\u001b[0m ZX \u001b[38;5;241m=\u001b[39m np\u001b[38;5;241m.\u001b[39mtranspose(Z)\u001b[38;5;129m@X\u001b[39m\n\u001b[1;32m      9\u001b[0m ZX_inv \u001b[38;5;241m=\u001b[39m np\u001b[38;5;241m.\u001b[39mlinalg\u001b[38;5;241m.\u001b[39mpinv(ZX)\n\u001b[0;32m---> 10\u001b[0m ZY \u001b[38;5;241m=\u001b[39m np\u001b[38;5;241m.\u001b[39mtranspose(Z)\u001b[38;5;129m@Y\u001b[39m\n\u001b[1;32m     11\u001b[0m ZZ \u001b[38;5;241m=\u001b[39m np\u001b[38;5;241m.\u001b[39mtranspose(Z)\u001b[38;5;129m@Z\u001b[39m\n\u001b[1;32m     12\u001b[0m ZZ_inv \u001b[38;5;241m=\u001b[39m np\u001b[38;5;241m.\u001b[39mlinalg\u001b[38;5;241m.\u001b[39mpinv(ZZ)\n",
      "\u001b[0;31mValueError\u001b[0m: matmul: Input operand 1 has a mismatch in its core dimension 0, with gufunc signature (n?,k),(k,m?)->(n?,m?) (size 1000 is different from 329509)"
     ]
    }
   ],
   "source": [
    "IVQR2_4 = IVQR(y,X2_4,Z2_4, 0.5)"
   ]
  },
  {
   "cell_type": "code",
   "execution_count": null,
   "id": "f9e6a155",
   "metadata": {},
   "outputs": [],
   "source": []
  },
  {
   "cell_type": "code",
   "execution_count": 34,
   "id": "678ed3c1",
   "metadata": {},
   "outputs": [
    {
     "name": "stdout",
     "output_type": "stream",
     "text": [
      "Shape of X: (329509, 74)\n",
      "Shape of Z: (329509, 253)\n"
     ]
    },
    {
     "ename": "ValueError",
     "evalue": "matmul: Input operand 1 has a mismatch in its core dimension 0, with gufunc signature (n?,k),(k,m?)->(n?,m?) (size 1000 is different from 329509)",
     "output_type": "error",
     "traceback": [
      "\u001b[0;31m---------------------------------------------------------------------------\u001b[0m",
      "\u001b[0;31mValueError\u001b[0m                                Traceback (most recent call last)",
      "Cell \u001b[0;32mIn[34], line 3\u001b[0m\n\u001b[1;32m      1\u001b[0m X2_4 \u001b[38;5;241m=\u001b[39m ak_data[[\u001b[38;5;124m'\u001b[39m\u001b[38;5;124mconst\u001b[39m\u001b[38;5;124m'\u001b[39m, \u001b[38;5;124m'\u001b[39m\u001b[38;5;124medu\u001b[39m\u001b[38;5;124m'\u001b[39m, \u001b[38;5;124m'\u001b[39m\u001b[38;5;124mblack\u001b[39m\u001b[38;5;124m'\u001b[39m, \u001b[38;5;124m'\u001b[39m\u001b[38;5;124msmsa\u001b[39m\u001b[38;5;124m'\u001b[39m, \u001b[38;5;124m'\u001b[39m\u001b[38;5;124mmarried\u001b[39m\u001b[38;5;124m'\u001b[39m, \u001b[38;5;124m'\u001b[39m\u001b[38;5;124mageq\u001b[39m\u001b[38;5;124m'\u001b[39m, \u001b[38;5;124m'\u001b[39m\u001b[38;5;124mageq_sq\u001b[39m\u001b[38;5;124m'\u001b[39m] \u001b[38;5;241m+\u001b[39m yob_dummies \u001b[38;5;241m+\u001b[39m region_dummies \u001b[38;5;241m+\u001b[39m state_dummies]\n\u001b[1;32m      2\u001b[0m Z2_4 \u001b[38;5;241m=\u001b[39m ak_data[[\u001b[38;5;124m'\u001b[39m\u001b[38;5;124mconst\u001b[39m\u001b[38;5;124m'\u001b[39m, \u001b[38;5;124m'\u001b[39m\u001b[38;5;124mblack\u001b[39m\u001b[38;5;124m'\u001b[39m, \u001b[38;5;124m'\u001b[39m\u001b[38;5;124msmsa\u001b[39m\u001b[38;5;124m'\u001b[39m, \u001b[38;5;124m'\u001b[39m\u001b[38;5;124mmarried\u001b[39m\u001b[38;5;124m'\u001b[39m, \u001b[38;5;124m'\u001b[39m\u001b[38;5;124mageq\u001b[39m\u001b[38;5;124m'\u001b[39m, \u001b[38;5;124m'\u001b[39m\u001b[38;5;124mageq_sq\u001b[39m\u001b[38;5;124m'\u001b[39m] \u001b[38;5;241m+\u001b[39m yob_dummies \u001b[38;5;241m+\u001b[39m region_dummies \u001b[38;5;241m+\u001b[39m qob_dummies \u001b[38;5;241m+\u001b[39m interaction_dummies \u001b[38;5;241m+\u001b[39m state_dummies \u001b[38;5;241m+\u001b[39m state_qob_interactions]\n\u001b[0;32m----> 3\u001b[0m IVQR2_4 \u001b[38;5;241m=\u001b[39m IVQR(y,X2_4,Z2_4, \u001b[38;5;241m0.5\u001b[39m)\n\u001b[1;32m      4\u001b[0m Coeff2_IVQR4 \u001b[38;5;241m=\u001b[39m IVQR2_4[\u001b[38;5;241m0\u001b[39m]\n\u001b[1;32m      5\u001b[0m SE2_IVQR4 \u001b[38;5;241m=\u001b[39m IVQR2_4[\u001b[38;5;241m1\u001b[39m]\n",
      "Cell \u001b[0;32mIn[32], line 16\u001b[0m, in \u001b[0;36mIVQR\u001b[0;34m(Y, X, Z, tau)\u001b[0m\n\u001b[1;32m     13\u001b[0m \u001b[38;5;28mprint\u001b[39m(\u001b[38;5;124m\"\u001b[39m\u001b[38;5;124mShape of Z:\u001b[39m\u001b[38;5;124m\"\u001b[39m, Z\u001b[38;5;241m.\u001b[39mshape)\n\u001b[1;32m     15\u001b[0m ZX \u001b[38;5;241m=\u001b[39m Z\u001b[38;5;241m.\u001b[39mT \u001b[38;5;241m@\u001b[39m X\n\u001b[0;32m---> 16\u001b[0m ZY \u001b[38;5;241m=\u001b[39m Z\u001b[38;5;241m.\u001b[39mT \u001b[38;5;241m@\u001b[39m Y\n\u001b[1;32m     17\u001b[0m ZZ \u001b[38;5;241m=\u001b[39m Z\u001b[38;5;241m.\u001b[39mT \u001b[38;5;241m@\u001b[39m Z\n\u001b[1;32m     18\u001b[0m ZZ_inv \u001b[38;5;241m=\u001b[39m np\u001b[38;5;241m.\u001b[39mlinalg\u001b[38;5;241m.\u001b[39mpinv(ZZ)\n",
      "\u001b[0;31mValueError\u001b[0m: matmul: Input operand 1 has a mismatch in its core dimension 0, with gufunc signature (n?,k),(k,m?)->(n?,m?) (size 1000 is different from 329509)"
     ]
    }
   ],
   "source": [
    "X2_4 = ak_data[['const', 'edu', 'black', 'smsa', 'married', 'ageq', 'ageq_sq'] + yob_dummies + region_dummies + state_dummies]\n",
    "Z2_4 = ak_data[['const', 'black', 'smsa', 'married', 'ageq', 'ageq_sq'] + yob_dummies + region_dummies + qob_dummies + interaction_dummies + state_dummies + state_qob_interactions]\n",
    "IVQR2_4 = IVQR(y,X2_4,Z2_4, 0.5)\n",
    "Coeff2_IVQR4 = IVQR2_4[0]\n",
    "SE2_IVQR4 = IVQR2_4[1]"
   ]
  },
  {
   "cell_type": "code",
   "execution_count": 32,
   "id": "e71cf841",
   "metadata": {},
   "outputs": [],
   "source": [
    "def IVQR(Y, X, Z, tau):\n",
    "    Y = np.array(Y).flatten()  # Ensure Y is 1D\n",
    "    X = np.array(X)\n",
    "    Z = np.array(Z)\n",
    "\n",
    "    # Ensure X and Z are 2D; adjust if necessary\n",
    "    if X.ndim == 1:\n",
    "        X = X[:, np.newaxis]\n",
    "    if Z.ndim == 1:\n",
    "        Z = Z[:, np.newaxis]\n",
    "\n",
    "    print(\"Shape of X:\", X.shape)\n",
    "    print(\"Shape of Z:\", Z.shape)\n",
    "\n",
    "    ZX = Z.T @ X\n",
    "    ZY = Z.T @ Y\n",
    "    ZZ = Z.T @ Z\n",
    "    ZZ_inv = np.linalg.pinv(ZZ)\n",
    "    Pi_hat = ZZ_inv @ ZX\n",
    "    X_hat = Z @ Pi_hat\n",
    "\n",
    "    # Ensure dimensions match expected sizes for matrix operations\n",
    "    if X_hat.shape[1] != Y.shape[0]:\n",
    "        print(\"Dimension mismatch detected!\")\n",
    "        # Adjust dimensions or raise an error"
   ]
  }
 ],
 "metadata": {
  "kernelspec": {
   "display_name": "Python 3 (ipykernel)",
   "language": "python",
   "name": "python3"
  },
  "language_info": {
   "codemirror_mode": {
    "name": "ipython",
    "version": 3
   },
   "file_extension": ".py",
   "mimetype": "text/x-python",
   "name": "python",
   "nbconvert_exporter": "python",
   "pygments_lexer": "ipython3",
   "version": "3.11.5"
  }
 },
 "nbformat": 4,
 "nbformat_minor": 5
}
