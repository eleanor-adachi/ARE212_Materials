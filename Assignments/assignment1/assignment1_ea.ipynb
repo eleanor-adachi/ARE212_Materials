{
 "cells": [
  {
   "cell_type": "markdown",
   "metadata": {},
   "source": [
    "# Assignment 1 - Eleanor Adachi"
   ]
  },
  {
   "cell_type": "markdown",
   "metadata": {},
   "source": [
    "## 1. Admin\n",
    "\n",
    "We created a fork of the main GitHub repository. Our code can be found here: https://github.com/eleanor-adachi/ARE212_Materials"
   ]
  },
  {
   "cell_type": "markdown",
   "metadata": {},
   "source": [
    "## 2. Exercises\n",
    "\n",
    "### (1)\n",
    "\n",
    "**From ARE210, recall (Section 9 in Mahajan’s “Handout 1”) the rule for computing the distribution of certain transformations\n",
    "of random variables (the “inverse Jacobian rule”). Let** $(x, y)$ **be independently distributed continuous random variables possessing densities** $f_x$ **and** $f_y$. **Let** $z = x+y$. **Use the rule to obtain an expression for the distribution of** $z$.\n",
    "\n",
    "Helpful: https://andymiller.github.io/2015/08/09/integral-jacobian.html\n",
    "\n",
    "Helpful: https://stats.libretexts.org/Bookshelves/Probability_Theory/Probability_Mathematical_Statistics_and_Stochastic_Processes_(Siegrist)/03%3A_Distributions/3.07%3A_Transformations_of_Random_Variables\n",
    "\n",
    "Given two random variables $x$ and $y$ where $y=f(x)$ and $x$ has probability density function $p_x(x)$\n",
    "\n",
    "Then $p_y(y) = p_x(x)|\\frac{dx}{dy}| = p_x(x)|\\frac{df^{-1}(y)}{dy}|$\n",
    "\n",
    "For $z = x + y$ where $x$ has probability density function $f_x(x)$ and $y$ has probability density function $f_y(y)$,\n",
    "\n",
    "$f_z(z) = f_x(x)|\\frac{\\partial x}{\\partial z}| \\cdot f_y(y)|\\frac{\\partial y}{\\partial z}|$\n",
    "\n",
    "$x = z - y$ and $y = z - x$, so $\\frac{\\partial x}{\\partial z} = 1$ and $\\frac{\\partial y}{\\partial z} = 1$\n",
    "\n",
    "Therefore, $z$ has a continuous distribution with probability density $f_z$ given by\n",
    "\n",
    "$f_z(z) = \\int_{-\\infty}^{\\infty} f_x(x) f_y(z-x) \\,dx$"
   ]
  },
  {
   "cell_type": "markdown",
   "metadata": {},
   "source": [
    "## 3. Convolutions\n",
    "\n",
    "**We’ve discussed ways to program a convolution of random variables in a Jupyter notebook** [ipynb](https://github.com/ligonteaching/ARE212_Materials/blob/master/random_variables0.ipynb).\n",
    "\n",
    "### (1)\n",
    "\n",
    "**As in the notebook, consider a discrete random variable** $s$ **and a continuous random variable** $x$. **Prove that the convolution of** $s$ **and** $x$ **(or, informally,** $x+s$**) has a continuous distribution, as suggested by the figure at the end of the notebook, or establish that the figure is wrong or misleading.**\n",
    "\n",
    "Let $z = x + s$, $f_x(x)$ be the probability distribution function of $x$ and $f_s(s)$ be the probability distribution function of $s$\n",
    "\n",
    "$f_z(z) = \\int_{-\\infty}^{\\infty} f_x(z-s) f_s(s) \\,ds$\n",
    "\n",
    "If $f_s(s)$ is discrete, then $f_s(s) = \\sum_{n}^{} f_{s,n} \\delta(s - s_n)$ where $f_{s,n}$ is the probability of $s_n$\n",
    "\n",
    "Therefore $f_z(z) = \\sum_{n}^{} f_x(z - s_n) f_{s,n}$\n",
    "\n",
    "Since this is a sum of continuous functions, $f_z(z)$ is also a continuous function\n",
    "\n",
    "### (2)\n",
    "\n",
    "**The notebook develops a simple class** `ConvolvedContinuousAndDiscrete` **to allow for the creation and manipulations of (you guessed it) convolutions of a continuous rv with a discrete rv. Can you develop a similar class for convolutions of independent discrete random variables?**"
   ]
  },
  {
   "cell_type": "code",
   "execution_count": 1,
   "metadata": {},
   "outputs": [],
   "source": [
    "from scipy.stats import distributions as iid\n",
    "\n",
    "class ConvolvedTwoDiscrete(iid.rv_discrete):\n",
    "\n",
    "    \"\"\"Convolve (add) a discrete rv s1 and another discrete rv s2,\n",
    "       returning the resulting cdf.\"\"\"\n",
    "\n",
    "    def __init__(self,s1,s2):\n",
    "        self.discrete_rv1 = s1\n",
    "        self.discrete_rv2 = s2\n",
    "        super(ConvolvedTwoDiscrete, self).__init__(name=\"ConvolvedTwoDiscrete\")\n",
    "        \n",
    "    def _cdf(self,z):\n",
    "        F=0\n",
    "        s1 = self.discrete_rv1\n",
    "        s2 = self.discrete_rv2\n",
    "        \n",
    "        for k in range(len(s2.xk)):\n",
    "            F = F + s1.cdf(z-s2.xk[k])*s2.pk[k] # convolution\n",
    "        return F\n",
    "\n",
    "    def _pmf(self,z):\n",
    "        f=0\n",
    "        s1 = self.discrete_rv1\n",
    "        s2 = self.discrete_rv2\n",
    "        \n",
    "        for k in range(len(s2.xk)):\n",
    "            f = f + s1.pmf(z-s2.xk[k])*s2.pk[k]\n",
    "        return f"
   ]
  },
  {
   "cell_type": "code",
<<<<<<< HEAD
   "execution_count": 2,
=======
   "execution_count": 13,
>>>>>>> b907969426b4bd0714bc9c2551371e0e378c5685
   "metadata": {},
   "outputs": [],
   "source": [
    "Omega1 = (-1,0,1)\n",
    "Pr1 = (1/3.,1/2.,1/6.) # add up to 1\n",
    "\n",
    "s1 = iid.rv_discrete(values=(Omega1,Pr1))\n",
    "\n",
    "Omega2 = (-1,1)\n",
    "Pr2 = (1/2.,1/2) # add up to 1\n",
    "\n",
    "s2 = iid.rv_discrete(values=(Omega2,Pr2))\n",
    "\n",
    "# match Neri\n",
    "s1 = iid.rv_discrete(values=([-4, 0, 4], [0.1, 0.2, 0.7]))\n",
    "s2 = iid.rv_discrete(values=([1, 2, 3], [0.4, 0.3, 0.3]))"
   ]
  },
  {
   "cell_type": "code",
<<<<<<< HEAD
   "execution_count": 3,
=======
   "execution_count": 14,
>>>>>>> b907969426b4bd0714bc9c2551371e0e378c5685
   "metadata": {},
   "outputs": [],
   "source": [
    "y = ConvolvedTwoDiscrete(s1,s2)"
   ]
  },
  {
   "cell_type": "code",
<<<<<<< HEAD
   "execution_count": 4,
=======
   "execution_count": 16,
>>>>>>> b907969426b4bd0714bc9c2551371e0e378c5685
   "metadata": {},
   "outputs": [
    {
     "data": {
      "application/vnd.plotly.v1+json": {
       "config": {
        "plotlyServerURL": "https://plot.ly"
       },
       "data": [
        {
         "type": "scatter",
         "x": [
          -7,
          -6.818181818181818,
          -6.636363636363637,
          -6.454545454545455,
          -6.2727272727272725,
          -6.090909090909091,
          -5.909090909090909,
          -5.7272727272727275,
          -5.545454545454545,
          -5.363636363636363,
          -5.181818181818182,
          -5,
          -4.818181818181818,
          -4.636363636363637,
          -4.454545454545455,
          -4.2727272727272725,
          -4.090909090909091,
          -3.909090909090909,
          -3.727272727272727,
          -3.5454545454545454,
          -3.3636363636363633,
          -3.1818181818181817,
          -3,
          -2.8181818181818183,
          -2.6363636363636367,
          -2.454545454545454,
          -2.2727272727272725,
          -2.090909090909091,
          -1.9090909090909092,
          -1.7272727272727275,
          -1.545454545454545,
          -1.3636363636363633,
          -1.1818181818181817,
          -1,
          -0.8181818181818183,
          -0.6363636363636358,
          -0.45454545454545414,
          -0.2727272727272725,
          -0.09090909090909083,
          0.09090909090909083,
          0.2727272727272734,
          0.45454545454545503,
          0.6363636363636367,
          0.8181818181818183,
          1,
          1.1818181818181817,
          1.3636363636363633,
          1.545454545454545,
          1.7272727272727266,
          1.90909090909091,
          2.0909090909090917,
          2.2727272727272734,
          2.454545454545455,
          2.6363636363636367,
          2.8181818181818183,
          3,
          3.1818181818181817,
          3.3636363636363633,
          3.545454545454545,
          3.7272727272727284,
          3.90909090909091,
          4.090909090909092,
          4.272727272727273,
          4.454545454545455,
          4.636363636363637,
          4.818181818181818,
          5,
          5.181818181818182,
          5.363636363636363,
          5.545454545454545,
          5.727272727272728,
          5.90909090909091,
          6.090909090909092,
          6.272727272727273,
          6.454545454545455,
          6.636363636363637,
          6.818181818181818,
          7,
          7.181818181818182,
          7.363636363636363,
          7.545454545454547,
          7.727272727272728,
          7.90909090909091,
          8.090909090909092,
          8.272727272727273,
          8.454545454545455,
          8.636363636363637,
          8.818181818181818,
          9,
          9.181818181818183,
          9.363636363636363,
          9.545454545454547,
          9.727272727272727,
          9.90909090909091,
          10.09090909090909,
          10.272727272727273,
          10.454545454545453,
          10.636363636363637,
          10.81818181818182,
          11
         ],
         "y": [
          0,
          0,
          0,
          0,
          0,
          0,
          0,
          0,
          0,
          0,
          0,
          0,
          0,
          0,
          0,
          0,
          0,
          0,
          0,
          0,
          0,
          0,
          0,
          0,
          0,
          0,
          0,
          0,
          0,
          0,
          0,
          0,
          0,
          0,
          0,
          0,
          0,
          0,
          0,
          0,
          0,
          0,
          0,
          0,
          0.08000000000000002,
          0,
          0,
          0,
          0,
          0,
          0,
          0,
          0,
          0,
          0,
          0.06,
          0,
          0,
          0,
          0,
          0,
          0,
          0,
          0,
          0,
          0,
          0.27999999999999997,
          0,
          0,
          0,
          0,
          0,
          0,
          0,
          0,
          0,
          0,
          0.21,
          0,
          0,
          0,
          0,
          0,
          0,
          0,
          0,
          0,
          0,
          0,
          0,
          0,
          0,
          0,
          0,
          0,
          0,
          0,
          0,
          0,
          0
         ]
        }
       ],
       "layout": {
        "template": {
         "data": {
          "bar": [
           {
            "error_x": {
             "color": "#2a3f5f"
            },
            "error_y": {
             "color": "#2a3f5f"
            },
            "marker": {
             "line": {
              "color": "#E5ECF6",
              "width": 0.5
             },
             "pattern": {
              "fillmode": "overlay",
              "size": 10,
              "solidity": 0.2
             }
            },
            "type": "bar"
           }
          ],
          "barpolar": [
           {
            "marker": {
             "line": {
              "color": "#E5ECF6",
              "width": 0.5
             },
             "pattern": {
              "fillmode": "overlay",
              "size": 10,
              "solidity": 0.2
             }
            },
            "type": "barpolar"
           }
          ],
          "carpet": [
           {
            "aaxis": {
             "endlinecolor": "#2a3f5f",
             "gridcolor": "white",
             "linecolor": "white",
             "minorgridcolor": "white",
             "startlinecolor": "#2a3f5f"
            },
            "baxis": {
             "endlinecolor": "#2a3f5f",
             "gridcolor": "white",
             "linecolor": "white",
             "minorgridcolor": "white",
             "startlinecolor": "#2a3f5f"
            },
            "type": "carpet"
           }
          ],
          "choropleth": [
           {
            "colorbar": {
             "outlinewidth": 0,
             "ticks": ""
            },
            "type": "choropleth"
           }
          ],
          "contour": [
           {
            "colorbar": {
             "outlinewidth": 0,
             "ticks": ""
            },
            "colorscale": [
             [
              0,
              "#0d0887"
             ],
             [
              0.1111111111111111,
              "#46039f"
             ],
             [
              0.2222222222222222,
              "#7201a8"
             ],
             [
              0.3333333333333333,
              "#9c179e"
             ],
             [
              0.4444444444444444,
              "#bd3786"
             ],
             [
              0.5555555555555556,
              "#d8576b"
             ],
             [
              0.6666666666666666,
              "#ed7953"
             ],
             [
              0.7777777777777778,
              "#fb9f3a"
             ],
             [
              0.8888888888888888,
              "#fdca26"
             ],
             [
              1,
              "#f0f921"
             ]
            ],
            "type": "contour"
           }
          ],
          "contourcarpet": [
           {
            "colorbar": {
             "outlinewidth": 0,
             "ticks": ""
            },
            "type": "contourcarpet"
           }
          ],
          "heatmap": [
           {
            "colorbar": {
             "outlinewidth": 0,
             "ticks": ""
            },
            "colorscale": [
             [
              0,
              "#0d0887"
             ],
             [
              0.1111111111111111,
              "#46039f"
             ],
             [
              0.2222222222222222,
              "#7201a8"
             ],
             [
              0.3333333333333333,
              "#9c179e"
             ],
             [
              0.4444444444444444,
              "#bd3786"
             ],
             [
              0.5555555555555556,
              "#d8576b"
             ],
             [
              0.6666666666666666,
              "#ed7953"
             ],
             [
              0.7777777777777778,
              "#fb9f3a"
             ],
             [
              0.8888888888888888,
              "#fdca26"
             ],
             [
              1,
              "#f0f921"
             ]
            ],
            "type": "heatmap"
           }
          ],
          "heatmapgl": [
           {
            "colorbar": {
             "outlinewidth": 0,
             "ticks": ""
            },
            "colorscale": [
             [
              0,
              "#0d0887"
             ],
             [
              0.1111111111111111,
              "#46039f"
             ],
             [
              0.2222222222222222,
              "#7201a8"
             ],
             [
              0.3333333333333333,
              "#9c179e"
             ],
             [
              0.4444444444444444,
              "#bd3786"
             ],
             [
              0.5555555555555556,
              "#d8576b"
             ],
             [
              0.6666666666666666,
              "#ed7953"
             ],
             [
              0.7777777777777778,
              "#fb9f3a"
             ],
             [
              0.8888888888888888,
              "#fdca26"
             ],
             [
              1,
              "#f0f921"
             ]
            ],
            "type": "heatmapgl"
           }
          ],
          "histogram": [
           {
            "marker": {
             "pattern": {
              "fillmode": "overlay",
              "size": 10,
              "solidity": 0.2
             }
            },
            "type": "histogram"
           }
          ],
          "histogram2d": [
           {
            "colorbar": {
             "outlinewidth": 0,
             "ticks": ""
            },
            "colorscale": [
             [
              0,
              "#0d0887"
             ],
             [
              0.1111111111111111,
              "#46039f"
             ],
             [
              0.2222222222222222,
              "#7201a8"
             ],
             [
              0.3333333333333333,
              "#9c179e"
             ],
             [
              0.4444444444444444,
              "#bd3786"
             ],
             [
              0.5555555555555556,
              "#d8576b"
             ],
             [
              0.6666666666666666,
              "#ed7953"
             ],
             [
              0.7777777777777778,
              "#fb9f3a"
             ],
             [
              0.8888888888888888,
              "#fdca26"
             ],
             [
              1,
              "#f0f921"
             ]
            ],
            "type": "histogram2d"
           }
          ],
          "histogram2dcontour": [
           {
            "colorbar": {
             "outlinewidth": 0,
             "ticks": ""
            },
            "colorscale": [
             [
              0,
              "#0d0887"
             ],
             [
              0.1111111111111111,
              "#46039f"
             ],
             [
              0.2222222222222222,
              "#7201a8"
             ],
             [
              0.3333333333333333,
              "#9c179e"
             ],
             [
              0.4444444444444444,
              "#bd3786"
             ],
             [
              0.5555555555555556,
              "#d8576b"
             ],
             [
              0.6666666666666666,
              "#ed7953"
             ],
             [
              0.7777777777777778,
              "#fb9f3a"
             ],
             [
              0.8888888888888888,
              "#fdca26"
             ],
             [
              1,
              "#f0f921"
             ]
            ],
            "type": "histogram2dcontour"
           }
          ],
          "mesh3d": [
           {
            "colorbar": {
             "outlinewidth": 0,
             "ticks": ""
            },
            "type": "mesh3d"
           }
          ],
          "parcoords": [
           {
            "line": {
             "colorbar": {
              "outlinewidth": 0,
              "ticks": ""
             }
            },
            "type": "parcoords"
           }
          ],
          "pie": [
           {
            "automargin": true,
            "type": "pie"
           }
          ],
          "scatter": [
           {
            "fillpattern": {
             "fillmode": "overlay",
             "size": 10,
             "solidity": 0.2
            },
            "type": "scatter"
           }
          ],
          "scatter3d": [
           {
            "line": {
             "colorbar": {
              "outlinewidth": 0,
              "ticks": ""
             }
            },
            "marker": {
             "colorbar": {
              "outlinewidth": 0,
              "ticks": ""
             }
            },
            "type": "scatter3d"
           }
          ],
          "scattercarpet": [
           {
            "marker": {
             "colorbar": {
              "outlinewidth": 0,
              "ticks": ""
             }
            },
            "type": "scattercarpet"
           }
          ],
          "scattergeo": [
           {
            "marker": {
             "colorbar": {
              "outlinewidth": 0,
              "ticks": ""
             }
            },
            "type": "scattergeo"
           }
          ],
          "scattergl": [
           {
            "marker": {
             "colorbar": {
              "outlinewidth": 0,
              "ticks": ""
             }
            },
            "type": "scattergl"
           }
          ],
          "scattermapbox": [
           {
            "marker": {
             "colorbar": {
              "outlinewidth": 0,
              "ticks": ""
             }
            },
            "type": "scattermapbox"
           }
          ],
          "scatterpolar": [
           {
            "marker": {
             "colorbar": {
              "outlinewidth": 0,
              "ticks": ""
             }
            },
            "type": "scatterpolar"
           }
          ],
          "scatterpolargl": [
           {
            "marker": {
             "colorbar": {
              "outlinewidth": 0,
              "ticks": ""
             }
            },
            "type": "scatterpolargl"
           }
          ],
          "scatterternary": [
           {
            "marker": {
             "colorbar": {
              "outlinewidth": 0,
              "ticks": ""
             }
            },
            "type": "scatterternary"
           }
          ],
          "surface": [
           {
            "colorbar": {
             "outlinewidth": 0,
             "ticks": ""
            },
            "colorscale": [
             [
              0,
              "#0d0887"
             ],
             [
              0.1111111111111111,
              "#46039f"
             ],
             [
              0.2222222222222222,
              "#7201a8"
             ],
             [
              0.3333333333333333,
              "#9c179e"
             ],
             [
              0.4444444444444444,
              "#bd3786"
             ],
             [
              0.5555555555555556,
              "#d8576b"
             ],
             [
              0.6666666666666666,
              "#ed7953"
             ],
             [
              0.7777777777777778,
              "#fb9f3a"
             ],
             [
              0.8888888888888888,
              "#fdca26"
             ],
             [
              1,
              "#f0f921"
             ]
            ],
            "type": "surface"
           }
          ],
          "table": [
           {
            "cells": {
             "fill": {
              "color": "#EBF0F8"
             },
             "line": {
              "color": "white"
             }
            },
            "header": {
             "fill": {
              "color": "#C8D4E3"
             },
             "line": {
              "color": "white"
             }
            },
            "type": "table"
           }
          ]
         },
         "layout": {
          "annotationdefaults": {
           "arrowcolor": "#2a3f5f",
           "arrowhead": 0,
           "arrowwidth": 1
          },
          "autotypenumbers": "strict",
          "coloraxis": {
           "colorbar": {
            "outlinewidth": 0,
            "ticks": ""
           }
          },
          "colorscale": {
           "diverging": [
            [
             0,
             "#8e0152"
            ],
            [
             0.1,
             "#c51b7d"
            ],
            [
             0.2,
             "#de77ae"
            ],
            [
             0.3,
             "#f1b6da"
            ],
            [
             0.4,
             "#fde0ef"
            ],
            [
             0.5,
             "#f7f7f7"
            ],
            [
             0.6,
             "#e6f5d0"
            ],
            [
             0.7,
             "#b8e186"
            ],
            [
             0.8,
             "#7fbc41"
            ],
            [
             0.9,
             "#4d9221"
            ],
            [
             1,
             "#276419"
            ]
           ],
           "sequential": [
            [
             0,
             "#0d0887"
            ],
            [
             0.1111111111111111,
             "#46039f"
            ],
            [
             0.2222222222222222,
             "#7201a8"
            ],
            [
             0.3333333333333333,
             "#9c179e"
            ],
            [
             0.4444444444444444,
             "#bd3786"
            ],
            [
             0.5555555555555556,
             "#d8576b"
            ],
            [
             0.6666666666666666,
             "#ed7953"
            ],
            [
             0.7777777777777778,
             "#fb9f3a"
            ],
            [
             0.8888888888888888,
             "#fdca26"
            ],
            [
             1,
             "#f0f921"
            ]
           ],
           "sequentialminus": [
            [
             0,
             "#0d0887"
            ],
            [
             0.1111111111111111,
             "#46039f"
            ],
            [
             0.2222222222222222,
             "#7201a8"
            ],
            [
             0.3333333333333333,
             "#9c179e"
            ],
            [
             0.4444444444444444,
             "#bd3786"
            ],
            [
             0.5555555555555556,
             "#d8576b"
            ],
            [
             0.6666666666666666,
             "#ed7953"
            ],
            [
             0.7777777777777778,
             "#fb9f3a"
            ],
            [
             0.8888888888888888,
             "#fdca26"
            ],
            [
             1,
             "#f0f921"
            ]
           ]
          },
          "colorway": [
           "#636efa",
           "#EF553B",
           "#00cc96",
           "#ab63fa",
           "#FFA15A",
           "#19d3f3",
           "#FF6692",
           "#B6E880",
           "#FF97FF",
           "#FECB52"
          ],
          "font": {
           "color": "#2a3f5f"
          },
          "geo": {
           "bgcolor": "white",
           "lakecolor": "white",
           "landcolor": "#E5ECF6",
           "showlakes": true,
           "showland": true,
           "subunitcolor": "white"
          },
          "hoverlabel": {
           "align": "left"
          },
          "hovermode": "closest",
          "mapbox": {
           "style": "light"
          },
          "paper_bgcolor": "white",
          "plot_bgcolor": "#E5ECF6",
          "polar": {
           "angularaxis": {
            "gridcolor": "white",
            "linecolor": "white",
            "ticks": ""
           },
           "bgcolor": "#E5ECF6",
           "radialaxis": {
            "gridcolor": "white",
            "linecolor": "white",
            "ticks": ""
           }
          },
          "scene": {
           "xaxis": {
            "backgroundcolor": "#E5ECF6",
            "gridcolor": "white",
            "gridwidth": 2,
            "linecolor": "white",
            "showbackground": true,
            "ticks": "",
            "zerolinecolor": "white"
           },
           "yaxis": {
            "backgroundcolor": "#E5ECF6",
            "gridcolor": "white",
            "gridwidth": 2,
            "linecolor": "white",
            "showbackground": true,
            "ticks": "",
            "zerolinecolor": "white"
           },
           "zaxis": {
            "backgroundcolor": "#E5ECF6",
            "gridcolor": "white",
            "gridwidth": 2,
            "linecolor": "white",
            "showbackground": true,
            "ticks": "",
            "zerolinecolor": "white"
           }
          },
          "shapedefaults": {
           "line": {
            "color": "#2a3f5f"
           }
          },
          "ternary": {
           "aaxis": {
            "gridcolor": "white",
            "linecolor": "white",
            "ticks": ""
           },
           "baxis": {
            "gridcolor": "white",
            "linecolor": "white",
            "ticks": ""
           },
           "bgcolor": "#E5ECF6",
           "caxis": {
            "gridcolor": "white",
            "linecolor": "white",
            "ticks": ""
           }
          },
          "title": {
           "x": 0.05
          },
          "xaxis": {
           "automargin": true,
           "gridcolor": "white",
           "linecolor": "white",
           "ticks": "",
           "title": {
            "standoff": 15
           },
           "zerolinecolor": "white",
           "zerolinewidth": 2
          },
          "yaxis": {
           "automargin": true,
           "gridcolor": "white",
           "linecolor": "white",
           "ticks": "",
           "title": {
            "standoff": 15
           },
           "zerolinecolor": "white",
           "zerolinewidth": 2
          }
         }
        }
       }
      },
      "text/html": [
<<<<<<< HEAD
       "<div>                            <div id=\"72c4d305-08c6-4dd1-a6d2-001a83a14d73\" class=\"plotly-graph-div\" style=\"height:525px; width:100%;\"></div>            <script type=\"text/javascript\">                require([\"plotly\"], function(Plotly) {                    window.PLOTLYENV=window.PLOTLYENV || {};                                    if (document.getElementById(\"72c4d305-08c6-4dd1-a6d2-001a83a14d73\")) {                    Plotly.newPlot(                        \"72c4d305-08c6-4dd1-a6d2-001a83a14d73\",                        [{\"x\":[-1.1,-1.0,-0.9000000000000001,-0.8,-0.7000000000000001,-0.6000000000000001,-0.5,-0.4,-0.30000000000000004,-0.20000000000000007,-0.10000000000000009,0.0,0.10000000000000009,0.19999999999999996,0.30000000000000004,0.3999999999999999,0.5,0.6000000000000001,0.7,0.8,0.8999999999999999,1.0,1.1,1.2000000000000002,1.3000000000000003,1.4,1.5,1.6,1.7000000000000002,1.8000000000000003,1.9,2.0,2.1],\"y\":[0.0,0.0,0.0,0.0,0.0,0.0,0.0,0.0,0.0,0.0,0.0,0.25,0.0,0.0,0.0,0.0,0.0,0.0,0.0,0.0,0.0,0.25,0.0,0.0,0.0,0.0,0.0,0.0,0.0,0.0,0.0,0.08333333333333333,0.0],\"type\":\"scatter\"}],                        {\"template\":{\"data\":{\"histogram2dcontour\":[{\"type\":\"histogram2dcontour\",\"colorbar\":{\"outlinewidth\":0,\"ticks\":\"\"},\"colorscale\":[[0.0,\"#0d0887\"],[0.1111111111111111,\"#46039f\"],[0.2222222222222222,\"#7201a8\"],[0.3333333333333333,\"#9c179e\"],[0.4444444444444444,\"#bd3786\"],[0.5555555555555556,\"#d8576b\"],[0.6666666666666666,\"#ed7953\"],[0.7777777777777778,\"#fb9f3a\"],[0.8888888888888888,\"#fdca26\"],[1.0,\"#f0f921\"]]}],\"choropleth\":[{\"type\":\"choropleth\",\"colorbar\":{\"outlinewidth\":0,\"ticks\":\"\"}}],\"histogram2d\":[{\"type\":\"histogram2d\",\"colorbar\":{\"outlinewidth\":0,\"ticks\":\"\"},\"colorscale\":[[0.0,\"#0d0887\"],[0.1111111111111111,\"#46039f\"],[0.2222222222222222,\"#7201a8\"],[0.3333333333333333,\"#9c179e\"],[0.4444444444444444,\"#bd3786\"],[0.5555555555555556,\"#d8576b\"],[0.6666666666666666,\"#ed7953\"],[0.7777777777777778,\"#fb9f3a\"],[0.8888888888888888,\"#fdca26\"],[1.0,\"#f0f921\"]]}],\"heatmap\":[{\"type\":\"heatmap\",\"colorbar\":{\"outlinewidth\":0,\"ticks\":\"\"},\"colorscale\":[[0.0,\"#0d0887\"],[0.1111111111111111,\"#46039f\"],[0.2222222222222222,\"#7201a8\"],[0.3333333333333333,\"#9c179e\"],[0.4444444444444444,\"#bd3786\"],[0.5555555555555556,\"#d8576b\"],[0.6666666666666666,\"#ed7953\"],[0.7777777777777778,\"#fb9f3a\"],[0.8888888888888888,\"#fdca26\"],[1.0,\"#f0f921\"]]}],\"heatmapgl\":[{\"type\":\"heatmapgl\",\"colorbar\":{\"outlinewidth\":0,\"ticks\":\"\"},\"colorscale\":[[0.0,\"#0d0887\"],[0.1111111111111111,\"#46039f\"],[0.2222222222222222,\"#7201a8\"],[0.3333333333333333,\"#9c179e\"],[0.4444444444444444,\"#bd3786\"],[0.5555555555555556,\"#d8576b\"],[0.6666666666666666,\"#ed7953\"],[0.7777777777777778,\"#fb9f3a\"],[0.8888888888888888,\"#fdca26\"],[1.0,\"#f0f921\"]]}],\"contourcarpet\":[{\"type\":\"contourcarpet\",\"colorbar\":{\"outlinewidth\":0,\"ticks\":\"\"}}],\"contour\":[{\"type\":\"contour\",\"colorbar\":{\"outlinewidth\":0,\"ticks\":\"\"},\"colorscale\":[[0.0,\"#0d0887\"],[0.1111111111111111,\"#46039f\"],[0.2222222222222222,\"#7201a8\"],[0.3333333333333333,\"#9c179e\"],[0.4444444444444444,\"#bd3786\"],[0.5555555555555556,\"#d8576b\"],[0.6666666666666666,\"#ed7953\"],[0.7777777777777778,\"#fb9f3a\"],[0.8888888888888888,\"#fdca26\"],[1.0,\"#f0f921\"]]}],\"surface\":[{\"type\":\"surface\",\"colorbar\":{\"outlinewidth\":0,\"ticks\":\"\"},\"colorscale\":[[0.0,\"#0d0887\"],[0.1111111111111111,\"#46039f\"],[0.2222222222222222,\"#7201a8\"],[0.3333333333333333,\"#9c179e\"],[0.4444444444444444,\"#bd3786\"],[0.5555555555555556,\"#d8576b\"],[0.6666666666666666,\"#ed7953\"],[0.7777777777777778,\"#fb9f3a\"],[0.8888888888888888,\"#fdca26\"],[1.0,\"#f0f921\"]]}],\"mesh3d\":[{\"type\":\"mesh3d\",\"colorbar\":{\"outlinewidth\":0,\"ticks\":\"\"}}],\"scatter\":[{\"fillpattern\":{\"fillmode\":\"overlay\",\"size\":10,\"solidity\":0.2},\"type\":\"scatter\"}],\"parcoords\":[{\"type\":\"parcoords\",\"line\":{\"colorbar\":{\"outlinewidth\":0,\"ticks\":\"\"}}}],\"scatterpolargl\":[{\"type\":\"scatterpolargl\",\"marker\":{\"colorbar\":{\"outlinewidth\":0,\"ticks\":\"\"}}}],\"bar\":[{\"error_x\":{\"color\":\"#2a3f5f\"},\"error_y\":{\"color\":\"#2a3f5f\"},\"marker\":{\"line\":{\"color\":\"#E5ECF6\",\"width\":0.5},\"pattern\":{\"fillmode\":\"overlay\",\"size\":10,\"solidity\":0.2}},\"type\":\"bar\"}],\"scattergeo\":[{\"type\":\"scattergeo\",\"marker\":{\"colorbar\":{\"outlinewidth\":0,\"ticks\":\"\"}}}],\"scatterpolar\":[{\"type\":\"scatterpolar\",\"marker\":{\"colorbar\":{\"outlinewidth\":0,\"ticks\":\"\"}}}],\"histogram\":[{\"marker\":{\"pattern\":{\"fillmode\":\"overlay\",\"size\":10,\"solidity\":0.2}},\"type\":\"histogram\"}],\"scattergl\":[{\"type\":\"scattergl\",\"marker\":{\"colorbar\":{\"outlinewidth\":0,\"ticks\":\"\"}}}],\"scatter3d\":[{\"type\":\"scatter3d\",\"line\":{\"colorbar\":{\"outlinewidth\":0,\"ticks\":\"\"}},\"marker\":{\"colorbar\":{\"outlinewidth\":0,\"ticks\":\"\"}}}],\"scattermapbox\":[{\"type\":\"scattermapbox\",\"marker\":{\"colorbar\":{\"outlinewidth\":0,\"ticks\":\"\"}}}],\"scatterternary\":[{\"type\":\"scatterternary\",\"marker\":{\"colorbar\":{\"outlinewidth\":0,\"ticks\":\"\"}}}],\"scattercarpet\":[{\"type\":\"scattercarpet\",\"marker\":{\"colorbar\":{\"outlinewidth\":0,\"ticks\":\"\"}}}],\"carpet\":[{\"aaxis\":{\"endlinecolor\":\"#2a3f5f\",\"gridcolor\":\"white\",\"linecolor\":\"white\",\"minorgridcolor\":\"white\",\"startlinecolor\":\"#2a3f5f\"},\"baxis\":{\"endlinecolor\":\"#2a3f5f\",\"gridcolor\":\"white\",\"linecolor\":\"white\",\"minorgridcolor\":\"white\",\"startlinecolor\":\"#2a3f5f\"},\"type\":\"carpet\"}],\"table\":[{\"cells\":{\"fill\":{\"color\":\"#EBF0F8\"},\"line\":{\"color\":\"white\"}},\"header\":{\"fill\":{\"color\":\"#C8D4E3\"},\"line\":{\"color\":\"white\"}},\"type\":\"table\"}],\"barpolar\":[{\"marker\":{\"line\":{\"color\":\"#E5ECF6\",\"width\":0.5},\"pattern\":{\"fillmode\":\"overlay\",\"size\":10,\"solidity\":0.2}},\"type\":\"barpolar\"}],\"pie\":[{\"automargin\":true,\"type\":\"pie\"}]},\"layout\":{\"autotypenumbers\":\"strict\",\"colorway\":[\"#636efa\",\"#EF553B\",\"#00cc96\",\"#ab63fa\",\"#FFA15A\",\"#19d3f3\",\"#FF6692\",\"#B6E880\",\"#FF97FF\",\"#FECB52\"],\"font\":{\"color\":\"#2a3f5f\"},\"hovermode\":\"closest\",\"hoverlabel\":{\"align\":\"left\"},\"paper_bgcolor\":\"white\",\"plot_bgcolor\":\"#E5ECF6\",\"polar\":{\"bgcolor\":\"#E5ECF6\",\"angularaxis\":{\"gridcolor\":\"white\",\"linecolor\":\"white\",\"ticks\":\"\"},\"radialaxis\":{\"gridcolor\":\"white\",\"linecolor\":\"white\",\"ticks\":\"\"}},\"ternary\":{\"bgcolor\":\"#E5ECF6\",\"aaxis\":{\"gridcolor\":\"white\",\"linecolor\":\"white\",\"ticks\":\"\"},\"baxis\":{\"gridcolor\":\"white\",\"linecolor\":\"white\",\"ticks\":\"\"},\"caxis\":{\"gridcolor\":\"white\",\"linecolor\":\"white\",\"ticks\":\"\"}},\"coloraxis\":{\"colorbar\":{\"outlinewidth\":0,\"ticks\":\"\"}},\"colorscale\":{\"sequential\":[[0.0,\"#0d0887\"],[0.1111111111111111,\"#46039f\"],[0.2222222222222222,\"#7201a8\"],[0.3333333333333333,\"#9c179e\"],[0.4444444444444444,\"#bd3786\"],[0.5555555555555556,\"#d8576b\"],[0.6666666666666666,\"#ed7953\"],[0.7777777777777778,\"#fb9f3a\"],[0.8888888888888888,\"#fdca26\"],[1.0,\"#f0f921\"]],\"sequentialminus\":[[0.0,\"#0d0887\"],[0.1111111111111111,\"#46039f\"],[0.2222222222222222,\"#7201a8\"],[0.3333333333333333,\"#9c179e\"],[0.4444444444444444,\"#bd3786\"],[0.5555555555555556,\"#d8576b\"],[0.6666666666666666,\"#ed7953\"],[0.7777777777777778,\"#fb9f3a\"],[0.8888888888888888,\"#fdca26\"],[1.0,\"#f0f921\"]],\"diverging\":[[0,\"#8e0152\"],[0.1,\"#c51b7d\"],[0.2,\"#de77ae\"],[0.3,\"#f1b6da\"],[0.4,\"#fde0ef\"],[0.5,\"#f7f7f7\"],[0.6,\"#e6f5d0\"],[0.7,\"#b8e186\"],[0.8,\"#7fbc41\"],[0.9,\"#4d9221\"],[1,\"#276419\"]]},\"xaxis\":{\"gridcolor\":\"white\",\"linecolor\":\"white\",\"ticks\":\"\",\"title\":{\"standoff\":15},\"zerolinecolor\":\"white\",\"automargin\":true,\"zerolinewidth\":2},\"yaxis\":{\"gridcolor\":\"white\",\"linecolor\":\"white\",\"ticks\":\"\",\"title\":{\"standoff\":15},\"zerolinecolor\":\"white\",\"automargin\":true,\"zerolinewidth\":2},\"scene\":{\"xaxis\":{\"backgroundcolor\":\"#E5ECF6\",\"gridcolor\":\"white\",\"linecolor\":\"white\",\"showbackground\":true,\"ticks\":\"\",\"zerolinecolor\":\"white\",\"gridwidth\":2},\"yaxis\":{\"backgroundcolor\":\"#E5ECF6\",\"gridcolor\":\"white\",\"linecolor\":\"white\",\"showbackground\":true,\"ticks\":\"\",\"zerolinecolor\":\"white\",\"gridwidth\":2},\"zaxis\":{\"backgroundcolor\":\"#E5ECF6\",\"gridcolor\":\"white\",\"linecolor\":\"white\",\"showbackground\":true,\"ticks\":\"\",\"zerolinecolor\":\"white\",\"gridwidth\":2}},\"shapedefaults\":{\"line\":{\"color\":\"#2a3f5f\"}},\"annotationdefaults\":{\"arrowcolor\":\"#2a3f5f\",\"arrowhead\":0,\"arrowwidth\":1},\"geo\":{\"bgcolor\":\"white\",\"landcolor\":\"#E5ECF6\",\"subunitcolor\":\"white\",\"showland\":true,\"showlakes\":true,\"lakecolor\":\"white\"},\"title\":{\"x\":0.05},\"mapbox\":{\"style\":\"light\"}}}},                        {\"responsive\": true}                    ).then(function(){\n",
       "                            \n",
       "var gd = document.getElementById('72c4d305-08c6-4dd1-a6d2-001a83a14d73');\n",
=======
       "<div>                            <div id=\"ef6cf550-11ce-4cd8-9e9d-2d5aa81326b9\" class=\"plotly-graph-div\" style=\"height:525px; width:100%;\"></div>            <script type=\"text/javascript\">                require([\"plotly\"], function(Plotly) {                    window.PLOTLYENV=window.PLOTLYENV || {};                                    if (document.getElementById(\"ef6cf550-11ce-4cd8-9e9d-2d5aa81326b9\")) {                    Plotly.newPlot(                        \"ef6cf550-11ce-4cd8-9e9d-2d5aa81326b9\",                        [{\"x\":[-7.0,-6.818181818181818,-6.636363636363637,-6.454545454545455,-6.2727272727272725,-6.090909090909091,-5.909090909090909,-5.7272727272727275,-5.545454545454545,-5.363636363636363,-5.181818181818182,-5.0,-4.818181818181818,-4.636363636363637,-4.454545454545455,-4.2727272727272725,-4.090909090909091,-3.909090909090909,-3.727272727272727,-3.5454545454545454,-3.3636363636363633,-3.1818181818181817,-3.0,-2.8181818181818183,-2.6363636363636367,-2.454545454545454,-2.2727272727272725,-2.090909090909091,-1.9090909090909092,-1.7272727272727275,-1.545454545454545,-1.3636363636363633,-1.1818181818181817,-1.0,-0.8181818181818183,-0.6363636363636358,-0.45454545454545414,-0.2727272727272725,-0.09090909090909083,0.09090909090909083,0.2727272727272734,0.45454545454545503,0.6363636363636367,0.8181818181818183,1.0,1.1818181818181817,1.3636363636363633,1.545454545454545,1.7272727272727266,1.90909090909091,2.0909090909090917,2.2727272727272734,2.454545454545455,2.6363636363636367,2.8181818181818183,3.0,3.1818181818181817,3.3636363636363633,3.545454545454545,3.7272727272727284,3.90909090909091,4.090909090909092,4.272727272727273,4.454545454545455,4.636363636363637,4.818181818181818,5.0,5.181818181818182,5.363636363636363,5.545454545454545,5.727272727272728,5.90909090909091,6.090909090909092,6.272727272727273,6.454545454545455,6.636363636363637,6.818181818181818,7.0,7.181818181818182,7.363636363636363,7.545454545454547,7.727272727272728,7.90909090909091,8.090909090909092,8.272727272727273,8.454545454545455,8.636363636363637,8.818181818181818,9.0,9.181818181818183,9.363636363636363,9.545454545454547,9.727272727272727,9.90909090909091,10.09090909090909,10.272727272727273,10.454545454545453,10.636363636363637,10.81818181818182,11.0],\"y\":[0.0,0.0,0.0,0.0,0.0,0.0,0.0,0.0,0.0,0.0,0.0,0.0,0.0,0.0,0.0,0.0,0.0,0.0,0.0,0.0,0.0,0.0,0.0,0.0,0.0,0.0,0.0,0.0,0.0,0.0,0.0,0.0,0.0,0.0,0.0,0.0,0.0,0.0,0.0,0.0,0.0,0.0,0.0,0.0,0.08000000000000002,0.0,0.0,0.0,0.0,0.0,0.0,0.0,0.0,0.0,0.0,0.06,0.0,0.0,0.0,0.0,0.0,0.0,0.0,0.0,0.0,0.0,0.27999999999999997,0.0,0.0,0.0,0.0,0.0,0.0,0.0,0.0,0.0,0.0,0.21,0.0,0.0,0.0,0.0,0.0,0.0,0.0,0.0,0.0,0.0,0.0,0.0,0.0,0.0,0.0,0.0,0.0,0.0,0.0,0.0,0.0,0.0],\"type\":\"scatter\"}],                        {\"template\":{\"data\":{\"histogram2dcontour\":[{\"type\":\"histogram2dcontour\",\"colorbar\":{\"outlinewidth\":0,\"ticks\":\"\"},\"colorscale\":[[0.0,\"#0d0887\"],[0.1111111111111111,\"#46039f\"],[0.2222222222222222,\"#7201a8\"],[0.3333333333333333,\"#9c179e\"],[0.4444444444444444,\"#bd3786\"],[0.5555555555555556,\"#d8576b\"],[0.6666666666666666,\"#ed7953\"],[0.7777777777777778,\"#fb9f3a\"],[0.8888888888888888,\"#fdca26\"],[1.0,\"#f0f921\"]]}],\"choropleth\":[{\"type\":\"choropleth\",\"colorbar\":{\"outlinewidth\":0,\"ticks\":\"\"}}],\"histogram2d\":[{\"type\":\"histogram2d\",\"colorbar\":{\"outlinewidth\":0,\"ticks\":\"\"},\"colorscale\":[[0.0,\"#0d0887\"],[0.1111111111111111,\"#46039f\"],[0.2222222222222222,\"#7201a8\"],[0.3333333333333333,\"#9c179e\"],[0.4444444444444444,\"#bd3786\"],[0.5555555555555556,\"#d8576b\"],[0.6666666666666666,\"#ed7953\"],[0.7777777777777778,\"#fb9f3a\"],[0.8888888888888888,\"#fdca26\"],[1.0,\"#f0f921\"]]}],\"heatmap\":[{\"type\":\"heatmap\",\"colorbar\":{\"outlinewidth\":0,\"ticks\":\"\"},\"colorscale\":[[0.0,\"#0d0887\"],[0.1111111111111111,\"#46039f\"],[0.2222222222222222,\"#7201a8\"],[0.3333333333333333,\"#9c179e\"],[0.4444444444444444,\"#bd3786\"],[0.5555555555555556,\"#d8576b\"],[0.6666666666666666,\"#ed7953\"],[0.7777777777777778,\"#fb9f3a\"],[0.8888888888888888,\"#fdca26\"],[1.0,\"#f0f921\"]]}],\"heatmapgl\":[{\"type\":\"heatmapgl\",\"colorbar\":{\"outlinewidth\":0,\"ticks\":\"\"},\"colorscale\":[[0.0,\"#0d0887\"],[0.1111111111111111,\"#46039f\"],[0.2222222222222222,\"#7201a8\"],[0.3333333333333333,\"#9c179e\"],[0.4444444444444444,\"#bd3786\"],[0.5555555555555556,\"#d8576b\"],[0.6666666666666666,\"#ed7953\"],[0.7777777777777778,\"#fb9f3a\"],[0.8888888888888888,\"#fdca26\"],[1.0,\"#f0f921\"]]}],\"contourcarpet\":[{\"type\":\"contourcarpet\",\"colorbar\":{\"outlinewidth\":0,\"ticks\":\"\"}}],\"contour\":[{\"type\":\"contour\",\"colorbar\":{\"outlinewidth\":0,\"ticks\":\"\"},\"colorscale\":[[0.0,\"#0d0887\"],[0.1111111111111111,\"#46039f\"],[0.2222222222222222,\"#7201a8\"],[0.3333333333333333,\"#9c179e\"],[0.4444444444444444,\"#bd3786\"],[0.5555555555555556,\"#d8576b\"],[0.6666666666666666,\"#ed7953\"],[0.7777777777777778,\"#fb9f3a\"],[0.8888888888888888,\"#fdca26\"],[1.0,\"#f0f921\"]]}],\"surface\":[{\"type\":\"surface\",\"colorbar\":{\"outlinewidth\":0,\"ticks\":\"\"},\"colorscale\":[[0.0,\"#0d0887\"],[0.1111111111111111,\"#46039f\"],[0.2222222222222222,\"#7201a8\"],[0.3333333333333333,\"#9c179e\"],[0.4444444444444444,\"#bd3786\"],[0.5555555555555556,\"#d8576b\"],[0.6666666666666666,\"#ed7953\"],[0.7777777777777778,\"#fb9f3a\"],[0.8888888888888888,\"#fdca26\"],[1.0,\"#f0f921\"]]}],\"mesh3d\":[{\"type\":\"mesh3d\",\"colorbar\":{\"outlinewidth\":0,\"ticks\":\"\"}}],\"scatter\":[{\"fillpattern\":{\"fillmode\":\"overlay\",\"size\":10,\"solidity\":0.2},\"type\":\"scatter\"}],\"parcoords\":[{\"type\":\"parcoords\",\"line\":{\"colorbar\":{\"outlinewidth\":0,\"ticks\":\"\"}}}],\"scatterpolargl\":[{\"type\":\"scatterpolargl\",\"marker\":{\"colorbar\":{\"outlinewidth\":0,\"ticks\":\"\"}}}],\"bar\":[{\"error_x\":{\"color\":\"#2a3f5f\"},\"error_y\":{\"color\":\"#2a3f5f\"},\"marker\":{\"line\":{\"color\":\"#E5ECF6\",\"width\":0.5},\"pattern\":{\"fillmode\":\"overlay\",\"size\":10,\"solidity\":0.2}},\"type\":\"bar\"}],\"scattergeo\":[{\"type\":\"scattergeo\",\"marker\":{\"colorbar\":{\"outlinewidth\":0,\"ticks\":\"\"}}}],\"scatterpolar\":[{\"type\":\"scatterpolar\",\"marker\":{\"colorbar\":{\"outlinewidth\":0,\"ticks\":\"\"}}}],\"histogram\":[{\"marker\":{\"pattern\":{\"fillmode\":\"overlay\",\"size\":10,\"solidity\":0.2}},\"type\":\"histogram\"}],\"scattergl\":[{\"type\":\"scattergl\",\"marker\":{\"colorbar\":{\"outlinewidth\":0,\"ticks\":\"\"}}}],\"scatter3d\":[{\"type\":\"scatter3d\",\"line\":{\"colorbar\":{\"outlinewidth\":0,\"ticks\":\"\"}},\"marker\":{\"colorbar\":{\"outlinewidth\":0,\"ticks\":\"\"}}}],\"scattermapbox\":[{\"type\":\"scattermapbox\",\"marker\":{\"colorbar\":{\"outlinewidth\":0,\"ticks\":\"\"}}}],\"scatterternary\":[{\"type\":\"scatterternary\",\"marker\":{\"colorbar\":{\"outlinewidth\":0,\"ticks\":\"\"}}}],\"scattercarpet\":[{\"type\":\"scattercarpet\",\"marker\":{\"colorbar\":{\"outlinewidth\":0,\"ticks\":\"\"}}}],\"carpet\":[{\"aaxis\":{\"endlinecolor\":\"#2a3f5f\",\"gridcolor\":\"white\",\"linecolor\":\"white\",\"minorgridcolor\":\"white\",\"startlinecolor\":\"#2a3f5f\"},\"baxis\":{\"endlinecolor\":\"#2a3f5f\",\"gridcolor\":\"white\",\"linecolor\":\"white\",\"minorgridcolor\":\"white\",\"startlinecolor\":\"#2a3f5f\"},\"type\":\"carpet\"}],\"table\":[{\"cells\":{\"fill\":{\"color\":\"#EBF0F8\"},\"line\":{\"color\":\"white\"}},\"header\":{\"fill\":{\"color\":\"#C8D4E3\"},\"line\":{\"color\":\"white\"}},\"type\":\"table\"}],\"barpolar\":[{\"marker\":{\"line\":{\"color\":\"#E5ECF6\",\"width\":0.5},\"pattern\":{\"fillmode\":\"overlay\",\"size\":10,\"solidity\":0.2}},\"type\":\"barpolar\"}],\"pie\":[{\"automargin\":true,\"type\":\"pie\"}]},\"layout\":{\"autotypenumbers\":\"strict\",\"colorway\":[\"#636efa\",\"#EF553B\",\"#00cc96\",\"#ab63fa\",\"#FFA15A\",\"#19d3f3\",\"#FF6692\",\"#B6E880\",\"#FF97FF\",\"#FECB52\"],\"font\":{\"color\":\"#2a3f5f\"},\"hovermode\":\"closest\",\"hoverlabel\":{\"align\":\"left\"},\"paper_bgcolor\":\"white\",\"plot_bgcolor\":\"#E5ECF6\",\"polar\":{\"bgcolor\":\"#E5ECF6\",\"angularaxis\":{\"gridcolor\":\"white\",\"linecolor\":\"white\",\"ticks\":\"\"},\"radialaxis\":{\"gridcolor\":\"white\",\"linecolor\":\"white\",\"ticks\":\"\"}},\"ternary\":{\"bgcolor\":\"#E5ECF6\",\"aaxis\":{\"gridcolor\":\"white\",\"linecolor\":\"white\",\"ticks\":\"\"},\"baxis\":{\"gridcolor\":\"white\",\"linecolor\":\"white\",\"ticks\":\"\"},\"caxis\":{\"gridcolor\":\"white\",\"linecolor\":\"white\",\"ticks\":\"\"}},\"coloraxis\":{\"colorbar\":{\"outlinewidth\":0,\"ticks\":\"\"}},\"colorscale\":{\"sequential\":[[0.0,\"#0d0887\"],[0.1111111111111111,\"#46039f\"],[0.2222222222222222,\"#7201a8\"],[0.3333333333333333,\"#9c179e\"],[0.4444444444444444,\"#bd3786\"],[0.5555555555555556,\"#d8576b\"],[0.6666666666666666,\"#ed7953\"],[0.7777777777777778,\"#fb9f3a\"],[0.8888888888888888,\"#fdca26\"],[1.0,\"#f0f921\"]],\"sequentialminus\":[[0.0,\"#0d0887\"],[0.1111111111111111,\"#46039f\"],[0.2222222222222222,\"#7201a8\"],[0.3333333333333333,\"#9c179e\"],[0.4444444444444444,\"#bd3786\"],[0.5555555555555556,\"#d8576b\"],[0.6666666666666666,\"#ed7953\"],[0.7777777777777778,\"#fb9f3a\"],[0.8888888888888888,\"#fdca26\"],[1.0,\"#f0f921\"]],\"diverging\":[[0,\"#8e0152\"],[0.1,\"#c51b7d\"],[0.2,\"#de77ae\"],[0.3,\"#f1b6da\"],[0.4,\"#fde0ef\"],[0.5,\"#f7f7f7\"],[0.6,\"#e6f5d0\"],[0.7,\"#b8e186\"],[0.8,\"#7fbc41\"],[0.9,\"#4d9221\"],[1,\"#276419\"]]},\"xaxis\":{\"gridcolor\":\"white\",\"linecolor\":\"white\",\"ticks\":\"\",\"title\":{\"standoff\":15},\"zerolinecolor\":\"white\",\"automargin\":true,\"zerolinewidth\":2},\"yaxis\":{\"gridcolor\":\"white\",\"linecolor\":\"white\",\"ticks\":\"\",\"title\":{\"standoff\":15},\"zerolinecolor\":\"white\",\"automargin\":true,\"zerolinewidth\":2},\"scene\":{\"xaxis\":{\"backgroundcolor\":\"#E5ECF6\",\"gridcolor\":\"white\",\"linecolor\":\"white\",\"showbackground\":true,\"ticks\":\"\",\"zerolinecolor\":\"white\",\"gridwidth\":2},\"yaxis\":{\"backgroundcolor\":\"#E5ECF6\",\"gridcolor\":\"white\",\"linecolor\":\"white\",\"showbackground\":true,\"ticks\":\"\",\"zerolinecolor\":\"white\",\"gridwidth\":2},\"zaxis\":{\"backgroundcolor\":\"#E5ECF6\",\"gridcolor\":\"white\",\"linecolor\":\"white\",\"showbackground\":true,\"ticks\":\"\",\"zerolinecolor\":\"white\",\"gridwidth\":2}},\"shapedefaults\":{\"line\":{\"color\":\"#2a3f5f\"}},\"annotationdefaults\":{\"arrowcolor\":\"#2a3f5f\",\"arrowhead\":0,\"arrowwidth\":1},\"geo\":{\"bgcolor\":\"white\",\"landcolor\":\"#E5ECF6\",\"subunitcolor\":\"white\",\"showland\":true,\"showlakes\":true,\"lakecolor\":\"white\"},\"title\":{\"x\":0.05},\"mapbox\":{\"style\":\"light\"}}}},                        {\"responsive\": true}                    ).then(function(){\n",
       "                            \n",
       "var gd = document.getElementById('ef6cf550-11ce-4cd8-9e9d-2d5aa81326b9');\n",
>>>>>>> b907969426b4bd0714bc9c2551371e0e378c5685
       "var x = new MutationObserver(function (mutations, observer) {{\n",
       "        var display = window.getComputedStyle(gd).display;\n",
       "        if (!display || display === 'none') {{\n",
       "            console.log([gd, 'removed!']);\n",
       "            Plotly.purge(gd);\n",
       "            observer.disconnect();\n",
       "        }}\n",
       "}});\n",
       "\n",
       "// Listen for the removal of the full notebook cells\n",
       "var notebookContainer = gd.closest('#notebook-container');\n",
       "if (notebookContainer) {{\n",
       "    x.observe(notebookContainer, {childList: true});\n",
       "}}\n",
       "\n",
       "// Listen for the clearing of the current output cell\n",
       "var outputEl = gd.closest('.output');\n",
       "if (outputEl) {{\n",
       "    x.observe(outputEl, {childList: true});\n",
       "}}\n",
       "\n",
       "                        })                };                });            </script>        </div>"
      ]
     },
     "metadata": {},
     "output_type": "display_data"
    }
   ],
   "source": [
    "import plotly.graph_objects as go\n",
    "import numpy as np\n",
    "\n",
    "X = np.linspace(-1.1,2.1,33).tolist()\n",
    "\n",
    "# match Neri\n",
    "X = np.linspace(min(s1.a, s2.a) + min(s1.xk + s2.xk), max(s1.b, s2.b) + max(s1.xk + s2.xk), 100)\n",
    "\n",
    "fig = go.Figure(data=go.Scatter(x=X, y=[y.pmf(z) for z in X]))\n",
    "fig.show()"
   ]
  },
  {
   "cell_type": "code",
   "execution_count": 5,
   "metadata": {},
   "outputs": [
    {
     "data": {
      "application/vnd.plotly.v1+json": {
       "config": {
        "plotlyServerURL": "https://plot.ly"
       },
       "data": [
        {
         "type": "scatter",
         "x": [
          -1.1,
          -1,
          -0.9000000000000001,
          -0.8,
          -0.7000000000000001,
          -0.6000000000000001,
          -0.5,
          -0.4,
          -0.30000000000000004,
          -0.20000000000000007,
          -0.10000000000000009,
          0,
          0.10000000000000009,
          0.19999999999999996,
          0.30000000000000004,
          0.3999999999999999,
          0.5,
          0.6000000000000001,
          0.7,
          0.8,
          0.8999999999999999,
          1,
          1.1,
          1.2000000000000002,
          1.3000000000000003,
          1.4,
          1.5,
          1.6,
          1.7000000000000002,
          1.8000000000000003,
          1.9,
          2,
          2.1
         ],
         "y": [
          0,
          0,
          0,
          0,
          0,
          0,
          0,
          0,
          0,
          0,
          0,
          0.6666666666666666,
          0.6666666666666666,
          0.6666666666666666,
          0.6666666666666666,
          0.6666666666666666,
          0.6666666666666666,
          0.6666666666666666,
          0.6666666666666666,
          0.6666666666666666,
          0.6666666666666666,
          0.9166666666666666,
          0.9166666666666666,
          0.9166666666666666,
          0.9166666666666666,
          0.9166666666666666,
          0.9166666666666666,
          0.9166666666666666,
          0.9166666666666666,
          0.9166666666666666,
          0.9166666666666666,
          1,
          1
         ]
        }
       ],
       "layout": {
        "template": {
         "data": {
          "bar": [
           {
            "error_x": {
             "color": "#2a3f5f"
            },
            "error_y": {
             "color": "#2a3f5f"
            },
            "marker": {
             "line": {
              "color": "#E5ECF6",
              "width": 0.5
             },
             "pattern": {
              "fillmode": "overlay",
              "size": 10,
              "solidity": 0.2
             }
            },
            "type": "bar"
           }
          ],
          "barpolar": [
           {
            "marker": {
             "line": {
              "color": "#E5ECF6",
              "width": 0.5
             },
             "pattern": {
              "fillmode": "overlay",
              "size": 10,
              "solidity": 0.2
             }
            },
            "type": "barpolar"
           }
          ],
          "carpet": [
           {
            "aaxis": {
             "endlinecolor": "#2a3f5f",
             "gridcolor": "white",
             "linecolor": "white",
             "minorgridcolor": "white",
             "startlinecolor": "#2a3f5f"
            },
            "baxis": {
             "endlinecolor": "#2a3f5f",
             "gridcolor": "white",
             "linecolor": "white",
             "minorgridcolor": "white",
             "startlinecolor": "#2a3f5f"
            },
            "type": "carpet"
           }
          ],
          "choropleth": [
           {
            "colorbar": {
             "outlinewidth": 0,
             "ticks": ""
            },
            "type": "choropleth"
           }
          ],
          "contour": [
           {
            "colorbar": {
             "outlinewidth": 0,
             "ticks": ""
            },
            "colorscale": [
             [
              0,
              "#0d0887"
             ],
             [
              0.1111111111111111,
              "#46039f"
             ],
             [
              0.2222222222222222,
              "#7201a8"
             ],
             [
              0.3333333333333333,
              "#9c179e"
             ],
             [
              0.4444444444444444,
              "#bd3786"
             ],
             [
              0.5555555555555556,
              "#d8576b"
             ],
             [
              0.6666666666666666,
              "#ed7953"
             ],
             [
              0.7777777777777778,
              "#fb9f3a"
             ],
             [
              0.8888888888888888,
              "#fdca26"
             ],
             [
              1,
              "#f0f921"
             ]
            ],
            "type": "contour"
           }
          ],
          "contourcarpet": [
           {
            "colorbar": {
             "outlinewidth": 0,
             "ticks": ""
            },
            "type": "contourcarpet"
           }
          ],
          "heatmap": [
           {
            "colorbar": {
             "outlinewidth": 0,
             "ticks": ""
            },
            "colorscale": [
             [
              0,
              "#0d0887"
             ],
             [
              0.1111111111111111,
              "#46039f"
             ],
             [
              0.2222222222222222,
              "#7201a8"
             ],
             [
              0.3333333333333333,
              "#9c179e"
             ],
             [
              0.4444444444444444,
              "#bd3786"
             ],
             [
              0.5555555555555556,
              "#d8576b"
             ],
             [
              0.6666666666666666,
              "#ed7953"
             ],
             [
              0.7777777777777778,
              "#fb9f3a"
             ],
             [
              0.8888888888888888,
              "#fdca26"
             ],
             [
              1,
              "#f0f921"
             ]
            ],
            "type": "heatmap"
           }
          ],
          "heatmapgl": [
           {
            "colorbar": {
             "outlinewidth": 0,
             "ticks": ""
            },
            "colorscale": [
             [
              0,
              "#0d0887"
             ],
             [
              0.1111111111111111,
              "#46039f"
             ],
             [
              0.2222222222222222,
              "#7201a8"
             ],
             [
              0.3333333333333333,
              "#9c179e"
             ],
             [
              0.4444444444444444,
              "#bd3786"
             ],
             [
              0.5555555555555556,
              "#d8576b"
             ],
             [
              0.6666666666666666,
              "#ed7953"
             ],
             [
              0.7777777777777778,
              "#fb9f3a"
             ],
             [
              0.8888888888888888,
              "#fdca26"
             ],
             [
              1,
              "#f0f921"
             ]
            ],
            "type": "heatmapgl"
           }
          ],
          "histogram": [
           {
            "marker": {
             "pattern": {
              "fillmode": "overlay",
              "size": 10,
              "solidity": 0.2
             }
            },
            "type": "histogram"
           }
          ],
          "histogram2d": [
           {
            "colorbar": {
             "outlinewidth": 0,
             "ticks": ""
            },
            "colorscale": [
             [
              0,
              "#0d0887"
             ],
             [
              0.1111111111111111,
              "#46039f"
             ],
             [
              0.2222222222222222,
              "#7201a8"
             ],
             [
              0.3333333333333333,
              "#9c179e"
             ],
             [
              0.4444444444444444,
              "#bd3786"
             ],
             [
              0.5555555555555556,
              "#d8576b"
             ],
             [
              0.6666666666666666,
              "#ed7953"
             ],
             [
              0.7777777777777778,
              "#fb9f3a"
             ],
             [
              0.8888888888888888,
              "#fdca26"
             ],
             [
              1,
              "#f0f921"
             ]
            ],
            "type": "histogram2d"
           }
          ],
          "histogram2dcontour": [
           {
            "colorbar": {
             "outlinewidth": 0,
             "ticks": ""
            },
            "colorscale": [
             [
              0,
              "#0d0887"
             ],
             [
              0.1111111111111111,
              "#46039f"
             ],
             [
              0.2222222222222222,
              "#7201a8"
             ],
             [
              0.3333333333333333,
              "#9c179e"
             ],
             [
              0.4444444444444444,
              "#bd3786"
             ],
             [
              0.5555555555555556,
              "#d8576b"
             ],
             [
              0.6666666666666666,
              "#ed7953"
             ],
             [
              0.7777777777777778,
              "#fb9f3a"
             ],
             [
              0.8888888888888888,
              "#fdca26"
             ],
             [
              1,
              "#f0f921"
             ]
            ],
            "type": "histogram2dcontour"
           }
          ],
          "mesh3d": [
           {
            "colorbar": {
             "outlinewidth": 0,
             "ticks": ""
            },
            "type": "mesh3d"
           }
          ],
          "parcoords": [
           {
            "line": {
             "colorbar": {
              "outlinewidth": 0,
              "ticks": ""
             }
            },
            "type": "parcoords"
           }
          ],
          "pie": [
           {
            "automargin": true,
            "type": "pie"
           }
          ],
          "scatter": [
           {
            "fillpattern": {
             "fillmode": "overlay",
             "size": 10,
             "solidity": 0.2
            },
            "type": "scatter"
           }
          ],
          "scatter3d": [
           {
            "line": {
             "colorbar": {
              "outlinewidth": 0,
              "ticks": ""
             }
            },
            "marker": {
             "colorbar": {
              "outlinewidth": 0,
              "ticks": ""
             }
            },
            "type": "scatter3d"
           }
          ],
          "scattercarpet": [
           {
            "marker": {
             "colorbar": {
              "outlinewidth": 0,
              "ticks": ""
             }
            },
            "type": "scattercarpet"
           }
          ],
          "scattergeo": [
           {
            "marker": {
             "colorbar": {
              "outlinewidth": 0,
              "ticks": ""
             }
            },
            "type": "scattergeo"
           }
          ],
          "scattergl": [
           {
            "marker": {
             "colorbar": {
              "outlinewidth": 0,
              "ticks": ""
             }
            },
            "type": "scattergl"
           }
          ],
          "scattermapbox": [
           {
            "marker": {
             "colorbar": {
              "outlinewidth": 0,
              "ticks": ""
             }
            },
            "type": "scattermapbox"
           }
          ],
          "scatterpolar": [
           {
            "marker": {
             "colorbar": {
              "outlinewidth": 0,
              "ticks": ""
             }
            },
            "type": "scatterpolar"
           }
          ],
          "scatterpolargl": [
           {
            "marker": {
             "colorbar": {
              "outlinewidth": 0,
              "ticks": ""
             }
            },
            "type": "scatterpolargl"
           }
          ],
          "scatterternary": [
           {
            "marker": {
             "colorbar": {
              "outlinewidth": 0,
              "ticks": ""
             }
            },
            "type": "scatterternary"
           }
          ],
          "surface": [
           {
            "colorbar": {
             "outlinewidth": 0,
             "ticks": ""
            },
            "colorscale": [
             [
              0,
              "#0d0887"
             ],
             [
              0.1111111111111111,
              "#46039f"
             ],
             [
              0.2222222222222222,
              "#7201a8"
             ],
             [
              0.3333333333333333,
              "#9c179e"
             ],
             [
              0.4444444444444444,
              "#bd3786"
             ],
             [
              0.5555555555555556,
              "#d8576b"
             ],
             [
              0.6666666666666666,
              "#ed7953"
             ],
             [
              0.7777777777777778,
              "#fb9f3a"
             ],
             [
              0.8888888888888888,
              "#fdca26"
             ],
             [
              1,
              "#f0f921"
             ]
            ],
            "type": "surface"
           }
          ],
          "table": [
           {
            "cells": {
             "fill": {
              "color": "#EBF0F8"
             },
             "line": {
              "color": "white"
             }
            },
            "header": {
             "fill": {
              "color": "#C8D4E3"
             },
             "line": {
              "color": "white"
             }
            },
            "type": "table"
           }
          ]
         },
         "layout": {
          "annotationdefaults": {
           "arrowcolor": "#2a3f5f",
           "arrowhead": 0,
           "arrowwidth": 1
          },
          "autotypenumbers": "strict",
          "coloraxis": {
           "colorbar": {
            "outlinewidth": 0,
            "ticks": ""
           }
          },
          "colorscale": {
           "diverging": [
            [
             0,
             "#8e0152"
            ],
            [
             0.1,
             "#c51b7d"
            ],
            [
             0.2,
             "#de77ae"
            ],
            [
             0.3,
             "#f1b6da"
            ],
            [
             0.4,
             "#fde0ef"
            ],
            [
             0.5,
             "#f7f7f7"
            ],
            [
             0.6,
             "#e6f5d0"
            ],
            [
             0.7,
             "#b8e186"
            ],
            [
             0.8,
             "#7fbc41"
            ],
            [
             0.9,
             "#4d9221"
            ],
            [
             1,
             "#276419"
            ]
           ],
           "sequential": [
            [
             0,
             "#0d0887"
            ],
            [
             0.1111111111111111,
             "#46039f"
            ],
            [
             0.2222222222222222,
             "#7201a8"
            ],
            [
             0.3333333333333333,
             "#9c179e"
            ],
            [
             0.4444444444444444,
             "#bd3786"
            ],
            [
             0.5555555555555556,
             "#d8576b"
            ],
            [
             0.6666666666666666,
             "#ed7953"
            ],
            [
             0.7777777777777778,
             "#fb9f3a"
            ],
            [
             0.8888888888888888,
             "#fdca26"
            ],
            [
             1,
             "#f0f921"
            ]
           ],
           "sequentialminus": [
            [
             0,
             "#0d0887"
            ],
            [
             0.1111111111111111,
             "#46039f"
            ],
            [
             0.2222222222222222,
             "#7201a8"
            ],
            [
             0.3333333333333333,
             "#9c179e"
            ],
            [
             0.4444444444444444,
             "#bd3786"
            ],
            [
             0.5555555555555556,
             "#d8576b"
            ],
            [
             0.6666666666666666,
             "#ed7953"
            ],
            [
             0.7777777777777778,
             "#fb9f3a"
            ],
            [
             0.8888888888888888,
             "#fdca26"
            ],
            [
             1,
             "#f0f921"
            ]
           ]
          },
          "colorway": [
           "#636efa",
           "#EF553B",
           "#00cc96",
           "#ab63fa",
           "#FFA15A",
           "#19d3f3",
           "#FF6692",
           "#B6E880",
           "#FF97FF",
           "#FECB52"
          ],
          "font": {
           "color": "#2a3f5f"
          },
          "geo": {
           "bgcolor": "white",
           "lakecolor": "white",
           "landcolor": "#E5ECF6",
           "showlakes": true,
           "showland": true,
           "subunitcolor": "white"
          },
          "hoverlabel": {
           "align": "left"
          },
          "hovermode": "closest",
          "mapbox": {
           "style": "light"
          },
          "paper_bgcolor": "white",
          "plot_bgcolor": "#E5ECF6",
          "polar": {
           "angularaxis": {
            "gridcolor": "white",
            "linecolor": "white",
            "ticks": ""
           },
           "bgcolor": "#E5ECF6",
           "radialaxis": {
            "gridcolor": "white",
            "linecolor": "white",
            "ticks": ""
           }
          },
          "scene": {
           "xaxis": {
            "backgroundcolor": "#E5ECF6",
            "gridcolor": "white",
            "gridwidth": 2,
            "linecolor": "white",
            "showbackground": true,
            "ticks": "",
            "zerolinecolor": "white"
           },
           "yaxis": {
            "backgroundcolor": "#E5ECF6",
            "gridcolor": "white",
            "gridwidth": 2,
            "linecolor": "white",
            "showbackground": true,
            "ticks": "",
            "zerolinecolor": "white"
           },
           "zaxis": {
            "backgroundcolor": "#E5ECF6",
            "gridcolor": "white",
            "gridwidth": 2,
            "linecolor": "white",
            "showbackground": true,
            "ticks": "",
            "zerolinecolor": "white"
           }
          },
          "shapedefaults": {
           "line": {
            "color": "#2a3f5f"
           }
          },
          "ternary": {
           "aaxis": {
            "gridcolor": "white",
            "linecolor": "white",
            "ticks": ""
           },
           "baxis": {
            "gridcolor": "white",
            "linecolor": "white",
            "ticks": ""
           },
           "bgcolor": "#E5ECF6",
           "caxis": {
            "gridcolor": "white",
            "linecolor": "white",
            "ticks": ""
           }
          },
          "title": {
           "x": 0.05
          },
          "xaxis": {
           "automargin": true,
           "gridcolor": "white",
           "linecolor": "white",
           "ticks": "",
           "title": {
            "standoff": 15
           },
           "zerolinecolor": "white",
           "zerolinewidth": 2
          },
          "yaxis": {
           "automargin": true,
           "gridcolor": "white",
           "linecolor": "white",
           "ticks": "",
           "title": {
            "standoff": 15
           },
           "zerolinecolor": "white",
           "zerolinewidth": 2
          }
         }
        }
       }
      },
      "text/html": [
<<<<<<< HEAD
       "<div>                            <div id=\"416679b4-8219-40a4-8c53-a1c189c35239\" class=\"plotly-graph-div\" style=\"height:525px; width:100%;\"></div>            <script type=\"text/javascript\">                require([\"plotly\"], function(Plotly) {                    window.PLOTLYENV=window.PLOTLYENV || {};                                    if (document.getElementById(\"416679b4-8219-40a4-8c53-a1c189c35239\")) {                    Plotly.newPlot(                        \"416679b4-8219-40a4-8c53-a1c189c35239\",                        [{\"x\":[-1.1,-1.0,-0.9000000000000001,-0.8,-0.7000000000000001,-0.6000000000000001,-0.5,-0.4,-0.30000000000000004,-0.20000000000000007,-0.10000000000000009,0.0,0.10000000000000009,0.19999999999999996,0.30000000000000004,0.3999999999999999,0.5,0.6000000000000001,0.7,0.8,0.8999999999999999,1.0,1.1,1.2000000000000002,1.3000000000000003,1.4,1.5,1.6,1.7000000000000002,1.8000000000000003,1.9,2.0,2.1],\"y\":[0.0,0.0,0.0,0.0,0.0,0.0,0.0,0.0,0.0,0.0,0.0,0.6666666666666666,0.6666666666666666,0.6666666666666666,0.6666666666666666,0.6666666666666666,0.6666666666666666,0.6666666666666666,0.6666666666666666,0.6666666666666666,0.6666666666666666,0.9166666666666666,0.9166666666666666,0.9166666666666666,0.9166666666666666,0.9166666666666666,0.9166666666666666,0.9166666666666666,0.9166666666666666,0.9166666666666666,0.9166666666666666,1.0,1.0],\"type\":\"scatter\"}],                        {\"template\":{\"data\":{\"histogram2dcontour\":[{\"type\":\"histogram2dcontour\",\"colorbar\":{\"outlinewidth\":0,\"ticks\":\"\"},\"colorscale\":[[0.0,\"#0d0887\"],[0.1111111111111111,\"#46039f\"],[0.2222222222222222,\"#7201a8\"],[0.3333333333333333,\"#9c179e\"],[0.4444444444444444,\"#bd3786\"],[0.5555555555555556,\"#d8576b\"],[0.6666666666666666,\"#ed7953\"],[0.7777777777777778,\"#fb9f3a\"],[0.8888888888888888,\"#fdca26\"],[1.0,\"#f0f921\"]]}],\"choropleth\":[{\"type\":\"choropleth\",\"colorbar\":{\"outlinewidth\":0,\"ticks\":\"\"}}],\"histogram2d\":[{\"type\":\"histogram2d\",\"colorbar\":{\"outlinewidth\":0,\"ticks\":\"\"},\"colorscale\":[[0.0,\"#0d0887\"],[0.1111111111111111,\"#46039f\"],[0.2222222222222222,\"#7201a8\"],[0.3333333333333333,\"#9c179e\"],[0.4444444444444444,\"#bd3786\"],[0.5555555555555556,\"#d8576b\"],[0.6666666666666666,\"#ed7953\"],[0.7777777777777778,\"#fb9f3a\"],[0.8888888888888888,\"#fdca26\"],[1.0,\"#f0f921\"]]}],\"heatmap\":[{\"type\":\"heatmap\",\"colorbar\":{\"outlinewidth\":0,\"ticks\":\"\"},\"colorscale\":[[0.0,\"#0d0887\"],[0.1111111111111111,\"#46039f\"],[0.2222222222222222,\"#7201a8\"],[0.3333333333333333,\"#9c179e\"],[0.4444444444444444,\"#bd3786\"],[0.5555555555555556,\"#d8576b\"],[0.6666666666666666,\"#ed7953\"],[0.7777777777777778,\"#fb9f3a\"],[0.8888888888888888,\"#fdca26\"],[1.0,\"#f0f921\"]]}],\"heatmapgl\":[{\"type\":\"heatmapgl\",\"colorbar\":{\"outlinewidth\":0,\"ticks\":\"\"},\"colorscale\":[[0.0,\"#0d0887\"],[0.1111111111111111,\"#46039f\"],[0.2222222222222222,\"#7201a8\"],[0.3333333333333333,\"#9c179e\"],[0.4444444444444444,\"#bd3786\"],[0.5555555555555556,\"#d8576b\"],[0.6666666666666666,\"#ed7953\"],[0.7777777777777778,\"#fb9f3a\"],[0.8888888888888888,\"#fdca26\"],[1.0,\"#f0f921\"]]}],\"contourcarpet\":[{\"type\":\"contourcarpet\",\"colorbar\":{\"outlinewidth\":0,\"ticks\":\"\"}}],\"contour\":[{\"type\":\"contour\",\"colorbar\":{\"outlinewidth\":0,\"ticks\":\"\"},\"colorscale\":[[0.0,\"#0d0887\"],[0.1111111111111111,\"#46039f\"],[0.2222222222222222,\"#7201a8\"],[0.3333333333333333,\"#9c179e\"],[0.4444444444444444,\"#bd3786\"],[0.5555555555555556,\"#d8576b\"],[0.6666666666666666,\"#ed7953\"],[0.7777777777777778,\"#fb9f3a\"],[0.8888888888888888,\"#fdca26\"],[1.0,\"#f0f921\"]]}],\"surface\":[{\"type\":\"surface\",\"colorbar\":{\"outlinewidth\":0,\"ticks\":\"\"},\"colorscale\":[[0.0,\"#0d0887\"],[0.1111111111111111,\"#46039f\"],[0.2222222222222222,\"#7201a8\"],[0.3333333333333333,\"#9c179e\"],[0.4444444444444444,\"#bd3786\"],[0.5555555555555556,\"#d8576b\"],[0.6666666666666666,\"#ed7953\"],[0.7777777777777778,\"#fb9f3a\"],[0.8888888888888888,\"#fdca26\"],[1.0,\"#f0f921\"]]}],\"mesh3d\":[{\"type\":\"mesh3d\",\"colorbar\":{\"outlinewidth\":0,\"ticks\":\"\"}}],\"scatter\":[{\"fillpattern\":{\"fillmode\":\"overlay\",\"size\":10,\"solidity\":0.2},\"type\":\"scatter\"}],\"parcoords\":[{\"type\":\"parcoords\",\"line\":{\"colorbar\":{\"outlinewidth\":0,\"ticks\":\"\"}}}],\"scatterpolargl\":[{\"type\":\"scatterpolargl\",\"marker\":{\"colorbar\":{\"outlinewidth\":0,\"ticks\":\"\"}}}],\"bar\":[{\"error_x\":{\"color\":\"#2a3f5f\"},\"error_y\":{\"color\":\"#2a3f5f\"},\"marker\":{\"line\":{\"color\":\"#E5ECF6\",\"width\":0.5},\"pattern\":{\"fillmode\":\"overlay\",\"size\":10,\"solidity\":0.2}},\"type\":\"bar\"}],\"scattergeo\":[{\"type\":\"scattergeo\",\"marker\":{\"colorbar\":{\"outlinewidth\":0,\"ticks\":\"\"}}}],\"scatterpolar\":[{\"type\":\"scatterpolar\",\"marker\":{\"colorbar\":{\"outlinewidth\":0,\"ticks\":\"\"}}}],\"histogram\":[{\"marker\":{\"pattern\":{\"fillmode\":\"overlay\",\"size\":10,\"solidity\":0.2}},\"type\":\"histogram\"}],\"scattergl\":[{\"type\":\"scattergl\",\"marker\":{\"colorbar\":{\"outlinewidth\":0,\"ticks\":\"\"}}}],\"scatter3d\":[{\"type\":\"scatter3d\",\"line\":{\"colorbar\":{\"outlinewidth\":0,\"ticks\":\"\"}},\"marker\":{\"colorbar\":{\"outlinewidth\":0,\"ticks\":\"\"}}}],\"scattermapbox\":[{\"type\":\"scattermapbox\",\"marker\":{\"colorbar\":{\"outlinewidth\":0,\"ticks\":\"\"}}}],\"scatterternary\":[{\"type\":\"scatterternary\",\"marker\":{\"colorbar\":{\"outlinewidth\":0,\"ticks\":\"\"}}}],\"scattercarpet\":[{\"type\":\"scattercarpet\",\"marker\":{\"colorbar\":{\"outlinewidth\":0,\"ticks\":\"\"}}}],\"carpet\":[{\"aaxis\":{\"endlinecolor\":\"#2a3f5f\",\"gridcolor\":\"white\",\"linecolor\":\"white\",\"minorgridcolor\":\"white\",\"startlinecolor\":\"#2a3f5f\"},\"baxis\":{\"endlinecolor\":\"#2a3f5f\",\"gridcolor\":\"white\",\"linecolor\":\"white\",\"minorgridcolor\":\"white\",\"startlinecolor\":\"#2a3f5f\"},\"type\":\"carpet\"}],\"table\":[{\"cells\":{\"fill\":{\"color\":\"#EBF0F8\"},\"line\":{\"color\":\"white\"}},\"header\":{\"fill\":{\"color\":\"#C8D4E3\"},\"line\":{\"color\":\"white\"}},\"type\":\"table\"}],\"barpolar\":[{\"marker\":{\"line\":{\"color\":\"#E5ECF6\",\"width\":0.5},\"pattern\":{\"fillmode\":\"overlay\",\"size\":10,\"solidity\":0.2}},\"type\":\"barpolar\"}],\"pie\":[{\"automargin\":true,\"type\":\"pie\"}]},\"layout\":{\"autotypenumbers\":\"strict\",\"colorway\":[\"#636efa\",\"#EF553B\",\"#00cc96\",\"#ab63fa\",\"#FFA15A\",\"#19d3f3\",\"#FF6692\",\"#B6E880\",\"#FF97FF\",\"#FECB52\"],\"font\":{\"color\":\"#2a3f5f\"},\"hovermode\":\"closest\",\"hoverlabel\":{\"align\":\"left\"},\"paper_bgcolor\":\"white\",\"plot_bgcolor\":\"#E5ECF6\",\"polar\":{\"bgcolor\":\"#E5ECF6\",\"angularaxis\":{\"gridcolor\":\"white\",\"linecolor\":\"white\",\"ticks\":\"\"},\"radialaxis\":{\"gridcolor\":\"white\",\"linecolor\":\"white\",\"ticks\":\"\"}},\"ternary\":{\"bgcolor\":\"#E5ECF6\",\"aaxis\":{\"gridcolor\":\"white\",\"linecolor\":\"white\",\"ticks\":\"\"},\"baxis\":{\"gridcolor\":\"white\",\"linecolor\":\"white\",\"ticks\":\"\"},\"caxis\":{\"gridcolor\":\"white\",\"linecolor\":\"white\",\"ticks\":\"\"}},\"coloraxis\":{\"colorbar\":{\"outlinewidth\":0,\"ticks\":\"\"}},\"colorscale\":{\"sequential\":[[0.0,\"#0d0887\"],[0.1111111111111111,\"#46039f\"],[0.2222222222222222,\"#7201a8\"],[0.3333333333333333,\"#9c179e\"],[0.4444444444444444,\"#bd3786\"],[0.5555555555555556,\"#d8576b\"],[0.6666666666666666,\"#ed7953\"],[0.7777777777777778,\"#fb9f3a\"],[0.8888888888888888,\"#fdca26\"],[1.0,\"#f0f921\"]],\"sequentialminus\":[[0.0,\"#0d0887\"],[0.1111111111111111,\"#46039f\"],[0.2222222222222222,\"#7201a8\"],[0.3333333333333333,\"#9c179e\"],[0.4444444444444444,\"#bd3786\"],[0.5555555555555556,\"#d8576b\"],[0.6666666666666666,\"#ed7953\"],[0.7777777777777778,\"#fb9f3a\"],[0.8888888888888888,\"#fdca26\"],[1.0,\"#f0f921\"]],\"diverging\":[[0,\"#8e0152\"],[0.1,\"#c51b7d\"],[0.2,\"#de77ae\"],[0.3,\"#f1b6da\"],[0.4,\"#fde0ef\"],[0.5,\"#f7f7f7\"],[0.6,\"#e6f5d0\"],[0.7,\"#b8e186\"],[0.8,\"#7fbc41\"],[0.9,\"#4d9221\"],[1,\"#276419\"]]},\"xaxis\":{\"gridcolor\":\"white\",\"linecolor\":\"white\",\"ticks\":\"\",\"title\":{\"standoff\":15},\"zerolinecolor\":\"white\",\"automargin\":true,\"zerolinewidth\":2},\"yaxis\":{\"gridcolor\":\"white\",\"linecolor\":\"white\",\"ticks\":\"\",\"title\":{\"standoff\":15},\"zerolinecolor\":\"white\",\"automargin\":true,\"zerolinewidth\":2},\"scene\":{\"xaxis\":{\"backgroundcolor\":\"#E5ECF6\",\"gridcolor\":\"white\",\"linecolor\":\"white\",\"showbackground\":true,\"ticks\":\"\",\"zerolinecolor\":\"white\",\"gridwidth\":2},\"yaxis\":{\"backgroundcolor\":\"#E5ECF6\",\"gridcolor\":\"white\",\"linecolor\":\"white\",\"showbackground\":true,\"ticks\":\"\",\"zerolinecolor\":\"white\",\"gridwidth\":2},\"zaxis\":{\"backgroundcolor\":\"#E5ECF6\",\"gridcolor\":\"white\",\"linecolor\":\"white\",\"showbackground\":true,\"ticks\":\"\",\"zerolinecolor\":\"white\",\"gridwidth\":2}},\"shapedefaults\":{\"line\":{\"color\":\"#2a3f5f\"}},\"annotationdefaults\":{\"arrowcolor\":\"#2a3f5f\",\"arrowhead\":0,\"arrowwidth\":1},\"geo\":{\"bgcolor\":\"white\",\"landcolor\":\"#E5ECF6\",\"subunitcolor\":\"white\",\"showland\":true,\"showlakes\":true,\"lakecolor\":\"white\"},\"title\":{\"x\":0.05},\"mapbox\":{\"style\":\"light\"}}}},                        {\"responsive\": true}                    ).then(function(){\n",
       "                            \n",
       "var gd = document.getElementById('416679b4-8219-40a4-8c53-a1c189c35239');\n",
=======
       "<div>                            <div id=\"70a60fea-15fc-4dbe-a42a-68e63a528351\" class=\"plotly-graph-div\" style=\"height:525px; width:100%;\"></div>            <script type=\"text/javascript\">                require([\"plotly\"], function(Plotly) {                    window.PLOTLYENV=window.PLOTLYENV || {};                                    if (document.getElementById(\"70a60fea-15fc-4dbe-a42a-68e63a528351\")) {                    Plotly.newPlot(                        \"70a60fea-15fc-4dbe-a42a-68e63a528351\",                        [{\"x\":[-1.1,-1.0,-0.9000000000000001,-0.8,-0.7000000000000001,-0.6000000000000001,-0.5,-0.4,-0.30000000000000004,-0.20000000000000007,-0.10000000000000009,0.0,0.10000000000000009,0.19999999999999996,0.30000000000000004,0.3999999999999999,0.5,0.6000000000000001,0.7,0.8,0.8999999999999999,1.0,1.1,1.2000000000000002,1.3000000000000003,1.4,1.5,1.6,1.7000000000000002,1.8000000000000003,1.9,2.0,2.1],\"y\":[0.0,0.0,0.0,0.0,0.0,0.0,0.0,0.0,0.0,0.0,0.0,0.6666666666666666,0.6666666666666666,0.6666666666666666,0.6666666666666666,0.6666666666666666,0.6666666666666666,0.6666666666666666,0.6666666666666666,0.6666666666666666,0.6666666666666666,0.9166666666666666,0.9166666666666666,0.9166666666666666,0.9166666666666666,0.9166666666666666,0.9166666666666666,0.9166666666666666,0.9166666666666666,0.9166666666666666,0.9166666666666666,1.0,1.0],\"type\":\"scatter\"}],                        {\"template\":{\"data\":{\"histogram2dcontour\":[{\"type\":\"histogram2dcontour\",\"colorbar\":{\"outlinewidth\":0,\"ticks\":\"\"},\"colorscale\":[[0.0,\"#0d0887\"],[0.1111111111111111,\"#46039f\"],[0.2222222222222222,\"#7201a8\"],[0.3333333333333333,\"#9c179e\"],[0.4444444444444444,\"#bd3786\"],[0.5555555555555556,\"#d8576b\"],[0.6666666666666666,\"#ed7953\"],[0.7777777777777778,\"#fb9f3a\"],[0.8888888888888888,\"#fdca26\"],[1.0,\"#f0f921\"]]}],\"choropleth\":[{\"type\":\"choropleth\",\"colorbar\":{\"outlinewidth\":0,\"ticks\":\"\"}}],\"histogram2d\":[{\"type\":\"histogram2d\",\"colorbar\":{\"outlinewidth\":0,\"ticks\":\"\"},\"colorscale\":[[0.0,\"#0d0887\"],[0.1111111111111111,\"#46039f\"],[0.2222222222222222,\"#7201a8\"],[0.3333333333333333,\"#9c179e\"],[0.4444444444444444,\"#bd3786\"],[0.5555555555555556,\"#d8576b\"],[0.6666666666666666,\"#ed7953\"],[0.7777777777777778,\"#fb9f3a\"],[0.8888888888888888,\"#fdca26\"],[1.0,\"#f0f921\"]]}],\"heatmap\":[{\"type\":\"heatmap\",\"colorbar\":{\"outlinewidth\":0,\"ticks\":\"\"},\"colorscale\":[[0.0,\"#0d0887\"],[0.1111111111111111,\"#46039f\"],[0.2222222222222222,\"#7201a8\"],[0.3333333333333333,\"#9c179e\"],[0.4444444444444444,\"#bd3786\"],[0.5555555555555556,\"#d8576b\"],[0.6666666666666666,\"#ed7953\"],[0.7777777777777778,\"#fb9f3a\"],[0.8888888888888888,\"#fdca26\"],[1.0,\"#f0f921\"]]}],\"heatmapgl\":[{\"type\":\"heatmapgl\",\"colorbar\":{\"outlinewidth\":0,\"ticks\":\"\"},\"colorscale\":[[0.0,\"#0d0887\"],[0.1111111111111111,\"#46039f\"],[0.2222222222222222,\"#7201a8\"],[0.3333333333333333,\"#9c179e\"],[0.4444444444444444,\"#bd3786\"],[0.5555555555555556,\"#d8576b\"],[0.6666666666666666,\"#ed7953\"],[0.7777777777777778,\"#fb9f3a\"],[0.8888888888888888,\"#fdca26\"],[1.0,\"#f0f921\"]]}],\"contourcarpet\":[{\"type\":\"contourcarpet\",\"colorbar\":{\"outlinewidth\":0,\"ticks\":\"\"}}],\"contour\":[{\"type\":\"contour\",\"colorbar\":{\"outlinewidth\":0,\"ticks\":\"\"},\"colorscale\":[[0.0,\"#0d0887\"],[0.1111111111111111,\"#46039f\"],[0.2222222222222222,\"#7201a8\"],[0.3333333333333333,\"#9c179e\"],[0.4444444444444444,\"#bd3786\"],[0.5555555555555556,\"#d8576b\"],[0.6666666666666666,\"#ed7953\"],[0.7777777777777778,\"#fb9f3a\"],[0.8888888888888888,\"#fdca26\"],[1.0,\"#f0f921\"]]}],\"surface\":[{\"type\":\"surface\",\"colorbar\":{\"outlinewidth\":0,\"ticks\":\"\"},\"colorscale\":[[0.0,\"#0d0887\"],[0.1111111111111111,\"#46039f\"],[0.2222222222222222,\"#7201a8\"],[0.3333333333333333,\"#9c179e\"],[0.4444444444444444,\"#bd3786\"],[0.5555555555555556,\"#d8576b\"],[0.6666666666666666,\"#ed7953\"],[0.7777777777777778,\"#fb9f3a\"],[0.8888888888888888,\"#fdca26\"],[1.0,\"#f0f921\"]]}],\"mesh3d\":[{\"type\":\"mesh3d\",\"colorbar\":{\"outlinewidth\":0,\"ticks\":\"\"}}],\"scatter\":[{\"fillpattern\":{\"fillmode\":\"overlay\",\"size\":10,\"solidity\":0.2},\"type\":\"scatter\"}],\"parcoords\":[{\"type\":\"parcoords\",\"line\":{\"colorbar\":{\"outlinewidth\":0,\"ticks\":\"\"}}}],\"scatterpolargl\":[{\"type\":\"scatterpolargl\",\"marker\":{\"colorbar\":{\"outlinewidth\":0,\"ticks\":\"\"}}}],\"bar\":[{\"error_x\":{\"color\":\"#2a3f5f\"},\"error_y\":{\"color\":\"#2a3f5f\"},\"marker\":{\"line\":{\"color\":\"#E5ECF6\",\"width\":0.5},\"pattern\":{\"fillmode\":\"overlay\",\"size\":10,\"solidity\":0.2}},\"type\":\"bar\"}],\"scattergeo\":[{\"type\":\"scattergeo\",\"marker\":{\"colorbar\":{\"outlinewidth\":0,\"ticks\":\"\"}}}],\"scatterpolar\":[{\"type\":\"scatterpolar\",\"marker\":{\"colorbar\":{\"outlinewidth\":0,\"ticks\":\"\"}}}],\"histogram\":[{\"marker\":{\"pattern\":{\"fillmode\":\"overlay\",\"size\":10,\"solidity\":0.2}},\"type\":\"histogram\"}],\"scattergl\":[{\"type\":\"scattergl\",\"marker\":{\"colorbar\":{\"outlinewidth\":0,\"ticks\":\"\"}}}],\"scatter3d\":[{\"type\":\"scatter3d\",\"line\":{\"colorbar\":{\"outlinewidth\":0,\"ticks\":\"\"}},\"marker\":{\"colorbar\":{\"outlinewidth\":0,\"ticks\":\"\"}}}],\"scattermapbox\":[{\"type\":\"scattermapbox\",\"marker\":{\"colorbar\":{\"outlinewidth\":0,\"ticks\":\"\"}}}],\"scatterternary\":[{\"type\":\"scatterternary\",\"marker\":{\"colorbar\":{\"outlinewidth\":0,\"ticks\":\"\"}}}],\"scattercarpet\":[{\"type\":\"scattercarpet\",\"marker\":{\"colorbar\":{\"outlinewidth\":0,\"ticks\":\"\"}}}],\"carpet\":[{\"aaxis\":{\"endlinecolor\":\"#2a3f5f\",\"gridcolor\":\"white\",\"linecolor\":\"white\",\"minorgridcolor\":\"white\",\"startlinecolor\":\"#2a3f5f\"},\"baxis\":{\"endlinecolor\":\"#2a3f5f\",\"gridcolor\":\"white\",\"linecolor\":\"white\",\"minorgridcolor\":\"white\",\"startlinecolor\":\"#2a3f5f\"},\"type\":\"carpet\"}],\"table\":[{\"cells\":{\"fill\":{\"color\":\"#EBF0F8\"},\"line\":{\"color\":\"white\"}},\"header\":{\"fill\":{\"color\":\"#C8D4E3\"},\"line\":{\"color\":\"white\"}},\"type\":\"table\"}],\"barpolar\":[{\"marker\":{\"line\":{\"color\":\"#E5ECF6\",\"width\":0.5},\"pattern\":{\"fillmode\":\"overlay\",\"size\":10,\"solidity\":0.2}},\"type\":\"barpolar\"}],\"pie\":[{\"automargin\":true,\"type\":\"pie\"}]},\"layout\":{\"autotypenumbers\":\"strict\",\"colorway\":[\"#636efa\",\"#EF553B\",\"#00cc96\",\"#ab63fa\",\"#FFA15A\",\"#19d3f3\",\"#FF6692\",\"#B6E880\",\"#FF97FF\",\"#FECB52\"],\"font\":{\"color\":\"#2a3f5f\"},\"hovermode\":\"closest\",\"hoverlabel\":{\"align\":\"left\"},\"paper_bgcolor\":\"white\",\"plot_bgcolor\":\"#E5ECF6\",\"polar\":{\"bgcolor\":\"#E5ECF6\",\"angularaxis\":{\"gridcolor\":\"white\",\"linecolor\":\"white\",\"ticks\":\"\"},\"radialaxis\":{\"gridcolor\":\"white\",\"linecolor\":\"white\",\"ticks\":\"\"}},\"ternary\":{\"bgcolor\":\"#E5ECF6\",\"aaxis\":{\"gridcolor\":\"white\",\"linecolor\":\"white\",\"ticks\":\"\"},\"baxis\":{\"gridcolor\":\"white\",\"linecolor\":\"white\",\"ticks\":\"\"},\"caxis\":{\"gridcolor\":\"white\",\"linecolor\":\"white\",\"ticks\":\"\"}},\"coloraxis\":{\"colorbar\":{\"outlinewidth\":0,\"ticks\":\"\"}},\"colorscale\":{\"sequential\":[[0.0,\"#0d0887\"],[0.1111111111111111,\"#46039f\"],[0.2222222222222222,\"#7201a8\"],[0.3333333333333333,\"#9c179e\"],[0.4444444444444444,\"#bd3786\"],[0.5555555555555556,\"#d8576b\"],[0.6666666666666666,\"#ed7953\"],[0.7777777777777778,\"#fb9f3a\"],[0.8888888888888888,\"#fdca26\"],[1.0,\"#f0f921\"]],\"sequentialminus\":[[0.0,\"#0d0887\"],[0.1111111111111111,\"#46039f\"],[0.2222222222222222,\"#7201a8\"],[0.3333333333333333,\"#9c179e\"],[0.4444444444444444,\"#bd3786\"],[0.5555555555555556,\"#d8576b\"],[0.6666666666666666,\"#ed7953\"],[0.7777777777777778,\"#fb9f3a\"],[0.8888888888888888,\"#fdca26\"],[1.0,\"#f0f921\"]],\"diverging\":[[0,\"#8e0152\"],[0.1,\"#c51b7d\"],[0.2,\"#de77ae\"],[0.3,\"#f1b6da\"],[0.4,\"#fde0ef\"],[0.5,\"#f7f7f7\"],[0.6,\"#e6f5d0\"],[0.7,\"#b8e186\"],[0.8,\"#7fbc41\"],[0.9,\"#4d9221\"],[1,\"#276419\"]]},\"xaxis\":{\"gridcolor\":\"white\",\"linecolor\":\"white\",\"ticks\":\"\",\"title\":{\"standoff\":15},\"zerolinecolor\":\"white\",\"automargin\":true,\"zerolinewidth\":2},\"yaxis\":{\"gridcolor\":\"white\",\"linecolor\":\"white\",\"ticks\":\"\",\"title\":{\"standoff\":15},\"zerolinecolor\":\"white\",\"automargin\":true,\"zerolinewidth\":2},\"scene\":{\"xaxis\":{\"backgroundcolor\":\"#E5ECF6\",\"gridcolor\":\"white\",\"linecolor\":\"white\",\"showbackground\":true,\"ticks\":\"\",\"zerolinecolor\":\"white\",\"gridwidth\":2},\"yaxis\":{\"backgroundcolor\":\"#E5ECF6\",\"gridcolor\":\"white\",\"linecolor\":\"white\",\"showbackground\":true,\"ticks\":\"\",\"zerolinecolor\":\"white\",\"gridwidth\":2},\"zaxis\":{\"backgroundcolor\":\"#E5ECF6\",\"gridcolor\":\"white\",\"linecolor\":\"white\",\"showbackground\":true,\"ticks\":\"\",\"zerolinecolor\":\"white\",\"gridwidth\":2}},\"shapedefaults\":{\"line\":{\"color\":\"#2a3f5f\"}},\"annotationdefaults\":{\"arrowcolor\":\"#2a3f5f\",\"arrowhead\":0,\"arrowwidth\":1},\"geo\":{\"bgcolor\":\"white\",\"landcolor\":\"#E5ECF6\",\"subunitcolor\":\"white\",\"showland\":true,\"showlakes\":true,\"lakecolor\":\"white\"},\"title\":{\"x\":0.05},\"mapbox\":{\"style\":\"light\"}}}},                        {\"responsive\": true}                    ).then(function(){\n",
       "                            \n",
       "var gd = document.getElementById('70a60fea-15fc-4dbe-a42a-68e63a528351');\n",
>>>>>>> b907969426b4bd0714bc9c2551371e0e378c5685
       "var x = new MutationObserver(function (mutations, observer) {{\n",
       "        var display = window.getComputedStyle(gd).display;\n",
       "        if (!display || display === 'none') {{\n",
       "            console.log([gd, 'removed!']);\n",
       "            Plotly.purge(gd);\n",
       "            observer.disconnect();\n",
       "        }}\n",
       "}});\n",
       "\n",
       "// Listen for the removal of the full notebook cells\n",
       "var notebookContainer = gd.closest('#notebook-container');\n",
       "if (notebookContainer) {{\n",
       "    x.observe(notebookContainer, {childList: true});\n",
       "}}\n",
       "\n",
       "// Listen for the clearing of the current output cell\n",
       "var outputEl = gd.closest('.output');\n",
       "if (outputEl) {{\n",
       "    x.observe(outputEl, {childList: true});\n",
       "}}\n",
       "\n",
       "                        })                };                });            </script>        </div>"
      ]
     },
     "metadata": {},
     "output_type": "display_data"
    }
   ],
   "source": [
    "fig = go.Figure(data=go.Scatter(x=X, y=[y.cdf(z) for z in X]))\n",
    "fig.show()"
   ]
  },
  {
   "cell_type": "markdown",
   "metadata": {},
   "source": [
    "### (3)\n",
    "\n",
    "**Same as (2), but convolutions of independent continuous random variables?**\n",
    "\n",
    "Helpful: https://stats.libretexts.org/Bookshelves/Probability_Theory/Probability_Mathematical_Statistics_and_Stochastic_Processes_(Siegrist)/03%3A_Distributions/3.07%3A_Transformations_of_Random_Variables\n",
    "\n",
    "Helpful for CDF: https://web.stanford.edu/class/archive/cs/cs109/cs109.1182/lectures/15%20Convolution.pdf"
   ]
  },
  {
   "cell_type": "code",
   "execution_count": 6,
   "metadata": {},
   "outputs": [],
   "source": [
    "from scipy.stats import distributions as iid\n",
    "from scipy.integrate import quad\n",
    "import numpy as np\n",
    "\n",
    "class ConvolvedTwoContinuous(iid.rv_continuous):\n",
    "\n",
    "    \"\"\"Convolve (add) a continuous rv x1 and another continuous rv x2,\n",
    "       returning the resulting cdf.\"\"\"\n",
    "\n",
    "    def __init__(self,x1,x2):\n",
    "        self.continuous_rv1 = x1\n",
    "        self.continuous_rv2 = x2\n",
    "        super(ConvolvedTwoContinuous, self).__init__(name=\"ConvolvedTwoContinuous\")\n",
    "        \n",
    "    def _cdf(self,z):\n",
    "        F=0\n",
    "        x1 = self.continuous_rv1\n",
    "        x2 = self.continuous_rv2\n",
    "        \n",
    "        # use CDF of x1\n",
    "        F = quad(lambda x: x1.cdf(x)*x2.pdf(z-x), -np.inf, np.inf)\n",
    "        \n",
    "        return F\n",
    "\n",
    "    def _pdf(self,z):\n",
    "        f=0\n",
    "        x1 = self.continuous_rv1\n",
    "        x2 = self.continuous_rv2\n",
    "        \n",
    "        f = quad(lambda x: x1.pdf(x)*x2.pdf(z-x), -np.inf, np.inf)\n",
    "        \n",
    "        return f"
   ]
  },
  {
   "cell_type": "code",
<<<<<<< HEAD
   "execution_count": 7,
=======
   "execution_count": 17,
>>>>>>> b907969426b4bd0714bc9c2551371e0e378c5685
   "metadata": {},
   "outputs": [],
   "source": [
    "x1 = iid.norm()\n",
    "x2 = iid.norm(loc=1, scale=2)\n",
    "\n",
    "# match Neri\n",
    "x2 = iid.norm()"
   ]
  },
  {
   "cell_type": "code",
<<<<<<< HEAD
   "execution_count": 8,
=======
   "execution_count": 18,
>>>>>>> b907969426b4bd0714bc9c2551371e0e378c5685
   "metadata": {},
   "outputs": [],
   "source": [
    "y = ConvolvedTwoContinuous(x1,x2)"
   ]
  },
  {
   "cell_type": "code",
<<<<<<< HEAD
   "execution_count": 9,
=======
   "execution_count": 20,
>>>>>>> b907969426b4bd0714bc9c2551371e0e378c5685
   "metadata": {},
   "outputs": [
    {
     "data": {
      "application/vnd.plotly.v1+json": {
       "config": {
        "plotlyServerURL": "https://plot.ly"
       },
       "data": [
        {
         "type": "scatter",
         "x": [
          -4,
          -3.8585858585858586,
          -3.717171717171717,
          -3.5757575757575757,
          -3.4343434343434343,
          -3.292929292929293,
          -3.1515151515151514,
          -3.0101010101010104,
          -2.8686868686868685,
          -2.7272727272727275,
          -2.5858585858585856,
          -2.4444444444444446,
          -2.303030303030303,
          -2.1616161616161618,
          -2.0202020202020203,
          -1.878787878787879,
          -1.7373737373737375,
          -1.595959595959596,
          -1.4545454545454546,
          -1.3131313131313131,
          -1.1717171717171717,
          -1.0303030303030303,
          -0.8888888888888888,
          -0.7474747474747474,
          -0.6060606060606064,
          -0.464646464646465,
          -0.32323232323232354,
          -0.1818181818181821,
          -0.040404040404040664,
          0.10101010101010122,
          0.2424242424242422,
          0.3838383838383841,
          0.5252525252525251,
          0.6666666666666661,
          0.808080808080808,
          0.949494949494949,
          1.0909090909090908,
          1.2323232323232318,
          1.3737373737373737,
          1.5151515151515147,
          1.6565656565656566,
          1.7979797979797976,
          1.9393939393939394,
          2.0808080808080804,
          2.2222222222222223,
          2.3636363636363633,
          2.505050505050505,
          2.646464646464646,
          2.787878787878787,
          2.929292929292929,
          3.07070707070707,
          3.212121212121212,
          3.353535353535353,
          3.494949494949495,
          3.636363636363636,
          3.7777777777777777,
          3.9191919191919187,
          4.0606060606060606,
          4.202020202020202,
          4.3434343434343425,
          4.484848484848484,
          4.626262626262626,
          4.767676767676768,
          4.909090909090908,
          5.05050505050505,
          5.191919191919192,
          5.333333333333332,
          5.474747474747474,
          5.616161616161616,
          5.757575757575758,
          5.898989898989898,
          6.04040404040404,
          6.181818181818182,
          6.3232323232323235,
          6.464646464646464,
          6.6060606060606055,
          6.747474747474747,
          6.888888888888889,
          7.030303030303029,
          7.171717171717171,
          7.313131313131313,
          7.454545454545453,
          7.595959595959595,
          7.737373737373737,
          7.878787878787879,
          8.020202020202019,
          8.16161616161616,
          8.303030303030303,
          8.444444444444445,
          8.585858585858585,
          8.727272727272727,
          8.868686868686869,
          9.01010101010101,
          9.15151515151515,
          9.292929292929292,
          9.434343434343434,
          9.575757575757574,
          9.717171717171716,
          9.858585858585858,
          10
         ],
         "y": [
          0.005166746338523019,
          0.006821449244524812,
          0.008916484564229799,
          0.01153899992081982,
          0.014784279927987375,
          0.01875381734522073,
          0.0235524822414086,
          0.029284727451718014,
          0.03604982710902616,
          0.04393621940289616,
          0.05301511168178699,
          0.06333360006294356,
          0.07490764923888779,
          0.08771536187567129,
          0.1016910306422568,
          0.11672049931906123,
          0.13263835371987592,
          0.14922741201164733,
          0.1662208848808268,
          0.1833074309988774,
          0.20013914964916893,
          0.21634234248431988,
          0.2315306567443094,
          0.24532001231790995,
          0.2573445351906498,
          0.2672725892761171,
          0.27482193306273506,
          0.27977303710086465,
          0.28197968628051495,
          0.28137615255490006,
          0.2779804471345633,
          0.271893427612617,
          0.26329382178384947,
          0.25242951074782893,
          0.23960566448866924,
          0.22517052200024165,
          0.2094997391681116,
          0.19298028207412515,
          0.175994819948951,
          0.15890747697520452,
          0.1420516482965527,
          0.12572039037154722,
          0.11015967921868967,
          0.0955646123864586,
          0.08207843005775964,
          0.06979406242610459,
          0.058757784553455164,
          0.04897448137806988,
          0.04041399442004019,
          0.033018033737492306,
          0.026707186245792408,
          0.02138762503039535,
          0.016957213417390773,
          0.013310792368264478,
          0.010344531592450096,
          0.007959306881921892,
          0.006063134015262857,
          0.004572740791249516,
          0.0034143929281906407,
          0.0025241078702079385,
          0.0018473952472168778,
          0.0013386567471670486,
          0.0009603645905810222,
          0.0006821196252466653,
          0.00047966988042762073,
          0.0003339503103908803,
          0.0002301859184245636,
          0.00015708443391352996,
          0.0001061316823857017,
          7.099282271586794e-05,
          4.7015530221630155e-05,
          3.082660733706733e-05,
          2.0010946047132584e-05,
          1.2860771137668812e-05,
          8.183213781110003e-06,
          5.155114103296865e-06,
          3.215216086825707e-06,
          1.985361281981954e-06,
          1.2137421342119034e-06,
          7.346336324958701e-07,
          4.402229542558464e-07,
          2.611752740809099e-07,
          1.5340832660016624e-07,
          8.921200588852217e-08,
          5.136356679327602e-08,
          2.9278211434208925e-08,
          1.6523095360590127e-08,
          8.908603865380569e-09,
          4.867444272223868e-09,
          2.6338660962013245e-09,
          1.412822993187881e-09,
          7.520080978098023e-10,
          3.9759852786446716e-10,
          2.090105045436655e-10,
          1.0932709185737642e-10,
          5.69295275801745e-11,
          2.951593741744098e-11,
          1.5232558842998353e-11,
          7.820010336385256e-12,
          3.989667665636612e-12
         ]
        }
       ],
       "layout": {
        "template": {
         "data": {
          "bar": [
           {
            "error_x": {
             "color": "#2a3f5f"
            },
            "error_y": {
             "color": "#2a3f5f"
            },
            "marker": {
             "line": {
              "color": "#E5ECF6",
              "width": 0.5
             },
             "pattern": {
              "fillmode": "overlay",
              "size": 10,
              "solidity": 0.2
             }
            },
            "type": "bar"
           }
          ],
          "barpolar": [
           {
            "marker": {
             "line": {
              "color": "#E5ECF6",
              "width": 0.5
             },
             "pattern": {
              "fillmode": "overlay",
              "size": 10,
              "solidity": 0.2
             }
            },
            "type": "barpolar"
           }
          ],
          "carpet": [
           {
            "aaxis": {
             "endlinecolor": "#2a3f5f",
             "gridcolor": "white",
             "linecolor": "white",
             "minorgridcolor": "white",
             "startlinecolor": "#2a3f5f"
            },
            "baxis": {
             "endlinecolor": "#2a3f5f",
             "gridcolor": "white",
             "linecolor": "white",
             "minorgridcolor": "white",
             "startlinecolor": "#2a3f5f"
            },
            "type": "carpet"
           }
          ],
          "choropleth": [
           {
            "colorbar": {
             "outlinewidth": 0,
             "ticks": ""
            },
            "type": "choropleth"
           }
          ],
          "contour": [
           {
            "colorbar": {
             "outlinewidth": 0,
             "ticks": ""
            },
            "colorscale": [
             [
              0,
              "#0d0887"
             ],
             [
              0.1111111111111111,
              "#46039f"
             ],
             [
              0.2222222222222222,
              "#7201a8"
             ],
             [
              0.3333333333333333,
              "#9c179e"
             ],
             [
              0.4444444444444444,
              "#bd3786"
             ],
             [
              0.5555555555555556,
              "#d8576b"
             ],
             [
              0.6666666666666666,
              "#ed7953"
             ],
             [
              0.7777777777777778,
              "#fb9f3a"
             ],
             [
              0.8888888888888888,
              "#fdca26"
             ],
             [
              1,
              "#f0f921"
             ]
            ],
            "type": "contour"
           }
          ],
          "contourcarpet": [
           {
            "colorbar": {
             "outlinewidth": 0,
             "ticks": ""
            },
            "type": "contourcarpet"
           }
          ],
          "heatmap": [
           {
            "colorbar": {
             "outlinewidth": 0,
             "ticks": ""
            },
            "colorscale": [
             [
              0,
              "#0d0887"
             ],
             [
              0.1111111111111111,
              "#46039f"
             ],
             [
              0.2222222222222222,
              "#7201a8"
             ],
             [
              0.3333333333333333,
              "#9c179e"
             ],
             [
              0.4444444444444444,
              "#bd3786"
             ],
             [
              0.5555555555555556,
              "#d8576b"
             ],
             [
              0.6666666666666666,
              "#ed7953"
             ],
             [
              0.7777777777777778,
              "#fb9f3a"
             ],
             [
              0.8888888888888888,
              "#fdca26"
             ],
             [
              1,
              "#f0f921"
             ]
            ],
            "type": "heatmap"
           }
          ],
          "heatmapgl": [
           {
            "colorbar": {
             "outlinewidth": 0,
             "ticks": ""
            },
            "colorscale": [
             [
              0,
              "#0d0887"
             ],
             [
              0.1111111111111111,
              "#46039f"
             ],
             [
              0.2222222222222222,
              "#7201a8"
             ],
             [
              0.3333333333333333,
              "#9c179e"
             ],
             [
              0.4444444444444444,
              "#bd3786"
             ],
             [
              0.5555555555555556,
              "#d8576b"
             ],
             [
              0.6666666666666666,
              "#ed7953"
             ],
             [
              0.7777777777777778,
              "#fb9f3a"
             ],
             [
              0.8888888888888888,
              "#fdca26"
             ],
             [
              1,
              "#f0f921"
             ]
            ],
            "type": "heatmapgl"
           }
          ],
          "histogram": [
           {
            "marker": {
             "pattern": {
              "fillmode": "overlay",
              "size": 10,
              "solidity": 0.2
             }
            },
            "type": "histogram"
           }
          ],
          "histogram2d": [
           {
            "colorbar": {
             "outlinewidth": 0,
             "ticks": ""
            },
            "colorscale": [
             [
              0,
              "#0d0887"
             ],
             [
              0.1111111111111111,
              "#46039f"
             ],
             [
              0.2222222222222222,
              "#7201a8"
             ],
             [
              0.3333333333333333,
              "#9c179e"
             ],
             [
              0.4444444444444444,
              "#bd3786"
             ],
             [
              0.5555555555555556,
              "#d8576b"
             ],
             [
              0.6666666666666666,
              "#ed7953"
             ],
             [
              0.7777777777777778,
              "#fb9f3a"
             ],
             [
              0.8888888888888888,
              "#fdca26"
             ],
             [
              1,
              "#f0f921"
             ]
            ],
            "type": "histogram2d"
           }
          ],
          "histogram2dcontour": [
           {
            "colorbar": {
             "outlinewidth": 0,
             "ticks": ""
            },
            "colorscale": [
             [
              0,
              "#0d0887"
             ],
             [
              0.1111111111111111,
              "#46039f"
             ],
             [
              0.2222222222222222,
              "#7201a8"
             ],
             [
              0.3333333333333333,
              "#9c179e"
             ],
             [
              0.4444444444444444,
              "#bd3786"
             ],
             [
              0.5555555555555556,
              "#d8576b"
             ],
             [
              0.6666666666666666,
              "#ed7953"
             ],
             [
              0.7777777777777778,
              "#fb9f3a"
             ],
             [
              0.8888888888888888,
              "#fdca26"
             ],
             [
              1,
              "#f0f921"
             ]
            ],
            "type": "histogram2dcontour"
           }
          ],
          "mesh3d": [
           {
            "colorbar": {
             "outlinewidth": 0,
             "ticks": ""
            },
            "type": "mesh3d"
           }
          ],
          "parcoords": [
           {
            "line": {
             "colorbar": {
              "outlinewidth": 0,
              "ticks": ""
             }
            },
            "type": "parcoords"
           }
          ],
          "pie": [
           {
            "automargin": true,
            "type": "pie"
           }
          ],
          "scatter": [
           {
            "fillpattern": {
             "fillmode": "overlay",
             "size": 10,
             "solidity": 0.2
            },
            "type": "scatter"
           }
          ],
          "scatter3d": [
           {
            "line": {
             "colorbar": {
              "outlinewidth": 0,
              "ticks": ""
             }
            },
            "marker": {
             "colorbar": {
              "outlinewidth": 0,
              "ticks": ""
             }
            },
            "type": "scatter3d"
           }
          ],
          "scattercarpet": [
           {
            "marker": {
             "colorbar": {
              "outlinewidth": 0,
              "ticks": ""
             }
            },
            "type": "scattercarpet"
           }
          ],
          "scattergeo": [
           {
            "marker": {
             "colorbar": {
              "outlinewidth": 0,
              "ticks": ""
             }
            },
            "type": "scattergeo"
           }
          ],
          "scattergl": [
           {
            "marker": {
             "colorbar": {
              "outlinewidth": 0,
              "ticks": ""
             }
            },
            "type": "scattergl"
           }
          ],
          "scattermapbox": [
           {
            "marker": {
             "colorbar": {
              "outlinewidth": 0,
              "ticks": ""
             }
            },
            "type": "scattermapbox"
           }
          ],
          "scatterpolar": [
           {
            "marker": {
             "colorbar": {
              "outlinewidth": 0,
              "ticks": ""
             }
            },
            "type": "scatterpolar"
           }
          ],
          "scatterpolargl": [
           {
            "marker": {
             "colorbar": {
              "outlinewidth": 0,
              "ticks": ""
             }
            },
            "type": "scatterpolargl"
           }
          ],
          "scatterternary": [
           {
            "marker": {
             "colorbar": {
              "outlinewidth": 0,
              "ticks": ""
             }
            },
            "type": "scatterternary"
           }
          ],
          "surface": [
           {
            "colorbar": {
             "outlinewidth": 0,
             "ticks": ""
            },
            "colorscale": [
             [
              0,
              "#0d0887"
             ],
             [
              0.1111111111111111,
              "#46039f"
             ],
             [
              0.2222222222222222,
              "#7201a8"
             ],
             [
              0.3333333333333333,
              "#9c179e"
             ],
             [
              0.4444444444444444,
              "#bd3786"
             ],
             [
              0.5555555555555556,
              "#d8576b"
             ],
             [
              0.6666666666666666,
              "#ed7953"
             ],
             [
              0.7777777777777778,
              "#fb9f3a"
             ],
             [
              0.8888888888888888,
              "#fdca26"
             ],
             [
              1,
              "#f0f921"
             ]
            ],
            "type": "surface"
           }
          ],
          "table": [
           {
            "cells": {
             "fill": {
              "color": "#EBF0F8"
             },
             "line": {
              "color": "white"
             }
            },
            "header": {
             "fill": {
              "color": "#C8D4E3"
             },
             "line": {
              "color": "white"
             }
            },
            "type": "table"
           }
          ]
         },
         "layout": {
          "annotationdefaults": {
           "arrowcolor": "#2a3f5f",
           "arrowhead": 0,
           "arrowwidth": 1
          },
          "autotypenumbers": "strict",
          "coloraxis": {
           "colorbar": {
            "outlinewidth": 0,
            "ticks": ""
           }
          },
          "colorscale": {
           "diverging": [
            [
             0,
             "#8e0152"
            ],
            [
             0.1,
             "#c51b7d"
            ],
            [
             0.2,
             "#de77ae"
            ],
            [
             0.3,
             "#f1b6da"
            ],
            [
             0.4,
             "#fde0ef"
            ],
            [
             0.5,
             "#f7f7f7"
            ],
            [
             0.6,
             "#e6f5d0"
            ],
            [
             0.7,
             "#b8e186"
            ],
            [
             0.8,
             "#7fbc41"
            ],
            [
             0.9,
             "#4d9221"
            ],
            [
             1,
             "#276419"
            ]
           ],
           "sequential": [
            [
             0,
             "#0d0887"
            ],
            [
             0.1111111111111111,
             "#46039f"
            ],
            [
             0.2222222222222222,
             "#7201a8"
            ],
            [
             0.3333333333333333,
             "#9c179e"
            ],
            [
             0.4444444444444444,
             "#bd3786"
            ],
            [
             0.5555555555555556,
             "#d8576b"
            ],
            [
             0.6666666666666666,
             "#ed7953"
            ],
            [
             0.7777777777777778,
             "#fb9f3a"
            ],
            [
             0.8888888888888888,
             "#fdca26"
            ],
            [
             1,
             "#f0f921"
            ]
           ],
           "sequentialminus": [
            [
             0,
             "#0d0887"
            ],
            [
             0.1111111111111111,
             "#46039f"
            ],
            [
             0.2222222222222222,
             "#7201a8"
            ],
            [
             0.3333333333333333,
             "#9c179e"
            ],
            [
             0.4444444444444444,
             "#bd3786"
            ],
            [
             0.5555555555555556,
             "#d8576b"
            ],
            [
             0.6666666666666666,
             "#ed7953"
            ],
            [
             0.7777777777777778,
             "#fb9f3a"
            ],
            [
             0.8888888888888888,
             "#fdca26"
            ],
            [
             1,
             "#f0f921"
            ]
           ]
          },
          "colorway": [
           "#636efa",
           "#EF553B",
           "#00cc96",
           "#ab63fa",
           "#FFA15A",
           "#19d3f3",
           "#FF6692",
           "#B6E880",
           "#FF97FF",
           "#FECB52"
          ],
          "font": {
           "color": "#2a3f5f"
          },
          "geo": {
           "bgcolor": "white",
           "lakecolor": "white",
           "landcolor": "#E5ECF6",
           "showlakes": true,
           "showland": true,
           "subunitcolor": "white"
          },
          "hoverlabel": {
           "align": "left"
          },
          "hovermode": "closest",
          "mapbox": {
           "style": "light"
          },
          "paper_bgcolor": "white",
          "plot_bgcolor": "#E5ECF6",
          "polar": {
           "angularaxis": {
            "gridcolor": "white",
            "linecolor": "white",
            "ticks": ""
           },
           "bgcolor": "#E5ECF6",
           "radialaxis": {
            "gridcolor": "white",
            "linecolor": "white",
            "ticks": ""
           }
          },
          "scene": {
           "xaxis": {
            "backgroundcolor": "#E5ECF6",
            "gridcolor": "white",
            "gridwidth": 2,
            "linecolor": "white",
            "showbackground": true,
            "ticks": "",
            "zerolinecolor": "white"
           },
           "yaxis": {
            "backgroundcolor": "#E5ECF6",
            "gridcolor": "white",
            "gridwidth": 2,
            "linecolor": "white",
            "showbackground": true,
            "ticks": "",
            "zerolinecolor": "white"
           },
           "zaxis": {
            "backgroundcolor": "#E5ECF6",
            "gridcolor": "white",
            "gridwidth": 2,
            "linecolor": "white",
            "showbackground": true,
            "ticks": "",
            "zerolinecolor": "white"
           }
          },
          "shapedefaults": {
           "line": {
            "color": "#2a3f5f"
           }
          },
          "ternary": {
           "aaxis": {
            "gridcolor": "white",
            "linecolor": "white",
            "ticks": ""
           },
           "baxis": {
            "gridcolor": "white",
            "linecolor": "white",
            "ticks": ""
           },
           "bgcolor": "#E5ECF6",
           "caxis": {
            "gridcolor": "white",
            "linecolor": "white",
            "ticks": ""
           }
          },
          "title": {
           "x": 0.05
          },
          "xaxis": {
           "automargin": true,
           "gridcolor": "white",
           "linecolor": "white",
           "ticks": "",
           "title": {
            "standoff": 15
           },
           "zerolinecolor": "white",
           "zerolinewidth": 2
          },
          "yaxis": {
           "automargin": true,
           "gridcolor": "white",
           "linecolor": "white",
           "ticks": "",
           "title": {
            "standoff": 15
           },
           "zerolinecolor": "white",
           "zerolinewidth": 2
          }
         }
        }
       }
      },
      "text/html": [
<<<<<<< HEAD
       "<div>                            <div id=\"45ac2751-43dd-45f9-9023-b6a41660ad09\" class=\"plotly-graph-div\" style=\"height:525px; width:100%;\"></div>            <script type=\"text/javascript\">                require([\"plotly\"], function(Plotly) {                    window.PLOTLYENV=window.PLOTLYENV || {};                                    if (document.getElementById(\"45ac2751-43dd-45f9-9023-b6a41660ad09\")) {                    Plotly.newPlot(                        \"45ac2751-43dd-45f9-9023-b6a41660ad09\",                        [{\"x\":[-10.0,-9.959919839679358,-9.919839679358718,-9.879759519038076,-9.839679358717435,-9.799599198396793,-9.759519038076153,-9.719438877755511,-9.67935871743487,-9.639278557114228,-9.599198396793588,-9.559118236472946,-9.519038076152304,-9.478957915831664,-9.438877755511022,-9.39879759519038,-9.358717434869739,-9.318637274549099,-9.278557114228457,-9.238476953907815,-9.198396793587175,-9.158316633266534,-9.118236472945892,-9.07815631262525,-9.03807615230461,-8.997995991983968,-8.957915831663327,-8.917835671342685,-8.877755511022045,-8.837675350701403,-8.797595190380761,-8.75751503006012,-8.71743486973948,-8.677354709418838,-8.637274549098196,-8.597194388777556,-8.557114228456914,-8.517034068136272,-8.47695390781563,-8.43687374749499,-8.396793587174349,-8.356713426853707,-8.316633266533067,-8.276553106212425,-8.236472945891784,-8.196392785571142,-8.156312625250502,-8.11623246492986,-8.076152304609218,-8.036072144288577,-7.9959919839679365,-7.955911823647295,-7.915831663326653,-7.875751503006012,-7.835671342685371,-7.7955911823647295,-7.755511022044088,-7.715430861723447,-7.675350701402806,-7.635270541082164,-7.595190380761523,-7.555110220440882,-7.515030060120241,-7.474949899799599,-7.434869739478958,-7.394789579158317,-7.354709418837675,-7.314629258517034,-7.274549098196393,-7.234468937875752,-7.19438877755511,-7.154308617234469,-7.114228456913828,-7.074148296593187,-7.034068136272545,-6.993987975951904,-6.953907815631263,-6.913827655310621,-6.8737474949899795,-6.833667334669339,-6.793587174348698,-6.753507014028056,-6.713426853707415,-6.673346693386774,-6.6332665330661325,-6.593186372745491,-6.55310621242485,-6.513026052104209,-6.472945891783567,-6.432865731462925,-6.3927855711422845,-6.352705410821644,-6.312625250501002,-6.272545090180361,-6.23246492985972,-6.192384769539078,-6.152304609218437,-6.112224448897796,-6.072144288577155,-6.032064128256513,-5.991983967935872,-5.95190380761523,-5.9118236472945895,-5.871743486973948,-5.831663326653307,-5.791583166332665,-5.751503006012024,-5.711422845691383,-5.671342685370742,-5.631262525050101,-5.591182364729459,-5.551102204408818,-5.511022044088176,-5.470941883767535,-5.430861723446894,-5.390781563126253,-5.350701402805611,-5.31062124248497,-5.270541082164329,-5.2304609218436875,-5.190380761523047,-5.150300601202405,-5.110220440881764,-5.070140280561122,-5.030060120240481,-4.98997995991984,-4.949899799599199,-4.909819639278557,-4.869739478957916,-4.829659318637275,-4.789579158316633,-4.7494989979959925,-4.709418837675351,-4.66933867735471,-4.629258517034068,-4.589178356713427,-4.5490981963927855,-4.509018036072145,-4.468937875751503,-4.428857715430862,-4.388777555110221,-4.348697394789579,-4.308617234468938,-4.268537074148297,-4.228456913827656,-4.188376753507014,-4.148296593186373,-4.108216432865731,-4.0681362725450905,-4.028056112224449,-3.987975951903808,-3.947895791583167,-3.907815631262525,-3.8677354709418843,-3.8276553106212425,-3.7875751503006017,-3.74749498997996,-3.707414829659319,-3.6673346693386772,-3.6272545090180364,-3.5871743486973955,-3.5470941883767537,-3.507014028056113,-3.466933867735471,-3.42685370741483,-3.3867735470941884,-3.3466933867735476,-3.306613226452906,-3.266533066132265,-3.226452905811623,-3.1863727454909823,-3.1462925851703414,-3.1062124248496996,-3.0661322645290587,-3.026052104208417,-2.985971943887776,-2.9458917835671343,-2.9058116232464934,-2.8657314629258517,-2.825651302605211,-2.785571142284569,-2.745490981963928,-2.7054108216432873,-2.6653306613226455,-2.6252505010020046,-2.585170340681363,-2.545090180360722,-2.50501002004008,-2.4649298597194393,-2.4248496993987976,-2.3847695390781567,-2.344689378757515,-2.304609218436874,-2.264529058116233,-2.2244488977955914,-2.1843687374749505,-2.1442885771543088,-2.104208416833668,-2.064128256513026,-2.0240480961923852,-1.9839679358717444,-1.9438877755511026,-1.9038076152304608,-1.8637274549098208,-1.823647294589179,-1.7835671342685373,-1.7434869739478955,-1.7034068136272555,-1.6633266533066138,-1.623246492985972,-1.5831663326653302,-1.5430861723446903,-1.5030060120240485,-1.4629258517034067,-1.4228456913827667,-1.382765531062125,-1.3426853707414832,-1.3026052104208414,-1.2625250501002014,-1.2224448897795597,-1.182364729458918,-1.1422845691382761,-1.1022044088176361,-1.0621242484969944,-1.0220440881763526,-0.9819639278557126,-0.9418837675350709,-0.9018036072144291,-0.8617234468937873,-0.8216432865731473,-0.7815631262525056,-0.7414829659318638,-0.701402805611222,-0.661322645290582,-0.6212424849699403,-0.5811623246492985,-0.5410821643286585,-0.5010020040080168,-0.460921843687375,-0.4208416833667332,-0.38076152304609323,-0.34068136272545146,-0.3006012024048097,-0.26052104208416793,-0.22044088176352794,-0.18036072144288617,-0.1402805611222444,-0.10020040080160442,-0.06012024048096265,-0.020040080160320883,0.020040080160320883,0.060120240480960874,0.10020040080160264,0.1402805611222444,0.18036072144288617,0.22044088176352616,0.26052104208416793,0.3006012024048097,0.3406813627254497,0.38076152304609145,0.4208416833667332,0.460921843687375,0.501002004008015,0.5410821643286567,0.5811623246492985,0.6212424849699403,0.6613226452905803,0.701402805611222,0.7414829659318638,0.7815631262525038,0.8216432865731456,0.8617234468937873,0.9018036072144291,0.9418837675350691,0.9819639278557108,1.0220440881763526,1.0621242484969944,1.1022044088176344,1.1422845691382761,1.182364729458918,1.222444889779558,1.2625250501001997,1.3026052104208414,1.3426853707414832,1.3827655310621232,1.422845691382765,1.4629258517034067,1.5030060120240485,1.5430861723446885,1.5831663326653302,1.623246492985972,1.663326653306612,1.7034068136272538,1.7434869739478955,1.7835671342685373,1.8236472945891773,1.863727454909819,1.9038076152304608,1.9438877755511026,1.9839679358717426,2.0240480961923843,2.064128256513026,2.104208416833666,2.144288577154308,2.1843687374749496,2.2244488977955914,2.2645290581162314,2.304609218436873,2.344689378757515,2.3847695390781567,2.4248496993987967,2.4649298597194385,2.50501002004008,2.54509018036072,2.585170340681362,2.6252505010020037,2.6653306613226455,2.7054108216432855,2.7454909819639273,2.785571142284569,2.825651302605209,2.865731462925851,2.9058116232464926,2.9458917835671343,2.9859719438877743,3.026052104208416,3.066132264529058,3.1062124248496996,3.1462925851703396,3.1863727454909814,3.226452905811623,3.266533066132263,3.306613226452905,3.3466933867735467,3.3867735470941884,3.4268537074148284,3.46693386773547,3.507014028056112,3.5470941883767537,3.5871743486973937,3.6272545090180355,3.6673346693386772,3.7074148296593172,3.747494989979959,3.7875751503006008,3.8276553106212425,3.8677354709418825,3.9078156312625243,3.947895791583166,3.987975951903808,4.028056112224448,4.06813627254509,4.108216432865731,4.148296593186371,4.188376753507013,4.228456913827655,4.268537074148297,4.308617234468937,4.348697394789578,4.38877755511022,4.428857715430862,4.468937875751502,4.509018036072144,4.5490981963927855,4.589178356713425,4.629258517034067,4.669338677354709,4.709418837675351,4.749498997995991,4.7895791583166325,4.829659318637274,4.869739478957916,4.909819639278556,4.949899799599198,4.98997995991984,5.0300601202404795,5.070140280561121,5.110220440881763,5.150300601202405,5.190380761523045,5.230460921843687,5.270541082164328,5.31062124248497,5.35070140280561,5.390781563126252,5.430861723446894,5.470941883767534,5.511022044088175,5.551102204408817,5.591182364729459,5.631262525050099,5.671342685370741,5.7114228456913825,5.751503006012024,5.791583166332664,5.831663326653306,5.871743486973948,5.911823647294588,5.9519038076152295,5.991983967935871,6.032064128256511,6.072144288577153,6.112224448897795,6.152304609218437,6.192384769539078,6.23246492985972,6.272545090180358,6.312625250501,6.352705410821642,6.392785571142284,6.432865731462925,6.472945891783567,6.513026052104209,6.553106212424851,6.593186372745489,6.633266533066131,6.673346693386772,6.713426853707414,6.753507014028056,6.793587174348698,6.8336673346693395,6.873747494989978,6.9138276553106195,6.953907815631261,6.993987975951903,7.034068136272545,7.074148296593187,7.114228456913828,7.1543086172344665,7.194388777555108,7.23446893787575,7.274549098196392,7.314629258517034,7.354709418837675,7.394789579158317,7.434869739478959,7.474949899799597,7.515030060120239,7.555110220440881,7.595190380761522,7.635270541082164,7.675350701402806,7.715430861723448,7.755511022044086,7.795591182364728,7.8356713426853695,7.875751503006011,7.915831663326653,7.955911823647295,7.9959919839679365,8.036072144288575,8.076152304609217,8.116232464929858,8.1563126252505,8.196392785571142,8.236472945891784,8.276553106212425,8.316633266533067,8.356713426853705,8.396793587174347,8.436873747494989,8.47695390781563,8.517034068136272,8.557114228456914,8.597194388777556,8.637274549098194,8.677354709418836,8.717434869739478,8.75751503006012,8.797595190380761,8.837675350701403,8.877755511022045,8.917835671342683,8.957915831663325,8.997995991983966,9.038076152304608,9.07815631262525,9.118236472945892,9.158316633266534,9.198396793587175,9.238476953907814,9.278557114228455,9.318637274549097,9.358717434869739,9.39879759519038,9.438877755511022,9.478957915831664,9.519038076152302,9.559118236472944,9.599198396793586,9.639278557114228,9.67935871743487,9.719438877755511,9.759519038076153,9.799599198396791,9.839679358717433,9.879759519038075,9.919839679358716,9.959919839679358,10.0],\"y\":[9.918861648497057e-07,1.083144927338275e-06,1.1824200241618952e-06,1.2903794847432933e-06,1.4077436980935925e-06,1.535289225699169e-06,1.6738528675626224e-06,1.8243359962327557e-06,1.987709174375336e-06,2.165017072176792e-06,2.3573837016361333e-06,2.5660179855866796e-06,2.7922196800976086e-06,3.0373856697364375e-06,3.3030166560256446e-06,3.5907242602997663e-06,3.902238563063035e-06,4.239416102859692e-06,4.604248358600125e-06,4.998870740233106e-06,5.425572113617941e-06,5.886804886426959e-06,6.385195682897806e-06,6.923556636255123e-06,7.504897328627979e-06,8.132437409303479e-06,8.809619923172895e-06,9.540125382244618e-06,1.0327886614111855e-05,1.1177104422272432e-05,1.2092264094196378e-05,1.3078152794024406e-05,1.4139877877748072e-05,1.5282886169670922e-05,1.6512984239869792e-05,1.7836359723267443e-05,1.9259603721780297e-05,2.0789734331817024e-05,2.2434221340170072e-05,2.420101213205105e-05,2.609855885567341e-05,2.8135846888368113e-05,3.032242464973003e-05,3.266843480772044e-05,3.518464692398953e-05,3.7882491584929475e-05,4.077409606510215e-05,4.387232156971296e-05,4.719080210270013e-05,5.074398500678282e-05,5.4547173221435634e-05,5.861656930423821e-05,6.29693212603618e-05,6.762357022410688e-05,7.25985000353656e-05,7.791438875266039e-05,8.359266214298069e-05,8.965594918700099e-05,9.612813963639794e-05,0.00010303444365788647,0.00011040145359625222,0.00011825720788606047,0.00012663125713885243,0.0001355547324295003,0.0001450604158019624,0.00015518281301095122,0.0001659582285119894,0.00017742484270797797,0.000189622791455722,0.00020259424783084003,0.00021638350614412464,0.0002310370681967106,0.0002466037317553403,0.00026313468122257053,0.0002806835793135959,0.0002993066662159017,0.0003190628509299927,0.0003400138137303004,0.0003622241094164883,0.0003857612587690198,0.00041069586967773676,0.0004371017331115289,0.00046505593365946455,0.0004946389590813174,0.000525934811243289,0.0005590311183069586,0.0005940192480281809,0.0006309944220109719,0.0006700558307494442,0.0007113067492785471,0.0007548546532417813,0.0008008113351711706,0.0008492930207616524,0.0009004204849086908,0.0009543191672643628,0.001011119287053403,0.0010709559568768154,0.0011339692952166739,0.0012003045373416145,0.001270112144298411,0.001343547909660894,0.0014207730636933882,0.0015019543745717892,0.0015872642462915838,0.001676880812878323,0.0017709880285026861,0.0018697757530889481,0.00197343983299294,0.0020821821763129873,0.0021962108223854042,0.0023157400050045755,0.0024409902088966978,0.002572188218966072,0.002709567161823115,0.0028533665390946274,0.003003832252008702,0.003161216616739813,0.0033257783699933434,0.0034977826643039947,0.0036775010525184394,0.0038652114609299994,0.004061198150531664,0.004265751665853548,0.0044791687708523745,0.00470175237132306,0.004933811423307085,0.005175660826977877,0.005427621305491319,0.005690019268298485,0.005963186658429011,0.0062474607832661904,0.006543184128349773,0.00685070415375924,0.007170373072648743,0.007502547611526032,0.007847588751889943,0.008205861452866451,0.008577734354509623,0.008963579461463506,0.009363771806711616,0.009778689095174566,0.010208711326951484,0.01065422040003864,0.011115599692398672,0.01159323362329506,0.012087507193851207,0.012598805506838583,0.01312751326574698,0.013674014253239258,0.014238690789145027,0.014821923168200737,0.015424089077799318,0.016045562996068814,0.016686715570657918,0.017347912978666197,0.018029516268217097,0.018731880682234917,0.019455354965048702,0.02020028065251157,0.02096699134638698,0.021755811973820195,0.02256705803277772,0.023401034824403744,0.02425803667330865,0.02513834613686954,0.026042233204689094,0.026969954489422465,0.027921752410247073,0.02889785437031177,0.029898471929564796,0.030923799974418596,0.03197401588576967,0.03304927870694664,0.03414972831321513,0.035275484584519935,0.036426646583193514,0.037603291738407756,0.038805475039187826,0.04003322823784849,0.04128655906574857,0.04256545046329318,0.043869859826140944,0.045199718269599315,0.046554929913210176,0.04793537118754403,0.04934089016523253,0.05077130591827299,0.05222640790364212,0.0537059553792487,0.0552096768522474,0.05673726956171839,0.05828839899769813,0.059862698458517584,0.061459768648373436,0.06307917731701743,0.06472045894340489,0.06638311446509337,0.06806661105512402,0.06977038194805749,0.07149382631676535,0.07323630920150578,0.07499716149272904,0.076775679968974,0.07857112739112437,0.08038273265419567,0.08220969099772016,0.08405116427569126,0.08590628128691306,0.08777413816648476,0.08965379883902502,0.09154429553411754,0.09344462936432489,0.09535377096598584,0.09727066120287037,0.09919421193262884,0.10112330683582527,0.10305680230719819,0.10499352840864669,0.10693228988328615,0.10887186722976996,0.11081101783591765,0.11274847717054244,0.11468296003221398,0.11661316185354445,0.11853776005943083,0.12045541547754172,0.1223647737991859,0.12426446708855476,0.12615311533819137,0.1280293280683957,0.12989170596814345,0.13173884257496174,0.13356932599108168,0.13538174063306266,0.13717466901197004,0.1389466935410749,0.14069639836794448,0.1424223712276904,0.14412320531405393,0.14579750116492626,0.14744386855882283,0.14906092841876803,0.15064731471998477,0.1522016763977363,0.15372267926595173,0.155209007842617,0.15665936737905792,0.1580724855878918,0.15944711456734284,0.16078203261728352,0.1620760460435514,0.16332799093249398,0.16453673489205922,0.1657011787557937,0.1668202582461655,0.16789294559369392,0.16891825110844227,0.16989522470051296,0.17082295734627834,0.17170058249718118,0.17252727742805077,0.1733022645219981,0.17402481248908286,0.17469423751607918,0.17530990434480928,0.1758712272766663,0.17637767110110159,0.17682875194601727,0.17722403804817174,0.17756315044188228,0.17784576356448517,0.17807160577720152,0.17824045980024053,0.17835216306116486,0.17840660795573715,0.1784037420206608,0.17834356801782744,0.17822614392988104,0.17805158286710973,0.17782005288587363,0.1775317767189767,0.1771870314185894,0.1767861479125217,0.17632951047484288,0.1758175561120323,0.17525077386603521,0.17462970403577757,0.17395493731887657,0.17322711387545411,0.17244692231613037,0.17161509861643715,0.1707324249600458,0.16979972851335487,0.16881788013412424,0.16778779301697652,0.16671042127871416,0.16558675848651783,0.16441783613220318,0.16320472205581155,0.1619485188219048,0.16065036205201513,0.15931141871677576,0.15793288539132053,0.15651598647759493,0.15506197239726702,0.15357211777330912,0.15204771950354104,0.15049009503126562,0.14890058031447967,0.14728052799970504,0.1456313055028178,0.14395429310105626,0.14225088202554798,0.14052247255800504,0.13877047213518606,0.1369962934646652,0.1352013526553775,0.13338706736633904,0.1315548549768517,0.12970613078141618,0.12784230621247517,0.12596478709400633,0.12407497192887397,0.12217425022272974,0.12026400084713265,0.11834559044443022,0.11642037187681196,0.11448968272180947,0.11255484381637822,0.11061715785155385,0.10867790801953084,0.1067383567148609,0.1047997442913222,0.10286328787585838,0.10093018024083261,0.09900158873569262,0.09707865427898764,0.09516249041152873,0.09325418241132959,0.09135478647081867,0.08946532893666218,0.08758680561239433,0.08572018112390414,0.08386638834768986,0.08202632790165426,0.08020086769807717,0.07839084255827425,0.07659705388832248,0.0748202694151123,0.0730612229818668,0.07132061440215817,0.0695991093713413,0.06789733943422556,0.06621590200770452,0.06455536045697535,0.06291624422389307,0.061299049005923256,0.05970423698408524,0.05813223709820733,0.05658344536775599,0.055058225256441606,0.05355690807875641,0.05207979344655375,0.05062714975374156,0.0491992146971287,0.04779619583143768,0.04641827115647735,0.045065589734451496,0.04373827233537305,0.04243641210854694,0.04116007527808808,0.03990930186044521,0.038684106401914435,0.03748447873414093,0.03631038474562966,0.03516176716730875,0.03403854637022006,0.03294062117344486,0.03186786966040748,0.030820150001742576,0.029797301282953714,0.02879914433513912,0.027825482567108595,0.02687610279726936,0.025950776083711814,0.025049258550984655,0.02417129221210525,0.023316605784413278,0.022484915497937078,0.021675925895003972,0.0208893306198914,0.020124813197379115,0.01938204779912914,0.01866069999688464,0.017960427501545754,0.017280880887245487,0.016621704299615053,0.01598253614749231,0.015363009777392233,0.01476275413012247,0.014181394378988988,0.013618552549099792,0.013073848117335392,0.012546898592613483,0.01203732007613437,0.011544727801349682,0.011068736653452165,0.010608961668237268,0.010165018510239687,0.00973652393009609,0.009323096201134537,0.008924355535235854,0.008539924478056316,0.008169428283742463,0.007812495269308561,0.00746875714888435,0.007137849348076677,0.0068194112987206455,0.006513086714328062,0.0062185238465691005,0.005935375723150105,0.00566330036747507,0.00540196100050077,0.005151026225216401,0.0049101701941964325,0.004679072760692579,0.004457419613744919,0.004244902397805152,0.00404121881737571,0.003846072727177547,0.003659174208367103,0.003480239631328085,0.0033089917055684486,0.003145159517255203,0.002988478554920927,0.0028386907238756105,0.002695544349855894,0.00255879417244083,0.0024282013287595765,0.00230353332801083,0.0021845640173081046,0.0020710735393575323,0.0019628482824669115,0.0018596808233758357,0.0017613698633870314,0.001667720158268859,0.0015785424423876418,0.0014936533475172378,0.0014128753167610294,0.0013360365140090485,0.0012629707293400547,0.0011935172807651198,0.0011275209126958888,0.0010648316915067495,0.0010053048985464528,0.0009488009209405863,0.0008951851405122263,0.0008443278211339718,0.000796103994810433,0.0007503933467761382,0.0007070800998799195,0.0006660528985128133,0.0006272046923229332,0.0005904326199471418,0.0005556378929760366,0.0005227256803556694,0.0004916049934165421,0.00046218857170792773,0.00043439276980317793,0.00040813744522983926,0.00038334584766669443,0.0003599445095385916,0.00033786313568035734,0.000317034507339297,0.0002973943615198318,0.00027888130062853517,0.0002614366838507702,0.0002450045362000783,0.00022953144599015946,0.00021496647162412577,0.00020126104897596716,0.0001883689009385109,0.00017624594916915156,0.00016485022805781926,0.00015414180093529273,0.00014408267853390823,0.00013463673970704466,0.00012576965440844152,0.00011744880892741799,0.00010964323337143251,0.00010232353138307113,9.546181207457859e-05,8.903162415932977e-05,8.300789225624518e-05,7.736685534003866e-05,7.208600730734403e-05,6.71440396262058e-05,6.252078603408201e-05,5.819716924745273e-05,5.4155149644274e-05],\"type\":\"scatter\"}],                        {\"template\":{\"data\":{\"histogram2dcontour\":[{\"type\":\"histogram2dcontour\",\"colorbar\":{\"outlinewidth\":0,\"ticks\":\"\"},\"colorscale\":[[0.0,\"#0d0887\"],[0.1111111111111111,\"#46039f\"],[0.2222222222222222,\"#7201a8\"],[0.3333333333333333,\"#9c179e\"],[0.4444444444444444,\"#bd3786\"],[0.5555555555555556,\"#d8576b\"],[0.6666666666666666,\"#ed7953\"],[0.7777777777777778,\"#fb9f3a\"],[0.8888888888888888,\"#fdca26\"],[1.0,\"#f0f921\"]]}],\"choropleth\":[{\"type\":\"choropleth\",\"colorbar\":{\"outlinewidth\":0,\"ticks\":\"\"}}],\"histogram2d\":[{\"type\":\"histogram2d\",\"colorbar\":{\"outlinewidth\":0,\"ticks\":\"\"},\"colorscale\":[[0.0,\"#0d0887\"],[0.1111111111111111,\"#46039f\"],[0.2222222222222222,\"#7201a8\"],[0.3333333333333333,\"#9c179e\"],[0.4444444444444444,\"#bd3786\"],[0.5555555555555556,\"#d8576b\"],[0.6666666666666666,\"#ed7953\"],[0.7777777777777778,\"#fb9f3a\"],[0.8888888888888888,\"#fdca26\"],[1.0,\"#f0f921\"]]}],\"heatmap\":[{\"type\":\"heatmap\",\"colorbar\":{\"outlinewidth\":0,\"ticks\":\"\"},\"colorscale\":[[0.0,\"#0d0887\"],[0.1111111111111111,\"#46039f\"],[0.2222222222222222,\"#7201a8\"],[0.3333333333333333,\"#9c179e\"],[0.4444444444444444,\"#bd3786\"],[0.5555555555555556,\"#d8576b\"],[0.6666666666666666,\"#ed7953\"],[0.7777777777777778,\"#fb9f3a\"],[0.8888888888888888,\"#fdca26\"],[1.0,\"#f0f921\"]]}],\"heatmapgl\":[{\"type\":\"heatmapgl\",\"colorbar\":{\"outlinewidth\":0,\"ticks\":\"\"},\"colorscale\":[[0.0,\"#0d0887\"],[0.1111111111111111,\"#46039f\"],[0.2222222222222222,\"#7201a8\"],[0.3333333333333333,\"#9c179e\"],[0.4444444444444444,\"#bd3786\"],[0.5555555555555556,\"#d8576b\"],[0.6666666666666666,\"#ed7953\"],[0.7777777777777778,\"#fb9f3a\"],[0.8888888888888888,\"#fdca26\"],[1.0,\"#f0f921\"]]}],\"contourcarpet\":[{\"type\":\"contourcarpet\",\"colorbar\":{\"outlinewidth\":0,\"ticks\":\"\"}}],\"contour\":[{\"type\":\"contour\",\"colorbar\":{\"outlinewidth\":0,\"ticks\":\"\"},\"colorscale\":[[0.0,\"#0d0887\"],[0.1111111111111111,\"#46039f\"],[0.2222222222222222,\"#7201a8\"],[0.3333333333333333,\"#9c179e\"],[0.4444444444444444,\"#bd3786\"],[0.5555555555555556,\"#d8576b\"],[0.6666666666666666,\"#ed7953\"],[0.7777777777777778,\"#fb9f3a\"],[0.8888888888888888,\"#fdca26\"],[1.0,\"#f0f921\"]]}],\"surface\":[{\"type\":\"surface\",\"colorbar\":{\"outlinewidth\":0,\"ticks\":\"\"},\"colorscale\":[[0.0,\"#0d0887\"],[0.1111111111111111,\"#46039f\"],[0.2222222222222222,\"#7201a8\"],[0.3333333333333333,\"#9c179e\"],[0.4444444444444444,\"#bd3786\"],[0.5555555555555556,\"#d8576b\"],[0.6666666666666666,\"#ed7953\"],[0.7777777777777778,\"#fb9f3a\"],[0.8888888888888888,\"#fdca26\"],[1.0,\"#f0f921\"]]}],\"mesh3d\":[{\"type\":\"mesh3d\",\"colorbar\":{\"outlinewidth\":0,\"ticks\":\"\"}}],\"scatter\":[{\"fillpattern\":{\"fillmode\":\"overlay\",\"size\":10,\"solidity\":0.2},\"type\":\"scatter\"}],\"parcoords\":[{\"type\":\"parcoords\",\"line\":{\"colorbar\":{\"outlinewidth\":0,\"ticks\":\"\"}}}],\"scatterpolargl\":[{\"type\":\"scatterpolargl\",\"marker\":{\"colorbar\":{\"outlinewidth\":0,\"ticks\":\"\"}}}],\"bar\":[{\"error_x\":{\"color\":\"#2a3f5f\"},\"error_y\":{\"color\":\"#2a3f5f\"},\"marker\":{\"line\":{\"color\":\"#E5ECF6\",\"width\":0.5},\"pattern\":{\"fillmode\":\"overlay\",\"size\":10,\"solidity\":0.2}},\"type\":\"bar\"}],\"scattergeo\":[{\"type\":\"scattergeo\",\"marker\":{\"colorbar\":{\"outlinewidth\":0,\"ticks\":\"\"}}}],\"scatterpolar\":[{\"type\":\"scatterpolar\",\"marker\":{\"colorbar\":{\"outlinewidth\":0,\"ticks\":\"\"}}}],\"histogram\":[{\"marker\":{\"pattern\":{\"fillmode\":\"overlay\",\"size\":10,\"solidity\":0.2}},\"type\":\"histogram\"}],\"scattergl\":[{\"type\":\"scattergl\",\"marker\":{\"colorbar\":{\"outlinewidth\":0,\"ticks\":\"\"}}}],\"scatter3d\":[{\"type\":\"scatter3d\",\"line\":{\"colorbar\":{\"outlinewidth\":0,\"ticks\":\"\"}},\"marker\":{\"colorbar\":{\"outlinewidth\":0,\"ticks\":\"\"}}}],\"scattermapbox\":[{\"type\":\"scattermapbox\",\"marker\":{\"colorbar\":{\"outlinewidth\":0,\"ticks\":\"\"}}}],\"scatterternary\":[{\"type\":\"scatterternary\",\"marker\":{\"colorbar\":{\"outlinewidth\":0,\"ticks\":\"\"}}}],\"scattercarpet\":[{\"type\":\"scattercarpet\",\"marker\":{\"colorbar\":{\"outlinewidth\":0,\"ticks\":\"\"}}}],\"carpet\":[{\"aaxis\":{\"endlinecolor\":\"#2a3f5f\",\"gridcolor\":\"white\",\"linecolor\":\"white\",\"minorgridcolor\":\"white\",\"startlinecolor\":\"#2a3f5f\"},\"baxis\":{\"endlinecolor\":\"#2a3f5f\",\"gridcolor\":\"white\",\"linecolor\":\"white\",\"minorgridcolor\":\"white\",\"startlinecolor\":\"#2a3f5f\"},\"type\":\"carpet\"}],\"table\":[{\"cells\":{\"fill\":{\"color\":\"#EBF0F8\"},\"line\":{\"color\":\"white\"}},\"header\":{\"fill\":{\"color\":\"#C8D4E3\"},\"line\":{\"color\":\"white\"}},\"type\":\"table\"}],\"barpolar\":[{\"marker\":{\"line\":{\"color\":\"#E5ECF6\",\"width\":0.5},\"pattern\":{\"fillmode\":\"overlay\",\"size\":10,\"solidity\":0.2}},\"type\":\"barpolar\"}],\"pie\":[{\"automargin\":true,\"type\":\"pie\"}]},\"layout\":{\"autotypenumbers\":\"strict\",\"colorway\":[\"#636efa\",\"#EF553B\",\"#00cc96\",\"#ab63fa\",\"#FFA15A\",\"#19d3f3\",\"#FF6692\",\"#B6E880\",\"#FF97FF\",\"#FECB52\"],\"font\":{\"color\":\"#2a3f5f\"},\"hovermode\":\"closest\",\"hoverlabel\":{\"align\":\"left\"},\"paper_bgcolor\":\"white\",\"plot_bgcolor\":\"#E5ECF6\",\"polar\":{\"bgcolor\":\"#E5ECF6\",\"angularaxis\":{\"gridcolor\":\"white\",\"linecolor\":\"white\",\"ticks\":\"\"},\"radialaxis\":{\"gridcolor\":\"white\",\"linecolor\":\"white\",\"ticks\":\"\"}},\"ternary\":{\"bgcolor\":\"#E5ECF6\",\"aaxis\":{\"gridcolor\":\"white\",\"linecolor\":\"white\",\"ticks\":\"\"},\"baxis\":{\"gridcolor\":\"white\",\"linecolor\":\"white\",\"ticks\":\"\"},\"caxis\":{\"gridcolor\":\"white\",\"linecolor\":\"white\",\"ticks\":\"\"}},\"coloraxis\":{\"colorbar\":{\"outlinewidth\":0,\"ticks\":\"\"}},\"colorscale\":{\"sequential\":[[0.0,\"#0d0887\"],[0.1111111111111111,\"#46039f\"],[0.2222222222222222,\"#7201a8\"],[0.3333333333333333,\"#9c179e\"],[0.4444444444444444,\"#bd3786\"],[0.5555555555555556,\"#d8576b\"],[0.6666666666666666,\"#ed7953\"],[0.7777777777777778,\"#fb9f3a\"],[0.8888888888888888,\"#fdca26\"],[1.0,\"#f0f921\"]],\"sequentialminus\":[[0.0,\"#0d0887\"],[0.1111111111111111,\"#46039f\"],[0.2222222222222222,\"#7201a8\"],[0.3333333333333333,\"#9c179e\"],[0.4444444444444444,\"#bd3786\"],[0.5555555555555556,\"#d8576b\"],[0.6666666666666666,\"#ed7953\"],[0.7777777777777778,\"#fb9f3a\"],[0.8888888888888888,\"#fdca26\"],[1.0,\"#f0f921\"]],\"diverging\":[[0,\"#8e0152\"],[0.1,\"#c51b7d\"],[0.2,\"#de77ae\"],[0.3,\"#f1b6da\"],[0.4,\"#fde0ef\"],[0.5,\"#f7f7f7\"],[0.6,\"#e6f5d0\"],[0.7,\"#b8e186\"],[0.8,\"#7fbc41\"],[0.9,\"#4d9221\"],[1,\"#276419\"]]},\"xaxis\":{\"gridcolor\":\"white\",\"linecolor\":\"white\",\"ticks\":\"\",\"title\":{\"standoff\":15},\"zerolinecolor\":\"white\",\"automargin\":true,\"zerolinewidth\":2},\"yaxis\":{\"gridcolor\":\"white\",\"linecolor\":\"white\",\"ticks\":\"\",\"title\":{\"standoff\":15},\"zerolinecolor\":\"white\",\"automargin\":true,\"zerolinewidth\":2},\"scene\":{\"xaxis\":{\"backgroundcolor\":\"#E5ECF6\",\"gridcolor\":\"white\",\"linecolor\":\"white\",\"showbackground\":true,\"ticks\":\"\",\"zerolinecolor\":\"white\",\"gridwidth\":2},\"yaxis\":{\"backgroundcolor\":\"#E5ECF6\",\"gridcolor\":\"white\",\"linecolor\":\"white\",\"showbackground\":true,\"ticks\":\"\",\"zerolinecolor\":\"white\",\"gridwidth\":2},\"zaxis\":{\"backgroundcolor\":\"#E5ECF6\",\"gridcolor\":\"white\",\"linecolor\":\"white\",\"showbackground\":true,\"ticks\":\"\",\"zerolinecolor\":\"white\",\"gridwidth\":2}},\"shapedefaults\":{\"line\":{\"color\":\"#2a3f5f\"}},\"annotationdefaults\":{\"arrowcolor\":\"#2a3f5f\",\"arrowhead\":0,\"arrowwidth\":1},\"geo\":{\"bgcolor\":\"white\",\"landcolor\":\"#E5ECF6\",\"subunitcolor\":\"white\",\"showland\":true,\"showlakes\":true,\"lakecolor\":\"white\"},\"title\":{\"x\":0.05},\"mapbox\":{\"style\":\"light\"}}}},                        {\"responsive\": true}                    ).then(function(){\n",
       "                            \n",
       "var gd = document.getElementById('45ac2751-43dd-45f9-9023-b6a41660ad09');\n",
=======
       "<div>                            <div id=\"b3f33652-e223-4fac-a158-339e9f7705ef\" class=\"plotly-graph-div\" style=\"height:525px; width:100%;\"></div>            <script type=\"text/javascript\">                require([\"plotly\"], function(Plotly) {                    window.PLOTLYENV=window.PLOTLYENV || {};                                    if (document.getElementById(\"b3f33652-e223-4fac-a158-339e9f7705ef\")) {                    Plotly.newPlot(                        \"b3f33652-e223-4fac-a158-339e9f7705ef\",                        [{\"x\":[-4.0,-3.8585858585858586,-3.717171717171717,-3.5757575757575757,-3.4343434343434343,-3.292929292929293,-3.1515151515151514,-3.0101010101010104,-2.8686868686868685,-2.7272727272727275,-2.5858585858585856,-2.4444444444444446,-2.303030303030303,-2.1616161616161618,-2.0202020202020203,-1.878787878787879,-1.7373737373737375,-1.595959595959596,-1.4545454545454546,-1.3131313131313131,-1.1717171717171717,-1.0303030303030303,-0.8888888888888888,-0.7474747474747474,-0.6060606060606064,-0.464646464646465,-0.32323232323232354,-0.1818181818181821,-0.040404040404040664,0.10101010101010122,0.2424242424242422,0.3838383838383841,0.5252525252525251,0.6666666666666661,0.808080808080808,0.949494949494949,1.0909090909090908,1.2323232323232318,1.3737373737373737,1.5151515151515147,1.6565656565656566,1.7979797979797976,1.9393939393939394,2.0808080808080804,2.2222222222222223,2.3636363636363633,2.505050505050505,2.646464646464646,2.787878787878787,2.929292929292929,3.07070707070707,3.212121212121212,3.353535353535353,3.494949494949495,3.636363636363636,3.7777777777777777,3.9191919191919187,4.0606060606060606,4.202020202020202,4.3434343434343425,4.484848484848484,4.626262626262626,4.767676767676768,4.909090909090908,5.05050505050505,5.191919191919192,5.333333333333332,5.474747474747474,5.616161616161616,5.757575757575758,5.898989898989898,6.04040404040404,6.181818181818182,6.3232323232323235,6.464646464646464,6.6060606060606055,6.747474747474747,6.888888888888889,7.030303030303029,7.171717171717171,7.313131313131313,7.454545454545453,7.595959595959595,7.737373737373737,7.878787878787879,8.020202020202019,8.16161616161616,8.303030303030303,8.444444444444445,8.585858585858585,8.727272727272727,8.868686868686869,9.01010101010101,9.15151515151515,9.292929292929292,9.434343434343434,9.575757575757574,9.717171717171716,9.858585858585858,10.0],\"y\":[0.005166746338523019,0.006821449244524812,0.008916484564229799,0.01153899992081982,0.014784279927987375,0.01875381734522073,0.0235524822414086,0.029284727451718014,0.03604982710902616,0.04393621940289616,0.05301511168178699,0.06333360006294356,0.07490764923888779,0.08771536187567129,0.1016910306422568,0.11672049931906123,0.13263835371987592,0.14922741201164733,0.1662208848808268,0.1833074309988774,0.20013914964916893,0.21634234248431988,0.2315306567443094,0.24532001231790995,0.2573445351906498,0.2672725892761171,0.27482193306273506,0.27977303710086465,0.28197968628051495,0.28137615255490006,0.2779804471345633,0.271893427612617,0.26329382178384947,0.25242951074782893,0.23960566448866924,0.22517052200024165,0.2094997391681116,0.19298028207412515,0.175994819948951,0.15890747697520452,0.1420516482965527,0.12572039037154722,0.11015967921868967,0.0955646123864586,0.08207843005775964,0.06979406242610459,0.058757784553455164,0.04897448137806988,0.04041399442004019,0.033018033737492306,0.026707186245792408,0.02138762503039535,0.016957213417390773,0.013310792368264478,0.010344531592450096,0.007959306881921892,0.006063134015262857,0.004572740791249516,0.0034143929281906407,0.0025241078702079385,0.0018473952472168778,0.0013386567471670486,0.0009603645905810222,0.0006821196252466653,0.00047966988042762073,0.0003339503103908803,0.0002301859184245636,0.00015708443391352996,0.0001061316823857017,7.099282271586794e-05,4.7015530221630155e-05,3.082660733706733e-05,2.0010946047132584e-05,1.2860771137668812e-05,8.183213781110003e-06,5.155114103296865e-06,3.215216086825707e-06,1.985361281981954e-06,1.2137421342119034e-06,7.346336324958701e-07,4.402229542558464e-07,2.611752740809099e-07,1.5340832660016624e-07,8.921200588852217e-08,5.136356679327602e-08,2.9278211434208925e-08,1.6523095360590127e-08,8.908603865380569e-09,4.867444272223868e-09,2.6338660962013245e-09,1.412822993187881e-09,7.520080978098023e-10,3.9759852786446716e-10,2.090105045436655e-10,1.0932709185737642e-10,5.69295275801745e-11,2.951593741744098e-11,1.5232558842998353e-11,7.820010336385256e-12,3.989667665636612e-12],\"type\":\"scatter\"}],                        {\"template\":{\"data\":{\"histogram2dcontour\":[{\"type\":\"histogram2dcontour\",\"colorbar\":{\"outlinewidth\":0,\"ticks\":\"\"},\"colorscale\":[[0.0,\"#0d0887\"],[0.1111111111111111,\"#46039f\"],[0.2222222222222222,\"#7201a8\"],[0.3333333333333333,\"#9c179e\"],[0.4444444444444444,\"#bd3786\"],[0.5555555555555556,\"#d8576b\"],[0.6666666666666666,\"#ed7953\"],[0.7777777777777778,\"#fb9f3a\"],[0.8888888888888888,\"#fdca26\"],[1.0,\"#f0f921\"]]}],\"choropleth\":[{\"type\":\"choropleth\",\"colorbar\":{\"outlinewidth\":0,\"ticks\":\"\"}}],\"histogram2d\":[{\"type\":\"histogram2d\",\"colorbar\":{\"outlinewidth\":0,\"ticks\":\"\"},\"colorscale\":[[0.0,\"#0d0887\"],[0.1111111111111111,\"#46039f\"],[0.2222222222222222,\"#7201a8\"],[0.3333333333333333,\"#9c179e\"],[0.4444444444444444,\"#bd3786\"],[0.5555555555555556,\"#d8576b\"],[0.6666666666666666,\"#ed7953\"],[0.7777777777777778,\"#fb9f3a\"],[0.8888888888888888,\"#fdca26\"],[1.0,\"#f0f921\"]]}],\"heatmap\":[{\"type\":\"heatmap\",\"colorbar\":{\"outlinewidth\":0,\"ticks\":\"\"},\"colorscale\":[[0.0,\"#0d0887\"],[0.1111111111111111,\"#46039f\"],[0.2222222222222222,\"#7201a8\"],[0.3333333333333333,\"#9c179e\"],[0.4444444444444444,\"#bd3786\"],[0.5555555555555556,\"#d8576b\"],[0.6666666666666666,\"#ed7953\"],[0.7777777777777778,\"#fb9f3a\"],[0.8888888888888888,\"#fdca26\"],[1.0,\"#f0f921\"]]}],\"heatmapgl\":[{\"type\":\"heatmapgl\",\"colorbar\":{\"outlinewidth\":0,\"ticks\":\"\"},\"colorscale\":[[0.0,\"#0d0887\"],[0.1111111111111111,\"#46039f\"],[0.2222222222222222,\"#7201a8\"],[0.3333333333333333,\"#9c179e\"],[0.4444444444444444,\"#bd3786\"],[0.5555555555555556,\"#d8576b\"],[0.6666666666666666,\"#ed7953\"],[0.7777777777777778,\"#fb9f3a\"],[0.8888888888888888,\"#fdca26\"],[1.0,\"#f0f921\"]]}],\"contourcarpet\":[{\"type\":\"contourcarpet\",\"colorbar\":{\"outlinewidth\":0,\"ticks\":\"\"}}],\"contour\":[{\"type\":\"contour\",\"colorbar\":{\"outlinewidth\":0,\"ticks\":\"\"},\"colorscale\":[[0.0,\"#0d0887\"],[0.1111111111111111,\"#46039f\"],[0.2222222222222222,\"#7201a8\"],[0.3333333333333333,\"#9c179e\"],[0.4444444444444444,\"#bd3786\"],[0.5555555555555556,\"#d8576b\"],[0.6666666666666666,\"#ed7953\"],[0.7777777777777778,\"#fb9f3a\"],[0.8888888888888888,\"#fdca26\"],[1.0,\"#f0f921\"]]}],\"surface\":[{\"type\":\"surface\",\"colorbar\":{\"outlinewidth\":0,\"ticks\":\"\"},\"colorscale\":[[0.0,\"#0d0887\"],[0.1111111111111111,\"#46039f\"],[0.2222222222222222,\"#7201a8\"],[0.3333333333333333,\"#9c179e\"],[0.4444444444444444,\"#bd3786\"],[0.5555555555555556,\"#d8576b\"],[0.6666666666666666,\"#ed7953\"],[0.7777777777777778,\"#fb9f3a\"],[0.8888888888888888,\"#fdca26\"],[1.0,\"#f0f921\"]]}],\"mesh3d\":[{\"type\":\"mesh3d\",\"colorbar\":{\"outlinewidth\":0,\"ticks\":\"\"}}],\"scatter\":[{\"fillpattern\":{\"fillmode\":\"overlay\",\"size\":10,\"solidity\":0.2},\"type\":\"scatter\"}],\"parcoords\":[{\"type\":\"parcoords\",\"line\":{\"colorbar\":{\"outlinewidth\":0,\"ticks\":\"\"}}}],\"scatterpolargl\":[{\"type\":\"scatterpolargl\",\"marker\":{\"colorbar\":{\"outlinewidth\":0,\"ticks\":\"\"}}}],\"bar\":[{\"error_x\":{\"color\":\"#2a3f5f\"},\"error_y\":{\"color\":\"#2a3f5f\"},\"marker\":{\"line\":{\"color\":\"#E5ECF6\",\"width\":0.5},\"pattern\":{\"fillmode\":\"overlay\",\"size\":10,\"solidity\":0.2}},\"type\":\"bar\"}],\"scattergeo\":[{\"type\":\"scattergeo\",\"marker\":{\"colorbar\":{\"outlinewidth\":0,\"ticks\":\"\"}}}],\"scatterpolar\":[{\"type\":\"scatterpolar\",\"marker\":{\"colorbar\":{\"outlinewidth\":0,\"ticks\":\"\"}}}],\"histogram\":[{\"marker\":{\"pattern\":{\"fillmode\":\"overlay\",\"size\":10,\"solidity\":0.2}},\"type\":\"histogram\"}],\"scattergl\":[{\"type\":\"scattergl\",\"marker\":{\"colorbar\":{\"outlinewidth\":0,\"ticks\":\"\"}}}],\"scatter3d\":[{\"type\":\"scatter3d\",\"line\":{\"colorbar\":{\"outlinewidth\":0,\"ticks\":\"\"}},\"marker\":{\"colorbar\":{\"outlinewidth\":0,\"ticks\":\"\"}}}],\"scattermapbox\":[{\"type\":\"scattermapbox\",\"marker\":{\"colorbar\":{\"outlinewidth\":0,\"ticks\":\"\"}}}],\"scatterternary\":[{\"type\":\"scatterternary\",\"marker\":{\"colorbar\":{\"outlinewidth\":0,\"ticks\":\"\"}}}],\"scattercarpet\":[{\"type\":\"scattercarpet\",\"marker\":{\"colorbar\":{\"outlinewidth\":0,\"ticks\":\"\"}}}],\"carpet\":[{\"aaxis\":{\"endlinecolor\":\"#2a3f5f\",\"gridcolor\":\"white\",\"linecolor\":\"white\",\"minorgridcolor\":\"white\",\"startlinecolor\":\"#2a3f5f\"},\"baxis\":{\"endlinecolor\":\"#2a3f5f\",\"gridcolor\":\"white\",\"linecolor\":\"white\",\"minorgridcolor\":\"white\",\"startlinecolor\":\"#2a3f5f\"},\"type\":\"carpet\"}],\"table\":[{\"cells\":{\"fill\":{\"color\":\"#EBF0F8\"},\"line\":{\"color\":\"white\"}},\"header\":{\"fill\":{\"color\":\"#C8D4E3\"},\"line\":{\"color\":\"white\"}},\"type\":\"table\"}],\"barpolar\":[{\"marker\":{\"line\":{\"color\":\"#E5ECF6\",\"width\":0.5},\"pattern\":{\"fillmode\":\"overlay\",\"size\":10,\"solidity\":0.2}},\"type\":\"barpolar\"}],\"pie\":[{\"automargin\":true,\"type\":\"pie\"}]},\"layout\":{\"autotypenumbers\":\"strict\",\"colorway\":[\"#636efa\",\"#EF553B\",\"#00cc96\",\"#ab63fa\",\"#FFA15A\",\"#19d3f3\",\"#FF6692\",\"#B6E880\",\"#FF97FF\",\"#FECB52\"],\"font\":{\"color\":\"#2a3f5f\"},\"hovermode\":\"closest\",\"hoverlabel\":{\"align\":\"left\"},\"paper_bgcolor\":\"white\",\"plot_bgcolor\":\"#E5ECF6\",\"polar\":{\"bgcolor\":\"#E5ECF6\",\"angularaxis\":{\"gridcolor\":\"white\",\"linecolor\":\"white\",\"ticks\":\"\"},\"radialaxis\":{\"gridcolor\":\"white\",\"linecolor\":\"white\",\"ticks\":\"\"}},\"ternary\":{\"bgcolor\":\"#E5ECF6\",\"aaxis\":{\"gridcolor\":\"white\",\"linecolor\":\"white\",\"ticks\":\"\"},\"baxis\":{\"gridcolor\":\"white\",\"linecolor\":\"white\",\"ticks\":\"\"},\"caxis\":{\"gridcolor\":\"white\",\"linecolor\":\"white\",\"ticks\":\"\"}},\"coloraxis\":{\"colorbar\":{\"outlinewidth\":0,\"ticks\":\"\"}},\"colorscale\":{\"sequential\":[[0.0,\"#0d0887\"],[0.1111111111111111,\"#46039f\"],[0.2222222222222222,\"#7201a8\"],[0.3333333333333333,\"#9c179e\"],[0.4444444444444444,\"#bd3786\"],[0.5555555555555556,\"#d8576b\"],[0.6666666666666666,\"#ed7953\"],[0.7777777777777778,\"#fb9f3a\"],[0.8888888888888888,\"#fdca26\"],[1.0,\"#f0f921\"]],\"sequentialminus\":[[0.0,\"#0d0887\"],[0.1111111111111111,\"#46039f\"],[0.2222222222222222,\"#7201a8\"],[0.3333333333333333,\"#9c179e\"],[0.4444444444444444,\"#bd3786\"],[0.5555555555555556,\"#d8576b\"],[0.6666666666666666,\"#ed7953\"],[0.7777777777777778,\"#fb9f3a\"],[0.8888888888888888,\"#fdca26\"],[1.0,\"#f0f921\"]],\"diverging\":[[0,\"#8e0152\"],[0.1,\"#c51b7d\"],[0.2,\"#de77ae\"],[0.3,\"#f1b6da\"],[0.4,\"#fde0ef\"],[0.5,\"#f7f7f7\"],[0.6,\"#e6f5d0\"],[0.7,\"#b8e186\"],[0.8,\"#7fbc41\"],[0.9,\"#4d9221\"],[1,\"#276419\"]]},\"xaxis\":{\"gridcolor\":\"white\",\"linecolor\":\"white\",\"ticks\":\"\",\"title\":{\"standoff\":15},\"zerolinecolor\":\"white\",\"automargin\":true,\"zerolinewidth\":2},\"yaxis\":{\"gridcolor\":\"white\",\"linecolor\":\"white\",\"ticks\":\"\",\"title\":{\"standoff\":15},\"zerolinecolor\":\"white\",\"automargin\":true,\"zerolinewidth\":2},\"scene\":{\"xaxis\":{\"backgroundcolor\":\"#E5ECF6\",\"gridcolor\":\"white\",\"linecolor\":\"white\",\"showbackground\":true,\"ticks\":\"\",\"zerolinecolor\":\"white\",\"gridwidth\":2},\"yaxis\":{\"backgroundcolor\":\"#E5ECF6\",\"gridcolor\":\"white\",\"linecolor\":\"white\",\"showbackground\":true,\"ticks\":\"\",\"zerolinecolor\":\"white\",\"gridwidth\":2},\"zaxis\":{\"backgroundcolor\":\"#E5ECF6\",\"gridcolor\":\"white\",\"linecolor\":\"white\",\"showbackground\":true,\"ticks\":\"\",\"zerolinecolor\":\"white\",\"gridwidth\":2}},\"shapedefaults\":{\"line\":{\"color\":\"#2a3f5f\"}},\"annotationdefaults\":{\"arrowcolor\":\"#2a3f5f\",\"arrowhead\":0,\"arrowwidth\":1},\"geo\":{\"bgcolor\":\"white\",\"landcolor\":\"#E5ECF6\",\"subunitcolor\":\"white\",\"showland\":true,\"showlakes\":true,\"lakecolor\":\"white\"},\"title\":{\"x\":0.05},\"mapbox\":{\"style\":\"light\"}}}},                        {\"responsive\": true}                    ).then(function(){\n",
       "                            \n",
       "var gd = document.getElementById('b3f33652-e223-4fac-a158-339e9f7705ef');\n",
>>>>>>> b907969426b4bd0714bc9c2551371e0e378c5685
       "var x = new MutationObserver(function (mutations, observer) {{\n",
       "        var display = window.getComputedStyle(gd).display;\n",
       "        if (!display || display === 'none') {{\n",
       "            console.log([gd, 'removed!']);\n",
       "            Plotly.purge(gd);\n",
       "            observer.disconnect();\n",
       "        }}\n",
       "}});\n",
       "\n",
       "// Listen for the removal of the full notebook cells\n",
       "var notebookContainer = gd.closest('#notebook-container');\n",
       "if (notebookContainer) {{\n",
       "    x.observe(notebookContainer, {childList: true});\n",
       "}}\n",
       "\n",
       "// Listen for the clearing of the current output cell\n",
       "var outputEl = gd.closest('.output');\n",
       "if (outputEl) {{\n",
       "    x.observe(outputEl, {childList: true});\n",
       "}}\n",
       "\n",
       "                        })                };                });            </script>        </div>"
      ]
     },
     "metadata": {},
     "output_type": "display_data"
    }
   ],
   "source": [
    "X = np.linspace(-10,10,500).tolist()\n",
    "\n",
    "# match Neri\n",
    "X = np.linspace(-4, 10, 100).tolist()\n",
    "\n",
    "fig = go.Figure(data=go.Scatter(x=X, y=[y.pdf(z) for z in X]))\n",
    "fig.show()"
   ]
  },
  {
   "cell_type": "code",
<<<<<<< HEAD
   "execution_count": 10,
=======
   "execution_count": 21,
>>>>>>> b907969426b4bd0714bc9c2551371e0e378c5685
   "metadata": {},
   "outputs": [
    {
     "data": {
      "application/vnd.plotly.v1+json": {
       "config": {
        "plotlyServerURL": "https://plot.ly"
       },
       "data": [
        {
         "type": "scatter",
         "x": [
          -4,
          -3.8585858585858586,
          -3.717171717171717,
          -3.5757575757575757,
          -3.4343434343434343,
          -3.292929292929293,
          -3.1515151515151514,
          -3.0101010101010104,
          -2.8686868686868685,
          -2.7272727272727275,
          -2.5858585858585856,
          -2.4444444444444446,
          -2.303030303030303,
          -2.1616161616161618,
          -2.0202020202020203,
          -1.878787878787879,
          -1.7373737373737375,
          -1.595959595959596,
          -1.4545454545454546,
          -1.3131313131313131,
          -1.1717171717171717,
          -1.0303030303030303,
          -0.8888888888888888,
          -0.7474747474747474,
          -0.6060606060606064,
          -0.464646464646465,
          -0.32323232323232354,
          -0.1818181818181821,
          -0.040404040404040664,
          0.10101010101010122,
          0.2424242424242422,
          0.3838383838383841,
          0.5252525252525251,
          0.6666666666666661,
          0.808080808080808,
          0.949494949494949,
          1.0909090909090908,
          1.2323232323232318,
          1.3737373737373737,
          1.5151515151515147,
          1.6565656565656566,
          1.7979797979797976,
          1.9393939393939394,
          2.0808080808080804,
          2.2222222222222223,
          2.3636363636363633,
          2.505050505050505,
          2.646464646464646,
          2.787878787878787,
          2.929292929292929,
          3.07070707070707,
          3.212121212121212,
          3.353535353535353,
          3.494949494949495,
          3.636363636363636,
          3.7777777777777777,
          3.9191919191919187,
          4.0606060606060606,
          4.202020202020202,
          4.3434343434343425,
          4.484848484848484,
          4.626262626262626,
          4.767676767676768,
          4.909090909090908,
          5.05050505050505,
          5.191919191919192,
          5.333333333333332,
          5.474747474747474,
          5.616161616161616,
          5.757575757575758,
          5.898989898989898,
          6.04040404040404,
          6.181818181818182,
          6.3232323232323235,
          6.464646464646464,
          6.6060606060606055,
          6.747474747474747,
          6.888888888888889,
          7.030303030303029,
          7.171717171717171,
          7.313131313131313,
          7.454545454545453,
          7.595959595959595,
          7.737373737373737,
          7.878787878787879,
          8.020202020202019,
          8.16161616161616,
          8.303030303030303,
          8.444444444444445,
          8.585858585858585,
          8.727272727272727,
          8.868686868686869,
          9.01010101010101,
          9.15151515151515,
          9.292929292929292,
          9.434343434343434,
          9.575757575757574,
          9.717171717171716,
          9.858585858585858,
          10
         ],
         "y": [
          0.0023388674905233005,
          0.0031818082597566584,
          0.004288907990158353,
          0.005728493721235834,
          0.007581809508204569,
          0.009944040817447363,
          0.012925003387182575,
          0.016649364046031703,
          0.021256256192510304,
          0.02689815726942247,
          0.03373891165731267,
          0.04195081137794392,
          0.05171068932916906,
          0.0631950347515104,
          0.07657420614715926,
          0.09200588936992479,
          0.10962802315302872,
          0.12955148492390708,
          0.1518528897152872,
          0.17656789762512606,
          0.20368544457176466,
          0.23314330239002157,
          0.2648253350266711,
          0.29856074769228985,
          0.33412552812597895,
          0.37124615927228943,
          0.4096055487897514,
          0.4488509828917201,
          0.4886037810042722,
          0.5284702144601069,
          0.5680531665933648,
          0.6069639606300353,
          0.6448337701726297,
          0.6813240558830324,
          0.7161355386264604,
          0.7490153180050656,
          0.7797618673594706,
          0.808227771649784,
          0.8343202121221528,
          0.8579993306697985,
          0.8792747180210657,
          0.8982003562038166,
          0.9148684026923579,
          0.9294022296596792,
          0.9419491280097257,
          0.9526730558977814,
          0.9617477605881448,
          0.9693505371531022,
          0.9756568144451531,
          0.9808356844232069,
          0.9850464208782398,
          0.9884359722489285,
          0.9911373634866627,
          0.9932689053135503,
          0.994934085889825,
          0.9962220089448957,
          0.9972082421076092,
          0.9979559472856634,
          0.998517179092362,
          0.9989342551535337,
          0.9992411215617866,
          0.9994646560482343,
          0.9996258693289737,
          0.9997409806911236,
          0.9998223567522102,
          0.9998793123256903,
          0.9999187795774067,
          0.9999458564581818,
          0.9999642481410107,
          0.9999766163095016,
          0.9999848510592112,
          0.9999902792674402,
          0.9999938218801634,
          0.9999961109125592,
          0.9999975752503831,
          0.9999985027029358,
          0.9999990842745473,
          0.9999994453315477,
          0.9999996672581772,
          0.9999998023111465,
          0.9999998836803242,
          0.9999999322177581,
          0.9999999608829374,
          0.9999999776436975,
          0.9999999873464239,
          0.9999999929074516,
          0.9999999960630208,
          0.9999999978358345,
          0.9999999988219209,
          0.999999999364981,
          0.9999999996611304,
          0.9999999998211064,
          0.9999999999067924,
          0.9999999999524057,
          0.9999999999766175,
          0.9999999999873044,
          0.9999999999936089,
          0.9999999999968141,
          0.9999999999984277,
          0.9999999999992316
         ]
        }
       ],
       "layout": {
        "template": {
         "data": {
          "bar": [
           {
            "error_x": {
             "color": "#2a3f5f"
            },
            "error_y": {
             "color": "#2a3f5f"
            },
            "marker": {
             "line": {
              "color": "#E5ECF6",
              "width": 0.5
             },
             "pattern": {
              "fillmode": "overlay",
              "size": 10,
              "solidity": 0.2
             }
            },
            "type": "bar"
           }
          ],
          "barpolar": [
           {
            "marker": {
             "line": {
              "color": "#E5ECF6",
              "width": 0.5
             },
             "pattern": {
              "fillmode": "overlay",
              "size": 10,
              "solidity": 0.2
             }
            },
            "type": "barpolar"
           }
          ],
          "carpet": [
           {
            "aaxis": {
             "endlinecolor": "#2a3f5f",
             "gridcolor": "white",
             "linecolor": "white",
             "minorgridcolor": "white",
             "startlinecolor": "#2a3f5f"
            },
            "baxis": {
             "endlinecolor": "#2a3f5f",
             "gridcolor": "white",
             "linecolor": "white",
             "minorgridcolor": "white",
             "startlinecolor": "#2a3f5f"
            },
            "type": "carpet"
           }
          ],
          "choropleth": [
           {
            "colorbar": {
             "outlinewidth": 0,
             "ticks": ""
            },
            "type": "choropleth"
           }
          ],
          "contour": [
           {
            "colorbar": {
             "outlinewidth": 0,
             "ticks": ""
            },
            "colorscale": [
             [
              0,
              "#0d0887"
             ],
             [
              0.1111111111111111,
              "#46039f"
             ],
             [
              0.2222222222222222,
              "#7201a8"
             ],
             [
              0.3333333333333333,
              "#9c179e"
             ],
             [
              0.4444444444444444,
              "#bd3786"
             ],
             [
              0.5555555555555556,
              "#d8576b"
             ],
             [
              0.6666666666666666,
              "#ed7953"
             ],
             [
              0.7777777777777778,
              "#fb9f3a"
             ],
             [
              0.8888888888888888,
              "#fdca26"
             ],
             [
              1,
              "#f0f921"
             ]
            ],
            "type": "contour"
           }
          ],
          "contourcarpet": [
           {
            "colorbar": {
             "outlinewidth": 0,
             "ticks": ""
            },
            "type": "contourcarpet"
           }
          ],
          "heatmap": [
           {
            "colorbar": {
             "outlinewidth": 0,
             "ticks": ""
            },
            "colorscale": [
             [
              0,
              "#0d0887"
             ],
             [
              0.1111111111111111,
              "#46039f"
             ],
             [
              0.2222222222222222,
              "#7201a8"
             ],
             [
              0.3333333333333333,
              "#9c179e"
             ],
             [
              0.4444444444444444,
              "#bd3786"
             ],
             [
              0.5555555555555556,
              "#d8576b"
             ],
             [
              0.6666666666666666,
              "#ed7953"
             ],
             [
              0.7777777777777778,
              "#fb9f3a"
             ],
             [
              0.8888888888888888,
              "#fdca26"
             ],
             [
              1,
              "#f0f921"
             ]
            ],
            "type": "heatmap"
           }
          ],
          "heatmapgl": [
           {
            "colorbar": {
             "outlinewidth": 0,
             "ticks": ""
            },
            "colorscale": [
             [
              0,
              "#0d0887"
             ],
             [
              0.1111111111111111,
              "#46039f"
             ],
             [
              0.2222222222222222,
              "#7201a8"
             ],
             [
              0.3333333333333333,
              "#9c179e"
             ],
             [
              0.4444444444444444,
              "#bd3786"
             ],
             [
              0.5555555555555556,
              "#d8576b"
             ],
             [
              0.6666666666666666,
              "#ed7953"
             ],
             [
              0.7777777777777778,
              "#fb9f3a"
             ],
             [
              0.8888888888888888,
              "#fdca26"
             ],
             [
              1,
              "#f0f921"
             ]
            ],
            "type": "heatmapgl"
           }
          ],
          "histogram": [
           {
            "marker": {
             "pattern": {
              "fillmode": "overlay",
              "size": 10,
              "solidity": 0.2
             }
            },
            "type": "histogram"
           }
          ],
          "histogram2d": [
           {
            "colorbar": {
             "outlinewidth": 0,
             "ticks": ""
            },
            "colorscale": [
             [
              0,
              "#0d0887"
             ],
             [
              0.1111111111111111,
              "#46039f"
             ],
             [
              0.2222222222222222,
              "#7201a8"
             ],
             [
              0.3333333333333333,
              "#9c179e"
             ],
             [
              0.4444444444444444,
              "#bd3786"
             ],
             [
              0.5555555555555556,
              "#d8576b"
             ],
             [
              0.6666666666666666,
              "#ed7953"
             ],
             [
              0.7777777777777778,
              "#fb9f3a"
             ],
             [
              0.8888888888888888,
              "#fdca26"
             ],
             [
              1,
              "#f0f921"
             ]
            ],
            "type": "histogram2d"
           }
          ],
          "histogram2dcontour": [
           {
            "colorbar": {
             "outlinewidth": 0,
             "ticks": ""
            },
            "colorscale": [
             [
              0,
              "#0d0887"
             ],
             [
              0.1111111111111111,
              "#46039f"
             ],
             [
              0.2222222222222222,
              "#7201a8"
             ],
             [
              0.3333333333333333,
              "#9c179e"
             ],
             [
              0.4444444444444444,
              "#bd3786"
             ],
             [
              0.5555555555555556,
              "#d8576b"
             ],
             [
              0.6666666666666666,
              "#ed7953"
             ],
             [
              0.7777777777777778,
              "#fb9f3a"
             ],
             [
              0.8888888888888888,
              "#fdca26"
             ],
             [
              1,
              "#f0f921"
             ]
            ],
            "type": "histogram2dcontour"
           }
          ],
          "mesh3d": [
           {
            "colorbar": {
             "outlinewidth": 0,
             "ticks": ""
            },
            "type": "mesh3d"
           }
          ],
          "parcoords": [
           {
            "line": {
             "colorbar": {
              "outlinewidth": 0,
              "ticks": ""
             }
            },
            "type": "parcoords"
           }
          ],
          "pie": [
           {
            "automargin": true,
            "type": "pie"
           }
          ],
          "scatter": [
           {
            "fillpattern": {
             "fillmode": "overlay",
             "size": 10,
             "solidity": 0.2
            },
            "type": "scatter"
           }
          ],
          "scatter3d": [
           {
            "line": {
             "colorbar": {
              "outlinewidth": 0,
              "ticks": ""
             }
            },
            "marker": {
             "colorbar": {
              "outlinewidth": 0,
              "ticks": ""
             }
            },
            "type": "scatter3d"
           }
          ],
          "scattercarpet": [
           {
            "marker": {
             "colorbar": {
              "outlinewidth": 0,
              "ticks": ""
             }
            },
            "type": "scattercarpet"
           }
          ],
          "scattergeo": [
           {
            "marker": {
             "colorbar": {
              "outlinewidth": 0,
              "ticks": ""
             }
            },
            "type": "scattergeo"
           }
          ],
          "scattergl": [
           {
            "marker": {
             "colorbar": {
              "outlinewidth": 0,
              "ticks": ""
             }
            },
            "type": "scattergl"
           }
          ],
          "scattermapbox": [
           {
            "marker": {
             "colorbar": {
              "outlinewidth": 0,
              "ticks": ""
             }
            },
            "type": "scattermapbox"
           }
          ],
          "scatterpolar": [
           {
            "marker": {
             "colorbar": {
              "outlinewidth": 0,
              "ticks": ""
             }
            },
            "type": "scatterpolar"
           }
          ],
          "scatterpolargl": [
           {
            "marker": {
             "colorbar": {
              "outlinewidth": 0,
              "ticks": ""
             }
            },
            "type": "scatterpolargl"
           }
          ],
          "scatterternary": [
           {
            "marker": {
             "colorbar": {
              "outlinewidth": 0,
              "ticks": ""
             }
            },
            "type": "scatterternary"
           }
          ],
          "surface": [
           {
            "colorbar": {
             "outlinewidth": 0,
             "ticks": ""
            },
            "colorscale": [
             [
              0,
              "#0d0887"
             ],
             [
              0.1111111111111111,
              "#46039f"
             ],
             [
              0.2222222222222222,
              "#7201a8"
             ],
             [
              0.3333333333333333,
              "#9c179e"
             ],
             [
              0.4444444444444444,
              "#bd3786"
             ],
             [
              0.5555555555555556,
              "#d8576b"
             ],
             [
              0.6666666666666666,
              "#ed7953"
             ],
             [
              0.7777777777777778,
              "#fb9f3a"
             ],
             [
              0.8888888888888888,
              "#fdca26"
             ],
             [
              1,
              "#f0f921"
             ]
            ],
            "type": "surface"
           }
          ],
          "table": [
           {
            "cells": {
             "fill": {
              "color": "#EBF0F8"
             },
             "line": {
              "color": "white"
             }
            },
            "header": {
             "fill": {
              "color": "#C8D4E3"
             },
             "line": {
              "color": "white"
             }
            },
            "type": "table"
           }
          ]
         },
         "layout": {
          "annotationdefaults": {
           "arrowcolor": "#2a3f5f",
           "arrowhead": 0,
           "arrowwidth": 1
          },
          "autotypenumbers": "strict",
          "coloraxis": {
           "colorbar": {
            "outlinewidth": 0,
            "ticks": ""
           }
          },
          "colorscale": {
           "diverging": [
            [
             0,
             "#8e0152"
            ],
            [
             0.1,
             "#c51b7d"
            ],
            [
             0.2,
             "#de77ae"
            ],
            [
             0.3,
             "#f1b6da"
            ],
            [
             0.4,
             "#fde0ef"
            ],
            [
             0.5,
             "#f7f7f7"
            ],
            [
             0.6,
             "#e6f5d0"
            ],
            [
             0.7,
             "#b8e186"
            ],
            [
             0.8,
             "#7fbc41"
            ],
            [
             0.9,
             "#4d9221"
            ],
            [
             1,
             "#276419"
            ]
           ],
           "sequential": [
            [
             0,
             "#0d0887"
            ],
            [
             0.1111111111111111,
             "#46039f"
            ],
            [
             0.2222222222222222,
             "#7201a8"
            ],
            [
             0.3333333333333333,
             "#9c179e"
            ],
            [
             0.4444444444444444,
             "#bd3786"
            ],
            [
             0.5555555555555556,
             "#d8576b"
            ],
            [
             0.6666666666666666,
             "#ed7953"
            ],
            [
             0.7777777777777778,
             "#fb9f3a"
            ],
            [
             0.8888888888888888,
             "#fdca26"
            ],
            [
             1,
             "#f0f921"
            ]
           ],
           "sequentialminus": [
            [
             0,
             "#0d0887"
            ],
            [
             0.1111111111111111,
             "#46039f"
            ],
            [
             0.2222222222222222,
             "#7201a8"
            ],
            [
             0.3333333333333333,
             "#9c179e"
            ],
            [
             0.4444444444444444,
             "#bd3786"
            ],
            [
             0.5555555555555556,
             "#d8576b"
            ],
            [
             0.6666666666666666,
             "#ed7953"
            ],
            [
             0.7777777777777778,
             "#fb9f3a"
            ],
            [
             0.8888888888888888,
             "#fdca26"
            ],
            [
             1,
             "#f0f921"
            ]
           ]
          },
          "colorway": [
           "#636efa",
           "#EF553B",
           "#00cc96",
           "#ab63fa",
           "#FFA15A",
           "#19d3f3",
           "#FF6692",
           "#B6E880",
           "#FF97FF",
           "#FECB52"
          ],
          "font": {
           "color": "#2a3f5f"
          },
          "geo": {
           "bgcolor": "white",
           "lakecolor": "white",
           "landcolor": "#E5ECF6",
           "showlakes": true,
           "showland": true,
           "subunitcolor": "white"
          },
          "hoverlabel": {
           "align": "left"
          },
          "hovermode": "closest",
          "mapbox": {
           "style": "light"
          },
          "paper_bgcolor": "white",
          "plot_bgcolor": "#E5ECF6",
          "polar": {
           "angularaxis": {
            "gridcolor": "white",
            "linecolor": "white",
            "ticks": ""
           },
           "bgcolor": "#E5ECF6",
           "radialaxis": {
            "gridcolor": "white",
            "linecolor": "white",
            "ticks": ""
           }
          },
          "scene": {
           "xaxis": {
            "backgroundcolor": "#E5ECF6",
            "gridcolor": "white",
            "gridwidth": 2,
            "linecolor": "white",
            "showbackground": true,
            "ticks": "",
            "zerolinecolor": "white"
           },
           "yaxis": {
            "backgroundcolor": "#E5ECF6",
            "gridcolor": "white",
            "gridwidth": 2,
            "linecolor": "white",
            "showbackground": true,
            "ticks": "",
            "zerolinecolor": "white"
           },
           "zaxis": {
            "backgroundcolor": "#E5ECF6",
            "gridcolor": "white",
            "gridwidth": 2,
            "linecolor": "white",
            "showbackground": true,
            "ticks": "",
            "zerolinecolor": "white"
           }
          },
          "shapedefaults": {
           "line": {
            "color": "#2a3f5f"
           }
          },
          "ternary": {
           "aaxis": {
            "gridcolor": "white",
            "linecolor": "white",
            "ticks": ""
           },
           "baxis": {
            "gridcolor": "white",
            "linecolor": "white",
            "ticks": ""
           },
           "bgcolor": "#E5ECF6",
           "caxis": {
            "gridcolor": "white",
            "linecolor": "white",
            "ticks": ""
           }
          },
          "title": {
           "x": 0.05
          },
          "xaxis": {
           "automargin": true,
           "gridcolor": "white",
           "linecolor": "white",
           "ticks": "",
           "title": {
            "standoff": 15
           },
           "zerolinecolor": "white",
           "zerolinewidth": 2
          },
          "yaxis": {
           "automargin": true,
           "gridcolor": "white",
           "linecolor": "white",
           "ticks": "",
           "title": {
            "standoff": 15
           },
           "zerolinecolor": "white",
           "zerolinewidth": 2
          }
         }
        }
       }
      },
      "text/html": [
<<<<<<< HEAD
       "<div>                            <div id=\"b5355f5e-b96e-45e0-b1c4-2d26f45c2c33\" class=\"plotly-graph-div\" style=\"height:525px; width:100%;\"></div>            <script type=\"text/javascript\">                require([\"plotly\"], function(Plotly) {                    window.PLOTLYENV=window.PLOTLYENV || {};                                    if (document.getElementById(\"b5355f5e-b96e-45e0-b1c4-2d26f45c2c33\")) {                    Plotly.newPlot(                        \"b5355f5e-b96e-45e0-b1c4-2d26f45c2c33\",                        [{\"x\":[-10.0,-9.959919839679358,-9.919839679358718,-9.879759519038076,-9.839679358717435,-9.799599198396793,-9.759519038076153,-9.719438877755511,-9.67935871743487,-9.639278557114228,-9.599198396793588,-9.559118236472946,-9.519038076152304,-9.478957915831664,-9.438877755511022,-9.39879759519038,-9.358717434869739,-9.318637274549099,-9.278557114228457,-9.238476953907815,-9.198396793587175,-9.158316633266534,-9.118236472945892,-9.07815631262525,-9.03807615230461,-8.997995991983968,-8.957915831663327,-8.917835671342685,-8.877755511022045,-8.837675350701403,-8.797595190380761,-8.75751503006012,-8.71743486973948,-8.677354709418838,-8.637274549098196,-8.597194388777556,-8.557114228456914,-8.517034068136272,-8.47695390781563,-8.43687374749499,-8.396793587174349,-8.356713426853707,-8.316633266533067,-8.276553106212425,-8.236472945891784,-8.196392785571142,-8.156312625250502,-8.11623246492986,-8.076152304609218,-8.036072144288577,-7.9959919839679365,-7.955911823647295,-7.915831663326653,-7.875751503006012,-7.835671342685371,-7.7955911823647295,-7.755511022044088,-7.715430861723447,-7.675350701402806,-7.635270541082164,-7.595190380761523,-7.555110220440882,-7.515030060120241,-7.474949899799599,-7.434869739478958,-7.394789579158317,-7.354709418837675,-7.314629258517034,-7.274549098196393,-7.234468937875752,-7.19438877755511,-7.154308617234469,-7.114228456913828,-7.074148296593187,-7.034068136272545,-6.993987975951904,-6.953907815631263,-6.913827655310621,-6.8737474949899795,-6.833667334669339,-6.793587174348698,-6.753507014028056,-6.713426853707415,-6.673346693386774,-6.6332665330661325,-6.593186372745491,-6.55310621242485,-6.513026052104209,-6.472945891783567,-6.432865731462925,-6.3927855711422845,-6.352705410821644,-6.312625250501002,-6.272545090180361,-6.23246492985972,-6.192384769539078,-6.152304609218437,-6.112224448897796,-6.072144288577155,-6.032064128256513,-5.991983967935872,-5.95190380761523,-5.9118236472945895,-5.871743486973948,-5.831663326653307,-5.791583166332665,-5.751503006012024,-5.711422845691383,-5.671342685370742,-5.631262525050101,-5.591182364729459,-5.551102204408818,-5.511022044088176,-5.470941883767535,-5.430861723446894,-5.390781563126253,-5.350701402805611,-5.31062124248497,-5.270541082164329,-5.2304609218436875,-5.190380761523047,-5.150300601202405,-5.110220440881764,-5.070140280561122,-5.030060120240481,-4.98997995991984,-4.949899799599199,-4.909819639278557,-4.869739478957916,-4.829659318637275,-4.789579158316633,-4.7494989979959925,-4.709418837675351,-4.66933867735471,-4.629258517034068,-4.589178356713427,-4.5490981963927855,-4.509018036072145,-4.468937875751503,-4.428857715430862,-4.388777555110221,-4.348697394789579,-4.308617234468938,-4.268537074148297,-4.228456913827656,-4.188376753507014,-4.148296593186373,-4.108216432865731,-4.0681362725450905,-4.028056112224449,-3.987975951903808,-3.947895791583167,-3.907815631262525,-3.8677354709418843,-3.8276553106212425,-3.7875751503006017,-3.74749498997996,-3.707414829659319,-3.6673346693386772,-3.6272545090180364,-3.5871743486973955,-3.5470941883767537,-3.507014028056113,-3.466933867735471,-3.42685370741483,-3.3867735470941884,-3.3466933867735476,-3.306613226452906,-3.266533066132265,-3.226452905811623,-3.1863727454909823,-3.1462925851703414,-3.1062124248496996,-3.0661322645290587,-3.026052104208417,-2.985971943887776,-2.9458917835671343,-2.9058116232464934,-2.8657314629258517,-2.825651302605211,-2.785571142284569,-2.745490981963928,-2.7054108216432873,-2.6653306613226455,-2.6252505010020046,-2.585170340681363,-2.545090180360722,-2.50501002004008,-2.4649298597194393,-2.4248496993987976,-2.3847695390781567,-2.344689378757515,-2.304609218436874,-2.264529058116233,-2.2244488977955914,-2.1843687374749505,-2.1442885771543088,-2.104208416833668,-2.064128256513026,-2.0240480961923852,-1.9839679358717444,-1.9438877755511026,-1.9038076152304608,-1.8637274549098208,-1.823647294589179,-1.7835671342685373,-1.7434869739478955,-1.7034068136272555,-1.6633266533066138,-1.623246492985972,-1.5831663326653302,-1.5430861723446903,-1.5030060120240485,-1.4629258517034067,-1.4228456913827667,-1.382765531062125,-1.3426853707414832,-1.3026052104208414,-1.2625250501002014,-1.2224448897795597,-1.182364729458918,-1.1422845691382761,-1.1022044088176361,-1.0621242484969944,-1.0220440881763526,-0.9819639278557126,-0.9418837675350709,-0.9018036072144291,-0.8617234468937873,-0.8216432865731473,-0.7815631262525056,-0.7414829659318638,-0.701402805611222,-0.661322645290582,-0.6212424849699403,-0.5811623246492985,-0.5410821643286585,-0.5010020040080168,-0.460921843687375,-0.4208416833667332,-0.38076152304609323,-0.34068136272545146,-0.3006012024048097,-0.26052104208416793,-0.22044088176352794,-0.18036072144288617,-0.1402805611222444,-0.10020040080160442,-0.06012024048096265,-0.020040080160320883,0.020040080160320883,0.060120240480960874,0.10020040080160264,0.1402805611222444,0.18036072144288617,0.22044088176352616,0.26052104208416793,0.3006012024048097,0.3406813627254497,0.38076152304609145,0.4208416833667332,0.460921843687375,0.501002004008015,0.5410821643286567,0.5811623246492985,0.6212424849699403,0.6613226452905803,0.701402805611222,0.7414829659318638,0.7815631262525038,0.8216432865731456,0.8617234468937873,0.9018036072144291,0.9418837675350691,0.9819639278557108,1.0220440881763526,1.0621242484969944,1.1022044088176344,1.1422845691382761,1.182364729458918,1.222444889779558,1.2625250501001997,1.3026052104208414,1.3426853707414832,1.3827655310621232,1.422845691382765,1.4629258517034067,1.5030060120240485,1.5430861723446885,1.5831663326653302,1.623246492985972,1.663326653306612,1.7034068136272538,1.7434869739478955,1.7835671342685373,1.8236472945891773,1.863727454909819,1.9038076152304608,1.9438877755511026,1.9839679358717426,2.0240480961923843,2.064128256513026,2.104208416833666,2.144288577154308,2.1843687374749496,2.2244488977955914,2.2645290581162314,2.304609218436873,2.344689378757515,2.3847695390781567,2.4248496993987967,2.4649298597194385,2.50501002004008,2.54509018036072,2.585170340681362,2.6252505010020037,2.6653306613226455,2.7054108216432855,2.7454909819639273,2.785571142284569,2.825651302605209,2.865731462925851,2.9058116232464926,2.9458917835671343,2.9859719438877743,3.026052104208416,3.066132264529058,3.1062124248496996,3.1462925851703396,3.1863727454909814,3.226452905811623,3.266533066132263,3.306613226452905,3.3466933867735467,3.3867735470941884,3.4268537074148284,3.46693386773547,3.507014028056112,3.5470941883767537,3.5871743486973937,3.6272545090180355,3.6673346693386772,3.7074148296593172,3.747494989979959,3.7875751503006008,3.8276553106212425,3.8677354709418825,3.9078156312625243,3.947895791583166,3.987975951903808,4.028056112224448,4.06813627254509,4.108216432865731,4.148296593186371,4.188376753507013,4.228456913827655,4.268537074148297,4.308617234468937,4.348697394789578,4.38877755511022,4.428857715430862,4.468937875751502,4.509018036072144,4.5490981963927855,4.589178356713425,4.629258517034067,4.669338677354709,4.709418837675351,4.749498997995991,4.7895791583166325,4.829659318637274,4.869739478957916,4.909819639278556,4.949899799599198,4.98997995991984,5.0300601202404795,5.070140280561121,5.110220440881763,5.150300601202405,5.190380761523045,5.230460921843687,5.270541082164328,5.31062124248497,5.35070140280561,5.390781563126252,5.430861723446894,5.470941883767534,5.511022044088175,5.551102204408817,5.591182364729459,5.631262525050099,5.671342685370741,5.7114228456913825,5.751503006012024,5.791583166332664,5.831663326653306,5.871743486973948,5.911823647294588,5.9519038076152295,5.991983967935871,6.032064128256511,6.072144288577153,6.112224448897795,6.152304609218437,6.192384769539078,6.23246492985972,6.272545090180358,6.312625250501,6.352705410821642,6.392785571142284,6.432865731462925,6.472945891783567,6.513026052104209,6.553106212424851,6.593186372745489,6.633266533066131,6.673346693386772,6.713426853707414,6.753507014028056,6.793587174348698,6.8336673346693395,6.873747494989978,6.9138276553106195,6.953907815631261,6.993987975951903,7.034068136272545,7.074148296593187,7.114228456913828,7.1543086172344665,7.194388777555108,7.23446893787575,7.274549098196392,7.314629258517034,7.354709418837675,7.394789579158317,7.434869739478959,7.474949899799597,7.515030060120239,7.555110220440881,7.595190380761522,7.635270541082164,7.675350701402806,7.715430861723448,7.755511022044086,7.795591182364728,7.8356713426853695,7.875751503006011,7.915831663326653,7.955911823647295,7.9959919839679365,8.036072144288575,8.076152304609217,8.116232464929858,8.1563126252505,8.196392785571142,8.236472945891784,8.276553106212425,8.316633266533067,8.356713426853705,8.396793587174347,8.436873747494989,8.47695390781563,8.517034068136272,8.557114228456914,8.597194388777556,8.637274549098194,8.677354709418836,8.717434869739478,8.75751503006012,8.797595190380761,8.837675350701403,8.877755511022045,8.917835671342683,8.957915831663325,8.997995991983966,9.038076152304608,9.07815631262525,9.118236472945892,9.158316633266534,9.198396793587175,9.238476953907814,9.278557114228455,9.318637274549097,9.358717434869739,9.39879759519038,9.438877755511022,9.478957915831664,9.519038076152302,9.559118236472944,9.599198396793586,9.639278557114228,9.67935871743487,9.719438877755511,9.759519038076153,9.799599198396791,9.839679358717433,9.879759519038075,9.919839679358716,9.959919839679358,10.0],\"y\":[4.3416149412130474e-07,4.757195767186213e-07,5.210938256518294e-07,5.70618755474801e-07,6.246566924296597e-07,6.835999486164689e-07,7.478731540088721e-07,8.179357567571131e-07,8.942845697760578e-07,9.774571676288257e-07,1.068034180140263e-06,1.1666430973284132e-06,1.273961662946217e-06,1.3907216399709525e-06,1.5177128362191015e-06,1.6557874062678805e-06,1.8058644467326644e-06,1.9689349028532943e-06,2.146066805283395e-06,2.3384108569551642e-06,2.547206390909249e-06,2.7737877210348696e-06,3.019590908760457e-06,3.28616096987038e-06,3.57515954679824e-06,3.888373072963251e-06,4.227721456972332e-06,4.595267315808213e-06,4.993225787461305e-06,5.423974954841993e-06,5.890066914228264e-06,6.39423952296276e-06,6.939428862610449e-06,7.52878245532479e-06,8.165673272743284e-06,8.853714578343974e-06,9.596775645838928e-06,1.0398998397858666e-05,1.1264815010892537e-05,1.2198966534188425e-05,1.3206522572082812e-05,1.429290208102303e-05,1.546389533435815e-05,1.6725687319255848e-05,1.808488135353726e-05,1.9548526182436323e-05,2.112414231076304e-05,2.2819750887387255e-05,2.4643903894708892e-05,2.6605715929319894e-05,2.8714897641792124e-05,3.0981790905359536e-05,3.3417405785069306e-05,3.6033459380757106e-05,3.884241661893902e-05,4.185753307040827e-05,4.5092899871966054e-05,4.856349083229645e-05,5.2285211803504326e-05,5.627495240126584e-05,6.055064015788219e-05,6.513129754052807e-05,7.003709989784016e-05,7.528943934209842e-05,8.091098827740868e-05,8.692576731404954e-05,9.335921585035633e-05,0.00010023826570541958,0.00010759141789312518,0.00011544882262810123,0.00012384236265396668,0.0001328057399838868,0.0001423745661428154,0.00015258645599991994,0.00016348112527854843,0.00017510049182967134,0.00018748878075301216,0.0002006926334480502,0.00021476122067472345,0.00022974635970096383,0.00024570263561114015,0.0002626875268460551,0.0002807615350413303,0.00029998831922679935,0.00032043483444488214,0.00034217147484085484,0.00036527222127241406,0.00038981479347995475,0.0004158808068525307,0.00044355593381753414,0.0004729300698746954,0.0005040975042870554,0.0005371570954330934,0.000572212450815199,0.0006093721117101478,0.0006487497424371329,0.0006904643242082866,0.0007346403535154237,0.0007814080449949724,0.0008309035387007312,0.0008832691117012025,0.0009386533939048067,0.0009972115880022149,0.001059105693400528,0.0011245047340088094,0.0011935849897188899,0.001266530231409061,0.0013435319592816153,0.0014247896443278858,0.0015105109726967307,0.0016009120927242243,0.0016962178643635804,0.0017966621107353726,0.0019024878714985,0.0020139476577226314,0.0021313037079225463,0.0022548282448944484,0.0023848037329734107,0.002521523135310321,0.0026652901707453843,0.002816419569834057,0.0029752373295599105,0.003142080966247447,0.0033172997661666515,0.0035012550332995966,0.0036943203337184765,0.0038968817360032436,0.004109338047106626,0.004332101043053657,0.004565595693843226,0.004810260381899431,0.005066547113401738,0.005334921721804791,0.005615864062840833,0.005909868200281364,0.006217442581718299,0.0065391102036103784,0.006875408764826291,0.0072268908079035485,0.007594123847230161,0.007977690483346385,0.00837818850255436,0.008796230961016454,0.009232446252517115,0.009687478159058543,0.01016198588345846,0.010656644063116876,0.011172142764120659,0.011709187454856976,0.012268498958312682,0.012850813382243129,0.013456882026404134,0.014087471266051744,0.01474336241092889,0.015425351538974416,0.016134249304008096,0.016870880716667456,0.017636084897894876,0.018430714804300745,0.019255636924756334,0.02011173094760245,0.020999889397893164,0.02192101724413118,0.02287603147399074,0.023865860638565373,0.024891444364723465,0.02595373283520051,0.027053686236108123,0.028192274171590842,0.02937047504541789,0.030589275409353106,0.03184966927820699,0.033152657411536016,0.03449924656201862,0.03589044869060445,0.03732728014860012,0.038810760826927033,0.04034191327285684,0.04192176177460585,0.04355133141424302,0.045231647089444785,0.04696373250470591,0.04874860913269653,0.0505872951465336,0.052480804323816695,0.054430144923359375,0.05643631853562731,0.058500318907978195,0.060623130745877635,0.0628057284913487,0.0650490750799911,0.06735412067798886,0.06972180140060091,0.07215303801371056,0.07464873462008269,0.07720977733205464,0.07983703293245915,0.0825313475256465,0.08529354518054473,0.08812442656775801,0.09102476759277084,0.09399531802738074,0.09703680014154176,0.1001499073378522,0.10333530279096989,0.10659361809428065,0.10992545191619102,0.11333136866844731,0.1168118971889253,0.12036752944131396,0.12399871923427189,0.1277058809624354,0.13148938837188132,0.1353495733525258,0.1392867247599852,0.1433010872694126,0.14739286026380805,0.15156219675929197,0.1558092023697993,0.16013393431362927,0.1645364004642436,0.1690165584476736,0.17357431478883997,0.17820952410904167,0.18292198837680623,0.1877114562142326,0.19257762226088365,0.19752012659720408,0.20253855422936526,0.2076324346373409,0.2128012413879282,0.21804439181432483,0.22336124676377397,0.22875111041467175,0.23421323016442397,0.23974679658921155,0.2453509434767111,0.2510247479326803,0.25676723056218886,0.26257735572614527,0.26845403187362643,0.27439611195037916,0.2804023938837161,0.2864716211438899,0.29260248338187406,0.29879361714333597,0.3050436066584334,0.31135098470691996,0.31771423355789186,0.32413178598335163,0.3306020263446283,0.33712329175052735,0.3436938732859495,0.3503120173095574,0.3569759268189393,0.36368376288156307,0.37043364612968294,0.3772236583172195,0.3840518439365057,0.39091621189266057,0.39781473723322175,0.4047453629305615,0.41170600171448124,0.4186945379522797,0.42570882957347833,0.4327467100362977,0.4398059903328767,0.44688446103014934,0.45397989434320546,0.461090046242453,0.46821265855940275,0.47534546118332044,0.48248617418598416,0.48963251003043734,0.49678217576463807,0.5039328752283478,0.5110823112651748,0.5182281879362155,0.5253682127317422,0.532500098777382,0.5396215670312555,0.5467303484685533,0.5538241862500575,0.5609008378711644,0.5679580772879878,0.5749936970171914,0.5820055102062469,0.5889913526708852,0.5959490848965797,0.6028765940009814,0.6097717956543068,0.6166326359547852,0.6234570932563555,0.630243179945916,0.6369889441675449,0.6436924714912133,0.6503518865236435,0.6569653544590851,0.663531082567912,0.6700473216210796,0.6765123672486111,0.682924561230429,0.6892822927179865,0.6955839993853016,0.7018281685081355,0.7080133379702201,0.7141380971955716,0.7202010880060953,0.7262010054038184,0.7321365982772586,0.7380066700315724,0.7438100791422808,0.7495457396325204,0.7552126214739147,0.760809750911306,0.7663362107117251,0.7717911403381285,0.7771737360485579,0.7824832509215243,0.7877189948085316,0.7928803342148052,0.7979666921093934,0.8029775476659402,0.8079124359355375,0.8127709474531779,0.8175527277794281,0.8222574769790478,0.8268849490383691,0.8314349512233431,0.8359073433802403,0.8403020371810668,0.8446189953158377,0.8488582306339028,0.8530198052365868,0.8571038295234588,0.8611104611945849,0.8650399042111733,0.8688924077170369,0.8726682649233473,0.8763678119591571,0.8799914266902081,0.8835395275085143,0.8870125720952677,0.8904110561595662,0.8937355121554782,0.896986507979949,0.9001646456540263,0.9032705599898674,0.9063049172459618,0.9092684137729695,0.9121617746525382,0.9149857523314254,0.9177411252532004,0.9204286964897582,0.9230492923748171,0.925603761141522,0.9280929715662117,0.930517811620345,0.9328791871325177,0.9351780204624296,0.9374152491885962,0.9395918248115172,0.9417087114739504,0.9437668846998548,0.9457673301534897,0.9477110424200819,0.9495990238093889,0.9514322831834069,0.9532118348093936,0.9549386972392799,0.9566138922164921,0.9582384436110958,0.959813376384103,0.9613397155817089,0.9628184853601359,0.9642507080416868,0.9656374032025343,0.9669795867926932,0.9682782702885486,0.9695344598782231,0.9707491556801003,0.9719233509944459,0.9730580315885136,0.974154175014851,0.9752127499630995,0.9762347156448254,0.9772210212115018,0.9781726052052802,0.9790903950423268,0.9799753065283848,0.9808282434061892,0.9816500969343123,0.9824417454969729,0.9832040542443021,0.9839378747625178,0.9846440447734209,0.985323387862602,0.9859767132357037,0.9866048155020645,0.9872084744850383,0.9877884550582666,0.9883455070071496,0.9888803649147563,0.9893937480713836,0.9898863604069775,0.9903588904455991,0.9908120112811242,0.9912463805733525,0.9916626405636941,0.9920614181096044,0.9924433247369345,0.9928089567093639,0.993158895114086,0.9934937059629247,0.9938139403080606,0.9941201343715564,0.9944128096878777,0.9946924732586252,0.9949596177186852,0.995214721513045,0.9954582490835104,0.9956906510645923,0.99591236448784,0.996123812993913,0.9963254070517076,0.9965175441838676,0.9967006091980286,0.9968749744231652,0.9970409999504305,0.9971990338779,0.9973494125586437,0.9974924608515887,0.997628492374631,0.9977578097595033,0.9978807049079054,0.9979974592484381,0.9981083439938966,0.9982136203985043,0.9983135400146841,0.9984083449490055,0.9984982681168765,0.9985835334957999,0.9986643563767299,0.9987409436132137,0.9988134938682128,0.9988821978581818,0.9989472385942284,0.9990087916201271,0.9990670252469804,0.9991221007843358,0.9991741727675933,0.9992233891815467,0.9992698916799204,0.9993138158007749,0.9993552911776769,0.9993944417465348,0.9994313859480186,0.999466236925495,0.9994991027184227,0.9995300864511584,0.9995592865171455,0.9995867967584569,0.999612706640681,0.9996371014231462,0.9996600623244908,0.9996816666835889,0.9997019881158542,0.9997210966649546,0.9997390589499665,0.9997559383080152,0.9997717949324509,0.9997866860066074,0.9998006658332081,0.9998137859594807,0.9998260952980456,0.9998376402436512,0.9998484647858307,0.9998586106175558,0.9998681172399697,0.999877022063281,0.9998853605039009,0.9998931660779127,0.9999004704909614,0.9999073037246468,0.9999136941195176,0.9999196684547481,0.9999252520245808,0.9999304687117063,0.9999353410574625,0.9999398903292386,0.9999441365848508,0.9999480987343554,0.9999517945989855,0.9999552409675841,0.9999584536505113,0.9999614475311246,0.9999642366149217,0.9999668340764226,0.9999692523038787,0.9999715029418833],\"type\":\"scatter\"}],                        {\"template\":{\"data\":{\"histogram2dcontour\":[{\"type\":\"histogram2dcontour\",\"colorbar\":{\"outlinewidth\":0,\"ticks\":\"\"},\"colorscale\":[[0.0,\"#0d0887\"],[0.1111111111111111,\"#46039f\"],[0.2222222222222222,\"#7201a8\"],[0.3333333333333333,\"#9c179e\"],[0.4444444444444444,\"#bd3786\"],[0.5555555555555556,\"#d8576b\"],[0.6666666666666666,\"#ed7953\"],[0.7777777777777778,\"#fb9f3a\"],[0.8888888888888888,\"#fdca26\"],[1.0,\"#f0f921\"]]}],\"choropleth\":[{\"type\":\"choropleth\",\"colorbar\":{\"outlinewidth\":0,\"ticks\":\"\"}}],\"histogram2d\":[{\"type\":\"histogram2d\",\"colorbar\":{\"outlinewidth\":0,\"ticks\":\"\"},\"colorscale\":[[0.0,\"#0d0887\"],[0.1111111111111111,\"#46039f\"],[0.2222222222222222,\"#7201a8\"],[0.3333333333333333,\"#9c179e\"],[0.4444444444444444,\"#bd3786\"],[0.5555555555555556,\"#d8576b\"],[0.6666666666666666,\"#ed7953\"],[0.7777777777777778,\"#fb9f3a\"],[0.8888888888888888,\"#fdca26\"],[1.0,\"#f0f921\"]]}],\"heatmap\":[{\"type\":\"heatmap\",\"colorbar\":{\"outlinewidth\":0,\"ticks\":\"\"},\"colorscale\":[[0.0,\"#0d0887\"],[0.1111111111111111,\"#46039f\"],[0.2222222222222222,\"#7201a8\"],[0.3333333333333333,\"#9c179e\"],[0.4444444444444444,\"#bd3786\"],[0.5555555555555556,\"#d8576b\"],[0.6666666666666666,\"#ed7953\"],[0.7777777777777778,\"#fb9f3a\"],[0.8888888888888888,\"#fdca26\"],[1.0,\"#f0f921\"]]}],\"heatmapgl\":[{\"type\":\"heatmapgl\",\"colorbar\":{\"outlinewidth\":0,\"ticks\":\"\"},\"colorscale\":[[0.0,\"#0d0887\"],[0.1111111111111111,\"#46039f\"],[0.2222222222222222,\"#7201a8\"],[0.3333333333333333,\"#9c179e\"],[0.4444444444444444,\"#bd3786\"],[0.5555555555555556,\"#d8576b\"],[0.6666666666666666,\"#ed7953\"],[0.7777777777777778,\"#fb9f3a\"],[0.8888888888888888,\"#fdca26\"],[1.0,\"#f0f921\"]]}],\"contourcarpet\":[{\"type\":\"contourcarpet\",\"colorbar\":{\"outlinewidth\":0,\"ticks\":\"\"}}],\"contour\":[{\"type\":\"contour\",\"colorbar\":{\"outlinewidth\":0,\"ticks\":\"\"},\"colorscale\":[[0.0,\"#0d0887\"],[0.1111111111111111,\"#46039f\"],[0.2222222222222222,\"#7201a8\"],[0.3333333333333333,\"#9c179e\"],[0.4444444444444444,\"#bd3786\"],[0.5555555555555556,\"#d8576b\"],[0.6666666666666666,\"#ed7953\"],[0.7777777777777778,\"#fb9f3a\"],[0.8888888888888888,\"#fdca26\"],[1.0,\"#f0f921\"]]}],\"surface\":[{\"type\":\"surface\",\"colorbar\":{\"outlinewidth\":0,\"ticks\":\"\"},\"colorscale\":[[0.0,\"#0d0887\"],[0.1111111111111111,\"#46039f\"],[0.2222222222222222,\"#7201a8\"],[0.3333333333333333,\"#9c179e\"],[0.4444444444444444,\"#bd3786\"],[0.5555555555555556,\"#d8576b\"],[0.6666666666666666,\"#ed7953\"],[0.7777777777777778,\"#fb9f3a\"],[0.8888888888888888,\"#fdca26\"],[1.0,\"#f0f921\"]]}],\"mesh3d\":[{\"type\":\"mesh3d\",\"colorbar\":{\"outlinewidth\":0,\"ticks\":\"\"}}],\"scatter\":[{\"fillpattern\":{\"fillmode\":\"overlay\",\"size\":10,\"solidity\":0.2},\"type\":\"scatter\"}],\"parcoords\":[{\"type\":\"parcoords\",\"line\":{\"colorbar\":{\"outlinewidth\":0,\"ticks\":\"\"}}}],\"scatterpolargl\":[{\"type\":\"scatterpolargl\",\"marker\":{\"colorbar\":{\"outlinewidth\":0,\"ticks\":\"\"}}}],\"bar\":[{\"error_x\":{\"color\":\"#2a3f5f\"},\"error_y\":{\"color\":\"#2a3f5f\"},\"marker\":{\"line\":{\"color\":\"#E5ECF6\",\"width\":0.5},\"pattern\":{\"fillmode\":\"overlay\",\"size\":10,\"solidity\":0.2}},\"type\":\"bar\"}],\"scattergeo\":[{\"type\":\"scattergeo\",\"marker\":{\"colorbar\":{\"outlinewidth\":0,\"ticks\":\"\"}}}],\"scatterpolar\":[{\"type\":\"scatterpolar\",\"marker\":{\"colorbar\":{\"outlinewidth\":0,\"ticks\":\"\"}}}],\"histogram\":[{\"marker\":{\"pattern\":{\"fillmode\":\"overlay\",\"size\":10,\"solidity\":0.2}},\"type\":\"histogram\"}],\"scattergl\":[{\"type\":\"scattergl\",\"marker\":{\"colorbar\":{\"outlinewidth\":0,\"ticks\":\"\"}}}],\"scatter3d\":[{\"type\":\"scatter3d\",\"line\":{\"colorbar\":{\"outlinewidth\":0,\"ticks\":\"\"}},\"marker\":{\"colorbar\":{\"outlinewidth\":0,\"ticks\":\"\"}}}],\"scattermapbox\":[{\"type\":\"scattermapbox\",\"marker\":{\"colorbar\":{\"outlinewidth\":0,\"ticks\":\"\"}}}],\"scatterternary\":[{\"type\":\"scatterternary\",\"marker\":{\"colorbar\":{\"outlinewidth\":0,\"ticks\":\"\"}}}],\"scattercarpet\":[{\"type\":\"scattercarpet\",\"marker\":{\"colorbar\":{\"outlinewidth\":0,\"ticks\":\"\"}}}],\"carpet\":[{\"aaxis\":{\"endlinecolor\":\"#2a3f5f\",\"gridcolor\":\"white\",\"linecolor\":\"white\",\"minorgridcolor\":\"white\",\"startlinecolor\":\"#2a3f5f\"},\"baxis\":{\"endlinecolor\":\"#2a3f5f\",\"gridcolor\":\"white\",\"linecolor\":\"white\",\"minorgridcolor\":\"white\",\"startlinecolor\":\"#2a3f5f\"},\"type\":\"carpet\"}],\"table\":[{\"cells\":{\"fill\":{\"color\":\"#EBF0F8\"},\"line\":{\"color\":\"white\"}},\"header\":{\"fill\":{\"color\":\"#C8D4E3\"},\"line\":{\"color\":\"white\"}},\"type\":\"table\"}],\"barpolar\":[{\"marker\":{\"line\":{\"color\":\"#E5ECF6\",\"width\":0.5},\"pattern\":{\"fillmode\":\"overlay\",\"size\":10,\"solidity\":0.2}},\"type\":\"barpolar\"}],\"pie\":[{\"automargin\":true,\"type\":\"pie\"}]},\"layout\":{\"autotypenumbers\":\"strict\",\"colorway\":[\"#636efa\",\"#EF553B\",\"#00cc96\",\"#ab63fa\",\"#FFA15A\",\"#19d3f3\",\"#FF6692\",\"#B6E880\",\"#FF97FF\",\"#FECB52\"],\"font\":{\"color\":\"#2a3f5f\"},\"hovermode\":\"closest\",\"hoverlabel\":{\"align\":\"left\"},\"paper_bgcolor\":\"white\",\"plot_bgcolor\":\"#E5ECF6\",\"polar\":{\"bgcolor\":\"#E5ECF6\",\"angularaxis\":{\"gridcolor\":\"white\",\"linecolor\":\"white\",\"ticks\":\"\"},\"radialaxis\":{\"gridcolor\":\"white\",\"linecolor\":\"white\",\"ticks\":\"\"}},\"ternary\":{\"bgcolor\":\"#E5ECF6\",\"aaxis\":{\"gridcolor\":\"white\",\"linecolor\":\"white\",\"ticks\":\"\"},\"baxis\":{\"gridcolor\":\"white\",\"linecolor\":\"white\",\"ticks\":\"\"},\"caxis\":{\"gridcolor\":\"white\",\"linecolor\":\"white\",\"ticks\":\"\"}},\"coloraxis\":{\"colorbar\":{\"outlinewidth\":0,\"ticks\":\"\"}},\"colorscale\":{\"sequential\":[[0.0,\"#0d0887\"],[0.1111111111111111,\"#46039f\"],[0.2222222222222222,\"#7201a8\"],[0.3333333333333333,\"#9c179e\"],[0.4444444444444444,\"#bd3786\"],[0.5555555555555556,\"#d8576b\"],[0.6666666666666666,\"#ed7953\"],[0.7777777777777778,\"#fb9f3a\"],[0.8888888888888888,\"#fdca26\"],[1.0,\"#f0f921\"]],\"sequentialminus\":[[0.0,\"#0d0887\"],[0.1111111111111111,\"#46039f\"],[0.2222222222222222,\"#7201a8\"],[0.3333333333333333,\"#9c179e\"],[0.4444444444444444,\"#bd3786\"],[0.5555555555555556,\"#d8576b\"],[0.6666666666666666,\"#ed7953\"],[0.7777777777777778,\"#fb9f3a\"],[0.8888888888888888,\"#fdca26\"],[1.0,\"#f0f921\"]],\"diverging\":[[0,\"#8e0152\"],[0.1,\"#c51b7d\"],[0.2,\"#de77ae\"],[0.3,\"#f1b6da\"],[0.4,\"#fde0ef\"],[0.5,\"#f7f7f7\"],[0.6,\"#e6f5d0\"],[0.7,\"#b8e186\"],[0.8,\"#7fbc41\"],[0.9,\"#4d9221\"],[1,\"#276419\"]]},\"xaxis\":{\"gridcolor\":\"white\",\"linecolor\":\"white\",\"ticks\":\"\",\"title\":{\"standoff\":15},\"zerolinecolor\":\"white\",\"automargin\":true,\"zerolinewidth\":2},\"yaxis\":{\"gridcolor\":\"white\",\"linecolor\":\"white\",\"ticks\":\"\",\"title\":{\"standoff\":15},\"zerolinecolor\":\"white\",\"automargin\":true,\"zerolinewidth\":2},\"scene\":{\"xaxis\":{\"backgroundcolor\":\"#E5ECF6\",\"gridcolor\":\"white\",\"linecolor\":\"white\",\"showbackground\":true,\"ticks\":\"\",\"zerolinecolor\":\"white\",\"gridwidth\":2},\"yaxis\":{\"backgroundcolor\":\"#E5ECF6\",\"gridcolor\":\"white\",\"linecolor\":\"white\",\"showbackground\":true,\"ticks\":\"\",\"zerolinecolor\":\"white\",\"gridwidth\":2},\"zaxis\":{\"backgroundcolor\":\"#E5ECF6\",\"gridcolor\":\"white\",\"linecolor\":\"white\",\"showbackground\":true,\"ticks\":\"\",\"zerolinecolor\":\"white\",\"gridwidth\":2}},\"shapedefaults\":{\"line\":{\"color\":\"#2a3f5f\"}},\"annotationdefaults\":{\"arrowcolor\":\"#2a3f5f\",\"arrowhead\":0,\"arrowwidth\":1},\"geo\":{\"bgcolor\":\"white\",\"landcolor\":\"#E5ECF6\",\"subunitcolor\":\"white\",\"showland\":true,\"showlakes\":true,\"lakecolor\":\"white\"},\"title\":{\"x\":0.05},\"mapbox\":{\"style\":\"light\"}}}},                        {\"responsive\": true}                    ).then(function(){\n",
       "                            \n",
       "var gd = document.getElementById('b5355f5e-b96e-45e0-b1c4-2d26f45c2c33');\n",
=======
       "<div>                            <div id=\"c6b628b3-098f-4e0a-adfd-171fc460778c\" class=\"plotly-graph-div\" style=\"height:525px; width:100%;\"></div>            <script type=\"text/javascript\">                require([\"plotly\"], function(Plotly) {                    window.PLOTLYENV=window.PLOTLYENV || {};                                    if (document.getElementById(\"c6b628b3-098f-4e0a-adfd-171fc460778c\")) {                    Plotly.newPlot(                        \"c6b628b3-098f-4e0a-adfd-171fc460778c\",                        [{\"x\":[-4.0,-3.8585858585858586,-3.717171717171717,-3.5757575757575757,-3.4343434343434343,-3.292929292929293,-3.1515151515151514,-3.0101010101010104,-2.8686868686868685,-2.7272727272727275,-2.5858585858585856,-2.4444444444444446,-2.303030303030303,-2.1616161616161618,-2.0202020202020203,-1.878787878787879,-1.7373737373737375,-1.595959595959596,-1.4545454545454546,-1.3131313131313131,-1.1717171717171717,-1.0303030303030303,-0.8888888888888888,-0.7474747474747474,-0.6060606060606064,-0.464646464646465,-0.32323232323232354,-0.1818181818181821,-0.040404040404040664,0.10101010101010122,0.2424242424242422,0.3838383838383841,0.5252525252525251,0.6666666666666661,0.808080808080808,0.949494949494949,1.0909090909090908,1.2323232323232318,1.3737373737373737,1.5151515151515147,1.6565656565656566,1.7979797979797976,1.9393939393939394,2.0808080808080804,2.2222222222222223,2.3636363636363633,2.505050505050505,2.646464646464646,2.787878787878787,2.929292929292929,3.07070707070707,3.212121212121212,3.353535353535353,3.494949494949495,3.636363636363636,3.7777777777777777,3.9191919191919187,4.0606060606060606,4.202020202020202,4.3434343434343425,4.484848484848484,4.626262626262626,4.767676767676768,4.909090909090908,5.05050505050505,5.191919191919192,5.333333333333332,5.474747474747474,5.616161616161616,5.757575757575758,5.898989898989898,6.04040404040404,6.181818181818182,6.3232323232323235,6.464646464646464,6.6060606060606055,6.747474747474747,6.888888888888889,7.030303030303029,7.171717171717171,7.313131313131313,7.454545454545453,7.595959595959595,7.737373737373737,7.878787878787879,8.020202020202019,8.16161616161616,8.303030303030303,8.444444444444445,8.585858585858585,8.727272727272727,8.868686868686869,9.01010101010101,9.15151515151515,9.292929292929292,9.434343434343434,9.575757575757574,9.717171717171716,9.858585858585858,10.0],\"y\":[0.0023388674905233005,0.0031818082597566584,0.004288907990158353,0.005728493721235834,0.007581809508204569,0.009944040817447363,0.012925003387182575,0.016649364046031703,0.021256256192510304,0.02689815726942247,0.03373891165731267,0.04195081137794392,0.05171068932916906,0.0631950347515104,0.07657420614715926,0.09200588936992479,0.10962802315302872,0.12955148492390708,0.1518528897152872,0.17656789762512606,0.20368544457176466,0.23314330239002157,0.2648253350266711,0.29856074769228985,0.33412552812597895,0.37124615927228943,0.4096055487897514,0.4488509828917201,0.4886037810042722,0.5284702144601069,0.5680531665933648,0.6069639606300353,0.6448337701726297,0.6813240558830324,0.7161355386264604,0.7490153180050656,0.7797618673594706,0.808227771649784,0.8343202121221528,0.8579993306697985,0.8792747180210657,0.8982003562038166,0.9148684026923579,0.9294022296596792,0.9419491280097257,0.9526730558977814,0.9617477605881448,0.9693505371531022,0.9756568144451531,0.9808356844232069,0.9850464208782398,0.9884359722489285,0.9911373634866627,0.9932689053135503,0.994934085889825,0.9962220089448957,0.9972082421076092,0.9979559472856634,0.998517179092362,0.9989342551535337,0.9992411215617866,0.9994646560482343,0.9996258693289737,0.9997409806911236,0.9998223567522102,0.9998793123256903,0.9999187795774067,0.9999458564581818,0.9999642481410107,0.9999766163095016,0.9999848510592112,0.9999902792674402,0.9999938218801634,0.9999961109125592,0.9999975752503831,0.9999985027029358,0.9999990842745473,0.9999994453315477,0.9999996672581772,0.9999998023111465,0.9999998836803242,0.9999999322177581,0.9999999608829374,0.9999999776436975,0.9999999873464239,0.9999999929074516,0.9999999960630208,0.9999999978358345,0.9999999988219209,0.999999999364981,0.9999999996611304,0.9999999998211064,0.9999999999067924,0.9999999999524057,0.9999999999766175,0.9999999999873044,0.9999999999936089,0.9999999999968141,0.9999999999984277,0.9999999999992316],\"type\":\"scatter\"}],                        {\"template\":{\"data\":{\"histogram2dcontour\":[{\"type\":\"histogram2dcontour\",\"colorbar\":{\"outlinewidth\":0,\"ticks\":\"\"},\"colorscale\":[[0.0,\"#0d0887\"],[0.1111111111111111,\"#46039f\"],[0.2222222222222222,\"#7201a8\"],[0.3333333333333333,\"#9c179e\"],[0.4444444444444444,\"#bd3786\"],[0.5555555555555556,\"#d8576b\"],[0.6666666666666666,\"#ed7953\"],[0.7777777777777778,\"#fb9f3a\"],[0.8888888888888888,\"#fdca26\"],[1.0,\"#f0f921\"]]}],\"choropleth\":[{\"type\":\"choropleth\",\"colorbar\":{\"outlinewidth\":0,\"ticks\":\"\"}}],\"histogram2d\":[{\"type\":\"histogram2d\",\"colorbar\":{\"outlinewidth\":0,\"ticks\":\"\"},\"colorscale\":[[0.0,\"#0d0887\"],[0.1111111111111111,\"#46039f\"],[0.2222222222222222,\"#7201a8\"],[0.3333333333333333,\"#9c179e\"],[0.4444444444444444,\"#bd3786\"],[0.5555555555555556,\"#d8576b\"],[0.6666666666666666,\"#ed7953\"],[0.7777777777777778,\"#fb9f3a\"],[0.8888888888888888,\"#fdca26\"],[1.0,\"#f0f921\"]]}],\"heatmap\":[{\"type\":\"heatmap\",\"colorbar\":{\"outlinewidth\":0,\"ticks\":\"\"},\"colorscale\":[[0.0,\"#0d0887\"],[0.1111111111111111,\"#46039f\"],[0.2222222222222222,\"#7201a8\"],[0.3333333333333333,\"#9c179e\"],[0.4444444444444444,\"#bd3786\"],[0.5555555555555556,\"#d8576b\"],[0.6666666666666666,\"#ed7953\"],[0.7777777777777778,\"#fb9f3a\"],[0.8888888888888888,\"#fdca26\"],[1.0,\"#f0f921\"]]}],\"heatmapgl\":[{\"type\":\"heatmapgl\",\"colorbar\":{\"outlinewidth\":0,\"ticks\":\"\"},\"colorscale\":[[0.0,\"#0d0887\"],[0.1111111111111111,\"#46039f\"],[0.2222222222222222,\"#7201a8\"],[0.3333333333333333,\"#9c179e\"],[0.4444444444444444,\"#bd3786\"],[0.5555555555555556,\"#d8576b\"],[0.6666666666666666,\"#ed7953\"],[0.7777777777777778,\"#fb9f3a\"],[0.8888888888888888,\"#fdca26\"],[1.0,\"#f0f921\"]]}],\"contourcarpet\":[{\"type\":\"contourcarpet\",\"colorbar\":{\"outlinewidth\":0,\"ticks\":\"\"}}],\"contour\":[{\"type\":\"contour\",\"colorbar\":{\"outlinewidth\":0,\"ticks\":\"\"},\"colorscale\":[[0.0,\"#0d0887\"],[0.1111111111111111,\"#46039f\"],[0.2222222222222222,\"#7201a8\"],[0.3333333333333333,\"#9c179e\"],[0.4444444444444444,\"#bd3786\"],[0.5555555555555556,\"#d8576b\"],[0.6666666666666666,\"#ed7953\"],[0.7777777777777778,\"#fb9f3a\"],[0.8888888888888888,\"#fdca26\"],[1.0,\"#f0f921\"]]}],\"surface\":[{\"type\":\"surface\",\"colorbar\":{\"outlinewidth\":0,\"ticks\":\"\"},\"colorscale\":[[0.0,\"#0d0887\"],[0.1111111111111111,\"#46039f\"],[0.2222222222222222,\"#7201a8\"],[0.3333333333333333,\"#9c179e\"],[0.4444444444444444,\"#bd3786\"],[0.5555555555555556,\"#d8576b\"],[0.6666666666666666,\"#ed7953\"],[0.7777777777777778,\"#fb9f3a\"],[0.8888888888888888,\"#fdca26\"],[1.0,\"#f0f921\"]]}],\"mesh3d\":[{\"type\":\"mesh3d\",\"colorbar\":{\"outlinewidth\":0,\"ticks\":\"\"}}],\"scatter\":[{\"fillpattern\":{\"fillmode\":\"overlay\",\"size\":10,\"solidity\":0.2},\"type\":\"scatter\"}],\"parcoords\":[{\"type\":\"parcoords\",\"line\":{\"colorbar\":{\"outlinewidth\":0,\"ticks\":\"\"}}}],\"scatterpolargl\":[{\"type\":\"scatterpolargl\",\"marker\":{\"colorbar\":{\"outlinewidth\":0,\"ticks\":\"\"}}}],\"bar\":[{\"error_x\":{\"color\":\"#2a3f5f\"},\"error_y\":{\"color\":\"#2a3f5f\"},\"marker\":{\"line\":{\"color\":\"#E5ECF6\",\"width\":0.5},\"pattern\":{\"fillmode\":\"overlay\",\"size\":10,\"solidity\":0.2}},\"type\":\"bar\"}],\"scattergeo\":[{\"type\":\"scattergeo\",\"marker\":{\"colorbar\":{\"outlinewidth\":0,\"ticks\":\"\"}}}],\"scatterpolar\":[{\"type\":\"scatterpolar\",\"marker\":{\"colorbar\":{\"outlinewidth\":0,\"ticks\":\"\"}}}],\"histogram\":[{\"marker\":{\"pattern\":{\"fillmode\":\"overlay\",\"size\":10,\"solidity\":0.2}},\"type\":\"histogram\"}],\"scattergl\":[{\"type\":\"scattergl\",\"marker\":{\"colorbar\":{\"outlinewidth\":0,\"ticks\":\"\"}}}],\"scatter3d\":[{\"type\":\"scatter3d\",\"line\":{\"colorbar\":{\"outlinewidth\":0,\"ticks\":\"\"}},\"marker\":{\"colorbar\":{\"outlinewidth\":0,\"ticks\":\"\"}}}],\"scattermapbox\":[{\"type\":\"scattermapbox\",\"marker\":{\"colorbar\":{\"outlinewidth\":0,\"ticks\":\"\"}}}],\"scatterternary\":[{\"type\":\"scatterternary\",\"marker\":{\"colorbar\":{\"outlinewidth\":0,\"ticks\":\"\"}}}],\"scattercarpet\":[{\"type\":\"scattercarpet\",\"marker\":{\"colorbar\":{\"outlinewidth\":0,\"ticks\":\"\"}}}],\"carpet\":[{\"aaxis\":{\"endlinecolor\":\"#2a3f5f\",\"gridcolor\":\"white\",\"linecolor\":\"white\",\"minorgridcolor\":\"white\",\"startlinecolor\":\"#2a3f5f\"},\"baxis\":{\"endlinecolor\":\"#2a3f5f\",\"gridcolor\":\"white\",\"linecolor\":\"white\",\"minorgridcolor\":\"white\",\"startlinecolor\":\"#2a3f5f\"},\"type\":\"carpet\"}],\"table\":[{\"cells\":{\"fill\":{\"color\":\"#EBF0F8\"},\"line\":{\"color\":\"white\"}},\"header\":{\"fill\":{\"color\":\"#C8D4E3\"},\"line\":{\"color\":\"white\"}},\"type\":\"table\"}],\"barpolar\":[{\"marker\":{\"line\":{\"color\":\"#E5ECF6\",\"width\":0.5},\"pattern\":{\"fillmode\":\"overlay\",\"size\":10,\"solidity\":0.2}},\"type\":\"barpolar\"}],\"pie\":[{\"automargin\":true,\"type\":\"pie\"}]},\"layout\":{\"autotypenumbers\":\"strict\",\"colorway\":[\"#636efa\",\"#EF553B\",\"#00cc96\",\"#ab63fa\",\"#FFA15A\",\"#19d3f3\",\"#FF6692\",\"#B6E880\",\"#FF97FF\",\"#FECB52\"],\"font\":{\"color\":\"#2a3f5f\"},\"hovermode\":\"closest\",\"hoverlabel\":{\"align\":\"left\"},\"paper_bgcolor\":\"white\",\"plot_bgcolor\":\"#E5ECF6\",\"polar\":{\"bgcolor\":\"#E5ECF6\",\"angularaxis\":{\"gridcolor\":\"white\",\"linecolor\":\"white\",\"ticks\":\"\"},\"radialaxis\":{\"gridcolor\":\"white\",\"linecolor\":\"white\",\"ticks\":\"\"}},\"ternary\":{\"bgcolor\":\"#E5ECF6\",\"aaxis\":{\"gridcolor\":\"white\",\"linecolor\":\"white\",\"ticks\":\"\"},\"baxis\":{\"gridcolor\":\"white\",\"linecolor\":\"white\",\"ticks\":\"\"},\"caxis\":{\"gridcolor\":\"white\",\"linecolor\":\"white\",\"ticks\":\"\"}},\"coloraxis\":{\"colorbar\":{\"outlinewidth\":0,\"ticks\":\"\"}},\"colorscale\":{\"sequential\":[[0.0,\"#0d0887\"],[0.1111111111111111,\"#46039f\"],[0.2222222222222222,\"#7201a8\"],[0.3333333333333333,\"#9c179e\"],[0.4444444444444444,\"#bd3786\"],[0.5555555555555556,\"#d8576b\"],[0.6666666666666666,\"#ed7953\"],[0.7777777777777778,\"#fb9f3a\"],[0.8888888888888888,\"#fdca26\"],[1.0,\"#f0f921\"]],\"sequentialminus\":[[0.0,\"#0d0887\"],[0.1111111111111111,\"#46039f\"],[0.2222222222222222,\"#7201a8\"],[0.3333333333333333,\"#9c179e\"],[0.4444444444444444,\"#bd3786\"],[0.5555555555555556,\"#d8576b\"],[0.6666666666666666,\"#ed7953\"],[0.7777777777777778,\"#fb9f3a\"],[0.8888888888888888,\"#fdca26\"],[1.0,\"#f0f921\"]],\"diverging\":[[0,\"#8e0152\"],[0.1,\"#c51b7d\"],[0.2,\"#de77ae\"],[0.3,\"#f1b6da\"],[0.4,\"#fde0ef\"],[0.5,\"#f7f7f7\"],[0.6,\"#e6f5d0\"],[0.7,\"#b8e186\"],[0.8,\"#7fbc41\"],[0.9,\"#4d9221\"],[1,\"#276419\"]]},\"xaxis\":{\"gridcolor\":\"white\",\"linecolor\":\"white\",\"ticks\":\"\",\"title\":{\"standoff\":15},\"zerolinecolor\":\"white\",\"automargin\":true,\"zerolinewidth\":2},\"yaxis\":{\"gridcolor\":\"white\",\"linecolor\":\"white\",\"ticks\":\"\",\"title\":{\"standoff\":15},\"zerolinecolor\":\"white\",\"automargin\":true,\"zerolinewidth\":2},\"scene\":{\"xaxis\":{\"backgroundcolor\":\"#E5ECF6\",\"gridcolor\":\"white\",\"linecolor\":\"white\",\"showbackground\":true,\"ticks\":\"\",\"zerolinecolor\":\"white\",\"gridwidth\":2},\"yaxis\":{\"backgroundcolor\":\"#E5ECF6\",\"gridcolor\":\"white\",\"linecolor\":\"white\",\"showbackground\":true,\"ticks\":\"\",\"zerolinecolor\":\"white\",\"gridwidth\":2},\"zaxis\":{\"backgroundcolor\":\"#E5ECF6\",\"gridcolor\":\"white\",\"linecolor\":\"white\",\"showbackground\":true,\"ticks\":\"\",\"zerolinecolor\":\"white\",\"gridwidth\":2}},\"shapedefaults\":{\"line\":{\"color\":\"#2a3f5f\"}},\"annotationdefaults\":{\"arrowcolor\":\"#2a3f5f\",\"arrowhead\":0,\"arrowwidth\":1},\"geo\":{\"bgcolor\":\"white\",\"landcolor\":\"#E5ECF6\",\"subunitcolor\":\"white\",\"showland\":true,\"showlakes\":true,\"lakecolor\":\"white\"},\"title\":{\"x\":0.05},\"mapbox\":{\"style\":\"light\"}}}},                        {\"responsive\": true}                    ).then(function(){\n",
       "                            \n",
       "var gd = document.getElementById('c6b628b3-098f-4e0a-adfd-171fc460778c');\n",
>>>>>>> b907969426b4bd0714bc9c2551371e0e378c5685
       "var x = new MutationObserver(function (mutations, observer) {{\n",
       "        var display = window.getComputedStyle(gd).display;\n",
       "        if (!display || display === 'none') {{\n",
       "            console.log([gd, 'removed!']);\n",
       "            Plotly.purge(gd);\n",
       "            observer.disconnect();\n",
       "        }}\n",
       "}});\n",
       "\n",
       "// Listen for the removal of the full notebook cells\n",
       "var notebookContainer = gd.closest('#notebook-container');\n",
       "if (notebookContainer) {{\n",
       "    x.observe(notebookContainer, {childList: true});\n",
       "}}\n",
       "\n",
       "// Listen for the clearing of the current output cell\n",
       "var outputEl = gd.closest('.output');\n",
       "if (outputEl) {{\n",
       "    x.observe(outputEl, {childList: true});\n",
       "}}\n",
       "\n",
       "                        })                };                });            </script>        </div>"
      ]
     },
     "metadata": {},
     "output_type": "display_data"
    }
   ],
   "source": [
    "fig = go.Figure(data=go.Scatter(x=X, y=[y.cdf(z) for z in X]))\n",
    "fig.show()"
   ]
  },
  {
   "cell_type": "markdown",
   "metadata": {},
   "source": [
    "## 5. Simultaneous Equations\n",
    "\n",
    "**When we defined the general weighted regression, we didn’t assume anything about the dimension of the different objects except that they were 'conformable.'**\n",
    "\n",
    "**So: consider**\n",
    "\n",
    "(2) $y = X\\beta + u$; **with** $E[T'u] = 0$, **and where** $y = [y_1, y_2, ... , y_k]$, **so that if you had a sample of** $N$ **observations realizations of** $y$ **would be an** $N \\times k$ **matrix.**\n",
    "\n",
    "### (1)\n",
    "\n",
    "**What does our assumption of conformability then imply about the dimensions of** $X, \\beta, T$, **and** $u$?\n",
    "\n",
    "Our assumption of conformability implies that $X$ is $N \\times \\ell$, $\\beta$ is $\\ell \\times k$, $T$ is $N \\times \\ell$, and $u$ is $N \\times k$.\n",
    "\n",
    "### (2)\n",
    "\n",
    "**Could you use the estimator we developed in** `weighted_regression.ipynb` **to estimate this system of simultaneous equations?**\n",
    "\n",
    "No, because that estimator assumes that $y$ only has one column.\n",
    "\n",
    "### (3)\n",
    "\n",
    "**Extend the code in** `weighted_regression.ipynb` **to actually estimate** $\\beta$ **in the case with** $k = 3$.\n",
    "\n",
    "To construct a sample of observables $(y,X,T)$:"
   ]
  },
  {
   "cell_type": "code",
   "execution_count": 11,
   "metadata": {},
   "outputs": [],
   "source": [
    "# NOTE copied from weighted_regression.ipynb\n",
    "\n",
    "%matplotlib inline\n",
    "import numpy as np\n",
    "from scipy.stats import multivariate_normal\n",
    "\n",
    "k = 3 # number of columns in y\n",
    "l = 4 # number of columns in X\n",
    "N = 100 # sample size\n",
    "\n",
    "mu = [0]*l\n",
    "Sigma = [\n",
    "    [1,0.5,0,0.2],\n",
    "    [0.5,2,0,0],\n",
    "    [0,0,3,0],\n",
    "    [0.2,0,0,1.5]]\n",
    "T = multivariate_normal(mu,Sigma)\n",
    "\n",
    "u = multivariate_normal([0]*k, 0.5)\n",
    "\n",
    "beta = np.array(\n",
    "    [[0.5, 0.7, 0.9],\n",
    "     [1, 1.2, 1.4],\n",
    "     [2, 2.2, 2.4],\n",
    "     [3, 3.2, 3.4]])\n",
    "\n",
    "D = np.random.random(size=(N, l)) # Generate random matrix\n",
    "\n",
    "# Now: Transform rvs into a sample\n",
    "T = T.rvs(N)\n",
    "\n",
    "u = u.rvs(N) # Replace u with a sample\n",
    "\n",
    "X = (T**3)*D  # element-wise multiplication\n",
    "\n",
    "y = X@beta + u # Note use of @ operator for matrix multiplication"
   ]
  },
  {
   "cell_type": "markdown",
   "metadata": {},
   "source": [
    "In the classical case we were trying to solve a linear system that took the form $Ab=0$, with $A$ a square matrix.  In the present case we're also trying to solve a linear system, but with a matrix $A$ that may have more rows than columns.  Provided the rows are linearly independent, this implies that we have an **overidentified** system of equations.  We'll return to the implications of this later, but for now this also calls for a different numerical approach, using `np.linalg.lstsq` instead of `np.linalg.solve`.\n",
    "\n",
    "In addition, since $y$ is $N \\times k$, we need to use the full formula to solve for $\\hat{\\beta}$:\n",
    "\n",
    "$\\hat{\\beta} = (X'TT'X)^{-1} (X'TT'y)$"
   ]
  },
  {
   "cell_type": "code",
   "execution_count": 12,
   "metadata": {},
   "outputs": [
    {
     "name": "stdout",
     "output_type": "stream",
     "text": [
<<<<<<< HEAD
      "[[0.56159775 0.7877284  0.97737777]\n",
      " [1.00061107 1.2107665  1.37886485]\n",
      " [2.00020646 2.1827902  2.39664305]\n",
      " [2.98793625 3.15803491 3.40986871]]\n"
=======
      "[[0.50655627 0.72736329 0.95630646]\n",
      " [1.0082531  1.18841854 1.37477634]\n",
      " [2.00242854 2.19153483 2.39196434]\n",
      " [3.01785328 3.20356753 3.37545492]]\n"
>>>>>>> b907969426b4bd0714bc9c2551371e0e378c5685
     ]
    }
   ],
   "source": [
    "from scipy.linalg import inv, sqrtm\n",
    "\n",
    "b = np.linalg.lstsq((X.T@T)@(T.T@X), (X.T@T)@(T.T@y), rcond=None)[0] # lstsq returns several results\n",
    "\n",
    "print(b)"
   ]
  },
  {
   "cell_type": "markdown",
   "metadata": {},
   "source": [
    "### (4)\n",
    "\n",
    "**What additional assumptions are necessary to estimate the distribution of the estimator of** $\\beta$?\n",
    "\n",
    "We must make an assumption about homoskedasticity or heteroskedasticity of $u$ in order to estimate the variance-covariance matrix and standard errors for our estimate of $\\beta$."
   ]
  },
  {
   "cell_type": "markdown",
   "metadata": {},
   "source": [
    "## 8. “Plug-in” Kernel Bias Estimator\n",
    "\n",
    "**In our discussion of bias of the kernel density estimator in lecture we constructed an “Oracle” estimator, which can be implemented when we know the true density** $f$ **that we’re trying to estimate.**\n",
    "\n",
    "**Of course, the Oracle estimator is only feasible when we don’t need it. What about the idea of using the same expression for bias as in the Oracle case, but replacing** $f$ **with our estimate** $\\hat{f}$? **Would this tell us anything useful? If so, under what conditions? What pitfalls might one encounter?**\n",
    "\n",
    "Helpful: https://www.stat.berkeley.edu/~stark/Teach/S240/Notes/ch10.pdf\n",
    "\n",
    "If $f$ itself is very smooth, then replacing $f$ with $\\hat{f}$ in the Oracle estimator would still give you useful information about bandwidth selection. However, the bias estimate would be inaccurate for parts of the distribution where $f$ is changing more rapidly. "
   ]
  }
 ],
 "metadata": {
  "kernelspec": {
   "display_name": "Python 3 (ipykernel)",
   "language": "python",
   "name": "python3"
  },
  "language_info": {
   "codemirror_mode": {
    "name": "ipython",
    "version": 3
   },
   "file_extension": ".py",
   "mimetype": "text/x-python",
   "name": "python",
   "nbconvert_exporter": "python",
   "pygments_lexer": "ipython3",
   "version": "3.11.5"
  },
  "org": null
 },
 "nbformat": 4,
 "nbformat_minor": 1
}
