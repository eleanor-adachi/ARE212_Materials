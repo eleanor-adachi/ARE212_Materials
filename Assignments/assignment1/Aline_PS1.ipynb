{
 "cells": [
  {
   "cell_type": "code",
   "execution_count": null,
   "id": "91d41dca-6c97-4b40-807a-300839953fff",
   "metadata": {},
   "outputs": [],
   "source": [
    "import numpy as np\n",
    "import pandas as pd\n",
    "import matplotlib.pyplot as plt\n",
    "from scipy.stats import distributions as iid\n"
   ]
  },
  {
   "cell_type": "markdown",
   "id": "470985ff-7178-4ff9-a7c8-a15102acc2e9",
   "metadata": {},
   "source": [
    "## ASSIGNMENT 1"
   ]
  },
  {
   "cell_type": "markdown",
   "id": "e830bd1f-e9a4-4171-9f68-07396f5b0411",
   "metadata": {},
   "source": [
    "### *QUESTION 2*\n"
   ]
  },
  {
   "cell_type": "markdown",
   "id": "43ebbb19-2624-4c08-a7a9-a9b3107dcea0",
   "metadata": {},
   "source": [
    "4. Econometricians spend a great deal of time writing down linear regressions relating an object “Why” to an object “Ex”, but sometimes use quite distinct notations to express this regression. Following our discussion in class, suggest a notation for\n",
    "each of the three following cases:\n",
    "\n",
    "(a) “Why” is a scalar random variable, while “Ex” is a vector\n",
    "random variable;\n",
    "\n",
    "$ y= \\beta X + \\upsilon $\n",
    "\n",
    "(b) “Why” is a single realization of a scalar random variable,\n",
    "while “Ex” is similarly a single realization;\n",
    "\n",
    "$ y= \\beta x + \\upsilon $\n",
    "\n",
    "(c) “Why” is a vector of N realizations, while “Ex” is similarly\n",
    "a matrix of realizations.\n",
    "\n",
    "$ Y= \\beta X + \\upsilon $"
   ]
  },
  {
   "cell_type": "markdown",
   "id": "5fa587e8-e488-466e-b18b-a831001c3df4",
   "metadata": {},
   "source": [
    "### *QUESTION 4: General Weighted Linear Regressions*"
   ]
  },
  {
   "cell_type": "markdown",
   "id": "fb9a131a-704b-43b7-aff2-5dbce6ea7d58",
   "metadata": {},
   "source": [
    "List the main regression estimators you encountered in the first half\n",
    "of the class. For each estimator, establish whether it belongs to the\n",
    "class of general weighted linear regressions\n",
    "\n",
    "$(T^T Y = T^T X \\beta + T^T \\upsilon )$\n",
    "\n",
    "For the estimator you’ve listed, if it is a general weighted linear regression then what is the form of T? Is T random? If the estimator is not\n",
    "in this class, show why\n"
   ]
  },
  {
   "cell_type": "markdown",
   "id": "2f220e92-0f82-407a-9733-110295ef933d",
   "metadata": {},
   "source": [
    "1. Ordinary Least squares (OLS)\n",
    "\n",
    "Yes, It can belong to the class of general weighted linear regressions, but T is not random and must be equal to 1 since all observations are weighted equally. "
   ]
  },
  {
   "attachments": {},
   "cell_type": "markdown",
   "id": "b4fae044-f2cd-4818-8272-a285ea2c9f84",
   "metadata": {},
   "source": [
    "2. Generalized Least Squares (GSLS)\n",
    "\n",
    "Yes, it is can be a form of general weighted linear regression, where T is a diagonal matrix. "
   ]
  },
  {
   "cell_type": "markdown",
   "id": "eefc0cf9-47de-4850-951c-cd7ddcd4559c",
   "metadata": {},
   "source": [
    "3. *Instrumental Variable Estimator (IV)*\n",
    "\n",
    "This also goes with the same thinking as OLS, it can be classified as  a part of the class of general weighted linear regressions but T is not random and must be equal for all observations and variables since all observations are weighted equally. \n"
   ]
  },
  {
   "cell_type": "markdown",
   "id": "36b42152-2fe0-4e22-8eb4-ba2f165e8701",
   "metadata": {},
   "source": [
    "4. *2 Stage Least Square (2SLS)*\n",
    "\n",
    "Though 2SLS and WLS deal with 2 different things, each stage of 2SLS can be considered a class of general weighted linear regression, but also T should be equal to 1 unless there is heteroskedasticity, and in this case, specific weights can be used. \n"
   ]
  },
  {
   "cell_type": "markdown",
   "id": "92e77832-d53e-4d7e-ab9a-fb8b9d0c331f",
   "metadata": {},
   "source": [
    "## SIMULTANEOUS EQUATIONS"
   ]
  },
  {
   "cell_type": "markdown",
   "id": "beee8350-5d23-446c-8585-05c1e4e25053",
   "metadata": {},
   "source": [
    "When we defined the general weighted regression, we didn’t assume anything about the dimension of the different objects except that they were ’conformable.’\n",
    "So: consider\n",
    "\n",
    "(2)      $y = X\\beta + \\upsilon$, with $ET^Tu = 0$,\n",
    "\n",
    "and where y = [y1, y2, . . . , yk], so that if you had a sample of N observations realizations of y would be an N × k matrix"
   ]
  },
  {
   "cell_type": "markdown",
   "id": "f9315d1e-e465-47af-882e-8f19cdb33aab",
   "metadata": {},
   "source": [
    "a. What does our assumption of conformability then imply about the dimensions of $X$, $\\beta$, $T$, and $\\upsilon$?\n",
    "\n",
    "Assuming conformability if y is N × k, then X is N × p,  $\\beta$ is p × k, $\\upsilon$ is N × k, T is N × k\n"
   ]
  },
  {
   "cell_type": "markdown",
   "id": "189a7807-3dc6-445e-8ea1-fc1755a95006",
   "metadata": {},
   "source": [
    "b. Could you use the estimator we developed in weighted_regression.ipynb to estimate this system of simultaneous equations?\n",
    "\n",
    "yes, we can used the estimator we developed in weighted_regression.ipynb to estimate this system of simultaneous equations. "
   ]
  },
  {
   "cell_type": "code",
   "execution_count": 4,
   "id": "f15dbd89-aa8a-47cf-8cb1-776e1368165b",
   "metadata": {},
   "outputs": [
    {
     "name": "stdout",
     "output_type": "stream",
     "text": [
      "[0.48623134 0.99816308 2.00958614]\n"
     ]
    }
   ],
   "source": [
    "%matplotlib inline\n",
    "import numpy as np\n",
    "from scipy.stats import multivariate_normal\n",
    "\n",
    "k = 3 # Number of observables in T\n",
    "\n",
    "mu = [0]*k\n",
    "Sigma=[[1,0.5,0],\n",
    "       [0.5,2,0],\n",
    "       [0,0,3]]\n",
    "\n",
    "T = multivariate_normal(mu,Sigma)\n",
    "\n",
    "u = multivariate_normal(cov=0.2)\n",
    "\n",
    "beta = [1/2,1,2]\n",
    "\n",
    "D = np.random.random(size=(3,3)) # Generate random 3x3 matrix\n",
    "\n",
    "N=1000 # Sample size\n",
    "\n",
    "# Now: Transform rvs into a sample\n",
    "T = T.rvs(N)\n",
    "\n",
    "u = u.rvs(N) # Replace u with a sample\n",
    "\n",
    "X = (T**3)@D  # Note use of ** operator for exponentiation\n",
    "\n",
    "y = X@beta + u # Note use of @ operator for matrix multiplication\n",
    "\n",
    "from scipy.linalg import inv, sqrtm\n",
    "\n",
    "b = np.linalg.lstsq(T.T@X,T.T@y,rcond=None)[0] # lstsq returns several results\n",
    "\n",
    "e = y - X@b\n",
    "\n",
    "print(b)\n"
   ]
  },
  {
   "cell_type": "code",
   "execution_count": null,
   "id": "8853e99f-1679-4fa4-ade1-ca6a0ab6bbe0",
   "metadata": {},
   "outputs": [],
   "source": []
  }
 ],
 "metadata": {
  "kernelspec": {
   "display_name": "Python 3 (ipykernel)",
   "language": "python",
   "name": "python3"
  },
  "language_info": {
   "codemirror_mode": {
    "name": "ipython",
    "version": 3
   },
   "file_extension": ".py",
   "mimetype": "text/x-python",
   "name": "python",
   "nbconvert_exporter": "python",
   "pygments_lexer": "ipython3",
   "version": "3.9.15"
  }
 },
 "nbformat": 4,
 "nbformat_minor": 5
}
