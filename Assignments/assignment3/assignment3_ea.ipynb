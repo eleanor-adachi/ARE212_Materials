{
 "cells": [
  {
   "cell_type": "markdown",
   "metadata": {},
   "source": [
    "# Assignment 3 - Eleanor Adachi"
   ]
  },
  {
   "cell_type": "markdown",
   "metadata": {},
   "source": [
    "Our team's code can be found here: https://github.com/eleanor-adachi/ARE212_Materials"
   ]
  },
  {
   "cell_type": "markdown",
   "metadata": {},
   "source": [
    "## 1. Exercises (GMM)\n",
    "\n",
    "When we approach a new estimation problem from a GMM perspective there’s a simple set of steps we can follow.\n",
    "- Describe the parameter space $B$;\n",
    "- Describe a function $g_j(b)$ such that $\\mathbb{E}g_j(\\beta) = 0$;\n",
    "- Describe an estimator for the covariance matrix $\\mathbb{E}g_j(\\beta)g_j(\\beta)^⊤$.\n",
    "\n",
    "### (1) Explain how the steps outlined above can be used to construct an optimally weighted GMM estimator.\n",
    "\n",
    "The optimally weighted (efficient) GMM estimator is constructed as follows:\n",
    "\n",
    "1. **Describe the Parameter Space $B$**: This step involves defining the set of parameters, denoted as $\\beta$, that you want to estimate. The parameter space $B$ represents all possible values for the parameters of interest, i.e., $\\beta \\in B$.\n",
    "\n",
    "2. **Describe a Function $g_j(\\beta)$**: For each moment condition, represented by the function $g_j(\\beta)$, you define a function that depends on the parameters of interest (denoted as $\\beta$). The key aspect here is that the expected value of each moment condition should be equal to zero. Mathematically, it's represented as $\\mathbb{E}g_j(\\beta) = 0$, where $\\beta$ represents the true parameter values.\n",
    "\n",
    "3. **Describe an Estimator for the Covariance Matrix**: To construct an optimally weighted GMM estimator $b_{GMM}$, you need to estimate the covariance matrix of the moment conditions, $\\Omega = \\mathbb{E}g_j(\\beta)g_j(\\beta)^T$. In practice, since $\\mathbb{E}g_j(b) \\neq 0$ if the model is overidentified ($\\ell > k$), then $\\hat{\\Omega} = \\mathbb{E}g_j(b)g_j(b)^T - \\mathbb{E}g_j(b)\\mathbb{E}g_j(b)^T$\n",
    "\n",
    "4. **Optimally Weighted GMM Estimator**: With the moment conditions and their covariance matrix defined, you can construct the GMM estimator. The GMM estimator is then calculated as:\n",
    "\n",
    "$\n",
    "b_N = \\underset{b \\in B}{\\operatorname{argmin}} g_N(b)^T A g_N(b)\n",
    "$\n",
    "\n",
    "where $b$ represents the initial guess for the parameter vector, $A$ is the optimal weighting matrix such that $A = \\Omega^{-1}$, and $g_j(b)$ are the moment conditions evaluated at the estimated parameters and $g_N(b) = \\frac{1}{N} \\sum_{j=1}^{N} g_j(b)$.\n",
    "\n",
    "The goal is to find the weighting matrix $A$ that minimizes the variance of $b_N$. By choosing the weighting matrix optimally, the GMM estimator can achieve efficiency and robustness in estimating the parameters of interest. The weights are chosen such that more reliable moment conditions contribute more to the estimation process, leading to improved parameter estimates.\n",
    "\n",
    "The asymptotic variance of the optimally weighted GMM estimator will be \n",
    "\n",
    "$$\n",
    "V_b = \\left(Q^\\top\\Omega^{-1}Q\\right)^{-1}.\n",
    "$$\n",
    "\n",
    "where $Q = \\mathbb{E}\\frac{\\partial g_j}{\\partial b^\\top}(b)$\n",
    "\n",
    "\n",
    "### (2) Consider the following models. For each, provide a causal diagram; construct the optimally weighted GMM estimator of the unknown parameters (various Greek letters); and give an estimator for the covariance matrix of your estimates. If any additional assumptions are required for your estimator to be identified please provide these.\n",
    "\n",
    "#### (a) $\\mathbb{E}y = \\mu; \\mathbb{E}(y − \\mu)^2 = \\sigma^2; \\mathbb{E}(y − \\mu)^3 = 0$.  *Note: $y$ is a random variable.*\n",
    "\n",
    "See https://math.stackexchange.com/questions/92648/calculation-of-the-n-th-central-moment-of-the-normal-distribution-mathcaln\n",
    "\n",
    "See causal diagram below.\n",
    "\n",
    "First, write the equations for $g_j$ and solve for $\\hat{\\Omega}$ and $Q$. Let $b$ represent a vector of parameter estimates, $(\\hat{\\mu}, \\hat{\\sigma}^2)$.\n",
    "\n",
    "$$\n",
    "g_j(\\mu, \\sigma^2) = \\left( \\begin{align}\n",
    "    & y_j - \\mu \\\\\n",
    "    & (y_j - \\mu)^2 - \\sigma^2 \\\\\n",
    "    & (y_j - \\mu)^3\n",
    "\\end{align} \\right)\n",
    "$$\n",
    "\n",
    "$$\n",
    "\\hat{\\Omega} = \\mathbb{E}g_j(b)g_j(b)^T - \\mathbb{E}g_j(b)\\mathbb{E}g_j(b)^T\n",
    "$$ \n",
    "\n",
    "$$\n",
    "Q\n",
    "= \\mathbb{E}\\frac{\\partial g_j}{\\partial b^\\top}(b)\n",
    "= \\begin{bmatrix}\n",
    "-1 & 0 \\\\\n",
    "\\mathbb{E}(-2(y - \\mu)) & -1 \\\\\n",
    "\\mathbb{E}(-3(y - \\mu)^2) & -1 \n",
    "\\end{bmatrix} \\\\\n",
    "= \\begin{bmatrix}\n",
    "-1 & 0 \\\\\n",
    "0 & -1 \\\\\n",
    "-3 \\sigma^2 & -1 \n",
    "\\end{bmatrix}\n",
    "$$\n",
    "\n",
    "Plug into GMM estimator and asymptotic variance of GMM estimator:\n",
    "\n",
    "$$\n",
    "b = \\underset{b \\in B}{\\operatorname{argmin}} g_N(b)^T \\Omega^{-1} g_N(b) \\\\\n",
    "V_b = \\left(Q^\\top\\Omega^{-1}Q\\right)^{-1}.\n",
    "$$"
   ]
  },
  {
   "cell_type": "code",
   "execution_count": 387,
   "metadata": {},
   "outputs": [
    {
     "data": {
      "image/svg+xml": [
       "<?xml version=\"1.0\" encoding=\"UTF-8\" standalone=\"no\"?>\n",
       "<!DOCTYPE svg PUBLIC \"-//W3C//DTD SVG 1.1//EN\"\n",
       " \"http://www.w3.org/Graphics/SVG/1.1/DTD/svg11.dtd\">\n",
       "<!-- Generated by graphviz version 2.50.0 (0)\n",
       " -->\n",
       "<!-- Pages: 1 -->\n",
       "<svg width=\"62pt\" height=\"44pt\"\n",
       " viewBox=\"0.00 0.00 62.00 44.00\" xmlns=\"http://www.w3.org/2000/svg\" xmlns:xlink=\"http://www.w3.org/1999/xlink\">\n",
       "<g id=\"graph0\" class=\"graph\" transform=\"scale(1 1) rotate(0) translate(4 40)\">\n",
       "<polygon fill=\"white\" stroke=\"transparent\" points=\"-4,4 -4,-40 58,-40 58,4 -4,4\"/>\n",
       "<!-- y -->\n",
       "<g id=\"node1\" class=\"node\">\n",
       "<title>y</title>\n",
       "<ellipse fill=\"none\" stroke=\"black\" cx=\"27\" cy=\"-18\" rx=\"27\" ry=\"18\"/>\n",
       "<text text-anchor=\"middle\" x=\"27\" y=\"-14.3\" font-family=\"Times New Roman,serif\" font-size=\"14.00\" fill=\"red\">y</text>\n",
       "</g>\n",
       "</g>\n",
       "</svg>\n"
      ],
      "text/plain": [
       "<graphviz.graphs.Digraph at 0x1babbc10d90>"
      ]
     },
     "execution_count": 387,
     "metadata": {},
     "output_type": "execute_result"
    }
   ],
   "source": [
    "import graphviz as gr\n",
    "\n",
    "g = gr.Digraph()\n",
    "g.node('y', fontcolor='red')\n",
    "\n",
    "g"
   ]
  },
  {
   "cell_type": "markdown",
   "metadata": {},
   "source": [
    "#### (b) $y = \\alpha + X \\beta + u$; with $\\mathbb{E}(X^T u) = \\mathbb{E}u = 0$.  *Note: $y$, $X$, and $u$ are random variables.*\n",
    "\n",
    "See causal diagram below.\n",
    "\n",
    "First, write the equations for $g_j$ and solve for $\\hat{\\Omega}$ and $Q$. Let $b$ represent a vector of parameter estimates, $(\\hat{\\alpha}, \\hat{\\beta})$.\n",
    "\n",
    "Assume that $u$ ~ $N[0, \\Omega]$.\n",
    "\n",
    "$$\n",
    "g_j(\\alpha, \\beta) = \\left( \\begin{align}\n",
    "    & y_j - \\alpha - X_j \\beta \\\\\n",
    "    & X_j^T (y_j - \\alpha - X_j \\beta) \\\\\n",
    "\\end{align} \\right)\n",
    "$$\n",
    "\n",
    "$$\n",
    "\\hat{\\Omega} = \\mathbb{E}g_j(b)g_j(b)^T - \\mathbb{E}g_j(b)\\mathbb{E}g_j(b)^T\n",
    "$$ \n",
    "\n",
    "$$\n",
    "Q\n",
    "= \\mathbb{E}\\frac{\\partial g_j}{\\partial b^\\top}(b)\n",
    "= \\begin{bmatrix}\n",
    "-1 & -1 \\\\\n",
    "-1 & -1\n",
    "\\end{bmatrix}\n",
    "$$\n",
    "\n",
    "Plug into GMM estimator and asymptotic variance of GMM estimator:\n",
    "\n",
    "$$\n",
    "b = \\underset{b \\in B}{\\operatorname{argmin}} g_N(b)^T \\Omega^{-1} g_N(b) \\\\\n",
    "V_b = \\left(Q^\\top\\Omega^{-1}Q\\right)^{-1}.\n",
    "$$"
   ]
  },
  {
   "cell_type": "code",
   "execution_count": 388,
   "metadata": {},
   "outputs": [
    {
     "data": {
      "image/svg+xml": [
       "<?xml version=\"1.0\" encoding=\"UTF-8\" standalone=\"no\"?>\n",
       "<!DOCTYPE svg PUBLIC \"-//W3C//DTD SVG 1.1//EN\"\n",
       " \"http://www.w3.org/Graphics/SVG/1.1/DTD/svg11.dtd\">\n",
       "<!-- Generated by graphviz version 2.50.0 (0)\n",
       " -->\n",
       "<!-- Pages: 1 -->\n",
       "<svg width=\"134pt\" height=\"131pt\"\n",
       " viewBox=\"0.00 0.00 134.00 131.00\" xmlns=\"http://www.w3.org/2000/svg\" xmlns:xlink=\"http://www.w3.org/1999/xlink\">\n",
       "<g id=\"graph0\" class=\"graph\" transform=\"scale(1 1) rotate(0) translate(4 127)\">\n",
       "<polygon fill=\"white\" stroke=\"transparent\" points=\"-4,4 -4,-127 130,-127 130,4 -4,4\"/>\n",
       "<!-- X -->\n",
       "<g id=\"node1\" class=\"node\">\n",
       "<title>X</title>\n",
       "<ellipse fill=\"none\" stroke=\"black\" cx=\"27\" cy=\"-105\" rx=\"27\" ry=\"18\"/>\n",
       "<text text-anchor=\"middle\" x=\"27\" y=\"-101.3\" font-family=\"Times New Roman,serif\" font-size=\"14.00\" fill=\"red\">X</text>\n",
       "</g>\n",
       "<!-- y -->\n",
       "<g id=\"node3\" class=\"node\">\n",
       "<title>y</title>\n",
       "<ellipse fill=\"none\" stroke=\"black\" cx=\"63\" cy=\"-18\" rx=\"27\" ry=\"18\"/>\n",
       "<text text-anchor=\"middle\" x=\"63\" y=\"-14.3\" font-family=\"Times New Roman,serif\" font-size=\"14.00\" fill=\"red\">y</text>\n",
       "</g>\n",
       "<!-- X&#45;&gt;y -->\n",
       "<g id=\"edge2\" class=\"edge\">\n",
       "<title>X&#45;&gt;y</title>\n",
       "<path fill=\"none\" stroke=\"black\" d=\"M34.11,-87.21C39.22,-75.14 46.21,-58.64 52.03,-44.89\"/>\n",
       "<polygon fill=\"black\" stroke=\"black\" points=\"55.35,-46.04 56.02,-35.47 48.9,-43.31 55.35,-46.04\"/>\n",
       "<text text-anchor=\"middle\" x=\"51.5\" y=\"-57.8\" font-family=\"Times New Roman,serif\" font-size=\"14.00\">β</text>\n",
       "</g>\n",
       "<!-- u -->\n",
       "<g id=\"node2\" class=\"node\">\n",
       "<title>u</title>\n",
       "<ellipse fill=\"none\" stroke=\"black\" cx=\"99\" cy=\"-105\" rx=\"27\" ry=\"18\"/>\n",
       "<text text-anchor=\"middle\" x=\"99\" y=\"-101.3\" font-family=\"Times New Roman,serif\" font-size=\"14.00\" fill=\"red\">u</text>\n",
       "</g>\n",
       "<!-- u&#45;&gt;y -->\n",
       "<g id=\"edge1\" class=\"edge\">\n",
       "<title>u&#45;&gt;y</title>\n",
       "<path fill=\"none\" stroke=\"black\" d=\"M91.89,-87.21C86.78,-75.14 79.79,-58.64 73.97,-44.89\"/>\n",
       "<polygon fill=\"black\" stroke=\"black\" points=\"77.1,-43.31 69.98,-35.47 70.65,-46.04 77.1,-43.31\"/>\n",
       "</g>\n",
       "</g>\n",
       "</svg>\n"
      ],
      "text/plain": [
       "<graphviz.graphs.Digraph at 0x1babbb23910>"
      ]
     },
     "execution_count": 388,
     "metadata": {},
     "output_type": "execute_result"
    }
   ],
   "source": [
    "import graphviz as gr\n",
    "\n",
    "g = gr.Digraph()\n",
    "g.node('X', fontcolor='red')\n",
    "g.node('u', fontcolor='red')\n",
    "g.node('y', fontcolor='red')\n",
    "g.edge('u', 'y')\n",
    "g.edge('X', 'y', label='β')\n",
    "\n",
    "g"
   ]
  },
  {
   "cell_type": "markdown",
   "metadata": {},
   "source": [
    "#### (c) $y = \\alpha + X \\beta + u$; with $\\mathbb{E}(X^T u) = \\mathbb{E}u = 0$, and $\\mathbb{E}(u^2) = \\sigma^2$.  *Note: $y$, $X$, and $u$ are random variables.*\n",
    "\n",
    "Same causal diagram as (b).\n",
    "\n",
    "First, write the equations for $g_j$ and solve for $\\hat{\\Omega}$ and $Q$. Let $b$ represent a vector of parameter estimates, $(\\hat{\\alpha}, \\hat{\\beta})$.\n",
    "\n",
    "$$\n",
    "g_j(\\alpha, \\beta) = \\left( \\begin{align}\n",
    "    & y_j - \\alpha - X_j \\beta \\\\\n",
    "    & X_j^T (y_j - \\alpha - X_j \\beta) \\\\\n",
    "    & (y_j - \\alpha - X_j \\beta)^2 - \\sigma^2 \\\\\n",
    "\\end{align} \\right)\n",
    "$$\n",
    "\n",
    "$$\n",
    "\\hat{\\Omega} = \\mathbb{E}g_j(b)g_j(b)^T - \\mathbb{E}g_j(b)\\mathbb{E}g_j(b)^T\n",
    "$$ \n",
    "\n",
    "$$\n",
    "Q\n",
    "= \\mathbb{E}\\frac{\\partial g_j}{\\partial b^\\top}(b)\n",
    "= \\begin{bmatrix}\n",
    "-1 & -1 \\\\\n",
    "-1 & -1 \\\\\n",
    "2 \\alpha - 2y_j + X_j \\beta & 2 X_j^T X_j \\beta -2 y_j X_j + 2 \\alpha X_j\n",
    "\\end{bmatrix}\n",
    "$$\n",
    "\n",
    "Plug into GMM estimator and asymptotic variance of GMM estimator:\n",
    "\n",
    "$$\n",
    "b = \\underset{b \\in B}{\\operatorname{argmin}} g_N(b)^T \\Omega^{-1} g_N(b) \\\\\n",
    "V_b = \\left(Q^\\top\\Omega^{-1}Q\\right)^{-1}.\n",
    "$$"
   ]
  },
  {
   "cell_type": "markdown",
   "metadata": {},
   "source": [
    "#### (d) $y = \\alpha + X \\beta + u$; with $\\mathbb{E}(X^Tu) = \\mathbb{E}u = 0$, and $\\mathbb{E}(u^2) = e^{X \\sigma}$.  *Note: $y$, $X$, and $u$ are random variables.*\n",
    "\n",
    "See causal diagram below.\n",
    "\n",
    "First, write the equations for $g_j$ and solve for $\\hat{\\Omega}$ and $Q$. Let $b$ represent a vector of parameter estimates, $(\\hat{\\alpha}, \\hat{\\beta})$.\n",
    "\n",
    "$$\n",
    "g_j(\\alpha, \\beta) = \\left( \\begin{align}\n",
    "    & y_j - \\alpha - X_j \\beta \\\\\n",
    "    & X_j^T (y_j - \\alpha - X_j \\beta) \\\\\n",
    "    & (y_j - \\alpha - X_j \\beta)^2 - e^{X \\sigma} \\\\\n",
    "\\end{align} \\right)\n",
    "$$\n",
    "\n",
    "$$\n",
    "\\hat{\\Omega} = \\mathbb{E}g_j(b)g_j(b)^T - \\mathbb{E}g_j(b)\\mathbb{E}g_j(b)^T\n",
    "$$ \n",
    "\n",
    "$$\n",
    "Q\n",
    "= \\mathbb{E}\\frac{\\partial g_j}{\\partial b^\\top}(b)\n",
    "$$\n",
    "\n",
    "Plug into GMM estimator and asymptotic variance of GMM estimator:\n",
    "\n",
    "$$\n",
    "b = \\underset{b \\in B}{\\operatorname{argmin}} g_N(b)^T \\Omega^{-1} g_N(b) \\\\\n",
    "V_b = \\left(Q^\\top\\Omega^{-1}Q\\right)^{-1}.\n",
    "$$"
   ]
  },
  {
   "cell_type": "code",
   "execution_count": 389,
   "metadata": {},
   "outputs": [
    {
     "data": {
      "image/svg+xml": [
       "<?xml version=\"1.0\" encoding=\"UTF-8\" standalone=\"no\"?>\n",
       "<!DOCTYPE svg PUBLIC \"-//W3C//DTD SVG 1.1//EN\"\n",
       " \"http://www.w3.org/Graphics/SVG/1.1/DTD/svg11.dtd\">\n",
       "<!-- Generated by graphviz version 2.50.0 (0)\n",
       " -->\n",
       "<!-- Pages: 1 -->\n",
       "<svg width=\"109pt\" height=\"190pt\"\n",
       " viewBox=\"0.00 0.00 109.00 190.00\" xmlns=\"http://www.w3.org/2000/svg\" xmlns:xlink=\"http://www.w3.org/1999/xlink\">\n",
       "<g id=\"graph0\" class=\"graph\" transform=\"scale(1 1) rotate(0) translate(4 186)\">\n",
       "<polygon fill=\"white\" stroke=\"transparent\" points=\"-4,4 -4,-186 105,-186 105,4 -4,4\"/>\n",
       "<!-- X -->\n",
       "<g id=\"node1\" class=\"node\">\n",
       "<title>X</title>\n",
       "<ellipse fill=\"none\" stroke=\"black\" cx=\"74\" cy=\"-164\" rx=\"27\" ry=\"18\"/>\n",
       "<text text-anchor=\"middle\" x=\"74\" y=\"-160.3\" font-family=\"Times New Roman,serif\" font-size=\"14.00\" fill=\"red\">X</text>\n",
       "</g>\n",
       "<!-- u -->\n",
       "<g id=\"node2\" class=\"node\">\n",
       "<title>u</title>\n",
       "<ellipse fill=\"none\" stroke=\"black\" cx=\"27\" cy=\"-91\" rx=\"27\" ry=\"18\"/>\n",
       "<text text-anchor=\"middle\" x=\"27\" y=\"-87.3\" font-family=\"Times New Roman,serif\" font-size=\"14.00\" fill=\"red\">u</text>\n",
       "</g>\n",
       "<!-- X&#45;&gt;u -->\n",
       "<g id=\"edge2\" class=\"edge\">\n",
       "<title>X&#45;&gt;u</title>\n",
       "<path fill=\"none\" stroke=\"black\" d=\"M63.57,-147.24C57.55,-138.14 49.84,-126.5 43.06,-116.26\"/>\n",
       "<polygon fill=\"black\" stroke=\"black\" points=\"45.84,-114.12 37.4,-107.71 40,-117.98 45.84,-114.12\"/>\n",
       "</g>\n",
       "<!-- y -->\n",
       "<g id=\"node3\" class=\"node\">\n",
       "<title>y</title>\n",
       "<ellipse fill=\"none\" stroke=\"black\" cx=\"58\" cy=\"-18\" rx=\"27\" ry=\"18\"/>\n",
       "<text text-anchor=\"middle\" x=\"58\" y=\"-14.3\" font-family=\"Times New Roman,serif\" font-size=\"14.00\" fill=\"red\">y</text>\n",
       "</g>\n",
       "<!-- X&#45;&gt;y -->\n",
       "<g id=\"edge3\" class=\"edge\">\n",
       "<title>X&#45;&gt;y</title>\n",
       "<path fill=\"none\" stroke=\"black\" d=\"M72.1,-145.92C69.36,-121.23 64.26,-75.35 61,-46.04\"/>\n",
       "<polygon fill=\"black\" stroke=\"black\" points=\"64.48,-45.61 59.9,-36.06 57.52,-46.39 64.48,-45.61\"/>\n",
       "<text text-anchor=\"middle\" x=\"70.5\" y=\"-87.3\" font-family=\"Times New Roman,serif\" font-size=\"14.00\">β</text>\n",
       "</g>\n",
       "<!-- u&#45;&gt;y -->\n",
       "<g id=\"edge1\" class=\"edge\">\n",
       "<title>u&#45;&gt;y</title>\n",
       "<path fill=\"none\" stroke=\"black\" d=\"M34.19,-73.53C37.95,-64.93 42.63,-54.21 46.84,-44.56\"/>\n",
       "<polygon fill=\"black\" stroke=\"black\" points=\"50.06,-45.94 50.85,-35.38 43.64,-43.14 50.06,-45.94\"/>\n",
       "</g>\n",
       "</g>\n",
       "</svg>\n"
      ],
      "text/plain": [
       "<graphviz.graphs.Digraph at 0x1babbaae290>"
      ]
     },
     "execution_count": 389,
     "metadata": {},
     "output_type": "execute_result"
    }
   ],
   "source": [
    "import graphviz as gr\n",
    "\n",
    "g = gr.Digraph()\n",
    "g.node('X', fontcolor='red')\n",
    "g.node('u', fontcolor='red')\n",
    "g.node('y', fontcolor='red')\n",
    "g.edge('u', 'y')\n",
    "g.edge('X', 'u')\n",
    "g.edge('X', 'y', label='β')\n",
    "\n",
    "g"
   ]
  },
  {
   "cell_type": "markdown",
   "metadata": {},
   "source": [
    "#### (e) $y = \\alpha + X \\beta + u$; with $\\mathbb{E}(Z^⊤u) = \\mathbb{E}u = 0$ and $\\mathbb{E}Z^⊤ X = Q$.  *Note: $y$, $X$, $Z$, and $u$ are random variables.*\n",
    "\n",
    "See causal diagram below.\n",
    "\n",
    "Assume that $Q$ is a positive definite matrix.\n",
    "\n",
    "First, write the equations for $g_j$ and solve for $\\hat{\\Omega}$ and $Q$. Let $b$ represent a vector of parameter estimates, $(\\hat{\\alpha}, \\hat{\\beta})$.\n",
    "\n",
    "$$\n",
    "g_j(\\alpha, \\beta) =  Z_j^T \\left( y_j - \\alpha - X_j \\beta \\right)\n",
    "$$\n",
    "\n",
    "Note that $g_j$ is $\\ell \\times 2$, where $\\ell$ is the number of instruments in $Z$.\n",
    "\n",
    "$$\n",
    "\\hat{\\Omega} = \\mathbb{E}g_j(b)g_j(b)^T - \\mathbb{E}g_j(b)\\mathbb{E}g_j(b)^T\n",
    "$$ \n",
    "\n",
    "$$\n",
    "Q\n",
    "= \\mathbb{E}\\frac{\\partial g_j}{\\partial b^\\top}(b)\n",
    "$$\n",
    "\n",
    "Plug into GMM estimator and asymptotic variance of GMM estimator:\n",
    "\n",
    "$$\n",
    "b = \\underset{b \\in B}{\\operatorname{argmin}} g_N(b)^T \\Omega^{-1} g_N(b) \\\\\n",
    "V_b = \\left(Q^\\top\\Omega^{-1}Q\\right)^{-1}.\n",
    "$$"
   ]
  },
  {
   "cell_type": "code",
   "execution_count": 390,
   "metadata": {},
   "outputs": [
    {
     "data": {
      "image/svg+xml": [
       "<?xml version=\"1.0\" encoding=\"UTF-8\" standalone=\"no\"?>\n",
       "<!DOCTYPE svg PUBLIC \"-//W3C//DTD SVG 1.1//EN\"\n",
       " \"http://www.w3.org/Graphics/SVG/1.1/DTD/svg11.dtd\">\n",
       "<!-- Generated by graphviz version 2.50.0 (0)\n",
       " -->\n",
       "<!-- Pages: 1 -->\n",
       "<svg width=\"134pt\" height=\"204pt\"\n",
       " viewBox=\"0.00 0.00 134.00 204.00\" xmlns=\"http://www.w3.org/2000/svg\" xmlns:xlink=\"http://www.w3.org/1999/xlink\">\n",
       "<g id=\"graph0\" class=\"graph\" transform=\"scale(1 1) rotate(0) translate(4 200)\">\n",
       "<polygon fill=\"white\" stroke=\"transparent\" points=\"-4,4 -4,-200 130,-200 130,4 -4,4\"/>\n",
       "<!-- X -->\n",
       "<g id=\"node1\" class=\"node\">\n",
       "<title>X</title>\n",
       "<ellipse fill=\"none\" stroke=\"black\" cx=\"82\" cy=\"-105\" rx=\"27\" ry=\"18\"/>\n",
       "<text text-anchor=\"middle\" x=\"82\" y=\"-101.3\" font-family=\"Times New Roman,serif\" font-size=\"14.00\" fill=\"red\">X</text>\n",
       "</g>\n",
       "<!-- y -->\n",
       "<g id=\"node4\" class=\"node\">\n",
       "<title>y</title>\n",
       "<ellipse fill=\"none\" stroke=\"black\" cx=\"43\" cy=\"-18\" rx=\"27\" ry=\"18\"/>\n",
       "<text text-anchor=\"middle\" x=\"43\" y=\"-14.3\" font-family=\"Times New Roman,serif\" font-size=\"14.00\" fill=\"red\">y</text>\n",
       "</g>\n",
       "<!-- X&#45;&gt;y -->\n",
       "<g id=\"edge4\" class=\"edge\">\n",
       "<title>X&#45;&gt;y</title>\n",
       "<path fill=\"none\" stroke=\"black\" d=\"M74.48,-87.61C68.87,-75.38 61.1,-58.44 54.68,-44.46\"/>\n",
       "<polygon fill=\"black\" stroke=\"black\" points=\"57.85,-42.97 50.5,-35.34 51.49,-45.89 57.85,-42.97\"/>\n",
       "<text text-anchor=\"middle\" x=\"67.5\" y=\"-57.8\" font-family=\"Times New Roman,serif\" font-size=\"14.00\">β</text>\n",
       "</g>\n",
       "<!-- Z -->\n",
       "<g id=\"node2\" class=\"node\">\n",
       "<title>Z</title>\n",
       "<ellipse fill=\"none\" stroke=\"black\" cx=\"99\" cy=\"-178\" rx=\"27\" ry=\"18\"/>\n",
       "<text text-anchor=\"middle\" x=\"99\" y=\"-174.3\" font-family=\"Times New Roman,serif\" font-size=\"14.00\" fill=\"red\">Z</text>\n",
       "</g>\n",
       "<!-- Z&#45;&gt;X -->\n",
       "<g id=\"edge3\" class=\"edge\">\n",
       "<title>Z&#45;&gt;X</title>\n",
       "<path fill=\"none\" stroke=\"black\" d=\"M94.97,-160.17C93.03,-152.07 90.66,-142.15 88.47,-133.03\"/>\n",
       "<polygon fill=\"black\" stroke=\"black\" points=\"91.85,-132.11 86.12,-123.2 85.04,-133.74 91.85,-132.11\"/>\n",
       "</g>\n",
       "<!-- u -->\n",
       "<g id=\"node3\" class=\"node\">\n",
       "<title>u</title>\n",
       "<ellipse fill=\"none\" stroke=\"black\" cx=\"27\" cy=\"-178\" rx=\"27\" ry=\"18\"/>\n",
       "<text text-anchor=\"middle\" x=\"27\" y=\"-174.3\" font-family=\"Times New Roman,serif\" font-size=\"14.00\" fill=\"red\">u</text>\n",
       "</g>\n",
       "<!-- u&#45;&gt;X -->\n",
       "<g id=\"edge2\" class=\"edge\">\n",
       "<title>u&#45;&gt;X</title>\n",
       "<path fill=\"none\" stroke=\"black\" d=\"M38.93,-161.59C46.21,-152.2 55.66,-140 63.85,-129.42\"/>\n",
       "<polygon fill=\"black\" stroke=\"black\" points=\"66.73,-131.42 70.09,-121.38 61.2,-127.14 66.73,-131.42\"/>\n",
       "</g>\n",
       "<!-- u&#45;&gt;y -->\n",
       "<g id=\"edge1\" class=\"edge\">\n",
       "<title>u&#45;&gt;y</title>\n",
       "<path fill=\"none\" stroke=\"black\" d=\"M28.74,-159.79C31.51,-132.48 36.92,-78.99 40.23,-46.38\"/>\n",
       "<polygon fill=\"black\" stroke=\"black\" points=\"43.73,-46.49 41.26,-36.19 36.77,-45.78 43.73,-46.49\"/>\n",
       "</g>\n",
       "</g>\n",
       "</svg>\n"
      ],
      "text/plain": [
       "<graphviz.graphs.Digraph at 0x1babcd54590>"
      ]
     },
     "execution_count": 390,
     "metadata": {},
     "output_type": "execute_result"
    }
   ],
   "source": [
    "import graphviz as gr\n",
    "\n",
    "g = gr.Digraph()\n",
    "g.node('X', fontcolor='red')\n",
    "g.node('Z', fontcolor='red')\n",
    "g.node('u', fontcolor='red')\n",
    "g.node('y', fontcolor='red')\n",
    "g.edge('u', 'y')\n",
    "g.edge('u', 'X')\n",
    "g.edge('Z', 'X')\n",
    "g.edge('X', 'y', label='β')\n",
    "\n",
    "g"
   ]
  },
  {
   "cell_type": "markdown",
   "metadata": {},
   "source": [
    "#### (f) $y = f(X \\beta) + u$; with $f$ a known scalar function and with $\\mathbb{E}(Z^⊤u) = \\mathbb{E}u = 0$ and $\\mathbb{E}Z^⊤ X f'(X \\beta) = Q(\\beta)$. (Bonus question: where does this last restriction come from, and what role does it play?)  *Note: $y$, $X$, $Z$, and $u$ are random variables.*"
   ]
  },
  {
   "cell_type": "code",
   "execution_count": 391,
   "metadata": {},
   "outputs": [],
   "source": [
    "# TODO: Where does this last restriction come from, and what role does it play???\n",
    "\n",
    "# First order conditions??"
   ]
  },
  {
   "cell_type": "markdown",
   "metadata": {},
   "source": [
    "See causal diagram below.\n",
    "\n",
    "Assume that $Q$ is a positive definite matrix.\n",
    "\n",
    "First, write the equations for $g_j$ and solve for $\\hat{\\Omega}$ and $Q$.\n",
    "\n",
    "$$\n",
    "g_j(\\beta) =  Z_j^T \\left( y_j - f(X_j \\beta) \\right)\n",
    "$$\n",
    "\n",
    "$$\n",
    "\\hat{\\Omega} = \\mathbb{E}g_j(b)g_j(b)^T - \\mathbb{E}g_j(b)\\mathbb{E}g_j(b)^T\n",
    "$$ \n",
    "\n",
    "$$\n",
    "Q\n",
    "= \\mathbb{E}\\frac{\\partial g_j}{\\partial b^\\top}(b)\n",
    "$$\n",
    "\n",
    "Plug into GMM estimator and asymptotic variance of GMM estimator:\n",
    "\n",
    "$$\n",
    "b = \\underset{b \\in B}{\\operatorname{argmin}} g_N(b)^T \\Omega^{-1} g_N(b) \\\\\n",
    "V_b = \\left(Q^\\top\\Omega^{-1}Q\\right)^{-1}.\n",
    "$$"
   ]
  },
  {
   "cell_type": "code",
   "execution_count": 392,
   "metadata": {},
   "outputs": [
    {
     "data": {
      "image/svg+xml": [
       "<?xml version=\"1.0\" encoding=\"UTF-8\" standalone=\"no\"?>\n",
       "<!DOCTYPE svg PUBLIC \"-//W3C//DTD SVG 1.1//EN\"\n",
       " \"http://www.w3.org/Graphics/SVG/1.1/DTD/svg11.dtd\">\n",
       "<!-- Generated by graphviz version 2.50.0 (0)\n",
       " -->\n",
       "<!-- Pages: 1 -->\n",
       "<svg width=\"134pt\" height=\"260pt\"\n",
       " viewBox=\"0.00 0.00 134.00 260.00\" xmlns=\"http://www.w3.org/2000/svg\" xmlns:xlink=\"http://www.w3.org/1999/xlink\">\n",
       "<g id=\"graph0\" class=\"graph\" transform=\"scale(1 1) rotate(0) translate(4 256)\">\n",
       "<polygon fill=\"white\" stroke=\"transparent\" points=\"-4,4 -4,-256 130,-256 130,4 -4,4\"/>\n",
       "<!-- X -->\n",
       "<g id=\"node1\" class=\"node\">\n",
       "<title>X</title>\n",
       "<ellipse fill=\"none\" stroke=\"black\" cx=\"39\" cy=\"-162\" rx=\"27\" ry=\"18\"/>\n",
       "<text text-anchor=\"middle\" x=\"39\" y=\"-158.3\" font-family=\"Times New Roman,serif\" font-size=\"14.00\" fill=\"red\">X</text>\n",
       "</g>\n",
       "<!-- f(X β) -->\n",
       "<g id=\"node3\" class=\"node\">\n",
       "<title>f(X β)</title>\n",
       "<ellipse fill=\"none\" stroke=\"black\" cx=\"39\" cy=\"-90\" rx=\"32.49\" ry=\"18\"/>\n",
       "<text text-anchor=\"middle\" x=\"39\" y=\"-86.3\" font-family=\"Times New Roman,serif\" font-size=\"14.00\">f(X β)</text>\n",
       "</g>\n",
       "<!-- X&#45;&gt;f(X β) -->\n",
       "<g id=\"edge1\" class=\"edge\">\n",
       "<title>X&#45;&gt;f(X β)</title>\n",
       "<path fill=\"none\" stroke=\"black\" d=\"M39,-143.7C39,-135.98 39,-126.71 39,-118.11\"/>\n",
       "<polygon fill=\"black\" stroke=\"black\" points=\"42.5,-118.1 39,-108.1 35.5,-118.1 42.5,-118.1\"/>\n",
       "</g>\n",
       "<!-- Z -->\n",
       "<g id=\"node2\" class=\"node\">\n",
       "<title>Z</title>\n",
       "<ellipse fill=\"none\" stroke=\"black\" cx=\"27\" cy=\"-234\" rx=\"27\" ry=\"18\"/>\n",
       "<text text-anchor=\"middle\" x=\"27\" y=\"-230.3\" font-family=\"Times New Roman,serif\" font-size=\"14.00\" fill=\"red\">Z</text>\n",
       "</g>\n",
       "<!-- Z&#45;&gt;X -->\n",
       "<g id=\"edge4\" class=\"edge\">\n",
       "<title>Z&#45;&gt;X</title>\n",
       "<path fill=\"none\" stroke=\"black\" d=\"M29.9,-216.05C31.23,-208.35 32.82,-199.03 34.31,-190.36\"/>\n",
       "<polygon fill=\"black\" stroke=\"black\" points=\"37.8,-190.72 36.04,-180.28 30.9,-189.54 37.8,-190.72\"/>\n",
       "</g>\n",
       "<!-- y -->\n",
       "<g id=\"node5\" class=\"node\">\n",
       "<title>y</title>\n",
       "<ellipse fill=\"none\" stroke=\"black\" cx=\"69\" cy=\"-18\" rx=\"27\" ry=\"18\"/>\n",
       "<text text-anchor=\"middle\" x=\"69\" y=\"-14.3\" font-family=\"Times New Roman,serif\" font-size=\"14.00\" fill=\"red\">y</text>\n",
       "</g>\n",
       "<!-- f(X β)&#45;&gt;y -->\n",
       "<g id=\"edge5\" class=\"edge\">\n",
       "<title>f(X β)&#45;&gt;y</title>\n",
       "<path fill=\"none\" stroke=\"black\" d=\"M46.11,-72.41C49.66,-64.13 54.03,-53.92 58,-44.66\"/>\n",
       "<polygon fill=\"black\" stroke=\"black\" points=\"61.22,-46.04 61.94,-35.47 54.79,-43.28 61.22,-46.04\"/>\n",
       "</g>\n",
       "<!-- u -->\n",
       "<g id=\"node4\" class=\"node\">\n",
       "<title>u</title>\n",
       "<ellipse fill=\"none\" stroke=\"black\" cx=\"99\" cy=\"-234\" rx=\"27\" ry=\"18\"/>\n",
       "<text text-anchor=\"middle\" x=\"99\" y=\"-230.3\" font-family=\"Times New Roman,serif\" font-size=\"14.00\" fill=\"red\">u</text>\n",
       "</g>\n",
       "<!-- u&#45;&gt;X -->\n",
       "<g id=\"edge3\" class=\"edge\">\n",
       "<title>u&#45;&gt;X</title>\n",
       "<path fill=\"none\" stroke=\"black\" d=\"M85.98,-217.81C77.96,-208.45 67.53,-196.28 58.53,-185.79\"/>\n",
       "<polygon fill=\"black\" stroke=\"black\" points=\"61.16,-183.47 51.99,-178.16 55.84,-188.03 61.16,-183.47\"/>\n",
       "</g>\n",
       "<!-- u&#45;&gt;y -->\n",
       "<g id=\"edge2\" class=\"edge\">\n",
       "<title>u&#45;&gt;y</title>\n",
       "<path fill=\"none\" stroke=\"black\" d=\"M97.49,-216.01C94.75,-186.57 88.49,-124.23 80,-72 78.62,-63.52 76.83,-54.34 75.09,-46.04\"/>\n",
       "<polygon fill=\"black\" stroke=\"black\" points=\"78.48,-45.15 72.95,-36.12 71.63,-46.63 78.48,-45.15\"/>\n",
       "</g>\n",
       "</g>\n",
       "</svg>\n"
      ],
      "text/plain": [
       "<graphviz.graphs.Digraph at 0x1babcd30850>"
      ]
     },
     "execution_count": 392,
     "metadata": {},
     "output_type": "execute_result"
    }
   ],
   "source": [
    "import graphviz as gr\n",
    "\n",
    "g = gr.Digraph()\n",
    "g.node('X', fontcolor='red')\n",
    "g.node('Z', fontcolor='red')\n",
    "g.node('f(X β)')\n",
    "g.node('u', fontcolor='red')\n",
    "g.node('y', fontcolor='red')\n",
    "g.edge('X', 'f(X β)')\n",
    "g.edge('u', 'y')\n",
    "g.edge('u', 'X')\n",
    "g.edge('Z', 'X')\n",
    "g.edge('f(X β)', 'y')\n",
    "\n",
    "g"
   ]
  },
  {
   "cell_type": "markdown",
   "metadata": {},
   "source": [
    "#### (g) $y = f(X, \\beta) + u$; with $f$ a known function and with $\\mathbb{E}(Z^⊤u) = \\mathbb{E}u = 0$ and $\\mathbb{E}Z^⊤ \\frac{\\partial f}{\\partial \\beta^T} (X, \\beta) = Q(\\beta)$.  *Note: $y$, $X$, $Z$, and $u$ are random variables.*\n",
    "\n",
    "Same causal diagram as (f).\n",
    "\n",
    "Assume that $Q$ is a positive definite matrix.\n",
    "\n",
    "First, write the equations for $g_j$ and solve for $\\hat{\\Omega}$ and $Q$.\n",
    "\n",
    "$$\n",
    "g_j(\\beta) =  Z_j^T \\left( y_j - f(X_j, \\beta) \\right)\n",
    "$$\n",
    "\n",
    "$$\n",
    "\\hat{\\Omega} = \\mathbb{E}g_j(b)g_j(b)^T - \\mathbb{E}g_j(b)\\mathbb{E}g_j(b)^T\n",
    "$$ \n",
    "\n",
    "$$\n",
    "Q\n",
    "= \\mathbb{E}\\frac{\\partial g_j}{\\partial b^\\top}(b)\n",
    "$$\n",
    "\n",
    "Plug into GMM estimator and asymptotic variance of GMM estimator:\n",
    "\n",
    "$$\n",
    "b = \\underset{b \\in B}{\\operatorname{argmin}} g_N(b)^T \\Omega^{-1} g_N(b) \\\\\n",
    "V_b = \\left(Q^\\top\\Omega^{-1}Q\\right)^{-1}.\n",
    "$$"
   ]
  },
  {
   "cell_type": "markdown",
   "metadata": {},
   "source": [
    "#### (h) $y^\\gamma = \\alpha + u$, with $y > 0$ and $\\gamma$ a scalar, and $\\mathbb{E}(Z^⊤u) = \\mathbb{E}u = 0$ and $\\mathbb{E}Z^⊤ \\begin{bmatrix} \\gamma y^{\\gamma − 1} \\\\ −1 \\end{bmatrix} = Q(\\gamma)$.  *Note: $y$, $Z$, and $u$ are random variables.*\n",
    "\n",
    "See causal diagram below.\n",
    "\n",
    "Assume that $Q$ is a positive definite matrix.\n",
    "\n",
    "First, write the equations for $g_j$ and solve for $\\hat{\\Omega}$ and $Q$.\n",
    "\n",
    "$$\n",
    "g_j(\\alpha) =  Z_j^T \\left( y^\\gamma - \\alpha \\right)\n",
    "$$\n",
    "\n",
    "$$\n",
    "\\hat{\\Omega} = \\mathbb{E}g_j(b)g_j(b)^T - \\mathbb{E}g_j(b)\\mathbb{E}g_j(b)^T\n",
    "$$ \n",
    "\n",
    "$$\n",
    "Q\n",
    "= \\mathbb{E}\\frac{\\partial g_j}{\\partial b^\\top}(b)\n",
    "$$\n",
    "\n",
    "Plug into GMM estimator and asymptotic variance of GMM estimator:\n",
    "\n",
    "$$\n",
    "b = \\underset{b \\in B}{\\operatorname{argmin}} g_N(b)^T \\Omega^{-1} g_N(b) \\\\\n",
    "V_b = \\left(Q^\\top\\Omega^{-1}Q\\right)^{-1}.\n",
    "$$"
   ]
  },
  {
   "cell_type": "code",
   "execution_count": 393,
   "metadata": {},
   "outputs": [
    {
     "data": {
      "image/svg+xml": [
       "<?xml version=\"1.0\" encoding=\"UTF-8\" standalone=\"no\"?>\n",
       "<!DOCTYPE svg PUBLIC \"-//W3C//DTD SVG 1.1//EN\"\n",
       " \"http://www.w3.org/Graphics/SVG/1.1/DTD/svg11.dtd\">\n",
       "<!-- Generated by graphviz version 2.50.0 (0)\n",
       " -->\n",
       "<!-- Pages: 1 -->\n",
       "<svg width=\"134pt\" height=\"116pt\"\n",
       " viewBox=\"0.00 0.00 134.00 116.00\" xmlns=\"http://www.w3.org/2000/svg\" xmlns:xlink=\"http://www.w3.org/1999/xlink\">\n",
       "<g id=\"graph0\" class=\"graph\" transform=\"scale(1 1) rotate(0) translate(4 112)\">\n",
       "<polygon fill=\"white\" stroke=\"transparent\" points=\"-4,4 -4,-112 130,-112 130,4 -4,4\"/>\n",
       "<!-- u -->\n",
       "<g id=\"node1\" class=\"node\">\n",
       "<title>u</title>\n",
       "<ellipse fill=\"none\" stroke=\"black\" cx=\"27\" cy=\"-90\" rx=\"27\" ry=\"18\"/>\n",
       "<text text-anchor=\"middle\" x=\"27\" y=\"-86.3\" font-family=\"Times New Roman,serif\" font-size=\"14.00\" fill=\"red\">u</text>\n",
       "</g>\n",
       "<!-- y -->\n",
       "<g id=\"node3\" class=\"node\">\n",
       "<title>y</title>\n",
       "<ellipse fill=\"none\" stroke=\"black\" cx=\"27\" cy=\"-18\" rx=\"27\" ry=\"18\"/>\n",
       "<text text-anchor=\"middle\" x=\"27\" y=\"-14.3\" font-family=\"Times New Roman,serif\" font-size=\"14.00\" fill=\"red\">y</text>\n",
       "</g>\n",
       "<!-- u&#45;&gt;y -->\n",
       "<g id=\"edge1\" class=\"edge\">\n",
       "<title>u&#45;&gt;y</title>\n",
       "<path fill=\"none\" stroke=\"black\" d=\"M27,-71.7C27,-63.98 27,-54.71 27,-46.11\"/>\n",
       "<polygon fill=\"black\" stroke=\"black\" points=\"30.5,-46.1 27,-36.1 23.5,-46.1 30.5,-46.1\"/>\n",
       "</g>\n",
       "<!-- Z -->\n",
       "<g id=\"node2\" class=\"node\">\n",
       "<title>Z</title>\n",
       "<ellipse fill=\"none\" stroke=\"black\" cx=\"99\" cy=\"-90\" rx=\"27\" ry=\"18\"/>\n",
       "<text text-anchor=\"middle\" x=\"99\" y=\"-86.3\" font-family=\"Times New Roman,serif\" font-size=\"14.00\" fill=\"red\">Z</text>\n",
       "</g>\n",
       "</g>\n",
       "</svg>\n"
      ],
      "text/plain": [
       "<graphviz.graphs.Digraph at 0x1babbb23690>"
      ]
     },
     "execution_count": 393,
     "metadata": {},
     "output_type": "execute_result"
    }
   ],
   "source": [
    "import graphviz as gr\n",
    "\n",
    "g = gr.Digraph()\n",
    "g.node('u', fontcolor='red')\n",
    "g.node('Z', fontcolor='red')\n",
    "g.node('y', fontcolor='red')\n",
    "g.edge('u', 'y')\n",
    "\n",
    "g"
   ]
  },
  {
   "cell_type": "markdown",
   "metadata": {},
   "source": [
    "### (3) For each of the models above write a data-generating process in python. Your function `dgp` should take as arguments a sample size $N$ and a vector of \"true\" parameters `b0`, and return a dataset $(y, X)$.\n",
    "\n",
    "#### (a) $\\mathbb{E}y = \\mu; \\mathbb{E}(y − \\mu)^2 = \\sigma^2; \\mathbb{E}(y − \\mu)^3 = 0$.  *Note: $y$ is a random variable.*"
   ]
  },
  {
   "cell_type": "code",
   "execution_count": 394,
   "metadata": {},
   "outputs": [],
   "source": [
    "import numpy as np\n",
    "import pandas as pd\n",
    "from scipy.stats import distributions as iid\n",
    "\n",
    "def dgp_a(N, b0):\n",
    "    '''\n",
    "    Generate dataset for GMM model A\n",
    "    \n",
    "    Takes as inputs sample size N and vector of true parameters (mu and sigma), b0\n",
    "    \n",
    "    Returns a tuple with numpy array y, all of length N\n",
    "    '''\n",
    "    # Retrieve true parameters\n",
    "    mu = b0[0]\n",
    "    sigma = b0[1]\n",
    "\n",
    "    # Construct u\n",
    "    u = iid.norm(loc=mu, scale=sigma)\n",
    "    \n",
    "    # Construct y\n",
    "    y = u.rvs(N)\n",
    "    \n",
    "    # Store in DataFrame\n",
    "    df = pd.DataFrame(columns=['y'])\n",
    "    df['y'] = y\n",
    "    return df[['y']]"
   ]
  },
  {
   "cell_type": "code",
   "execution_count": 395,
   "metadata": {},
   "outputs": [],
   "source": [
    "np.random.seed(1234)\n",
    "\n",
    "y = dgp_a(100, [0, 1])"
   ]
  },
  {
   "cell_type": "code",
   "execution_count": 396,
   "metadata": {},
   "outputs": [
    {
     "data": {
      "image/png": "[encoded data removed]",
      "text/plain": [
       "<Figure size 640x480 with 1 Axes>"
      ]
     },
     "metadata": {},
     "output_type": "display_data"
    }
   ],
   "source": [
    "import matplotlib.pyplot as plt\n",
    "\n",
    "plt.hist(y)\n",
    "plt.xlabel('y')\n",
    "plt.ylabel('frequency')\n",
    "plt.show()"
   ]
  },
  {
   "cell_type": "markdown",
   "metadata": {},
   "source": [
    "#### (b) $y = \\alpha + X \\beta + u$; with $\\mathbb{E}(X^T u) = \\mathbb{E}u = 0$.  *Note: $y$, $X$, and $u$ are random variables.*"
   ]
  },
  {
   "cell_type": "code",
   "execution_count": 397,
   "metadata": {},
   "outputs": [],
   "source": [
    "import numpy as np\n",
    "import pandas as pd\n",
    "from scipy.stats import distributions as iid\n",
    "\n",
    "# Structural parameters;\n",
    "mu = 0\n",
    "sigma = 1\n",
    "\n",
    "# Construct u\n",
    "u = iid.norm(loc=mu, scale=sigma)\n",
    "\n",
    "def dgp_b(N, b0):\n",
    "    '''\n",
    "    Generate dataset for GMM model B\n",
    "    \n",
    "    Takes as inputs sample size N and vector of true parameters (alpha and beta), b0\n",
    "    \n",
    "    Returns a tuple with numpy arrays y and X, all of length N\n",
    "    '''\n",
    "    # Retrieve true parameters\n",
    "    alpha = b0[0]\n",
    "    beta = b0[1]\n",
    "    \n",
    "    # Construct X\n",
    "    X = np.random.normal(size=N)\n",
    "    \n",
    "    # Construct y\n",
    "    y = alpha + X*beta + u.rvs(N)\n",
    "    \n",
    "    # Store in DataFrame\n",
    "    df = pd.DataFrame(columns=['y', 'X'])\n",
    "    df['y'] = y\n",
    "    df['X'] = X\n",
    "    return df[['y']], df[['X']]"
   ]
  },
  {
   "cell_type": "code",
   "execution_count": 398,
   "metadata": {},
   "outputs": [],
   "source": [
    "np.random.seed(1234)\n",
    "\n",
    "alpha = 1\n",
    "beta = 2\n",
    "N = 100\n",
    "\n",
    "y, X = dgp_b(N, [alpha, beta])"
   ]
  },
  {
   "cell_type": "code",
   "execution_count": 399,
   "metadata": {},
   "outputs": [
    {
     "data": {
      "image/png": "[encoded data removed]",
      "text/plain": [
       "<Figure size 640x480 with 1 Axes>"
      ]
     },
     "metadata": {},
     "output_type": "display_data"
    }
   ],
   "source": [
    "import matplotlib.pyplot as plt\n",
    "\n",
    "y_true = alpha + X*beta\n",
    "\n",
    "plt.scatter(X, y, label='data')\n",
    "plt.plot(X, y_true, label='true model', color='r')\n",
    "plt.xlabel('X')\n",
    "plt.ylabel('y')\n",
    "plt.legend()\n",
    "plt.show()"
   ]
  },
  {
   "cell_type": "markdown",
   "metadata": {},
   "source": [
    "#### (c) $y = \\alpha + X \\beta + u$; with $\\mathbb{E}(X^T u) = \\mathbb{E}u = 0$, and $\\mathbb{E}(u^2) = \\sigma^2$.  *Note: $y$, $X$, and $u$ are random variables.*"
   ]
  },
  {
   "cell_type": "code",
   "execution_count": 400,
   "metadata": {},
   "outputs": [],
   "source": [
    "import numpy as np\n",
    "import pandas as pd\n",
    "from scipy.stats import distributions as iid\n",
    "\n",
    "def dgp_c(N, b0):\n",
    "    '''\n",
    "    Generate dataset for GMM model C\n",
    "    \n",
    "    Takes as inputs sample size N and vector of true parameters (alpha, beta, and sigma), b0\n",
    "    \n",
    "    Returns a tuple with numpy arrays y and X, all of length N\n",
    "    '''\n",
    "    # Retrieve true parameters\n",
    "    alpha = b0[0]\n",
    "    beta = b0[1]\n",
    "    sigma = b0[2]\n",
    "\n",
    "    # Construct u\n",
    "    u = iid.norm(loc=0, scale=sigma)\n",
    "    \n",
    "    # Construct X\n",
    "    X = np.random.normal(size=N)\n",
    "    \n",
    "    # Construct y\n",
    "    y = alpha + X*beta + u.rvs(N)\n",
    "    \n",
    "    # Store in DataFrame\n",
    "    df = pd.DataFrame(columns=['y', 'X'])\n",
    "    df['y'] = y\n",
    "    df['X'] = X\n",
    "    return df[['y']], df[['X']]"
   ]
  },
  {
   "cell_type": "code",
   "execution_count": 401,
   "metadata": {},
   "outputs": [],
   "source": [
    "np.random.seed(1234)\n",
    "\n",
    "alpha = 1\n",
    "beta = 2\n",
    "sigma = 2\n",
    "N = 100\n",
    "\n",
    "y, X = dgp_c(N, [alpha, beta, sigma])"
   ]
  },
  {
   "cell_type": "code",
   "execution_count": 402,
   "metadata": {},
   "outputs": [
    {
     "data": {
      "image/png": "[encoded data removed]",
      "text/plain": [
       "<Figure size 640x480 with 1 Axes>"
      ]
     },
     "metadata": {},
     "output_type": "display_data"
    }
   ],
   "source": [
    "import matplotlib.pyplot as plt\n",
    "\n",
    "y_true = alpha + X*beta\n",
    "\n",
    "plt.scatter(X, y, label='data')\n",
    "plt.plot(X, y_true, label='true model', color='r')\n",
    "plt.xlabel('X')\n",
    "plt.ylabel('y')\n",
    "plt.legend()\n",
    "plt.show()"
   ]
  },
  {
   "cell_type": "markdown",
   "metadata": {},
   "source": [
    "#### (d) $y = \\alpha + X \\beta + u$; with $\\mathbb{E}(X^Tu) = \\mathbb{E}u = 0$, and $\\mathbb{E}(u^2) = e^{X \\sigma}$.  *Note: $y$, $X$, and $u$ are random variables.*\n",
    "\n",
    "???\n",
    "\n",
    "How create $u$ such that $\\mathbb{E}(u^2) = e^{X \\sigma}$???"
   ]
  },
  {
   "cell_type": "markdown",
   "metadata": {},
   "source": [
    "#### (e) $y = \\alpha + X \\beta + u$; with $\\mathbb{E}(Z^⊤u) = \\mathbb{E}u = 0$ and $\\mathbb{E}Z^⊤ X = Q$.  *Note: $y$, $X$, $Z$, and $u$ are random variables.*"
   ]
  },
  {
   "cell_type": "code",
   "execution_count": 403,
   "metadata": {},
   "outputs": [],
   "source": [
    "import numpy as np\n",
    "import pandas as pd\n",
    "from scipy.stats import distributions as iid\n",
    "\n",
    "# def dgp_e(N, b0, pi=4, sigma_u=1, sigma_v=2):\n",
    "#     '''\n",
    "#     Generate dataset for GMM model E\n",
    "    \n",
    "#     Takes as inputs sample size N and vector of true parameters (alpha and beta), b0\n",
    "    \n",
    "#     Returns a tuple with numpy arrays y, X and Z, all of length N\n",
    "#     '''\n",
    "#     # Retrieve true parameters\n",
    "#     alpha = b0[0]\n",
    "#     beta = b0[1]\n",
    "    \n",
    "#     # Construct random variables\n",
    "#     u = iid.norm(scale=sigma_u).rvs(N)\n",
    "#     v = iid.norm(scale=sigma_v).rvs(N)\n",
    "#     Z = iid.norm().rvs(N)\n",
    "    \n",
    "#     # Construct X and y\n",
    "#     X = Z*pi + v\n",
    "#     y = X*beta + u\n",
    "\n",
    "#     df = pd.DataFrame({'y':y, 'x':X, 'z':Z, 'Constant':1})\n",
    "\n",
    "#     return df[['y']], df[['Constant','x']], df[['Constant','z']]\n",
    "\n",
    "# 2 instruments\n",
    "def dgp_e(N, b0, pi=[3,4], sigma_u=2, sigma_v=3):\n",
    "    '''\n",
    "    Generate dataset for GMM model E\n",
    "    \n",
    "    Takes as inputs sample size N and vector of true parameters (alpha and beta), b0\n",
    "    \n",
    "    Returns a tuple with numpy arrays y, X and Z, all of length N\n",
    "    '''\n",
    "    # Retrieve true parameters\n",
    "    alpha = b0[0]\n",
    "    beta = b0[1]\n",
    "    \n",
    "    # Construct random variables\n",
    "    u = iid.norm(scale=sigma_u).rvs(N)\n",
    "    v = iid.norm(scale=sigma_v).rvs(N)\n",
    "    Z = iid.norm().rvs(size=(N,len(pi)))\n",
    "    \n",
    "    # Construct X and y\n",
    "    X = Z@pi + v\n",
    "    y = X*beta + u\n",
    "    \n",
    "#     # Option 1: Output as arrays\n",
    "#     X = X.reshape(len(Z), 1)\n",
    "#     y = y.reshape(len(Z), 1)\n",
    "#     return y, X, Z\n",
    "    \n",
    "    # Option 2: Output as DataFrame\n",
    "    # Construct z_cols and z_dict\n",
    "    z_cols = []\n",
    "    z_dict = {}\n",
    "    for i in range(len(pi)):\n",
    "        z_col = 'z'+str(i+1)\n",
    "        z_cols.append(z_col)\n",
    "        z_dict[z_col] = Z[:, i]\n",
    "    \n",
    "    # Construct df\n",
    "    combined_dict = {'y':y, 'x':X, 'Constant':1}\n",
    "    combined_dict.update(z_dict)\n",
    "    df = pd.DataFrame(combined_dict)\n",
    "\n",
    "#     return df[['y']], df[['Constant','x']], df[['Constant']+z_cols]\n",
    "    return df['y'], df[['Constant','x']], df[['Constant']+z_cols] # y as series"
   ]
  },
  {
   "cell_type": "code",
   "execution_count": 404,
   "metadata": {},
   "outputs": [],
   "source": [
    "np.random.seed(1234)\n",
    "\n",
    "alpha = 1\n",
    "beta = 2\n",
    "N = 100\n",
    "\n",
    "y, X, Z = dgp_e(N, [alpha, beta], pi=[3,4])"
   ]
  },
  {
   "cell_type": "code",
   "execution_count": 405,
   "metadata": {},
   "outputs": [
    {
     "name": "stderr",
     "output_type": "stream",
     "text": [
      "No artists with labels found to put in legend.  Note that artists whose label start with an underscore are ignored when legend() is called with no argument.\n"
     ]
    },
    {
     "data": {
      "image/png": "[encoded data removed]",
      "text/plain": [
       "<Figure size 640x480 with 1 Axes>"
      ]
     },
     "metadata": {},
     "output_type": "display_data"
    }
   ],
   "source": [
    "import matplotlib.pyplot as plt\n",
    "\n",
    "# plt.scatter(X, Z[:, 0])\n",
    "plt.scatter(X['x'], Z['z1'])\n",
    "plt.xlabel('X')\n",
    "plt.ylabel('Z1')\n",
    "plt.legend()\n",
    "plt.show()"
   ]
  },
  {
   "cell_type": "code",
   "execution_count": 406,
   "metadata": {},
   "outputs": [
    {
     "name": "stderr",
     "output_type": "stream",
     "text": [
      "No artists with labels found to put in legend.  Note that artists whose label start with an underscore are ignored when legend() is called with no argument.\n"
     ]
    },
    {
     "data": {
      "image/png": "[encoded data removed]",
      "text/plain": [
       "<Figure size 640x480 with 1 Axes>"
      ]
     },
     "metadata": {},
     "output_type": "display_data"
    }
   ],
   "source": [
    "import matplotlib.pyplot as plt\n",
    "\n",
    "# plt.scatter(X, Z[:, 1])\n",
    "plt.scatter(X['x'], Z['z2'])\n",
    "plt.xlabel('X')\n",
    "plt.ylabel('Z2')\n",
    "plt.legend()\n",
    "plt.show()"
   ]
  },
  {
   "cell_type": "code",
   "execution_count": 407,
   "metadata": {},
   "outputs": [
    {
     "data": {
      "image/png": "[encoded data removed]",
      "text/plain": [
       "<Figure size 640x480 with 1 Axes>"
      ]
     },
     "metadata": {},
     "output_type": "display_data"
    }
   ],
   "source": [
    "import matplotlib.pyplot as plt\n",
    "\n",
    "y_true = X*beta\n",
    "\n",
    "# plt.scatter(X, y, label='data')\n",
    "plt.scatter(X['x'], y, label='data')\n",
    "plt.plot(X, y_true, label='true model', color='r')\n",
    "plt.xlabel('X')\n",
    "plt.ylabel('y')\n",
    "plt.legend()\n",
    "plt.show()"
   ]
  },
  {
   "cell_type": "markdown",
   "metadata": {},
   "source": [
    "#### (f) $y = f(X \\beta) + u$; with $f$ a known scalar function and with $\\mathbb{E}(Z^⊤u) = \\mathbb{E}u = 0$ and $\\mathbb{E}Z^⊤ X f'(X \\beta) = Q(\\beta)$."
   ]
  },
  {
   "cell_type": "markdown",
   "metadata": {},
   "source": [
    "#### (g) $y = f(X, \\beta) + u$; with $f$ a known function and with $\\mathbb{E}(Z^⊤u) = \\mathbb{E}u = 0$ and $\\mathbb{E}Z^⊤ \\frac{\\partial f}{\\partial \\beta^T} (X, \\beta) = Q(\\beta)$.  *Note: $y$, $X$, $Z$, and $u$ are random variables.*"
   ]
  },
  {
   "cell_type": "markdown",
   "metadata": {},
   "source": [
    "#### (h) $y^\\gamma = \\alpha + u$, with $y > 0$ and $\\gamma$ a scalar, and $\\mathbb{E}(Z^⊤u) = \\mathbb{E}u = 0$ and $\\mathbb{E}Z^⊤ \\begin{bmatrix} \\gamma y^{\\gamma − 1} \\\\ −1 \\end{bmatrix} = Q(\\gamma)$.  *Note: $y$, $Z$, and $u$ are random variables.*"
   ]
  },
  {
   "cell_type": "markdown",
   "metadata": {},
   "source": [
    "### (4) Select the most interesting of the data generating processes you developed, and using the code in `gmm.py` or `GMM_class.py` (see https://github.com/ligonteaching/ARE212_Materials/) use data from your `dgp` to analyze the finite sample performance of the corresponding GMM estimator you’ve constructed. Of particular interest is the distribution of your estimator using a sample size $N$ and how this distribution compares with the limiting distribution as $N \\to \\infty$."
   ]
  },
  {
   "cell_type": "code",
   "execution_count": 408,
   "metadata": {},
   "outputs": [],
   "source": [
    "import numpy as np\n",
    "from numpy.linalg import inv\n",
    "from scipy.optimize import minimize_scalar\n",
    "\n",
    "def gj(b,y,X,Z):\n",
    "    \"\"\"Observations of g_j(b).\n",
    "\n",
    "    This defines the deviations from the predictions of our model; i.e.,\n",
    "    e_j = Z_ju_j, where EZ_ju_j=0.\n",
    "\n",
    "    Can replace this function to testimate a different model.\n",
    "    \"\"\"\n",
    "    return Z*(y - X*b)\n",
    "\n",
    "def gN(b,data):\n",
    "    \"\"\"Averages of g_j(b).\n",
    "\n",
    "    This is generic for data, to be passed to gj.\n",
    "    \"\"\"\n",
    "    e = gj(b,*data) # is this actually a residual? Why do we call it e instead of gj?\n",
    "\n",
    "    # Check to see more obs. than moments.\n",
    "    assert e.shape[0] > e.shape[1], \"Need more observations than moments!\"\n",
    "    \n",
    "    return e.mean(axis=0)\n",
    "\n",
    "def Omegahat(b,data):\n",
    "    \"\"\"Calculate estimate of Omega, inverse of weighting matrix\"\"\"\n",
    "    \n",
    "    e = gj(b,*data)\n",
    "\n",
    "    # IMPORTANT: Recenter! We have Eu=0 under null.\n",
    "    # Important to use this information.\n",
    "    e = e - e.mean(axis=0) \n",
    "    \n",
    "    # TODO: Where does 1/N come from?\n",
    "    return e.T@e/e.shape[0] # Omega = (u u^T)/N??\n",
    "\n",
    "def J(b,W,data):\n",
    "    \"\"\"Define GMM criterion function\"\"\"\n",
    "\n",
    "    m = gN(b,data) # Sample moments @ b\n",
    "    N = data[0].shape[0]\n",
    "\n",
    "    return (N*m.T@W@m) # Scale by sample size\n",
    "\n",
    "def two_step_gmm(data):\n",
    "\n",
    "    # First step uses identity weighting matrix\n",
    "    # data is a tuple\n",
    "    W1 = np.eye(gj(1,*data).shape[1]) # *tuple means treat elements of this iterable as positional arguments\n",
    "\n",
    "    # b1 is value of b that minimizes J given initial estimate of weighting matrix\n",
    "    b1 = minimize_scalar(lambda b: J(b,W1,data)).x # minimize_scalar().x returns value that minimizes this function\n",
    "    # remember that b1 is consistent\n",
    "\n",
    "    # Construct 2nd step weighting matrix using\n",
    "    # first step estimate of beta\n",
    "    W2 = inv(Omegahat(b1,data))\n",
    "\n",
    "    return minimize_scalar(lambda b: J(b,W2,data))"
   ]
  },
  {
   "cell_type": "code",
   "execution_count": 409,
   "metadata": {},
   "outputs": [],
   "source": [
    "# import GMM_class\n",
    "\n",
    "import sys\n",
    " \n",
    "# setting path\n",
    "sys.path.append('../../')\n",
    "\n",
    "from GMM_class_EA import GMM"
   ]
  },
  {
   "cell_type": "code",
   "execution_count": 410,
   "metadata": {},
   "outputs": [
    {
     "name": "stdout",
     "output_type": "stream",
     "text": [
      "[-0.42905203  2.08154183]\n",
      "0.8245222303608349\n"
     ]
    }
   ],
   "source": [
    "# using pre-built methods\n",
    "def linear_iv(b,data):\n",
    "    \"\"\"\n",
    "    Return matrix Z.T*e (ell x N)\n",
    "    \"\"\"\n",
    "    y,X,Z=data\n",
    "    e = y - X@b\n",
    "    \n",
    "    return (Z.T*e).T\n",
    "\n",
    "# define true parameters\n",
    "alpha = 1\n",
    "beta = 2\n",
    "\n",
    "# generate data\n",
    "y,X,Z = dgp_e(N, [alpha, beta], pi=[3,4])\n",
    "\n",
    "# create GMM estimator\n",
    "est = GMM(linear_iv, (y,X,Z), 2)\n",
    "\n",
    "# run GMM estimator\n",
    "b, fun = est.two_step_gmm()\n",
    "\n",
    "print(b)\n",
    "\n",
    "print(fun)"
   ]
  },
  {
   "cell_type": "code",
   "execution_count": 411,
   "metadata": {},
   "outputs": [
    {
     "data": {
      "text/html": [
       "<div>\n",
       "<style scoped>\n",
       "    .dataframe tbody tr th:only-of-type {\n",
       "        vertical-align: middle;\n",
       "    }\n",
       "\n",
       "    .dataframe tbody tr th {\n",
       "        vertical-align: top;\n",
       "    }\n",
       "\n",
       "    .dataframe thead th {\n",
       "        text-align: right;\n",
       "    }\n",
       "</style>\n",
       "<table border=\"1\" class=\"dataframe\">\n",
       "  <thead>\n",
       "    <tr style=\"text-align: right;\">\n",
       "      <th></th>\n",
       "      <th>Constant</th>\n",
       "      <th>z1</th>\n",
       "      <th>z2</th>\n",
       "    </tr>\n",
       "  </thead>\n",
       "  <tbody>\n",
       "    <tr>\n",
       "      <th>Constant</th>\n",
       "      <td>3.107759</td>\n",
       "      <td>0.242128</td>\n",
       "      <td>0.471341</td>\n",
       "    </tr>\n",
       "    <tr>\n",
       "      <th>z1</th>\n",
       "      <td>0.242128</td>\n",
       "      <td>3.827344</td>\n",
       "      <td>-0.189665</td>\n",
       "    </tr>\n",
       "    <tr>\n",
       "      <th>z2</th>\n",
       "      <td>0.471341</td>\n",
       "      <td>-0.189665</td>\n",
       "      <td>2.733259</td>\n",
       "    </tr>\n",
       "  </tbody>\n",
       "</table>\n",
       "</div>"
      ],
      "text/plain": [
       "          Constant        z1        z2\n",
       "Constant  3.107759  0.242128  0.471341\n",
       "z1        0.242128  3.827344 -0.189665\n",
       "z2        0.471341 -0.189665  2.733259"
      ]
     },
     "execution_count": 411,
     "metadata": {},
     "output_type": "execute_result"
    }
   ],
   "source": [
    "est.Omegahat(b)"
   ]
  },
  {
   "cell_type": "code",
   "execution_count": 412,
   "metadata": {},
   "outputs": [
    {
     "name": "stderr",
     "output_type": "stream",
     "text": [
      "C:\\Users\\elean\\AppData\\Local\\Temp\\ipykernel_18540\\3384837246.py:34: FutureWarning: The behavior of DataFrame concatenation with empty or all-NA entries is deprecated. In a future version, this will no longer exclude empty or all-NA columns when determining the result dtypes. To retain the old behavior, exclude the relevant entries before the concat operation.\n",
      "  b_draws_1000 = pd.concat([b_draws_1000, b_df], ignore_index=True)\n"
     ]
    }
   ],
   "source": [
    "# N = 1000 # Sample size\n",
    "\n",
    "# D = 1000 # Monte Carlo draws\n",
    "\n",
    "# b_draws_1000 = []\n",
    "# J_draws_1000 = []\n",
    "\n",
    "# # true parameters\n",
    "# alpha = 1\n",
    "# beta = 2\n",
    "\n",
    "# for d in range(D):\n",
    "#     soltn = two_step_gmm(dgp_e(N, [alpha, beta], pi=[3,4]))\n",
    "#     b_draws_1000.append(soltn.x)\n",
    "#     J_draws_1000.append(soltn.fun)\n",
    "\n",
    "# using pre-built methods\n",
    "\n",
    "N = 1000 # Sample size\n",
    "\n",
    "D = 1000 # Monte Carlo draws\n",
    "\n",
    "b_draws_1000 = pd.DataFrame(columns=['b0', 'b1'])\n",
    "J_draws_1000 = []\n",
    "\n",
    "# true parameters\n",
    "alpha = 1\n",
    "beta = 2\n",
    "\n",
    "for d in range(D):\n",
    "    est = GMM(linear_iv, dgp_e(N, [alpha, beta], pi=[3,4]), 2)\n",
    "    b, fun = est.two_step_gmm()\n",
    "    b_df = pd.DataFrame(b, index=b_draws_1000.columns).T\n",
    "    b_draws_1000 = pd.concat([b_draws_1000, b_df], ignore_index=True)\n",
    "    J_draws_1000.append(fun)"
   ]
  },
  {
   "cell_type": "code",
   "execution_count": 413,
   "metadata": {},
   "outputs": [
    {
     "name": "stderr",
     "output_type": "stream",
     "text": [
      "C:\\Users\\elean\\AppData\\Local\\Temp\\ipykernel_18540\\2731854756.py:18: FutureWarning: The behavior of DataFrame concatenation with empty or all-NA entries is deprecated. In a future version, this will no longer exclude empty or all-NA columns when determining the result dtypes. To retain the old behavior, exclude the relevant entries before the concat operation.\n",
      "  b_draws_100 = pd.concat([b_draws_100, b_df], ignore_index=True)\n"
     ]
    }
   ],
   "source": [
    "# What if reduce sample size?\n",
    "N = 100\n",
    "\n",
    "b_draws_100 = []\n",
    "J_draws_100 = []\n",
    "\n",
    "# for d in range(D):\n",
    "#     soltn = two_step_gmm(dgp_e(N, [alpha, beta], pi=[3,4]))\n",
    "#     b_draws_100.append(soltn.x)\n",
    "#     J_draws_100.append(soltn.fun)\n",
    "\n",
    "b_draws_100 = pd.DataFrame(columns=['b0', 'b1'])\n",
    "J_draws_100 = []\n",
    "for d in range(D):\n",
    "    est = GMM(linear_iv, dgp_e(N, [alpha, beta], pi=[3,4]), 2)\n",
    "    b, fun = est.two_step_gmm()\n",
    "    b_df = pd.DataFrame(b, index=b_draws_100.columns).T\n",
    "    b_draws_100 = pd.concat([b_draws_100, b_df], ignore_index=True)\n",
    "    J_draws_100.append(fun)"
   ]
  },
  {
   "cell_type": "code",
   "execution_count": 414,
   "metadata": {},
   "outputs": [
    {
     "name": "stderr",
     "output_type": "stream",
     "text": [
      "C:\\Users\\elean\\AppData\\Local\\Temp\\ipykernel_18540\\2476054520.py:17: FutureWarning: The behavior of DataFrame concatenation with empty or all-NA entries is deprecated. In a future version, this will no longer exclude empty or all-NA columns when determining the result dtypes. To retain the old behavior, exclude the relevant entries before the concat operation.\n",
      "  b_draws_10000 = pd.concat([b_draws_10000, b_df], ignore_index=True)\n"
     ]
    }
   ],
   "source": [
    "# What if increase sample size?\n",
    "N = 10000\n",
    "\n",
    "# b_draws_10000 = []\n",
    "# J_draws_10000 = []\n",
    "# for d in range(D):\n",
    "#     soltn = two_step_gmm(dgp_e(N, [alpha, beta], pi=[3,4]))\n",
    "#     b_draws_10000.append(soltn.x)\n",
    "#     J_draws_10000.append(soltn.fun)\n",
    "\n",
    "b_draws_10000 = pd.DataFrame(columns=['b0', 'b1'])\n",
    "J_draws_10000 = []\n",
    "for d in range(D):\n",
    "    est = GMM(linear_iv, dgp_e(N, [alpha, beta], pi=[3,4]), 2)\n",
    "    b, fun = est.two_step_gmm()\n",
    "    b_df = pd.DataFrame(b, index=b_draws_10000.columns).T\n",
    "    b_draws_10000 = pd.concat([b_draws_10000, b_df], ignore_index=True)\n",
    "    J_draws_10000.append(fun)"
   ]
  },
  {
   "cell_type": "code",
   "execution_count": 415,
   "metadata": {},
   "outputs": [
    {
     "data": {
      "image/png": "[encoded data removed]",
      "text/plain": [
       "<Figure size 640x480 with 1 Axes>"
      ]
     },
     "metadata": {},
     "output_type": "display_data"
    }
   ],
   "source": [
    "# _ = plt.hist(b_draws_10000, bins=50, color='purple', alpha=0.5, label='N = 10,000')\n",
    "# _ = plt.hist(b_draws_1000, bins=50, color='cyan', alpha=0.5, label='N = 1,000')\n",
    "# _ = plt.hist(b_draws_100, bins=50, color='orange', alpha=0.5, label='N = 100')\n",
    "_ = plt.hist(b_draws_10000['b1'], bins=50, color='purple', alpha=0.5, label='N = 10,000')\n",
    "_ = plt.hist(b_draws_1000['b1'], bins=50, color='cyan', alpha=0.5, label='N = 1,000')\n",
    "_ = plt.hist(b_draws_100['b1'], bins=50, color='orange', alpha=0.5, label='N = 100')\n",
    "_ = plt.xlabel('b')\n",
    "_ = plt.ylabel('frequency')\n",
    "_ = plt.legend()\n",
    "_ = plt.axvline(beta, color='r')"
   ]
  },
  {
   "cell_type": "code",
   "execution_count": 420,
   "metadata": {},
   "outputs": [
    {
     "data": {
      "text/html": [
       "<div>\n",
       "<style scoped>\n",
       "    .dataframe tbody tr th:only-of-type {\n",
       "        vertical-align: middle;\n",
       "    }\n",
       "\n",
       "    .dataframe tbody tr th {\n",
       "        vertical-align: top;\n",
       "    }\n",
       "\n",
       "    .dataframe thead th {\n",
       "        text-align: right;\n",
       "    }\n",
       "</style>\n",
       "<table border=\"1\" class=\"dataframe\">\n",
       "  <thead>\n",
       "    <tr style=\"text-align: right;\">\n",
       "      <th></th>\n",
       "      <th>Constant</th>\n",
       "      <th>z1</th>\n",
       "      <th>z2</th>\n",
       "    </tr>\n",
       "  </thead>\n",
       "  <tbody>\n",
       "    <tr>\n",
       "      <th>Constant</th>\n",
       "      <td>3.925044</td>\n",
       "      <td>-0.076688</td>\n",
       "      <td>0.019066</td>\n",
       "    </tr>\n",
       "    <tr>\n",
       "      <th>z1</th>\n",
       "      <td>-0.076688</td>\n",
       "      <td>4.140247</td>\n",
       "      <td>-0.012295</td>\n",
       "    </tr>\n",
       "    <tr>\n",
       "      <th>z2</th>\n",
       "      <td>0.019066</td>\n",
       "      <td>-0.012295</td>\n",
       "      <td>3.909594</td>\n",
       "    </tr>\n",
       "  </tbody>\n",
       "</table>\n",
       "</div>"
      ],
      "text/plain": [
       "          Constant        z1        z2\n",
       "Constant  3.925044 -0.076688  0.019066\n",
       "z1       -0.076688  4.140247 -0.012295\n",
       "z2        0.019066 -0.012295  3.909594"
      ]
     },
     "execution_count": 420,
     "metadata": {},
     "output_type": "execute_result"
    }
   ],
   "source": [
    "est.Omegahat(b)"
   ]
  },
  {
   "cell_type": "code",
   "execution_count": 444,
   "metadata": {},
   "outputs": [],
   "source": [
    "# Q = Z.T@X\n",
    "# Winv = Omegahat(beta,(y,X,Z))\n",
    "Q = np.array(Z.T@X)\n",
    "Winv = est.Omegahat(b)"
   ]
  },
  {
   "cell_type": "code",
   "execution_count": 445,
   "metadata": {},
   "outputs": [
    {
     "name": "stdout",
     "output_type": "stream",
     "text": [
      "Monte Carlo standard errors (N = 10000): 0.00391565\n",
      "Asymptotic approximation: 0.000198788\n",
      "Critical value for J statistic: 3.84146 (5%)\n"
     ]
    },
    {
     "name": "stderr",
     "output_type": "stream",
     "text": [
      "C:\\Users\\elean\\AppData\\Local\\Temp\\ipykernel_18540\\378196487.py:6: RuntimeWarning: invalid value encountered in sqrt\n",
      "  sigma_0 = lambda N: np.sqrt(inv(Q.T@inv(Winv)@Q)/N)[0][0]\n"
     ]
    }
   ],
   "source": [
    "# Limiting distribution of criterion (under null)\n",
    "limiting_J = iid.chi2(2-1)\n",
    "\n",
    "# Limiting SE of b\n",
    "# note, avar is embedded: avar(b) = inv(Q.T@inv(Winv)@Q)\n",
    "sigma_0 = lambda N: np.sqrt(inv(Q.T@inv(Winv)@Q)/N)[0][0] \n",
    "\n",
    "# Limiting distribution of estimator\n",
    "limiting_b = iid.norm(loc=beta,scale=sigma_0(N)) # from central limit theorem\n",
    "\n",
    "print(\"Monte Carlo standard errors (N = 10000): %g\" % np.std(b_draws_10000['b1']))\n",
    "print(\"Asymptotic approximation: %g\" % sigma_0(N)) # asymptotic distribution is doing a \"good job\" capturing the variance of our estimator\n",
    "print(\"Critical value for J statistic: %g (5%%)\" % limiting_J.isf(.05))"
   ]
  },
  {
   "cell_type": "code",
   "execution_count": 446,
   "metadata": {},
   "outputs": [
    {
     "name": "stdout",
     "output_type": "stream",
     "text": [
      "0.94\n"
     ]
    },
    {
     "data": {
      "image/png": "[encoded data removed]",
      "text/plain": [
       "<Figure size 640x480 with 1 Axes>"
      ]
     },
     "metadata": {},
     "output_type": "display_data"
    }
   ],
   "source": [
    "def ppplot(data,dist):\n",
    "    data = np.array(data)\n",
    "\n",
    "    # Theoretical CDF, evaluated at points of data\n",
    "    P = [dist.cdf(x) for x in data.tolist()]\n",
    "\n",
    "    # Empirical CDF, evaluated at points of data\n",
    "    Phat = [(data<x).mean() for x in data.tolist()]\n",
    "\n",
    "    fig, ax = plt.subplots()\n",
    "    \n",
    "    ax.scatter(P,Phat)\n",
    "    ax.plot([0,1],[0,1],color='r') # Plot 45\n",
    "    ax.set_xlabel('Theoretical Distribution')\n",
    "    ax.set_ylabel('Empirical Distribution')\n",
    "    ax.set_title('p-p Plot')\n",
    "\n",
    "    return ax\n",
    "    \n",
    "_ = ppplot(J_draws_100, limiting_J)\n",
    "print(np.mean(np.array(J_draws_100) < limiting_J.isf(.05)))"
   ]
  },
  {
   "cell_type": "code",
   "execution_count": 447,
   "metadata": {},
   "outputs": [
    {
     "name": "stderr",
     "output_type": "stream",
     "text": [
      "C:\\Users\\elean\\AppData\\Local\\Temp\\ipykernel_18540\\378196487.py:6: RuntimeWarning: invalid value encountered in sqrt\n",
      "  sigma_0 = lambda N: np.sqrt(inv(Q.T@inv(Winv)@Q)/N)[0][0]\n"
     ]
    },
    {
     "data": {
      "image/png": "[encoded data removed]",
      "text/plain": [
       "<Figure size 640x480 with 1 Axes>"
      ]
     },
     "metadata": {},
     "output_type": "display_data"
    }
   ],
   "source": [
    "from scipy.stats import probplot\n",
    "\n",
    "limiting_b = iid.norm(loc=beta,scale=sigma_0(100)) # from central limit theorem\n",
    "_ = probplot(b_draws_100,dist=limiting_b,fit=False,plot=plt) # looking for 45 degree line"
   ]
  },
  {
   "cell_type": "code",
   "execution_count": 448,
   "metadata": {},
   "outputs": [
    {
     "name": "stdout",
     "output_type": "stream",
     "text": [
      "0.959\n"
     ]
    },
    {
     "data": {
      "image/png": "[encoded data removed]",
      "text/plain": [
       "<Figure size 640x480 with 1 Axes>"
      ]
     },
     "metadata": {},
     "output_type": "display_data"
    }
   ],
   "source": [
    "_ = ppplot(J_draws_1000, limiting_J)\n",
    "print(np.mean(np.array(J_draws_1000) < limiting_J.isf(.05)))"
   ]
  },
  {
   "cell_type": "code",
   "execution_count": 449,
   "metadata": {},
   "outputs": [
    {
     "name": "stderr",
     "output_type": "stream",
     "text": [
      "C:\\Users\\elean\\AppData\\Local\\Temp\\ipykernel_18540\\378196487.py:6: RuntimeWarning: invalid value encountered in sqrt\n",
      "  sigma_0 = lambda N: np.sqrt(inv(Q.T@inv(Winv)@Q)/N)[0][0]\n"
     ]
    },
    {
     "data": {
      "image/png": "[encoded data removed]",
      "text/plain": [
       "<Figure size 640x480 with 1 Axes>"
      ]
     },
     "metadata": {},
     "output_type": "display_data"
    }
   ],
   "source": [
    "from scipy.stats import probplot\n",
    "\n",
    "limiting_b = iid.norm(loc=beta,scale=sigma_0(1000)) # from central limit theorem\n",
    "_ = probplot(b_draws_1000,dist=limiting_b,fit=False,plot=plt) # looking for 45 degree line"
   ]
  },
  {
   "cell_type": "code",
   "execution_count": 450,
   "metadata": {},
   "outputs": [
    {
     "name": "stdout",
     "output_type": "stream",
     "text": [
      "0.95\n"
     ]
    },
    {
     "data": {
      "image/png": "[encoded data removed]",
      "text/plain": [
       "<Figure size 640x480 with 1 Axes>"
      ]
     },
     "metadata": {},
     "output_type": "display_data"
    }
   ],
   "source": [
    "_ = ppplot(J_draws_10000, limiting_J)\n",
    "print(np.mean(np.array(J_draws_10000) < limiting_J.isf(.05)))"
   ]
  },
  {
   "cell_type": "code",
   "execution_count": 451,
   "metadata": {},
   "outputs": [
    {
     "name": "stderr",
     "output_type": "stream",
     "text": [
      "C:\\Users\\elean\\AppData\\Local\\Temp\\ipykernel_18540\\378196487.py:6: RuntimeWarning: invalid value encountered in sqrt\n",
      "  sigma_0 = lambda N: np.sqrt(inv(Q.T@inv(Winv)@Q)/N)[0][0]\n"
     ]
    },
    {
     "data": {
      "image/png": "[encoded data removed]",
      "text/plain": [
       "<Figure size 640x480 with 1 Axes>"
      ]
     },
     "metadata": {},
     "output_type": "display_data"
    }
   ],
   "source": [
    "from scipy.stats import probplot\n",
    "\n",
    "limiting_b = iid.norm(loc=beta,scale=sigma_0(10000)) # from central limit theorem\n",
    "_ = probplot(b_draws_10000,dist=limiting_b,fit=False,plot=plt) # looking for 45 degree line"
   ]
  },
  {
   "cell_type": "markdown",
   "metadata": {},
   "source": [
    "## 2. Exercises (Cross-Validation)\n",
    "\n",
    "Consider estimation of a linear model $y = X \\beta + u$, with the identifying\n",
    "assumption that $\\mathbb{E}(u|X) = 0$.\n",
    "\n",
    "When we compute K-fold cross-validation of a tuning parameter $\\lambda$ (e.g., the penalty parameter in a LASSO regression), then for each value of $\\lambda$ we obtain $K$ estimates of any given parameter, say $\\beta_i$; denote the estimates of this parameter by $b_i^. = (b_i^1 , . . . , b_i^K)$. If our total sample (say $D_1$) comprises $N$ iid observations, then each of our $K$ estimates will be based on a sample $D_1^k$ of roughly $N \\frac{K−1}{K}$ observations.\n",
    "\n",
    "### (1) How can you use the estimates $b_i^.$ to estimate the variance of the estimator?"
   ]
  },
  {
   "cell_type": "markdown",
   "metadata": {},
   "source": [
    "### (2) What can you say about the variance of your estimator of the variance? In particular, how does it vary with $K$?"
   ]
  },
  {
   "cell_type": "markdown",
   "metadata": {},
   "source": [
    "## 3. Breusch-Pagan Extended\n",
    "\n",
    "Consider a linear regression of the form\n",
    "\n",
    "$y = \\alpha + \\beta x + u$,\n",
    "\n",
    "with $(y, x)$ both scalar random variables, where it is assumed that (a.i) $\\mathbb{E}(u \\cdot x) = \\mathbb{E}u = 0$ and (a.ii) $\\mathbb{E}(u^2|x) = \\sigma^2$.\n",
    "\n",
    "### (1) The condition a.i is essentially untestable; explain why.\n",
    "\n",
    "Condition a.i makes the assumption that $X$ is exogenous and has no correlation with the error $u$. This is essentially untestable because $u$ is unobserved and can only be estimated. An assumption of exogeneity can only be justified on theoretic grounds, not observed data. \n",
    "\n",
    "### (2) Breusch and Pagan (1979) argue that one can test a.ii via an auxiliary regression $\\hat{u}^2 = c+dx+e$, where the $\\hat{u}$ are the residuals from the first regression, and the test of a.ii then becomes a test of $H_0 : d = 0$. Describe the logic of the test of a.ii.\n",
    "\n",
    "If there is heteroskedasticity, then this means that there is some relationship between the variance $u^2$ and $x$, e.g., $u^2$ might increase or decrease as $x$ increases. On the other hand, if the model is homoskedastic, then the coefficients of this auxiliary regression should be 0 because there is no relationship between $u^2$ and $x$.\n",
    "\n",
    "### (3) Use the two conditions a.i and a.ii to construct a GMM version of the Breusch-Pagan test.\n",
    "\n",
    "***NOTE: Redefining model to be*** $\\hat{u}^2 = c+dx+w$ ***to avoid confusion between \"e\" and estimated error***\n",
    "\n",
    "$y = \\alpha + \\beta x + u$\n",
    "\n",
    "Step 1: Estimate $\\alpha$ and $\\beta$, calculate residuals $\\hat{u}$\n",
    "\n",
    "Step 2: Test $H_0 : d = 0$ for $\\hat{u}^2 = c + dx + w$ assuming (a.i) $\\mathbb{E}(u \\cdot x) = \\mathbb{E}u = 0$\n",
    "\n",
    "$$\n",
    "g_j(d) = x (\\hat{u}^2 - \\overline{\\hat{u}^2} - dx)\n",
    "$$"
   ]
  },
  {
   "cell_type": "code",
   "execution_count": 452,
   "metadata": {},
   "outputs": [],
   "source": [
    "import numpy as np\n",
    "import pandas as pd\n",
    "from scipy.stats import distributions as iid\n",
    "\n",
    "def bp_gdp(N, b0, true_c=0, true_d=0):\n",
    "    '''\n",
    "    Generate dataset for GMM model E\n",
    "    \n",
    "    Takes as inputs sample size N and vector of true parameters (alpha and beta), b0\n",
    "    \n",
    "    Returns a tuple with numpy arrays y, X and Z, all of length N\n",
    "    '''\n",
    "    # Retrieve true parameters\n",
    "    alpha = b0[0]\n",
    "    beta = b0[1]\n",
    "\n",
    "    # Construct X\n",
    "    X = np.random.normal(size=N, loc=100, scale=50)\n",
    "    \n",
    "    # Construct u\n",
    "    if true_d == 0:\n",
    "        u = np.random.normal(size=N, loc=true_c, scale=1)\n",
    "    else:\n",
    "        u = np.random.normal(size=N, loc=true_c, scale=np.sqrt(true_d*np.abs(X)))\n",
    "    \n",
    "    # Construct y\n",
    "    y = alpha + X*beta + u\n",
    "    \n",
    "    # Construct df\n",
    "    combined_dict = {'y':y, 'x':X, 'Constant':1}\n",
    "    df = pd.DataFrame(combined_dict)\n",
    "    \n",
    "    return df['y'], df[['Constant','x']]"
   ]
  },
  {
   "cell_type": "code",
   "execution_count": 453,
   "metadata": {},
   "outputs": [],
   "source": [
    "def linear_regression(b,data):\n",
    "    \"\"\"\n",
    "    Return matrix X.T*e (ell x N)\n",
    "    \"\"\"\n",
    "    y,X=data\n",
    "    e = y - X@b\n",
    "\n",
    "    return (X.T*e).T"
   ]
  },
  {
   "cell_type": "code",
   "execution_count": 454,
   "metadata": {},
   "outputs": [
    {
     "name": "stdout",
     "output_type": "stream",
     "text": [
      "[4.66716451 3.99410301]\n"
     ]
    },
    {
     "data": {
      "text/plain": [
       "array([-17.17179264,   2.23559661])"
      ]
     },
     "execution_count": 454,
     "metadata": {},
     "output_type": "execute_result"
    }
   ],
   "source": [
    "# generate data\n",
    "N = 1000\n",
    "true_c = 1\n",
    "true_d = 2\n",
    "alpha = 3\n",
    "beta = 4\n",
    "y,X = bp_gdp(N, [alpha, beta], true_c=true_c, true_d=true_d)\n",
    "\n",
    "# create GMM estimator\n",
    "est = GMM(linear_regression, (y,X), 2)\n",
    "\n",
    "# run GMM estimator\n",
    "b, fun = est.two_step_gmm()\n",
    "print(b)\n",
    "\n",
    "# get residuals\n",
    "u_hat = y - X@b\n",
    "u_hat2 = u_hat**2\n",
    "\n",
    "# regress residuals\n",
    "bp_est = GMM(linear_regression, (u_hat2,X), 2)\n",
    "d, bp_fun = bp_est.two_step_gmm()\n",
    "d"
   ]
  },
  {
   "cell_type": "code",
   "execution_count": 455,
   "metadata": {},
   "outputs": [
    {
     "name": "stderr",
     "output_type": "stream",
     "text": [
      "C:\\Users\\elean\\AppData\\Local\\Temp\\ipykernel_18540\\3295730941.py:21: FutureWarning: The behavior of DataFrame concatenation with empty or all-NA entries is deprecated. In a future version, this will no longer exclude empty or all-NA columns when determining the result dtypes. To retain the old behavior, exclude the relevant entries before the concat operation.\n",
      "  d_draws = pd.concat([d_draws, d_df], ignore_index=True)\n"
     ]
    }
   ],
   "source": [
    "# Monte Carlo simulation\n",
    "\n",
    "N = 1000 # Sample size\n",
    "D = 1000 # Monte Carlo draws\n",
    "\n",
    "# Structural parameters\n",
    "alpha = 3\n",
    "beta = 4\n",
    "true_c = 1\n",
    "true_d = 2\n",
    "\n",
    "d_draws = pd.DataFrame(columns=['c', 'd'])\n",
    "for i in range(D):\n",
    "    y,X = bp_gdp(N, [alpha, beta], true_c=true_c, true_d=true_d)\n",
    "    est = GMM(linear_regression, (y,X), 2)\n",
    "    b, fun = est.two_step_gmm()\n",
    "    u_hat2 = (y - X@b)**2\n",
    "    bp_est = GMM(linear_regression, (u_hat2,X), 2)\n",
    "    d, bp_fun = bp_est.two_step_gmm()\n",
    "    d_df = pd.DataFrame(d, index=d_draws.columns).T\n",
    "    d_draws = pd.concat([d_draws, d_df], ignore_index=True)"
   ]
  },
  {
   "cell_type": "code",
   "execution_count": 456,
   "metadata": {},
   "outputs": [
    {
     "data": {
      "text/plain": [
       "Text(0, 0.5, 'Frequency')"
      ]
     },
     "execution_count": 456,
     "metadata": {},
     "output_type": "execute_result"
    },
    {
     "data": {
      "image/png": "[encoded data removed]",
      "text/plain": [
       "<Figure size 640x480 with 1 Axes>"
      ]
     },
     "metadata": {},
     "output_type": "display_data"
    }
   ],
   "source": [
    "plt.hist(d_draws['d'])\n",
    "plt.xlabel('d')\n",
    "plt.ylabel('Frequency')"
   ]
  },
  {
   "cell_type": "code",
   "execution_count": 457,
   "metadata": {},
   "outputs": [
    {
     "name": "stdout",
     "output_type": "stream",
     "text": [
      "Average estimate:  1.89344436987148\n",
      "Bias:  -0.10655563012851998\n",
      "Standard error (precision):  0.2412066376254335\n",
      "p-value:  1.0687802484329849e-14\n"
     ]
    }
   ],
   "source": [
    "from scipy.stats import t\n",
    "\n",
    "d_avg = d_draws['d'].mean()\n",
    "bias = d_avg - true_d\n",
    "var = np.sum(np.square(d_draws['d'] - d_avg))\n",
    "sd = np.sqrt(var)\n",
    "se = sd/np.sqrt(len(d_draws))\n",
    "\n",
    "print('Average estimate: ',d_avg)\n",
    "print('Bias: ', bias)\n",
    "print('Standard error (precision): ', se)\n",
    "\n",
    "# Size of two-tailed t-test for beta = 0\n",
    "t_score = (d_avg - 0)/se\n",
    "n = len(d_draws)\n",
    "df = n - 1\n",
    "pval = t.sf(np.abs(t_score), df) * 2\n",
    "print('p-value: ', pval) # 0.002459484853055268"
   ]
  },
  {
   "cell_type": "code",
   "execution_count": 458,
   "metadata": {},
   "outputs": [
    {
     "name": "stderr",
     "output_type": "stream",
     "text": [
      "C:\\Users\\elean\\AppData\\Local\\Temp\\ipykernel_18540\\4027050908.py:16: FutureWarning: The behavior of DataFrame concatenation with empty or all-NA entries is deprecated. In a future version, this will no longer exclude empty or all-NA columns when determining the result dtypes. To retain the old behavior, exclude the relevant entries before the concat operation.\n",
      "  d_draws = pd.concat([d_draws, d_df], ignore_index=True)\n"
     ]
    }
   ],
   "source": [
    "# Structural parameters;\n",
    "true_c = 0.2\n",
    "true_d = 0.5\n",
    "\n",
    "N = 1000 # Sample size\n",
    "D = 1000 # Monte Carlo draws\n",
    "\n",
    "d_draws = pd.DataFrame(columns=['c', 'd'])\n",
    "for i in range(D):\n",
    "    est = GMM(linear_regression, bp_gdp(N, [alpha, beta], true_c=true_c, true_d=true_d), 2)\n",
    "    b, fun = est.two_step_gmm()\n",
    "    u_hat2 = (y - X@b)**2\n",
    "    bp_est = GMM(linear_regression, (u_hat2,X), 2)\n",
    "    d, bp_fun = bp_est.two_step_gmm()\n",
    "    d_df = pd.DataFrame(d, index=d_draws.columns).T\n",
    "    d_draws = pd.concat([d_draws, d_df], ignore_index=True)"
   ]
  },
  {
   "cell_type": "code",
   "execution_count": 459,
   "metadata": {},
   "outputs": [
    {
     "data": {
      "text/plain": [
       "Text(0, 0.5, 'Frequency')"
      ]
     },
     "execution_count": 459,
     "metadata": {},
     "output_type": "execute_result"
    },
    {
     "data": {
      "image/png": "[encoded data removed]",
      "text/plain": [
       "<Figure size 640x480 with 1 Axes>"
      ]
     },
     "metadata": {},
     "output_type": "display_data"
    }
   ],
   "source": [
    "plt.hist(d_draws['d'])\n",
    "plt.xlabel('d')\n",
    "plt.ylabel('Frequency')"
   ]
  },
  {
   "cell_type": "code",
   "execution_count": 460,
   "metadata": {},
   "outputs": [
    {
     "name": "stdout",
     "output_type": "stream",
     "text": [
      "Average estimate:  1.5797163470344102\n",
      "Bias:  1.0797163470344102\n",
      "Standard error (precision):  0.014724766389845913\n",
      "p-value:  0.0\n"
     ]
    }
   ],
   "source": [
    "from scipy.stats import t\n",
    "\n",
    "d_avg = d_draws['d'].mean()\n",
    "bias = d_avg - true_d\n",
    "var = np.sum(np.square(d_draws['d'] - d_avg))\n",
    "sd = np.sqrt(var)\n",
    "se = sd/np.sqrt(len(d_draws))\n",
    "\n",
    "print('Average estimate: ',d_avg)\n",
    "print('Bias: ', bias)\n",
    "print('Standard error (precision): ', se)\n",
    "\n",
    "# Size of two-tailed t-test for beta = 0\n",
    "t_score = (d_avg - 0)/se\n",
    "n = len(d_draws)\n",
    "df = n - 1\n",
    "pval = t.sf(np.abs(t_score), df) * 2\n",
    "print('p-value: ', pval) # 0.002459484853055268"
   ]
  },
  {
   "cell_type": "markdown",
   "metadata": {},
   "source": [
    "\n",
    "### (4) What can you say about the performance or relative merits of the Breusch-Pagan test versus your GMM alternative?\n",
    "\n",
    "### (5) Suppose that in fact that $x$ is distributed uniformly over the interval $[0, 2\\pi]$, and $\\mathbb{E}(u^2|x) = \\sigma^2(x) = \\sigma^2 sin(2x)$, thus violating a.ii. What can you say about the performance of the Breusch-Pagan test in this circumstance? Can you modify your GMM test to provide a superior alternative?\n",
    "\n",
    "NOTE: $sin(2x)$ has negative values in the interval $[0, 2\\pi]$. Assume that $\\mathbb{E}(u^2|x) = \\sigma^2(x) = \\sigma^2 |sin(2x)|$"
   ]
  },
  {
   "cell_type": "code",
   "execution_count": 461,
   "metadata": {},
   "outputs": [],
   "source": [
    "import numpy as np\n",
    "import pandas as pd\n",
    "from scipy.stats import distributions as iid\n",
    "\n",
    "def sin_gdp(N, b0, sigma2=1):\n",
    "    '''\n",
    "    Generate dataset for GMM model E\n",
    "    \n",
    "    Takes as inputs sample size N and vector of true parameters (alpha and beta), b0\n",
    "    \n",
    "    Returns a tuple with numpy arrays y, X and Z, all of length N\n",
    "    '''\n",
    "    # Retrieve true parameters\n",
    "    alpha = b0[0]\n",
    "    beta = b0[1]\n",
    "\n",
    "    # Construct X\n",
    "    X = np.random.uniform(size=N, low=0, high=2*np.pi)\n",
    "    \n",
    "    # Construct u\n",
    "    u = np.random.normal(size=N, loc=0, scale=np.sqrt(sigma2*np.abs(np.sin(2*X))))\n",
    "    \n",
    "    # Construct y\n",
    "    y = alpha + X*beta + u\n",
    "    \n",
    "    # Construct df\n",
    "    combined_dict = {'y':y, 'x':X, 'Constant':1}\n",
    "    df = pd.DataFrame(combined_dict)\n",
    "    \n",
    "    return df['y'], df[['Constant','x']]"
   ]
  },
  {
   "cell_type": "code",
   "execution_count": 462,
   "metadata": {},
   "outputs": [
    {
     "name": "stderr",
     "output_type": "stream",
     "text": [
      "C:\\Users\\elean\\AppData\\Local\\Temp\\ipykernel_18540\\1263452945.py:19: FutureWarning: The behavior of DataFrame concatenation with empty or all-NA entries is deprecated. In a future version, this will no longer exclude empty or all-NA columns when determining the result dtypes. To retain the old behavior, exclude the relevant entries before the concat operation.\n",
      "  d_draws_sin = pd.concat([d_draws_sin, d_df], ignore_index=True)\n"
     ]
    }
   ],
   "source": [
    "# Monte Carlo simulation\n",
    "N = 1000 # Sample size\n",
    "D = 1000 # Monte Carlo draws\n",
    "\n",
    "# True parameters\n",
    "alpha = 3\n",
    "beta = 4\n",
    "true_sigma2 = 2\n",
    "\n",
    "d_draws_sin = pd.DataFrame(columns=['c', 'd'])\n",
    "for i in range(D):\n",
    "    y,X = sin_gdp(N, [alpha, beta], sigma2=true_sigma2)\n",
    "    est = GMM(linear_regression, (y,X), 2)\n",
    "    b, fun = est.two_step_gmm()\n",
    "    u_hat2 = (y - X@b)**2\n",
    "    bp_est = GMM(linear_regression, (u_hat2,X), 2)\n",
    "    d, bp_fun = bp_est.two_step_gmm()\n",
    "    d_df = pd.DataFrame(d, index=d_draws_sin.columns).T\n",
    "    d_draws_sin = pd.concat([d_draws_sin, d_df], ignore_index=True)"
   ]
  },
  {
   "cell_type": "code",
   "execution_count": 463,
   "metadata": {},
   "outputs": [
    {
     "data": {
      "text/plain": [
       "Text(0, 0.5, 'Frequency')"
      ]
     },
     "execution_count": 463,
     "metadata": {},
     "output_type": "execute_result"
    },
    {
     "data": {
      "image/png": "[encoded data removed]",
      "text/plain": [
       "<Figure size 640x480 with 1 Axes>"
      ]
     },
     "metadata": {},
     "output_type": "display_data"
    }
   ],
   "source": [
    "plt.hist(d_draws_sin['d'])\n",
    "plt.xlabel('d')\n",
    "plt.ylabel('Frequency')"
   ]
  },
  {
   "cell_type": "code",
   "execution_count": 464,
   "metadata": {},
   "outputs": [
    {
     "name": "stdout",
     "output_type": "stream",
     "text": [
      "Average estimate:  -0.001969223498140681\n",
      "Standard error (precision):  0.035701174633908275\n",
      "p-value:  0.956023213913669\n"
     ]
    }
   ],
   "source": [
    "from scipy.stats import t\n",
    "\n",
    "d_avg = d_draws_sin['d'].mean()\n",
    "var = np.sum(np.square(d_draws_sin['d'] - d_avg))\n",
    "sd = np.sqrt(var)\n",
    "se = sd/np.sqrt(len(d_draws_sin))\n",
    "\n",
    "print('Average estimate: ',d_avg)\n",
    "print('Standard error (precision): ', se)\n",
    "\n",
    "# Size of two-tailed t-test for beta = 0\n",
    "t_score = (d_avg - 0)/se\n",
    "n = len(d_draws_sin)\n",
    "df = n - 1\n",
    "pval = t.sf(np.abs(t_score), df) * 2\n",
    "print('p-value: ', pval)"
   ]
  },
  {
   "cell_type": "markdown",
   "metadata": {},
   "source": [
    "Alternatively, we can modify the GMM estimator applied to the auxiliary regression so that it has a sinusoidal functional form."
   ]
  },
  {
   "cell_type": "code",
   "execution_count": 465,
   "metadata": {},
   "outputs": [],
   "source": [
    "def g_j_sin(b,data):\n",
    "    \"\"\"\n",
    "    Return matrix u^2 - sigma2*sin(2x)\n",
    "    \n",
    "    sigma2 represents sigma^2\n",
    "    \"\"\"\n",
    "    sigma2 = b[0]\n",
    "    u2,X=data\n",
    "    \n",
    "    u2_df = pd.DataFrame(u2, columns=['x'])\n",
    "\n",
    "    return u2_df - sigma2*np.abs(np.sin(2*X[['x']]))"
   ]
  },
  {
   "cell_type": "code",
   "execution_count": 466,
   "metadata": {},
   "outputs": [
    {
     "name": "stderr",
     "output_type": "stream",
     "text": [
      "C:\\Users\\elean\\AppData\\Local\\Temp\\ipykernel_18540\\1808578301.py:19: FutureWarning: The behavior of DataFrame concatenation with empty or all-NA entries is deprecated. In a future version, this will no longer exclude empty or all-NA columns when determining the result dtypes. To retain the old behavior, exclude the relevant entries before the concat operation.\n",
      "  sigma2_draws = pd.concat([sigma2_draws, sigma2_df], ignore_index=True)\n"
     ]
    }
   ],
   "source": [
    "# Monte Carlo simulation\n",
    "N = 1000 # Sample size\n",
    "D = 1000 # Monte Carlo draws\n",
    "\n",
    "# True parameters\n",
    "alpha = 3\n",
    "beta = 4\n",
    "true_sigma2 = 2\n",
    "\n",
    "sigma2_draws = pd.DataFrame(columns=['sigma2'])\n",
    "for i in range(D):\n",
    "    y,X = sin_gdp(N, [alpha, beta], sigma2=true_sigma2)\n",
    "    est = GMM(linear_regression, (y,X), 2)\n",
    "    b, fun = est.two_step_gmm()\n",
    "    u_hat2 = (y - X@b)**2\n",
    "    bp_est = GMM(g_j_sin, (u_hat2,X), 1)\n",
    "    sigma2, bp_fun = bp_est.two_step_gmm()\n",
    "    sigma2_df = pd.DataFrame(sigma2, index=sigma2_draws.columns).T\n",
    "    sigma2_draws = pd.concat([sigma2_draws, sigma2_df], ignore_index=True)"
   ]
  },
  {
   "cell_type": "code",
   "execution_count": 467,
   "metadata": {},
   "outputs": [
    {
     "data": {
      "text/plain": [
       "Text(0, 0.5, 'Frequency')"
      ]
     },
     "execution_count": 467,
     "metadata": {},
     "output_type": "execute_result"
    },
    {
     "data": {
      "image/png": "[encoded data removed]",
      "text/plain": [
       "<Figure size 640x480 with 1 Axes>"
      ]
     },
     "metadata": {},
     "output_type": "display_data"
    }
   ],
   "source": [
    "plt.hist(sigma2_draws['sigma2'])\n",
    "plt.xlabel('$\\hat{\\sigma}^2$')\n",
    "plt.ylabel('Frequency')"
   ]
  },
  {
   "cell_type": "markdown",
   "metadata": {},
   "source": [
    "### (6) In the above, we’ve considered a test of a specific functional form for the variance of $u$. Suppose instead that we don’t have any prior information regarding the form of $\\mathbb{E}(u^2|x) = f(x)$. Discuss how you might go about constructing an extended version of the Breusch-Pagan test which tests for $f(x)$ non-constant.\n",
    "\n",
    "### (7) Show that you can use your ideas about estimating $f(x)$ to construct a more efficient estimator of $\\beta$ if $f(x)$ isn’t constant. Relate your estimator to the optimal generalized least squares (GLS) estimator."
   ]
  }
 ],
 "metadata": {
  "kernelspec": {
   "display_name": "Python 3 (ipykernel)",
   "language": "python",
   "name": "python3"
  },
  "language_info": {
   "codemirror_mode": {
    "name": "ipython",
    "version": 3
   },
   "file_extension": ".py",
   "mimetype": "text/x-python",
   "name": "python",
   "nbconvert_exporter": "python",
   "pygments_lexer": "ipython3",
   "version": "3.11.5"
  },
  "org": null
 },
 "nbformat": 4,
 "nbformat_minor": 1
}
