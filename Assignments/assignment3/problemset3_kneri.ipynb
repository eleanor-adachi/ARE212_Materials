{
 "cells": [
  {
   "cell_type": "markdown",
   "id": "a99c228f",
   "metadata": {},
   "source": [
    "## Tests of Normality\n",
    "Suppose we have a sample of iid observations $x_1, x_2, . . . , x_N$; we want to test whether these are drawn from a normal distribution. Note the fact that the integer central moments of the normal distribution satisfy \n",
    "\n",
    "$Ex=\\mu$ \n",
    "\n",
    "$E(x-\\mu)^m=0$,   $\\ \\ \\ m$  odd \n",
    "\n",
    "$E(x-\\mu)^m=\\sigma^m(m-1)$!!  $\\ \\ \\ m$ even\n",
    "\n",
    "where n!! is the double factorial, i.e., $n!!=n(n-2)(n-4)...$\n",
    "#### Using the analogy principle, construct an estimator for the first $k$ moments of the distribution of $x$. Use this to define a k-vector of moment restrictions $ g_N(\\mu, \\sigma) $ satisfying $E_{gN}(\\mu, \\sigma)=0$ under the null hypothesis of normality."
   ]
  },
  {
   "cell_type": "code",
   "execution_count": 56,
   "id": "fdfe7b20",
   "metadata": {},
   "outputs": [],
   "source": [
    "import numpy as np\n",
    "from scipy.stats import skew, kurtosis, normaltest"
   ]
  },
  {
   "cell_type": "code",
   "execution_count": 57,
   "id": "fcbd0f7a",
   "metadata": {},
   "outputs": [],
   "source": [
    "np.random.seed(0)\n",
    "data = np.random.normal(loc=0, scale=1, size=1000)  # mean=0, std=1, N=1000"
   ]
  },
  {
   "cell_type": "code",
   "execution_count": 58,
   "id": "94cf23ce",
   "metadata": {},
   "outputs": [],
   "source": [
    "data_skewness = skew(data)\n",
    "data_kurtosis = kurtosis(data, fisher=False) "
   ]
  },
  {
   "cell_type": "code",
   "execution_count": 59,
   "id": "2050f8b2",
   "metadata": {},
   "outputs": [],
   "source": [
    "k2, p_value = normaltest(data)\n"
   ]
  },
  {
   "cell_type": "code",
   "execution_count": 60,
   "id": "c54a922c",
   "metadata": {},
   "outputs": [
    {
     "name": "stdout",
     "output_type": "stream",
     "text": [
      "Skewness of data: 0.03385895323565712\n",
      "Kurtosis of data: 2.9532336755216706\n",
      "Statistic: 0.2329889638562599, p-value: 0.8900350082402695\n",
      "The null hypothesis cannot be rejected\n"
     ]
    }
   ],
   "source": [
    "print(f\"Skewness of data: {data_skewness}\")\n",
    "print(f\"Kurtosis of data: {data_kurtosis}\")\n",
    "print(f\"Statistic: {k2}, p-value: {p_value}\")\n",
    "\n",
    "if p_value < 0.05:\n",
    "    print(\"The null hypothesis can be rejected\")\n",
    "else:\n",
    "    print(\"The null hypothesis cannot be rejected\")"
   ]
  },
  {
   "cell_type": "code",
   "execution_count": null,
   "id": "dc060498",
   "metadata": {},
   "outputs": [],
   "source": []
  }
 ],
 "metadata": {
  "kernelspec": {
   "display_name": "Python 3 (ipykernel)",
   "language": "python",
   "name": "python3"
  },
  "language_info": {
   "codemirror_mode": {
    "name": "ipython",
    "version": 3
   },
   "file_extension": ".py",
   "mimetype": "text/x-python",
   "name": "python",
   "nbconvert_exporter": "python",
   "pygments_lexer": "ipython3",
   "version": "3.9.13"
  }
 },
 "nbformat": 4,
 "nbformat_minor": 5
}
