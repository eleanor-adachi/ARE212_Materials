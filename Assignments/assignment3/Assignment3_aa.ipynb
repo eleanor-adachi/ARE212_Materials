{
 "cells": [
  {
   "cell_type": "markdown",
   "id": "6cca40ca",
   "metadata": {},
   "source": [
    "### Breuch Pagan "
   ]
  },
  {
   "cell_type": "markdown",
   "id": "39789080",
   "metadata": {},
   "source": [
    "**The condition a.i is essentially untestable; explain why**\n",
    "\n",
    "The condition  $\\mathbb{E} [u.X] = \\mathbb{E}u = 0$ is untestable since u is unbservable. To text that u is uncorellated with X, we would have to know the true value of u. \n",
    "\n",
    "**Breusch and Pagan (1979) argue that one can test a.ii via an\n",
    "auxiliary regression** \n",
    "\n",
    "Starting with linear regression model\n",
    "\n",
    "$y_i = \\beta_0 + \\beta_1 x_i + u_i$\n",
    "\n",
    "Estimate the model coefficients using Ordinary Least Squares (OLS), and the calculate the residuals u_hat\n",
    "\n",
    "$\\hat{u}_i = y_i - (\\hat{\\beta}_0 + \\hat{\\beta}_1 x_i)$\n",
    "\n",
    "square these residuals\n",
    "\n",
    "$ \\hat{u}_i^2 = (y_i - \\hat{y}_i)^2 $\n",
    "\n",
    "$ \\hat{u}_i^2 = (y_i - (\\hat{\\beta}_0 + \\hat{\\beta}_1 x_i))^2 $\n",
    "\n",
    "Moving to the regression world \n",
    "\n",
    "$ \\hat{u}_i^2 = c + d x + \\epsilon $\n",
    "\n",
    "conduct a hypothesis text\n",
    "The null hypothesis $H_0: d = 0$ asserts that there is no relationship between the independent variable $x$ and the variance of the residuals. This corresponds to the assumption of homoscedasticity, meaning the variance of the error term $u$ does not depend on $x$ and is constant across all values of $x$.\n"
   ]
  },
  {
   "cell_type": "markdown",
   "id": "bdf190fd",
   "metadata": {},
   "source": [
    "## Normality\n",
    "\n",
    "Using the analogy principle, construct an estimator for the first\n",
    "k moments of the distribution of x. Use this to define a k-vector\n",
    "of moment restrictions gN (µ, σ) satisfying EgN (µ, σ) = 0 under\n",
    "the null hypothesis of normality."
   ]
  },
  {
   "cell_type": "code",
   "execution_count": 24,
   "id": "7774a1d4",
   "metadata": {},
   "outputs": [
    {
     "name": "stdout",
     "output_type": "stream",
     "text": [
      "[ 1.06581410e-17 -9.75463048e-01  2.56526595e-02 -4.78670249e+00\n",
      "  2.35829161e-01 -3.13108470e+01  2.15216401e+00 -2.64174746e+02\n",
      "  2.20336473e+01 -2.74442739e+03  2.50283115e+02 -3.38489039e+04\n",
      "  3.05945392e+03 -4.82507960e+05  3.93474432e+04 -7.79375529e+06\n",
      "  5.25233837e+05 -1.40531730e+08  7.21563887e+06 -2.79609914e+09]\n"
     ]
    }
   ],
   "source": [
    "import numpy as np\n",
    "import matplotlib.pyplot as plt\n",
    "\n",
    "\n",
    "N = 10000\n",
    "mu = 0 \n",
    "sigma = 1\n",
    "np.random.seed(0)\n",
    "x = np.random.normal(mu, sigma, N)\n",
    "\n",
    "def double_factorial(m):\n",
    "    if m <= 0:\n",
    "        return 1\n",
    "    else:\n",
    "        return m * double_factorial(m-2)\n",
    "\n",
    "def test_normality(x, k):\n",
    "    N = len(x)\n",
    "    mu_hat = np.mean(x)\n",
    "    sigma_hat = np.std(x, ddof=1)\n",
    "    g_N = np.zeros(k)\n",
    "    \n",
    "    for m in range(1, k+1):\n",
    "        moment_hat = np.mean((x - mu_hat)**m)\n",
    "        if m % 2 == 0:  # even moments\n",
    "            g_N[m-1] = moment_hat - (sigma_hat**m) * double_factorial(m)\n",
    "        else:  # odd moments\n",
    "            g_N[m-1] = moment_hat  # should be approximately zero for large N\n",
    "    \n",
    "    return g_N\n",
    "\n",
    "g_N_results_k8 = test_normality(x, 20)\n",
    "print(g_N_results_k8)"
   ]
  },
  {
   "cell_type": "code",
   "execution_count": null,
   "id": "be4644f4",
   "metadata": {},
   "outputs": [],
   "source": []
  }
 ],
 "metadata": {
  "kernelspec": {
   "display_name": "Python 3 (ipykernel)",
   "language": "python",
   "name": "python3"
  },
  "language_info": {
   "codemirror_mode": {
    "name": "ipython",
    "version": 3
   },
   "file_extension": ".py",
   "mimetype": "text/x-python",
   "name": "python",
   "nbconvert_exporter": "python",
   "pygments_lexer": "ipython3",
   "version": "3.11.5"
  }
 },
 "nbformat": 4,
 "nbformat_minor": 5
}
